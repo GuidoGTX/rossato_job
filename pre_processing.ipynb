{
 "cells": [
  {
   "cell_type": "markdown",
   "id": "8742435d",
   "metadata": {},
   "source": [
    "### Perform removing important content and perform sentiment analysis"
   ]
  },
  {
   "cell_type": "code",
   "execution_count": 1,
   "id": "15a66e27",
   "metadata": {},
   "outputs": [],
   "source": [
    "import re\n",
    "import ast\n",
    "import ollama\n",
    "import pandas as pd"
   ]
  },
  {
   "cell_type": "code",
   "execution_count": 2,
   "id": "7277dc58",
   "metadata": {},
   "outputs": [
    {
     "data": {
      "application/vnd.microsoft.datawrangler.viewer.v0+json": {
       "columns": [
        {
         "name": "index",
         "rawType": "int64",
         "type": "integer"
        },
        {
         "name": "url",
         "rawType": "object",
         "type": "string"
        },
        {
         "name": "title",
         "rawType": "object",
         "type": "string"
        },
        {
         "name": "price",
         "rawType": "object",
         "type": "string"
        },
        {
         "name": "rating",
         "rawType": "object",
         "type": "string"
        },
        {
         "name": "tag",
         "rawType": "object",
         "type": "string"
        },
        {
         "name": "review",
         "rawType": "object",
         "type": "string"
        }
       ],
       "ref": "e76fa731-5f33-450a-bb18-d5ca506b4eed",
       "rows": [
        [
         "0",
         "https://www.carwow.co.uk/mg/mg-4",
         "MG4 EV REVIEW & PRICES",
         "€37,142",
         "8/10",
         "new",
         "Is the MG4 EV a good car? Is the MG4 EV a good car? MG pulled an absolute blinder with the MG4, and much like the lovable underdog in a boxing movie it punches well above its weight division. It’s more affordable than alternatives such as the Renault Megane E-Tech and Cupra Born , costing around the same as the smaller Vauxhall Corsa Electric and Fiat 500e . You’d be forgiven for thinking that MG have taken a ‘cheap and cheerful’ approach to engineering the MG4, but that’s far from the truth. So far from it, in fact, that the MG4 received high commendations in the 2024 Carwow Car of the Year Awards’ Outstanding EV and Urban Living categories. Just look at it, a mix of pointy details, sharp creases and funky shapes such as the lower body cladding and split roof spoiler. It’s a refreshing looking thing; it still stands out against newer MGs such as the MG S5 and MG HS as much as it does its alternatives. Range: 218-331 miles Efficiency: 3.6-3.8 miles per kWh Battery size: 51kWh / 62kWh / 74kWh Max charge speed: 150kW Charge time AC: 6hrs 12mins, 10-100%, 7kW / 7hrs 30mins, 10-100%, 7kW / 9hrs, 10-100%, 7kW Charge time DC: 39mins, 10-80%, 150kW / 35mins, 10-80%, 150kW Charge port location: Left rear Power outputs: 170hp / 204hp / 245hp It’s a shame the interior isn’t quite as novel, with a dashboard layout that’s so simple it verges on boring, but the material quality, fit and finish and standard kit is better than you might expect for the price. A 10.25-inch infotainment display comes as standard on all trim levels of the MG4, and though it comes with Apple CarPlay and Android Auto connectivity, MG’s own software is rather basic. It’s frustrating to operate too, especially on the move, with too many menus to navigate. There’s plenty of room in the MG4 though; plenty of adjustability for you to get comfy behind the wheel and enough head and leg room for tall passengers in the rear - though it’s a bit of a squeeze when you’ve got three in the back. The 363-litre boot capacity trails the Volkswagen ID3 for space, and puts it well behind the Megane E-Tech. The MG4 comes with two battery options, offering 218 claimed miles of range in its most basic trim through to 323 miles for the Trophy Extended Range model. The top-rung MG4 XPower , which we’ve reviewed separately, offers a big power hike over the rest of the trim levels, but makes do with a 239-mile range. Around town the MG4 is easy to potter about in thanks to its light steering, peppy electric motors and most importantly, its comfortable suspension. It takes potholes, speed bumps and cracked roads in its stride, and the same applies to motorways where the MG4 just soaks up the miles with ease. Yet even with its soft suspension the MG4 is rather fun to drive on a twisty road, feeling agile and grippy with little in the way of body lean. The X-Power is particularly rapid, but it’s different enough that we've reviewed it separately here. For a stonking value for money proposition, have a look at our new MG4 deals as well as our MG4 lease deals . You can also check out used MG4s from our network of trusted dealers as well as other used MGs . When it’s time for a change, you can even sell your current car through Carwow. How much is the MG4 EV? How much is the MG4 EV? While the MG4 is a similar size to the Volkswagen ID3 and Volvo EX30 , it comes in much cheaper without feeling like a compromise. Entry-level SE cars are equipped with automatic LED headlights, tinted windows and a leather steering wheel as standard. Trophy cars bump up the standard kit with a heated sterling wheel, adjustable-height boot floor, 18-inch alloy wheels and a bolstered suite of drivers assistance systems with blind spot detection and lane assist on top of the SE’s adaptive cruise control . You can also get the Trophy spec cars in a rather bold orange paint finish with a two-tone black roof. There’s a £10,000 price difference between the entry-level and top-rung MG4 models, so you need to consider whether the extra range and kit is worth it. Performance and drive comfort Performance and drive comfort Comfortable in town and surprisingly nimble in bends, but there’s a bit of wind noise on the motorway One of the first things you notice when driving the MG4 is that it’s very comfortable. EVs tend to have stiff suspension because this helps stop cars with heavy batteries from wobbling around in corners, but the MG4 manages to smooth out lumpy roads and speed bumps with little fuss. It’s pretty agile too, thanks to the responsive motors and light steering. There are multiple steering settings in the menus, but putting it in its lightest mode removes so much feel that we’d recommend leaving it in ‘normal’. The 10.7-metre turning circle isn’t quite as good as the VW ID3, but it’s enough to navigate busy urban areas with ease, while good forward visibility is another boon. Rear visibility not so much, though, meaning it can be tricky to see what’s around when looking over your shoulder. Another complaint is the lack of ‘one pedal driving’. The MG4 will not come to a complete stop if you lift off the throttle and let the regenerative braking do its thing, instead creeping along once you get to low speeds. You’ll get used to it, but it’s mildly annoying that you need to use the brakes to stop in traffic, while other EVs will bring the car to a halt. When you do use the brakes, though, they’re smooth and avoid the jerkiness found in some electric cars. Those punchy electric motors are useful out on the motorway too. When accelerating up to the national speed limit the MG4 pulls quickly and smoothly, getting you up to a cruise with little fuss. Once you’re there, the MG4’s soft suspension again makes itself known by proving to be a comfortable companion on long journeys. Minor road imperfections are barely noticeable so you’ll get to your destination feeling relaxed. The MG4 is not the quietest EV at motorway speeds though, with a bit of wind noise to contend with. Meanwhile, that light steering is less welcome at high speeds, though you can increase the weight a bit in the settings. Again the MG4 impresses, and this time it’s in corners. You might expect that soft suspension to mean it’s not particularly confidence-inspiring on a winding road, because there’s usually a trade off between comfort and cornering ability. However, while it’s no sports car , it’s easy to have fun behind the wheel. Pitch the car into a corner and it doesn’t lean too much , so you don’t feel like you might fall into the opposite lane and can instead focus on enjoying the power from the electric motors. We've tested both power outputs and can happily say that each had more than enough oomph to enjoy and, thanks to sending power to the rear wheels, feel agile as you accelerate out of a turn. Despite this corner carving positivity, the MG4 is no hardcore hot hatch replacement and prefers a more laid back approach, encouraging you to get into a rhythm rather than attack corners with rubber-shredding enthusiasm. Space and practicality Space and practicality Decent space and storage up front, but it’s hit and miss in the rear seats and the boot could be bigger Getting comfortable as the driver in the MG4 EV is easy, thanks to electrically operated seats and great steering wheel adjustability, which has a wide range of movements for reach and rake. Once in position there’s a load of space to store whatever’s filling your pockets, with a large bin beneath the armrest, a shallow, coverable space in the centre console and a phone charging pad that sits on a plinth behind the gear selection dial. There are large door bins, a felt-lined glasses storage box and a reasonably sized glovebox, too. The cup holders are a good size and within arm’s reach, but sitting beneath the aforementioned plinth means that it’s tricky to slot bottles in on the move. It could be easy to knock the top off your coffee while keeping your eyes on the road. This section is also quite close to the driver, meaning those with longer legs might find they're resting their knee on the hard plastic, which can get a bit sore on longer trips. Rear passengers are generally well catered for, with subtle cutouts in the roof helping provide ample headroom, while even taller passengers should have no issues with knees banging the seat in front. Foot space is okay but it’s tricky to get your feet under the seat in front. This can make longer journeys uncomfortable as the seat cushion is quite close to the floor of the car, forcing your legs up so your thighs are not supported. Put three adults in the back and it’s a squeeze for shoulder space, while the lack of central armrest is a shame when you don’t have a third person in the middle seat. The door bins are smaller back here and there’s only one USB slot for those in the back to fight over. The mobile phone holders in the back of the seats in front is a cool touch though, while the ISOFIX points are easy to access. Overall rear seat space is fine, but it doesn’t quite feel as polished as it does up front, with cheaper materials, too. At 363 litres the MG4’s boot is not terrible, but does lag a little behind the ID3’s 385 litres and Nissan Leaf’s cavernous 435 litres. However, it is slightly bigger than the BYD Dolphin's 345 litres, and the similarly priced Fiat 500 Electric is much smaller at 185 litres, giving some context to the value proposition here. Fold the rear seats down and you get a decent 1,117 litres of space. Practicality is also not great, with just the one tie-down hook and no 12V charge slot. However, you can store the charging cables beneath the boot floor so you don’t have to eat into cargo space, unlike in the VW, while folding the rear seats down reveals a flat floor that’s easy to push large, heavy items across. Some EVs have a smaller front boot beneath the bonnet, because there’s no need to slot a big petrol or diesel engine in there. However, the MG4 has no extra space up front, which is a bit of a shame. But then neither does the ID3 or Leaf, so it’s not a deal breaker in this class. Interior style, infotainment and accessories Interior style, infotainment and accessories Interior fit and finish is mighty impressive for the price point, but the infotainment can be tricky to use If you’ve sat in an ID3 and been left disappointed by the interior look and quality, the MG4 is sure to surprise you. Despite costing considerably less than its German counterpart, the fit and finish feels more premium thanks to soft-touch materials throughout. The 10.25-inch infotainment screen perched atop the dashboard has a clear display, but the graphics look a touch dated and its response to inputs is quite laggy. Couple this with climate and drive mode control functions buried in menus, and it can be quite fiddly to use on the move. You also only get sat nav on the top-spec Trophy model, but that’s actually not a big deal because wired Apple CarPlay and Android Auto are included as standard and work better than MG’s system anyway. While there are a few physical buttons beneath the screen, they feel pretty cheap and let the side down when everything else feels so solid. The digital display ahead of the driver is more impressive though, boasting a crisp, clear display and plenty of customisation options, so you can use the wheel-mounted buttons to show the most relevant information to you. There’s also a storage tray for your mobile phone that sits conveniently above the USB slots in the front. This has a hole to feed the wire through to keep things neat, but it’s very fiddly and some wires don’t actually fit through... Electric range, charging and tax Electric range, charging and tax There are five variations of MG4, spanning two trim levels, three battery sizes, and the separate high-performance model called XPower. Entry-level SE models have a 170hp motor and 51kWh battery with a 0-60mph time of 7.5 seconds and a range of 218 miles. Step up to the SE Long Range and Trophy Long Range and you get 203hp with a 64kWh battery, but the extra weight drops the 0-60mph time a fraction to 7.7 seconds. They have a maximum range of 281 and 270 miles respectively. At the top of the range is the Trophy Extended Range model, which has a 77kWh battery and a 323-mile range. It's also the most powerful version (excluding the XPower), with 241hp and a 0-60mph time of 6.5 seconds. The smaller battery can be charged at a rate of up to 117kW, which will top the battery up from 10 to 80% in 39 minutes. The Long Range battery has a 135kW charge rate, meaning it’s slightly quicker from 10 to 80% at 35 minutes. The Extended Range model takes slightly longer to do the same charge at 39 minutes. When we tested the Trophy Long Range model, we achieved a 0-60mph time of 7.1 seconds, which is a good chunk quicker than the official figures suggest. We also saw efficiency of 3.8miles/kWh, which would equate to a range of 232 miles. Although this is down on the official figure, it’s an impressive number for real world driving. During our time with the entry-level SE version, we saw the same efficiency figures, which would put the range of its smaller battery at just under 200 miles. Again, this isn't too far off its claimed figures and a perfectly useful amount for most. As an electric vehicle, the MG4 is subject to the minimum Vehicle Excise Duty of £10 in its first year, then £195 from its second year onwards. It also benefits from very low benefit-in-kind tax , making it an affordable choice for company car buyers. Safety and security Safety and security Even the cheapest MG4 gets MG Pilot as standard, which is a driver assistance package that includes active emergency braking, lane keep assist, driver attention alert and intelligent high beam assist. Trophy models also get door opening warning, blind spot detection, rear cross traffic alert and lane change assist. Even more impressively, this includes adaptive cruise control as standard. This means the car will adapt its speed when approaching slower cars on the motorway, and will even stay in control in stop-start traffic. The MG4 received the full five stars in Euro NCAP safety testing in 2022, scoring over 80% for occupant safety and over 70% in the vulnerable road users and safety assist sections, though the test has become stricter since the MG earned its stars. Reliability and problems Reliability and problems MG came dead last in the 2024 Driver Power reliability survey, which isn’t confidence-inspiring if you’re a prospective owner. EVs tend to be more reliable than petrol and diesel cars, so could be a good bet if you want to avoid worrying about mechanical repairs. There was a 2022 recall for the MG4 locking itself and shutting off the key and windows at a standstill, though that should have been rectified by now. Giving further peace of mind is MG’s excellent seven-year/80,000-mile warranty, so even if something does go wrong, you should be covered. It’s fully transferable too, so if you’re buying a used example you’ll still benefit, providing it falls within the age and mileage limit. MG4 EV FAQs MG4 EV FAQs"
        ],
        [
         "1",
         "https://www.carwow.co.uk/mg/5",
         "MG5 EV REVIEW & PRICES",
         "€37,738",
         "6/10",
         "new",
         "Is the MG5 EV a good car? Is the MG5 EV a good car? This is the MG5 EV, and it’s one of very few electric estate cars currently available in the UK – the others being the Porsche Taycan Sport Turismo , Vauxhall Astra Sports Tourer Electric and Peugeot e-308 SW . It’s a bit like doing your shopping at Lidl or Aldi. On the face of things, you may dismiss the MG5 as simply being a value option - but if you’re clued up, you’ll know there’s much more to it than that. The MG5 was given a design overhaul in 2022 and it was much-needed, though it also came with a small bump in price. The dowdy car of old has been replaced with a stylish new look, sporting sharp lines in the bumpers and wide, narrow headlights. It’s not quite as striking as the Carwow 2023 Car of the Year, the MG4 hatch, though. On the inside, the MG5 isn’t quite as smart either, but it’s a definite improvement over the pre-revision car. Build quality is really good and there’s a respectable amount of plush-feeling materials. Fabric seats come as standard, though range-topping models get a leatherette set. Sitting at the heart of the dashboard is an updated 10.25-inch infotainment system. It’s certainly a leap from the older, sluggish screen and, if you’d rather mirror your smartphone, it comes with Android Auto and Apple CarPlay as standard. It does retain a part-digital, part-analogue driver’s display, though this feels pretty clunky and would work better as a fully digital unit. There’s lots of knee and headroom in the back seats of the MG5, however a raised footwell does leave your rear passengers angled rather awkwardly. As for boot space, you’ve got 580 litres to work with in the MG5. That’s only slightly down on the Toyota Corolla Touring Sports’ 598 litres, so it’s a useful space that will easily carry large suitcases. Choosing the motor and battery is easy, because, well, there is no choice. Whichever MG5 trim you choose you get a battery with a usable capacity of 57kWh and a 156hp motor. That said, driving range is 250 miles in the entry-level SE version or 235 miles in the higher-spec Trophy model, thanks largely to the bigger alloy wheels. The MG5 is comfortable in town and on the motorway, and you get the MG Pilot safety system as standard, which includes assistance kit such as adaptive cruise control and lane-keep assist. If you like the sound of the MG5 EV you can check out the latest new deals now or browse used stock from dealers near you. You can also take a look at other used MG models . Want to sell your car online ? Well, Carwow can help with that too. How much is the MG5 EV? How much is the MG5 EV? While you used to be able to get an MG5 EV for just under £30,000, the latest updates now mean prices start at just over that figure. It’s not a massive hike, but it’s just enough to be frustrating, especially when you consider the much smarter MG4 starts at about £27,000. With so few alternative electric estate cars to consider, it's difficult to decide whether the MG5 is good value for money. The Peugeot e-308 SW and Vauxhall Astra Sports Tourer Electric both start at about £10,000 more than the MG, but are much nicer inside and better to drive. Then there's the lovely Porsche Taycan Sport Turismo, but it is considerably more expensive again. Which you go for is largely dictated by budget, then. Performance and drive comfort Performance and drive comfort The MG5 EV has a comfortable ride that puts more expensive cars to shame, but there’s a disappointing amount of wind noise at higher speeds The first thing you’ll notice when driving around town is just how comfortable the MG5 is. It’s really good over rough surfaces and bumps in the road, and actually puts much more expensive cars to shame in this department. Unfortunately, though, it doesn’t have true one-pedal driving, which means that although you can slow the car by simply letting off the accelerator and allowing the regenerative braking to do its thing, you will have to use the brakes to come to a complete halt. On the plus side, there’s none of the grabbiness you get with some electric car brakes, so you can stop smoothly. Visibility is generally decent, though the rear window is quite small. Still, you don’t get massive blind spots so manoeuvring in tight side streets isn’t too stressful, despite the MG5 being pretty long. And when you want to park up, the reversing camera and sensors help, though the display is pretty low resolution. That comfortable suspension is also evident when you get up to motorway speeds. There’s no crashing into bumps in the road and the car irons out imperfections in a way not many electric cars can match. While 156hp won’t make your hair stand on end with excitement, the MG5 packs a surprising punch from about 50mph to 70mph, meaning overtaking slow-moving traffic is a breeze. Speaking of breezes, that brings us onto the main disappointment with the MG5’s motorway manners. One of the appealing aspects of electric motoring is how quiet and serene it is inside, but there’s quite a bit of wind noise in the MG5, so long journeys aren’t quite as relaxing as you might hope. This is an affordable electric family estate with a soft, comfort-focused suspension, so it’s going to become a wallowy mess at the first sight of a corner, right? Well, actually, no, not at all. If you put the car into sport mode it weights up the steering wheel, but this just feels odd so we’d recommend leaving it in its normal setting. Do so, and the MG5 is surprisingly capable in corners. It’s not that it’s exciting, exactly, it just doesn’t lean too much and grips enough to be pretty good fun. You do have to be careful with the throttle out of tight corners, though, as the power has a tendency to overwhelm the front tyres, so you get a little wheelspin. The traction control catches it quickly but it’s just a touch unsettling. Space and practicality Space and practicality Cabin space is generally pretty good, but the high floor makes long trips a bit uncomfortable for passengers all around Roominess up front is pretty good, but the floor sits quite high in relation to the seats, so your knees are high. It’s not the most comfortable position if you’re doing a long journey and it’s something that will also affect your passenger, as it’s tricky to stretch your legs out. Other than that it's mostly positive, with a big glovebox and door bins, and an average but useful space beneath the armrest. There are two USB charging points under the central screen with a shelf that holds even the largest phones. There’s loads of kneeroom and headroom in the back, but again, it’s let down a bit by that high floor. With your knees up high you can’t rest your thighs on the seat cushion and totally relax on long trips. There’s an arm rest that folds down in the middle with a couple of cup holders, while the rear door bins will take a large bottle and the two USB ports mean there’s less fighting over phone charging than in cars with just the one. Because of the space on offer it’s easy to fit a baby seat in the back. The ISOFIX points are tricky to access but once they’re connected there’s plenty of room to manoeuvre. The MG5 has a 580-litre boot, which is a big, useful size that makes it easy to carry a couple of suitcases or the weekly shop. With no direct competitors it’s hard to compare, but the hybrid Toyota Corolla Touring Sports has an extra 20 litres. The MG5 costs a fraction more than a Nissan Leaf , but that’s a hatchback with 435 litres of boot space. The much pricier Volkswagen ID3 has just 385 litres. Fold the rear seats and you get 1,367 litres, which isn’t amazing (the Toyota has over 1,600 litres) but it should be more than enough for most, unless you’re trying to move wardrobes on the regular and need all the space you can get. This slight lack of litreage likely comes from the fact you can’t fold the seats fully flat, so there’s a bit of a slope when you’re pushing longer items through. It’s also a shame there’s no front boot for a little extra storage space, though on the plus side there is some under-floor storage in the boot for your charging cables and load cover. Interior style, infotainment and accessories Interior style, infotainment and accessories The post-2022 interior update has worked wonders, but there are still cheap materials here and there Before the 2022 update, the MG5 EV had a dull, dated cabin that felt like it explained why the car was so cheap. However, updated cars get a sparkly new look, with the old-school infotainment display removed from the dash and lifted to sit atop it. The 10.25-inch display looks much more modern, has a crisper screen and is more responsive than its predecessor, though that’s setting the bar pretty low. The new display has chunky buttons that make it easy to navigate on the move, though some of the climate controls are fiddly. Pre-update cars had physical buttons for this, which is generally better, if less aesthetically pleasing. There’s a 7.0-inch digital dashboard display ahead of the driver that’s incorporated into the traditional analogue dials. It’s kind of clunky to look at and, considering it’s fairly large, it feels like MG could have just gone for a fully digital dash to simplify things and modernise the cabin further. You get Android Auto and Apple CarPlay as standard, and there’s a nifty little shelf beneath the infotainment where you can plug your phone in and keep it secure. Material quality is hit and miss, with some scratchy plastics to be found as you might expect, but there are also some squishy plastics here and there. It’s certainly not utilitarian, and while you get fabric seats in the standard version, there’s perforated synthetic leather upholstery on Trophy models. Electric range, charging and tax Electric range, charging and tax Whatever trim level you opt for you get a 156hp electric motor and a battery with a usable capacity of 57kWh. However, if you want maximum range you’ll need to go for the SE model as that will get you up to 250 miles. Want some extra kit? Opting for the Trophy drops range to 235 miles. The maximum charging speed is 87kW, which will get you from 10-80% capacity in about 35 minutes on a public fast charger. Going from 10-100% on a 7kW home charger takes about 10 hours. Official figures suggest efficiency of 3.6mi/kWh in the SE and 3.5mi/kWh in the Trophy. With zero emissions, you’re paying no vehicle excise duty . Company car drivers will also enjoy the 2% benefit-in-kind rate until 2025. Safety and security Safety and security The key safety feature on the MG5 is MG Pilot. It would be a great standard feature on a car twice the price, and really helps cement this as an excellent family car worthy of consideration. The full suite includes adaptive cruise control with traffic jam assist (so it will stop and start for you), automatic emergency braking, intelligent speed limit assist, lane-keep assist, lane-departure warning and intelligent high beam headlights. Unfortunately, Euro NCAP has not put the MG5 through its rigorous safety testing yet. However, the MG4 got full marks in 2022, while the MG ZS EV scored the same in 2019. Reliability and problems Reliability and problems Because the MG5 hasn’t been on sale too long, it’s difficult to score its reliability as no major issues have cropped up yet. MG has a fairly hit and miss reputation for things going wrong, but its electric cars appear to be proving a hit with buyers, which should be reassuring. As is the warranty. MG offers one of the best available in the UK new car market with its seven-year/80,000-mile coverage. That’s beaten only by Kia, which also offers seven years but covers for up to 100,000 miles."
        ],
        [
         "2",
         "https://www.carwow.co.uk/mg/zs-ev",
         "MG ZS EV Review & Prices",
         "€38,616",
         "7/10",
         "new",
         "Is the MG ZS EV a good car? Is the MG ZS EV a good car? The MG ZS EV is an electric SUV that goes up against the likes of the Hyundai Kona Electric and Kia Niro EV – both of which are now well-established options at the affordable end of the electric car market. It’s a bit like going for a pair of cheap Bluetooth headphones. It might not be from the obvious choice of brands, but it promises to do a similar job at a lower cost. Since its revival as a mass-production manufacturer, MG’s models haven’t been the most exciting to look at. The new ZS EV is in a similar vein, but this updated version now comes with a blanked-out grille and LED headlights as part of a tweaked front end. There is also a new rear bumper with altered lights. MG has also improved the interior design, with the main addition being a new 10.1-inch infotainment touchscreen that has updated software to make it much smoother than before. A 7.0-inch driver display has also been added that offers efficiency and safety information. But where alternatives may offer slightly more comfort and refinement, you’ll find a lot of scratchy plastics alongside the new carbon fibre-effect upholstery finish on the dashboard and leather trim on the seats. In the back, you have decent legroom behind even the tallest of drivers. But as the batteries are mounted under the floor, your knees end up quite high. Headroom is also not the best, with the panoramic sunroof on Trophy models eating into the space even more. Taller passengers may struggle to get comfortable in the back. With an adjustable boot floor as standard, you get 470 litres. This is on par with the Kia Niro EV 's 475 litres, but is 140 litres more than the Hyundai Kona Electric 's offering. Folding the seats down creates a 1,100-litre space, but the seats don’t quite fold flat. The ZS EV comes with two battery options. The 51kWh Standard Range and 72kWh Long Range options offer up to 198 and 273 miles respectively. When driving in the real world across multiple conditions and in all three driving modes – Eco, Normal and Sport – you get closer to 240 miles. But leave it in Normal mode and you’ll get nearer to the claimed figure. Around town, the steering feels light and accurate. It also doesn’t allow many bumps into the cabin at slow speeds, with the suspension setup in normal mode helping it out. On the motorway, you’ll notice a lot of tyre noise and, if you go for the top-spec Trophy version, the roof rails do make a slight whistling noise. It feels comfortable on the whole, but the seats don’t have as much cushioning or support as you might like. When applying Sport mode and tackling a country road, the ZS feels pretty stable. It isn’t the most engaging car in the world and it can scrabble for grip in damper conditions – but for most that won’t be much of an issue. With its competitive pricing and practicality, the ZS EV is a model you should consider. It may not be as refined as alternatives, but it can certainly be a useful option if you’re in the market for an efficient SUV . If you want to see what you could save on a new MG ZS EV, check out the deals page . You can also find the best deals on used MG cars as well as find out how much your car is worth by using our sell my car service - you can change your car entirely through carwow. How much is the MG ZS EV? How much is the MG ZS EV? MG is much like Dacia in the fact that it's a value brand, and the ZS EV is one of the more affordable EVs around. It successfully undercuts both its main rivals, the Hyundai Kona Electric and Kia Niro EV, while providing more practicality than electric models more expensive than it, like the Volkswagen ID.3 and Cupra Born . Between trims, there's a jump of £2,500 between SE and Trophy models. Choosing the longer range 72kWh battery over the standard range car also incurs a price leap of £2,500. Performance and drive comfort Performance and drive comfort It’s not the most exciting electric car to drive, but the ZS EV is comfortable and refined enough for most Since making a return to the market, MG models haven’t been the most thrilling to drive - and it’s the same story here. It’s not bad by any means, though. Where it majors is in town. The light steering helps you manoeuvre through traffic well, while the suspension soaks up many of the bumps you come across. It might feel a little wide down narrower streets, but it feels pretty good most of the time. The ZS comes with battery recovery settings, so you can alter how much the car slows down on its own to recharge. On its highest setting, you can basically drive around town using only the accelerator. When you're on the motorway, the ZS does start to feel a bit unrefined. The roof rails fitted on Trophy models start to whistle at higher speeds. A lot of tyre noise is also created and that does make an impact in the cabin - even with some music on. But saying that, the ZS manages to be comfortable enough on longer trips. All versions come with 17-inch aerodynamically optimised wheels, and they help to keep the car reasonably comfortable on longer journeys. The ZS EV in Sport mode doesn’t feel too top-heavy when you attack a corner, and it’s reasonably stable. That being said, the suspension becomes a little sharp and it does drain the battery quite quickly. One area of annoyance is the placement of the drive mode selection. You have the gear selector as a wheel in the middle of the centre console, with the toggles for drive modes, battery recovery and status. For UK models, the drive mode select is on the wrong side and you’re stretching to choose between Eco, Normal and Sport modes. The ZS also lacks some driver adjustment. You can only move the wheel up and down, with no reach alteration. That can also mean the view of the driver display can be slightly obscured. Space and practicality Space and practicality With a class-leading boot, the ZS EV is super useful. Taller passengers may struggle to get comfortable though As a result of the ZS’ boxy shape, you get a decent amount of headroom in the front and you can stretch your legs out more than enough even with people in the back. With grab handles on the centre console, you can feel supported enough when driving around quicker corners. MG has ensured that the ZS has plenty of cubby holes and spaces throughout the cabin. You have a wireless charging pad for your smartphone in the centre console, as well as cup holders and a storage bin under the armrest. The door bins up front are also a decent size. In the back, taller passengers may struggle a little - especially with the sunroof fitted. The roof slopes quite a lot towards the rear, and with the batteries mounted under the floor, the seats are quite high. Legroom isn’t bad, but a taller driver will restrict knee room slightly. You get seat pockets and door bins, while the cup holders in the middle armrest are covered, which is quite helpful for comfort. You also get two USB-C sockets to charge phones and keep kids occupied with their devices. Compared to alternatives, the MG ZS EV has a well-sized boot. The 480-litre space is slightly smaller than the Kia Niro EV's by five litres but is considerably better than the Hyundai Kona Electric's - by 120 litres. The variable boot floor helps too, with the space underneath keeping the charging cable safe. By folding the rear seats down, you get 1,100 litres to work with. That’s weirdly not as much as some alternatives, but it’s more than enough for most people. The seats also don’t fold completely flat. Interior style, infotainment and accessories Interior style, infotainment and accessories The ZS’s cabin isn’t the most exciting, but the infotainment is much improved and equipment levels are pretty decent The interior finish of the ZS isn’t all that exciting, but it features leather and carbon fibre-effect upholstery throughout. In the top-spec Trophy version, you get contrast stitching against the black leather. You don’t get much else in the way of colour, as the black leather, plastics and trim make it quite a dull interior. The panoramic roof and light headlining do help bring some light into the cabin, but it could be better. With this updated version of the ZS, MG has revamped the infotainment system completely. You get Apple CarPlay and Android Auto , but even if you don’t use them, the setup works very smoothly. The Trophy Connect version we drove features the top version of the iSmart system with live services, such as weather and traffic updates. You can also pre-heat your car, as well as check battery levels and service intervals through the iSmart app. Models also feature a wireless charging pad, six-speaker audio system and Bluetooth connection. Electric range, charging and tax Electric range, charging and tax The sole electric motor is mounted on the front axle and is paired to either a 51kWh or 72kWh battery pack. The smaller battery option provides up to 198 miles of range. For the larger 72kWh option, MG claims a return of 273 miles of charge. Using all three driving modes on a route close to 100 miles for this test, it returned an average of 3.4 miles per kWh – averaging out at 232 miles of range. Most people won’t be flinging their ZS EV down a country road to test how grippy it is and pushing the throttle hard to make the most of its power, so in more restrained driving you can expect close to the claimed mileage. The claimed mileage of similar options on the market is slightly better, with the Niro EV having a supposed range of 285 miles. The Kona Electric has 300 miles available. As you only have a single motor and the car weighs 1,620kg, performance isn’t as rapid as other EVs. But it definitely isn’t slow. The ZS EV can get from 0-60mph in 8.2 seconds, which is more than fast enough for most. Until April 2025, you'll be saving money on tax compared with a petrol car, as EV owners don't need to cough up for it. Beyond that date though, you'll need to be paying the same annual cost as everyone else. Safety and security Safety and security Although the updated ZS EV hasn't been put through its paces by Euro NCAP , the original version scored five stars on its safety tests, performing the best on the occupant metrics (90% on adults and 86% for children). It didn't perform as well on the pedestrian and safety assist tests, but was still good enough to give the ZS EV a good rating. As standard, it comes with adaptive cruise control, lane keep assist, traffic jam assist and intelligent high beam - with the Trophy version also receiving blind spot monitoring and rear cross traffic alert. You also get airbags all round, emergency braking assist, rear Isofix mounting points and an immobiliser. Reliability and problems Reliability and problems The ZS EV hasn't been subject to any recalls since its launch. But the quality of some of the interior materials and finishing touches don't feel too sturdy, so you may need to look out for features breaking or falling apart. MGs registered now will get a 12-month, unlimited mileage warranty. Up to a further six years, you get 80,000 miles under warranty, with the policy transferring to any new owner in that timeframe. For the fourth to seventh years of that warranty, you need to have a full service history to qualify for those additional years."
        ],
        [
         "3",
         "https://www.carwow.co.uk/mg/mg3",
         "MG3 REVIEW & PRICES",
         "€22,224",
         "9/10",
         "new",
         "Is the MG3 a good car? Is the MG3 a good car? The MG3 used to be a bit of a joke - the old one was the lowest-ranked car on Carwow - but the new model aims to change all that. Now, instead of being antiquated, it’s right up there with the best small cars for performance, efficiency and equipment. Like an air fryer from the middle of Lidl, the MG3’s feature set is as good as any of its alternatives and it’s not immediately clear where the money’s been saved to bring it in at such a low price. Now that it’s a full self-charging hybrid car , the MG3 no longer targets the very cheapest on the market like the Dacia Sandero or Citroen C3 Origin . Instead, it’s more like a cut-price alternative to the Renault Clio E-Tech or Toyota Yaris - a halfway house for people who want the most efficient small car possible, but either don’t want or can’t have a fully electric model. The MG3 won’t win awards for its practicality - it’s not cramped, but it’s no better than average in this regard with a boot that’s about halfway between the Yaris and the Clio in capacity. Rear seat space is moderate, too, though annoyingly the rear seats don’t split when they fold which does limit overall versatility. The front of the cabin looks great, and very modern - in stark contrast to the car it replaces. Poke around and you can find a few places where MG’s saved money - there’s a sliding cover for one of the storage compartments that feels comically flimsy, and the top of the dash and the door cards are made of hard plastic - but the Clio and the Yaris have areas that feel equally cheap. More importantly, MG’s given the 3 its best touchscreen infotainment system yet, and it’s loaded with equipment - climate control, a digital dashboard, sat-nav and a full suite of assisted driving features are standard on every model. The MG’s hybrid system is brand-new, and puts out an impressive 191hp - versus 140hp for the Clio and up to 130hp for the Yaris. That means it’s easily got any of them beat in a drag race, and makes mincemeat of overtakes or motorway sliproads. It’s not quite as efficient as the alternatives, but you might decide that the additional performance makes the small drop in mpg worthwhile. The real surprise is what happens when you reach a twisty road. The old MG3 was always shockingly good fun in the corners, but unexpectedly MG has managed to repeat the trick. The new MG3 handles brilliantly for a small car, and that makes it one of the most enjoyable small cars to drive. Sound interesting? Check here for our best MG3 deals , or look for a used MG3 on Carwow here. You could also check out other used MGs here, and remember that Carwow can even help you sell your car online too. How much is the MG3? How much is the MG3? The MG3 starts at less than £18,500, which is slightly more than a basic petrol Renault Clio - but undercuts the comparable Clio hybrid by several thousand pounds, and the Toyota Yaris hybrid by even more. Even the top-spec Trophy trim level, a £2,000 uplift over the basic SE, costs less than either of those two cars. Opting for Trophy doesn’t just get you a shinier badge, as it comes with some really tasty equipment upgrades. A full 360-degree camera system is perhaps overkill for a car this small, but LED headlights, keyless entry and heated seats are all worthy additions. Performance and drive comfort Performance and drive comfort Hybrid system can be a little clunky, but it’s powerful and reasonably efficient In town The MG3’s hybrid system is more electric than most - by that we mean it uses a comparatively powerful electric motor, and relies on that rather than the petrol engine most of the time. In fact, the MG’s electric motor on its own is more powerful than the Toyota Yaris’ entire hybrid system, and that means that most of the time its engine acts more like a generator, just keeping the battery topped up. Thanks to this, driving round town is extremely smooth because for the most part, it’s done on electric power alone. That doesn’t mean it’s silent like an electric car, though, because the engine needs to be on to keep the battery charged - and it often revs higher than you’d expect with quite a coarse sound. It’s not unbearable, but it is noticeable. The MG3 has quite firm suspension but it’s not uncomfortable round town. It deals well with lumps and bumps, and the steering is light enough although it does feel a little remote. It also has significantly more regen braking than any other hybrid car. On its highest setting it’s almost a one-pedal driving mode, though the on-again, off-again nature can make low-speed manoeuvres a little jerky. On the motorway The extra power you get over a Clio or a Yaris here is a boon when it comes to joining the motorway - where those cars would need quite a lot of throttle to get up to speed on a slip road, leaving their engines at high revs and making a racket, the MG can do it in a relatively relaxed fashion. If you do put your foot down, you can feel where the hybrid system starts to get clunky. With just a three-speed gearbox on the engine, gear changes feel like they take an age, so the power delivery has pronounced dips as the electric motor tries to fill the gap. During normal driving though, you won’t notice it. It feels stable and comfortable, and the engine settles down unless you’re really going for it. All MG3s include adaptive cruise control and a suite of safety equipment to make motorway driving more relaxing. The adaptive cruise works okay, but it’s a bit hyperactive, slowing you down miles before you get close to another car. The lane-keeping aids can be rather eager, too. And a word to the warning that you’ll want to turn off the average speed camera alerts in the sat-nav menu - they’re ear-splittingly loud. On a twisty road The old MG3 handled corners absolutely brilliantly - and despite its bigger frame and additional complexity, the new car does so too. It has oodles of grip when cornering hard, so you really feel confident to fling it into bends with gay abandon, and have a lot of fun while doing so. You can flip the car into Sport mode, which makes the powertrain feel even more eager but does add some unnatural-feeling weight to the steering. Even when you’re giving it some beans, the MG3 tackles bumps pretty well, and it’s more likely to put a smile on your face than either the Renault Clio or the Toyota Yaris. Space and practicality Space and practicality Comfortably average in the space department but with a few practicality niggles Front seat occupants have a pretty good time in the MG3 with fairly comfortable and supportive seats. There’s not much adjustment for the driver, though - while the seat does have height adjustment, there’s no variable lumbar support and nor is there reach adjustment for the steering wheel, which is particularly disappointing. Storage is good, though - there’s a big glovebox, a tray in front of the gear selector plus two large cupholders. Under the arm rest there’s a big storage compartment too, though the cover for this is extremely flimsy. Space in the back seats Two adults can just about get comfy in the back of the MG3, though like all of its alternatives there really isn’t space for three except for very short journeys. There’s more legroom and headroom than in a Toyota Yaris, and it’s about on par with the Renault Clio - but a Honda Jazz is the king for back seat space. Rear passengers get a pair of air vents and small door bins, but they have to share one charging port and there's no fold-down armrest for a bit of extra comfort. The rear windows are nice and big, though, so there’s a good view out. ISOFIX points are present in both outer rear seats Boot space With 293 litres of boot space, the MG3 is on the lower end of average here. It has more room than the Toyota Yaris with its 286-litre boot, and just a snip less than the 300 litres of the Renault Clio hybrid. If you want a bigger boot, look to non-hybrid Clios which have 391 litres. What’s more disappointing is that the MG’s seatbacks don’t split-fold - it just flops down as one unit. That means if you want to extend the boot to carry larger items, you can’t have any rear occupants at all. Even the Dacia Sandero has split-folding rear seats, so this is pretty poor from MG and limits the car’s versatility. When the seats are folded, you do have a reasonable space, though there is a big load lip and the floor isn’t left totally flat. Interior style, infotainment and accessories Interior style, infotainment and accessories A huge upgrade over the last MG3, but does feel cheap in places The new MG3’s interior is similar to the MG4 EV’s , which means it’s pretty minimalist and feels quite well-built. It’s much more stylish than the last MG3 - you get some nice touches like a cute tartan-patterned plastic section as well as some fake leather padding. It’s much more high-tech too, with almost everything controlled by the 10.3-inch touchscreen infotainment system in the centre. This is similar to the one on the MG4, but feels a little easier to use in places. However, it’s still dominated by menus with tiny, difficult-to-press buttons which makes life annoying if you’re trying to alter functions on the move. It’s best, then, to ensure you’ve made most of your corrections before you set off. In particular, you’ll probably want to adjust the safety and assisted driving functions - they’re pretty irritating. There are some hotkeys below the screen, including one to get you directly to the climate control menu - though annoyingly this doesn’t work if you’re using the Apple CarPlay or Android Auto smartphone connectivity. Both of those work well, incidentally, though it’s a shame they don’t connect wirelessly. The driver display is big and clear, but a little busy. Some functions like the cruise control info are constantly visible, even when you’re not using them, whereas for everything else you need to cycle through a small menu on the right side. You don’t get a rev counter unless you’re on the power display screen - not that you need one in an automatic, but some people do like to have one. Material quality is a mixed bag. We would have liked some more soft-touch plastics on the door cards in particular, as this is where your arm naturally rests, but you can definitely forgive a few cheap-feeling areas - this is a very inexpensive car compared to the alternatives and it doesn’t feel much more downmarket inside than a Toyota Yaris. MPG, emissions and tax MPG, emissions and tax During a week of mixed motoring with the MG3 we averaged just over 50mpg. That number tends to go up to around 55mpg in town driving and around 48mpg on a long motorway trip. This isn’t bad, but compared to the Renault Clio Hybrid or Toyota Yaris it’s a bit disappointing - both of those cars will average much closer to 60mpg. The MG’s additional power and performance does go some way to justifying the decrease, though - but if you’re buying one to lower your running costs, it’s possible to get better economy out of an even cheaper pure-petrol hatchback like a Dacia Sandero. CO2 emissions are good, though, at just 100g/km - only a few g/km more than a Clio or a Yaris. That puts it just one bracket above them in terms of company car tax, and the same band for first-year road tax. Safety and security Safety and security The MG3 hasn’t yet been tested by Euro NCAP . The old model scored just three stars when it was tested way back in 2014, but the new car has almost no relationship to it and therefore shouldn’t be compared. Instead, it’d make more sense to compare the 3 to MG’s more recent models - the MG4, MG HS and MG ZS EV all scored the full five-stars, admittedly quite a few years ago for the latter two. Safety equipment includes the usual - autonomous emergency braking, lane-keep assist and various speed limit aids. You can turn most of these off easily enough, but if you forget you’ll soon be reminded by a set of intensely irritating bongs - some of the worst we’ve heard. We also found the lane-keeping to be a bit hyperactive, alerting us when we were nowhere near the white lines. The adaptive cruise control and assisted driving functions work well, though. Reliability and problems Reliability and problems It’s far too early to tell if the MG3 will be a reliable choice or not. MG typically returns a mid-table ranking in reliability surveys, though the cars themselves don’t usually suffer much with mechanical maladies. MG’s seven-year, 80,000-mile warranty should give peace of mind here - it’s better than the three years of coverage you get on a Renault Clio, though the Toyota ‘Relax’ warranty with up to ten years of coverage makes the Yaris an even more compelling proposition."
        ],
        [
         "4",
         "https://www.carwow.co.uk/mg/gs",
         "MG GS Review and Prices",
         "€21,561",
         "5/10",
         "new",
         "The MG GS is a medium-sized family SUV that’s a little larger than the likes of the Nissan Qashqai and Renault Kadjar, yet costs a little less. Unfortunately, some of the MG’s penny-pinching is all too obvious, such as the brittle interior plastics and second-rate infotainment system. From the outside, the MG GS looks more like a jacked-up hatchback than most family SUVs. It sports all the black plastic bumper trims you’d expect of a chunky pseudo-off-roader, but the MG GS’ curvy bumpers, slim brake lights and raked roofline look sportier than the comparatively boxy Kia Sportage and Hyundai Tucson. Unfortunately, the MG GS’ interesting exterior only serves to show how dull and drab its interior is. It’s neatly laid out and all the buttons are grouped together so they’re easy to reach, but almost every surface comes with a hard plastic finish and the optional brushed-metal effect trims don’t feel anywhere near as robust as they look. You can have contrasting inserts fitted to the dashboard and doors, but these do little to spruce up the GS’ interior. Equally middling is the touchscreen infotainment system. It’s easy to read but nowhere near as intuitive as the systems you get in most alternatives. What it loses out in technology, the GS claws back (albeit only slightly) in terms of practicality. There’s just as much room in the front seats as you get in the likes of the Nissan Qashqai and there’s more space for carrying three adults at once in the back. The MG GS might appeal if you’re looking for something practical and likely to stand out, but it isn’t particularly good to drive and doesn’t feel as well built as most other family SUVs. It’s a similar story when you need to load the MG GS’ boot. It’s bigger than the Nissan’s and there’s no load lip which makes it easy to slide in heavy boxes. You can fold the back seats down if you need to carry seriously bulky stuff, such as a bike. It’s a shame you can’t get the MG GS with a diesel engine to help you carry very heavy luggage or tow a trailer, though. Instead, it comes with a 1.5-litre 166hp petrol unit. At least it feels fairly spritely and trundles along at motorway speeds relatively quietly – if not particularly economically. Head off the motorway and you’ll find the MG GS doesn’t feel particularly relaxing to drive. Its suspension is firmer than in the likes of the Nissan Qashqai so you’ll feel more of a thud each time you hit a pothole around town. At least you get a decent view out and the optional automatic gearbox you can get in top-spec models means you don’t have to make endless gear changes in heavy traffic. Unlike most SUVs, you can’t get the GS with automatic emergency braking, lane-keeping assistance or driver tiredness detection. As a result, you’ll be better off looking elsewhere if safety is your number one priority. But, if you’re after a sporty-looking yet practical SUV on a shoestring budget, it could be worth a look. Check out our MG GS deals to see how much you can save on one."
        ]
       ],
       "shape": {
        "columns": 6,
        "rows": 5
       }
      },
      "text/html": [
       "<div>\n",
       "<style scoped>\n",
       "    .dataframe tbody tr th:only-of-type {\n",
       "        vertical-align: middle;\n",
       "    }\n",
       "\n",
       "    .dataframe tbody tr th {\n",
       "        vertical-align: top;\n",
       "    }\n",
       "\n",
       "    .dataframe thead th {\n",
       "        text-align: right;\n",
       "    }\n",
       "</style>\n",
       "<table border=\"1\" class=\"dataframe\">\n",
       "  <thead>\n",
       "    <tr style=\"text-align: right;\">\n",
       "      <th></th>\n",
       "      <th>url</th>\n",
       "      <th>title</th>\n",
       "      <th>price</th>\n",
       "      <th>rating</th>\n",
       "      <th>tag</th>\n",
       "      <th>review</th>\n",
       "    </tr>\n",
       "  </thead>\n",
       "  <tbody>\n",
       "    <tr>\n",
       "      <th>0</th>\n",
       "      <td>https://www.carwow.co.uk/mg/mg-4</td>\n",
       "      <td>MG4 EV REVIEW &amp; PRICES</td>\n",
       "      <td>€37,142</td>\n",
       "      <td>8/10</td>\n",
       "      <td>new</td>\n",
       "      <td>Is the MG4 EV a good car? Is the MG4 EV a good...</td>\n",
       "    </tr>\n",
       "    <tr>\n",
       "      <th>1</th>\n",
       "      <td>https://www.carwow.co.uk/mg/5</td>\n",
       "      <td>MG5 EV REVIEW &amp; PRICES</td>\n",
       "      <td>€37,738</td>\n",
       "      <td>6/10</td>\n",
       "      <td>new</td>\n",
       "      <td>Is the MG5 EV a good car? Is the MG5 EV a good...</td>\n",
       "    </tr>\n",
       "    <tr>\n",
       "      <th>2</th>\n",
       "      <td>https://www.carwow.co.uk/mg/zs-ev</td>\n",
       "      <td>MG ZS EV Review &amp; Prices</td>\n",
       "      <td>€38,616</td>\n",
       "      <td>7/10</td>\n",
       "      <td>new</td>\n",
       "      <td>Is the MG ZS EV a good car? Is the MG ZS EV a ...</td>\n",
       "    </tr>\n",
       "    <tr>\n",
       "      <th>3</th>\n",
       "      <td>https://www.carwow.co.uk/mg/mg3</td>\n",
       "      <td>MG3 REVIEW &amp; PRICES</td>\n",
       "      <td>€22,224</td>\n",
       "      <td>9/10</td>\n",
       "      <td>new</td>\n",
       "      <td>Is the MG3 a good car? Is the MG3 a good car? ...</td>\n",
       "    </tr>\n",
       "    <tr>\n",
       "      <th>4</th>\n",
       "      <td>https://www.carwow.co.uk/mg/gs</td>\n",
       "      <td>MG GS Review and Prices</td>\n",
       "      <td>€21,561</td>\n",
       "      <td>5/10</td>\n",
       "      <td>new</td>\n",
       "      <td>The MG GS is a medium-sized family SUV that’s ...</td>\n",
       "    </tr>\n",
       "  </tbody>\n",
       "</table>\n",
       "</div>"
      ],
      "text/plain": [
       "                                 url                     title    price  \\\n",
       "0   https://www.carwow.co.uk/mg/mg-4    MG4 EV REVIEW & PRICES  €37,142   \n",
       "1      https://www.carwow.co.uk/mg/5    MG5 EV REVIEW & PRICES  €37,738   \n",
       "2  https://www.carwow.co.uk/mg/zs-ev  MG ZS EV Review & Prices  €38,616   \n",
       "3    https://www.carwow.co.uk/mg/mg3       MG3 REVIEW & PRICES  €22,224   \n",
       "4     https://www.carwow.co.uk/mg/gs   MG GS Review and Prices  €21,561   \n",
       "\n",
       "  rating  tag                                             review  \n",
       "0   8/10  new  Is the MG4 EV a good car? Is the MG4 EV a good...  \n",
       "1   6/10  new  Is the MG5 EV a good car? Is the MG5 EV a good...  \n",
       "2   7/10  new  Is the MG ZS EV a good car? Is the MG ZS EV a ...  \n",
       "3   9/10  new  Is the MG3 a good car? Is the MG3 a good car? ...  \n",
       "4   5/10  new  The MG GS is a medium-sized family SUV that’s ...  "
      ]
     },
     "execution_count": 2,
     "metadata": {},
     "output_type": "execute_result"
    }
   ],
   "source": [
    "## Read and set the csv of scraped data\n",
    "\n",
    "df = pd.read_csv(\"info/carwow_scraped_data_full.csv\")\n",
    "df.head()"
   ]
  },
  {
   "cell_type": "code",
   "execution_count": 3,
   "id": "b7946b14",
   "metadata": {},
   "outputs": [
    {
     "data": {
      "application/vnd.microsoft.datawrangler.viewer.v0+json": {
       "columns": [
        {
         "name": "index",
         "rawType": "object",
         "type": "string"
        },
        {
         "name": "0",
         "rawType": "object",
         "type": "string"
        }
       ],
       "ref": "6375dff7-69a0-4e34-ac22-547d93373adb",
       "rows": [
        [
         "url",
         "https://www.carwow.co.uk/mg/mg-4"
        ],
        [
         "title",
         "MG4 EV REVIEW & PRICES"
        ],
        [
         "price",
         "€37,142"
        ],
        [
         "rating",
         "8/10"
        ],
        [
         "tag",
         "new"
        ],
        [
         "review",
         "Is the MG4 EV a good car? Is the MG4 EV a good car? MG pulled an absolute blinder with the MG4, and much like the lovable underdog in a boxing movie it punches well above its weight division. It’s more affordable than alternatives such as the Renault Megane E-Tech and Cupra Born , costing around the same as the smaller Vauxhall Corsa Electric and Fiat 500e . You’d be forgiven for thinking that MG have taken a ‘cheap and cheerful’ approach to engineering the MG4, but that’s far from the truth. So far from it, in fact, that the MG4 received high commendations in the 2024 Carwow Car of the Year Awards’ Outstanding EV and Urban Living categories. Just look at it, a mix of pointy details, sharp creases and funky shapes such as the lower body cladding and split roof spoiler. It’s a refreshing looking thing; it still stands out against newer MGs such as the MG S5 and MG HS as much as it does its alternatives. Range: 218-331 miles Efficiency: 3.6-3.8 miles per kWh Battery size: 51kWh / 62kWh / 74kWh Max charge speed: 150kW Charge time AC: 6hrs 12mins, 10-100%, 7kW / 7hrs 30mins, 10-100%, 7kW / 9hrs, 10-100%, 7kW Charge time DC: 39mins, 10-80%, 150kW / 35mins, 10-80%, 150kW Charge port location: Left rear Power outputs: 170hp / 204hp / 245hp It’s a shame the interior isn’t quite as novel, with a dashboard layout that’s so simple it verges on boring, but the material quality, fit and finish and standard kit is better than you might expect for the price. A 10.25-inch infotainment display comes as standard on all trim levels of the MG4, and though it comes with Apple CarPlay and Android Auto connectivity, MG’s own software is rather basic. It’s frustrating to operate too, especially on the move, with too many menus to navigate. There’s plenty of room in the MG4 though; plenty of adjustability for you to get comfy behind the wheel and enough head and leg room for tall passengers in the rear - though it’s a bit of a squeeze when you’ve got three in the back. The 363-litre boot capacity trails the Volkswagen ID3 for space, and puts it well behind the Megane E-Tech. The MG4 comes with two battery options, offering 218 claimed miles of range in its most basic trim through to 323 miles for the Trophy Extended Range model. The top-rung MG4 XPower , which we’ve reviewed separately, offers a big power hike over the rest of the trim levels, but makes do with a 239-mile range. Around town the MG4 is easy to potter about in thanks to its light steering, peppy electric motors and most importantly, its comfortable suspension. It takes potholes, speed bumps and cracked roads in its stride, and the same applies to motorways where the MG4 just soaks up the miles with ease. Yet even with its soft suspension the MG4 is rather fun to drive on a twisty road, feeling agile and grippy with little in the way of body lean. The X-Power is particularly rapid, but it’s different enough that we've reviewed it separately here. For a stonking value for money proposition, have a look at our new MG4 deals as well as our MG4 lease deals . You can also check out used MG4s from our network of trusted dealers as well as other used MGs . When it’s time for a change, you can even sell your current car through Carwow. How much is the MG4 EV? How much is the MG4 EV? While the MG4 is a similar size to the Volkswagen ID3 and Volvo EX30 , it comes in much cheaper without feeling like a compromise. Entry-level SE cars are equipped with automatic LED headlights, tinted windows and a leather steering wheel as standard. Trophy cars bump up the standard kit with a heated sterling wheel, adjustable-height boot floor, 18-inch alloy wheels and a bolstered suite of drivers assistance systems with blind spot detection and lane assist on top of the SE’s adaptive cruise control . You can also get the Trophy spec cars in a rather bold orange paint finish with a two-tone black roof. There’s a £10,000 price difference between the entry-level and top-rung MG4 models, so you need to consider whether the extra range and kit is worth it. Performance and drive comfort Performance and drive comfort Comfortable in town and surprisingly nimble in bends, but there’s a bit of wind noise on the motorway One of the first things you notice when driving the MG4 is that it’s very comfortable. EVs tend to have stiff suspension because this helps stop cars with heavy batteries from wobbling around in corners, but the MG4 manages to smooth out lumpy roads and speed bumps with little fuss. It’s pretty agile too, thanks to the responsive motors and light steering. There are multiple steering settings in the menus, but putting it in its lightest mode removes so much feel that we’d recommend leaving it in ‘normal’. The 10.7-metre turning circle isn’t quite as good as the VW ID3, but it’s enough to navigate busy urban areas with ease, while good forward visibility is another boon. Rear visibility not so much, though, meaning it can be tricky to see what’s around when looking over your shoulder. Another complaint is the lack of ‘one pedal driving’. The MG4 will not come to a complete stop if you lift off the throttle and let the regenerative braking do its thing, instead creeping along once you get to low speeds. You’ll get used to it, but it’s mildly annoying that you need to use the brakes to stop in traffic, while other EVs will bring the car to a halt. When you do use the brakes, though, they’re smooth and avoid the jerkiness found in some electric cars. Those punchy electric motors are useful out on the motorway too. When accelerating up to the national speed limit the MG4 pulls quickly and smoothly, getting you up to a cruise with little fuss. Once you’re there, the MG4’s soft suspension again makes itself known by proving to be a comfortable companion on long journeys. Minor road imperfections are barely noticeable so you’ll get to your destination feeling relaxed. The MG4 is not the quietest EV at motorway speeds though, with a bit of wind noise to contend with. Meanwhile, that light steering is less welcome at high speeds, though you can increase the weight a bit in the settings. Again the MG4 impresses, and this time it’s in corners. You might expect that soft suspension to mean it’s not particularly confidence-inspiring on a winding road, because there’s usually a trade off between comfort and cornering ability. However, while it’s no sports car , it’s easy to have fun behind the wheel. Pitch the car into a corner and it doesn’t lean too much , so you don’t feel like you might fall into the opposite lane and can instead focus on enjoying the power from the electric motors. We've tested both power outputs and can happily say that each had more than enough oomph to enjoy and, thanks to sending power to the rear wheels, feel agile as you accelerate out of a turn. Despite this corner carving positivity, the MG4 is no hardcore hot hatch replacement and prefers a more laid back approach, encouraging you to get into a rhythm rather than attack corners with rubber-shredding enthusiasm. Space and practicality Space and practicality Decent space and storage up front, but it’s hit and miss in the rear seats and the boot could be bigger Getting comfortable as the driver in the MG4 EV is easy, thanks to electrically operated seats and great steering wheel adjustability, which has a wide range of movements for reach and rake. Once in position there’s a load of space to store whatever’s filling your pockets, with a large bin beneath the armrest, a shallow, coverable space in the centre console and a phone charging pad that sits on a plinth behind the gear selection dial. There are large door bins, a felt-lined glasses storage box and a reasonably sized glovebox, too. The cup holders are a good size and within arm’s reach, but sitting beneath the aforementioned plinth means that it’s tricky to slot bottles in on the move. It could be easy to knock the top off your coffee while keeping your eyes on the road. This section is also quite close to the driver, meaning those with longer legs might find they're resting their knee on the hard plastic, which can get a bit sore on longer trips. Rear passengers are generally well catered for, with subtle cutouts in the roof helping provide ample headroom, while even taller passengers should have no issues with knees banging the seat in front. Foot space is okay but it’s tricky to get your feet under the seat in front. This can make longer journeys uncomfortable as the seat cushion is quite close to the floor of the car, forcing your legs up so your thighs are not supported. Put three adults in the back and it’s a squeeze for shoulder space, while the lack of central armrest is a shame when you don’t have a third person in the middle seat. The door bins are smaller back here and there’s only one USB slot for those in the back to fight over. The mobile phone holders in the back of the seats in front is a cool touch though, while the ISOFIX points are easy to access. Overall rear seat space is fine, but it doesn’t quite feel as polished as it does up front, with cheaper materials, too. At 363 litres the MG4’s boot is not terrible, but does lag a little behind the ID3’s 385 litres and Nissan Leaf’s cavernous 435 litres. However, it is slightly bigger than the BYD Dolphin's 345 litres, and the similarly priced Fiat 500 Electric is much smaller at 185 litres, giving some context to the value proposition here. Fold the rear seats down and you get a decent 1,117 litres of space. Practicality is also not great, with just the one tie-down hook and no 12V charge slot. However, you can store the charging cables beneath the boot floor so you don’t have to eat into cargo space, unlike in the VW, while folding the rear seats down reveals a flat floor that’s easy to push large, heavy items across. Some EVs have a smaller front boot beneath the bonnet, because there’s no need to slot a big petrol or diesel engine in there. However, the MG4 has no extra space up front, which is a bit of a shame. But then neither does the ID3 or Leaf, so it’s not a deal breaker in this class. Interior style, infotainment and accessories Interior style, infotainment and accessories Interior fit and finish is mighty impressive for the price point, but the infotainment can be tricky to use If you’ve sat in an ID3 and been left disappointed by the interior look and quality, the MG4 is sure to surprise you. Despite costing considerably less than its German counterpart, the fit and finish feels more premium thanks to soft-touch materials throughout. The 10.25-inch infotainment screen perched atop the dashboard has a clear display, but the graphics look a touch dated and its response to inputs is quite laggy. Couple this with climate and drive mode control functions buried in menus, and it can be quite fiddly to use on the move. You also only get sat nav on the top-spec Trophy model, but that’s actually not a big deal because wired Apple CarPlay and Android Auto are included as standard and work better than MG’s system anyway. While there are a few physical buttons beneath the screen, they feel pretty cheap and let the side down when everything else feels so solid. The digital display ahead of the driver is more impressive though, boasting a crisp, clear display and plenty of customisation options, so you can use the wheel-mounted buttons to show the most relevant information to you. There’s also a storage tray for your mobile phone that sits conveniently above the USB slots in the front. This has a hole to feed the wire through to keep things neat, but it’s very fiddly and some wires don’t actually fit through... Electric range, charging and tax Electric range, charging and tax There are five variations of MG4, spanning two trim levels, three battery sizes, and the separate high-performance model called XPower. Entry-level SE models have a 170hp motor and 51kWh battery with a 0-60mph time of 7.5 seconds and a range of 218 miles. Step up to the SE Long Range and Trophy Long Range and you get 203hp with a 64kWh battery, but the extra weight drops the 0-60mph time a fraction to 7.7 seconds. They have a maximum range of 281 and 270 miles respectively. At the top of the range is the Trophy Extended Range model, which has a 77kWh battery and a 323-mile range. It's also the most powerful version (excluding the XPower), with 241hp and a 0-60mph time of 6.5 seconds. The smaller battery can be charged at a rate of up to 117kW, which will top the battery up from 10 to 80% in 39 minutes. The Long Range battery has a 135kW charge rate, meaning it’s slightly quicker from 10 to 80% at 35 minutes. The Extended Range model takes slightly longer to do the same charge at 39 minutes. When we tested the Trophy Long Range model, we achieved a 0-60mph time of 7.1 seconds, which is a good chunk quicker than the official figures suggest. We also saw efficiency of 3.8miles/kWh, which would equate to a range of 232 miles. Although this is down on the official figure, it’s an impressive number for real world driving. During our time with the entry-level SE version, we saw the same efficiency figures, which would put the range of its smaller battery at just under 200 miles. Again, this isn't too far off its claimed figures and a perfectly useful amount for most. As an electric vehicle, the MG4 is subject to the minimum Vehicle Excise Duty of £10 in its first year, then £195 from its second year onwards. It also benefits from very low benefit-in-kind tax , making it an affordable choice for company car buyers. Safety and security Safety and security Even the cheapest MG4 gets MG Pilot as standard, which is a driver assistance package that includes active emergency braking, lane keep assist, driver attention alert and intelligent high beam assist. Trophy models also get door opening warning, blind spot detection, rear cross traffic alert and lane change assist. Even more impressively, this includes adaptive cruise control as standard. This means the car will adapt its speed when approaching slower cars on the motorway, and will even stay in control in stop-start traffic. The MG4 received the full five stars in Euro NCAP safety testing in 2022, scoring over 80% for occupant safety and over 70% in the vulnerable road users and safety assist sections, though the test has become stricter since the MG earned its stars. Reliability and problems Reliability and problems MG came dead last in the 2024 Driver Power reliability survey, which isn’t confidence-inspiring if you’re a prospective owner. EVs tend to be more reliable than petrol and diesel cars, so could be a good bet if you want to avoid worrying about mechanical repairs. There was a 2022 recall for the MG4 locking itself and shutting off the key and windows at a standstill, though that should have been rectified by now. Giving further peace of mind is MG’s excellent seven-year/80,000-mile warranty, so even if something does go wrong, you should be covered. It’s fully transferable too, so if you’re buying a used example you’ll still benefit, providing it falls within the age and mileage limit. MG4 EV FAQs MG4 EV FAQs"
        ]
       ],
       "shape": {
        "columns": 1,
        "rows": 6
       }
      },
      "text/plain": [
       "url                        https://www.carwow.co.uk/mg/mg-4\n",
       "title                                MG4 EV REVIEW & PRICES\n",
       "price                                               €37,142\n",
       "rating                                                 8/10\n",
       "tag                                                     new\n",
       "review    Is the MG4 EV a good car? Is the MG4 EV a good...\n",
       "Name: 0, dtype: object"
      ]
     },
     "execution_count": 3,
     "metadata": {},
     "output_type": "execute_result"
    }
   ],
   "source": [
    "## Example of line\n",
    "df.iloc[0]"
   ]
  },
  {
   "cell_type": "code",
   "execution_count": 4,
   "id": "af4e3c7e",
   "metadata": {},
   "outputs": [],
   "source": [
    "## Read and set the system information\n",
    "\n",
    "with open(\"info/system_information.txt\", \"r\") as f:\n",
    "    system_information = f.read()"
   ]
  },
  {
   "cell_type": "code",
   "execution_count": 5,
   "id": "92498000",
   "metadata": {},
   "outputs": [],
   "source": [
    "## Creation of a list of reviews to help in the iteration later\n",
    "\n",
    "reviews = {}\n",
    "for idx, row in df.iterrows():\n",
    "    reviews[idx] = {\n",
    "        'url': row['url'],\n",
    "        'title': row['title'],\n",
    "        'price': str(row['price']).replace(',', '.'),\n",
    "        'rating': row['rating'],\n",
    "        'tag': row['tag'],\n",
    "        'review': row['review']\n",
    "    }"
   ]
  },
  {
   "cell_type": "code",
   "execution_count": 6,
   "id": "1b76e1b8",
   "metadata": {},
   "outputs": [
    {
     "data": {
      "text/plain": [
       "'llama3.1:8b'"
      ]
     },
     "execution_count": 6,
     "metadata": {},
     "output_type": "execute_result"
    }
   ],
   "source": [
    "## Selection of the model to use in the sentiment analysis\n",
    "\n",
    "model_llm = [\"llama3.1:8b\", \"qwen3:4b\", \"llama3.2:3b-instruct-q8_0\", \"deepseek-r1:7b\", \"mistral:7b-instruct\", \"deepseek-r1:8b\", \"llama3.1:8b-instruct-q5_K_M\", \"gemma3:4b\", \"gemma3:4b-it-q8_0\", \"llama3.1:8b-instruct-q2_K\", \"llama3.2:3b-instruct-q5_K_M\", \"gemma3:1b\", \"llama3.1:8b-instruct-fp16\"]\n",
    "model_llm[0]"
   ]
  },
  {
   "cell_type": "code",
   "execution_count": 7,
   "id": "4465013e",
   "metadata": {},
   "outputs": [],
   "source": [
    "import json\n",
    "\n",
    "def extract_insights_ollama(review_dict):\n",
    "    prompt_text = json.dumps(review_dict, ensure_ascii=False, indent=2)\n",
    "    \n",
    "    response = ollama.chat(\n",
    "        model=model_llm[0],\n",
    "        messages=[\n",
    "            {\"role\": \"system\", \"content\": system_information},\n",
    "            {\"role\": \"user\", \"content\": prompt_text}\n",
    "        ],\n",
    "    )\n",
    "    \n",
    "    return response['message']['content']\n"
   ]
  },
  {
   "cell_type": "code",
   "execution_count": 8,
   "id": "20b41e9c",
   "metadata": {},
   "outputs": [],
   "source": [
    "## Function to extract and clean the response\n",
    "\n",
    "def clean_response(response):\n",
    "    # Remove <think>...</think> blocks (including multiline)\n",
    "    # response = re.sub(r'<think>.*?</think>', '', response, flags=re.DOTALL)\n",
    "    response = re.sub(\n",
    "        r\"'Price':\\s*[$£]?([0-9]{1,3}(?:,[0-9]{3})*(?:\\.\\d+)?|\\d+\\.?\\d*)\",\n",
    "        lambda m: f\"'Price': {m.group(1).replace(',', '')}\",\n",
    "        response\n",
    "    )\n",
    "    response = re.sub(r\"'Overall':\\s*([0-9]+(?:\\.\\d+)?)\\s*/\\s*10\", r\"'Overall': \\1\", response)\n",
    "    response = re.sub(r',\\s*}', '}', response) \n",
    "    return response\n",
    "    \n",
    "def extract_backtick_block(s):\n",
    "    m = re.search(r'```(.*?)```', s, flags=re.DOTALL)\n",
    "    return m.group(1).strip() if m else s.strip()"
   ]
  },
  {
   "cell_type": "code",
   "execution_count": null,
   "id": "2f341c83",
   "metadata": {},
   "outputs": [
    {
     "name": "stdout",
     "output_type": "stream",
     "text": [
      "Processing 1/206…\n",
      "Parsing error: unterminated string literal (detected at line 1) (<unknown>, line 1)\n",
      "Invalid format (0 keys). Retrying…\n",
      "Retry parsing error: invalid syntax (<unknown>, line 2)\n",
      "Invalid format (0 keys). Retrying…\n",
      "Retry parsing error: invalid syntax (<unknown>, line 2)\n",
      "Invalid format (0 keys). Retrying…\n",
      "Retry parsing error: unterminated triple-quoted string literal (detected at line 16) (<unknown>, line 5)\n",
      "Invalid format (0 keys). Retrying…\n",
      "Retry parsing error: invalid syntax (<unknown>, line 2)\n",
      "Invalid format (0 keys). Retrying…\n",
      "Retry parsing error: invalid syntax (<unknown>, line 2)\n",
      "Invalid format (0 keys). Retrying…\n",
      "Retry parsing error: invalid syntax (<unknown>, line 2)\n",
      "Invalid format (0 keys). Retrying…\n",
      "Retry parsing error: invalid syntax (<unknown>, line 2)\n",
      "Invalid format (0 keys). Retrying…\n",
      "Retry parsing error: invalid syntax (<unknown>, line 2)\n",
      "Invalid format (0 keys). Retrying…\n",
      "Retry parsing error: invalid syntax (<unknown>, line 2)\n",
      "Invalid format (0 keys). Retrying…\n",
      "Retry parsing error: invalid syntax (<unknown>, line 2)\n",
      "Processing 2/206…\n",
      "Processing 3/206…\n",
      "Processing 4/206…\n",
      "Processing 5/206…\n",
      "Processing 6/206…\n",
      "Invalid format (21 keys). Retrying…\n",
      "Retry parsing error: invalid syntax (<unknown>, line 2)\n",
      "Invalid format (0 keys). Retrying…\n",
      "Retry parsing error: invalid syntax (<unknown>, line 2)\n",
      "Invalid format (0 keys). Retrying…\n",
      "Retry parsing error: invalid decimal literal (<unknown>, line 21)\n",
      "Invalid format (0 keys). Retrying…\n",
      "Retry parsing error: unterminated string literal (detected at line 32) (<unknown>, line 32)\n",
      "Invalid format (0 keys). Retrying…\n"
     ]
    }
   ],
   "source": [
    "import ast\n",
    "\n",
    "results = []\n",
    "\n",
    "for i, review in reviews.items():\n",
    "    print(f\"Processing {i+1}/{len(reviews)}…\")\n",
    "    raw = extract_insights_ollama(review)\n",
    "    response = extract_backtick_block(raw)\n",
    "    proc_response = clean_response(response)\n",
    "\n",
    "    # Always use ast.literal_eval for parsing\n",
    "    try:\n",
    "        result_dict = ast.literal_eval(proc_response)\n",
    "    except Exception as e:\n",
    "        print(f\"Parsing error: {e}\")\n",
    "        result_dict = {}\n",
    "\n",
    "    retries = 0\n",
    "    while len(result_dict) != 17 and retries < 10:\n",
    "        print(f\"Invalid format ({len(result_dict)} keys). Retrying…\")\n",
    "        retry_prompt = (\n",
    "            system_information\n",
    "            + \"\\n\\n\"\n",
    "            + \"You did NOT return the dictionary in the exact format. ONLY output the dictionary below, enclosed in triple backticks. If you do not, your answer will be discarded.\\n\"\n",
    "            + \"\"\"```{\n",
    "                'Brand': brand name, \n",
    "                'Model': model name, \n",
    "                'Drive': sentiment value, \n",
    "                'Quality of interior': sentiment value, \n",
    "                'Infotainment system': sentiment value, \n",
    "                'Comfort': sentiment value, \n",
    "                'Performance': sentiment value, \n",
    "                'Handling': sentiment value, \n",
    "                'Practicality': sentiment value, \n",
    "                'Reliability': sentiment value, \n",
    "                'Safety': sentiment value, \n",
    "                'Quality of construction': sentiment value, \n",
    "                'Noise': sentiment value, \n",
    "                'Engine': sentiment value, \n",
    "                'Price': price value, \n",
    "                'Tag': tag value,\n",
    "                'Overall': overall value\n",
    "                }```\\n\"\"\"\n",
    "            + f\"\\nPerform the analysis again for the following review: {review}\"\n",
    "        )\n",
    "        raw = extract_insights_ollama(retry_prompt)\n",
    "        response = extract_backtick_block(raw)\n",
    "        proc_response = clean_response(response)\n",
    "        try:\n",
    "            result_dict = ast.literal_eval(proc_response)\n",
    "        except Exception as e:\n",
    "            print(f\"Retry parsing error: {e}\")\n",
    "            result_dict = {}\n",
    "        retries += 1\n",
    "\n",
    "    results.append(result_dict)"
   ]
  },
  {
   "cell_type": "code",
   "execution_count": null,
   "id": "ae39bb18",
   "metadata": {},
   "outputs": [],
   "source": [
    "## Just for example\n",
    "\n",
    "test_dict = {\n",
    "    'Brand': 'MG',\n",
    "    'Model': 'ZS',\n",
    "    'Drive': 'Medium', \n",
    "    'Quality of interior': 'Positive', \n",
    "    'Infotainment system': 'Positive', \n",
    "    'Comfort': 'Negative', \n",
    "    'Performance': 'Medium', \n",
    "    'Handling': 'Not mentioned', \n",
    "    'Practicality': 'Positive', \n",
    "    'Reliability': 'Not mentioned', \n",
    "    'Safety': 'Negative', \n",
    "    'Quality of construction': 'Medium', \n",
    "    'Noise': 'Negative', \n",
    "    'Engine': 'Medium', \n",
    "    'Price': 18.605,\n",
    "    'tag': 'new',\n",
    "    'Overall': 6\n",
    "}\n",
    "\n",
    "len(test_dict)"
   ]
  },
  {
   "cell_type": "code",
   "execution_count": null,
   "id": "b26fe51f",
   "metadata": {},
   "outputs": [],
   "source": [
    "## We use the test_dict keys to create the columns of the Dataframe, then we create it.\n",
    "df_new = pd.DataFrame(columns = test_dict.keys())\n",
    "\n",
    "for result_dict in results:\n",
    "    df_new.loc[len(df_new)] = result_dict\n",
    "    \n",
    "df_new"
   ]
  },
  {
   "cell_type": "code",
   "execution_count": null,
   "id": "b675e6e3",
   "metadata": {},
   "outputs": [],
   "source": [
    "## Saving the Dataframe as a csv.\n",
    "\n",
    "df_new.to_csv(\"info/car_review_new.csv\", index = False)"
   ]
  }
 ],
 "metadata": {
  "kernelspec": {
   "display_name": ".venv",
   "language": "python",
   "name": "python3"
  },
  "language_info": {
   "codemirror_mode": {
    "name": "ipython",
    "version": 3
   },
   "file_extension": ".py",
   "mimetype": "text/x-python",
   "name": "python",
   "nbconvert_exporter": "python",
   "pygments_lexer": "ipython3",
   "version": "3.10.12"
  }
 },
 "nbformat": 4,
 "nbformat_minor": 5
}
