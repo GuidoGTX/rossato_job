{
 "cells": [
  {
   "cell_type": "code",
   "execution_count": 19,
   "id": "2a4b9119",
   "metadata": {},
   "outputs": [],
   "source": [
    "import requests\n",
    "from bs4 import BeautifulSoup\n",
    "import time\n",
    "import csv\n",
    "import re\n",
    "import re\n",
    "import ollama\n",
    "import pandas as pd\n",
    "import torch"
   ]
  },
  {
   "cell_type": "code",
   "execution_count": 20,
   "id": "4d5e2022",
   "metadata": {},
   "outputs": [],
   "source": [
    "# Set base headers\n",
    "HEADERS = {\n",
    "    \"User-Agent\": \"Mozilla/5.0 (Windows NT 10.0; Win64; x64) AppleWebKit/537.36 (KHTML, like Gecko) Chrome/115.0 Safari/537.36\"\n",
    "}\n",
    "\n",
    "# Brand selezionati\n",
    "BRANDS = [\"mg\", \"byd\", \"volkswagen\", \"renault\", \"peugeot\", \"fiat\", \"bmw\"]\n",
    "\n",
    "BRAND_MODELS = {\n",
    "    \"mg\": [\"mg3\", \"zs\", \"zs-ev\", \"hs\", \"mg-4\", \"s5-ev\", \"4-xpower\", \"gs\", \"5\"],\n",
    "    \"byd\": [\"dolphin\", \"seal-u\", \"atto-3\", \"seal\", \"sealion-7\"],\n",
    "    \"volkswagen\": [\"touareg\", \"id3\", \"id4\", \"id5\", \"id7\", \"id7-tourer\", \"tiguan\", \"passat\", \"golf\", \"t-roc\", \"t-cross\", \"polo\"],\n",
    "    \"renault\": [\"clio\", \"5-e-tech\", \"symbioz\", \"megane-etech-electric\", \"austral\", \"captur\", \"scenic-e-tech\", \"rafale\", \"twingo\", \"megane\", \"kadjar\", \"scenic\", \"arkana\", \"koleos\", \"zoe\"],\n",
    "    \"peugeot\": [\"208\", \"e-208\", \"2008\", \"e-2008\", \"308\", \"e-308\", \"308-sw\", \"e-308-sw\", \"408\", \"e-408\", \"3008\", \"e-3008\", \"5008\", \"e-5008\", \"e-rifter\", \"e-traveller\", \"508\"],\n",
    "    \"fiat\": [\"500\", \"500-electric\", \"500x\", \"600\", \"500l\", \"panda\", \"panda-cross\", \"panda-4x4\", \"600e\", \"tipo\", \"qubo\", \"500c\"],\n",
    "    \"bmw\": [\"1-series\", \"2-series-active-tourer\", \"3-series\", \"4-series\", \"5-series\", \"5-series-touring\", \"x1\", \"ix1\", \"x2\", \"ix2\", \"x3\", \"ix3\", \"x4\", \"x5\", \"x6\", \"x7\", \"ix\", \"i4\", \"i5\", \"i5-touring\"],\n",
    "}\n"
   ]
  },
  {
   "cell_type": "code",
   "execution_count": 21,
   "id": "bdc03f29",
   "metadata": {},
   "outputs": [],
   "source": [
    "WC_MODELS = {\n",
    "    \"mg\": [\n",
    "        \"https://www.whatcar.com/mg-motor-uk/mg3/hatchback/review/n17867\",\n",
    "        \"https://www.whatcar.com/mg-motor-uk/zs/hatchback/review/n17318\",\n",
    "        \"https://www.whatcar.com/mg-motor-uk/zs/hatchback/review/n20171\",\n",
    "        \"https://www.whatcar.com/mg-motor-uk/hs/hatchback/review/n20298\",\n",
    "        \"https://www.whatcar.com/mg-motor-uk/mg4/hatchback/review/n24916\",\n",
    "        \"https://www.whatcar.com/mg-motor-uk/mgs5/estate/review/n27533\",\n",
    "    ],\n",
    "    \"byd\": [\n",
    "        \"https://www.whatcar.com/byd/dolphin/hatchback/review/n25891\",\n",
    "        \"https://www.whatcar.com/byd/seal-u/estate/review/n26815\",\n",
    "        \"https://www.whatcar.com/byd/atto-3/hatchback/review/n25563\",\n",
    "        \"https://www.whatcar.com/byd/seal/saloon/review/n26074\",\n",
    "        \"https://www.whatcar.com/byd/sealion-7/estate/review/n27254\"\n",
    "    ],\n",
    "    \"volkswagen\": [\n",
    "        \"https://www.whatcar.com/volkswagen/touareg/4x4/review/n199\",\n",
    "        \"https://www.whatcar.com/volkswagen/id3/hatchback/review/n21832\",\n",
    "        \"https://www.whatcar.com/volkswagen/id4/estate/review/n22789\",\n",
    "        \"https://www.whatcar.com/volkswagen/id5/coupe/review/n24518\",\n",
    "        \"https://www.whatcar.com/volkswagen/id7/saloon/review/n26282\",\n",
    "        \"https://www.whatcar.com/volkswagen/id7/estate/review/n27046\",\n",
    "        \"https://www.whatcar.com/volkswagen/tiguan/estate/review/n17357\",\n",
    "        \"https://www.whatcar.com/volkswagen/passat/estate/review/n29\",\n",
    "        \"https://www.whatcar.com/volkswagen/golf/hatchback/review/n17371\",\n",
    "        \"https://www.whatcar.com/volkswagen/t-roc/hatchback/review/n17376\",\n",
    "        \"https://www.whatcar.com/volkswagen/t-cross/estate/review/n19039\",\n",
    "        \"https://www.whatcar.com/volkswagen/polo/hatchback/review/n83\"\n",
    "    ],\n",
    "    \"renault\": [\n",
    "        \"https://www.whatcar.com/renault/clio/hatchback/review/n97\",\n",
    "        \"https://www.whatcar.com/renault/5/hatchback/review/n27187\",\n",
    "        \"https://www.whatcar.com/renault/symbioz/estate/review/n27041\",\n",
    "        \"https://www.whatcar.com/renault/megane-e-tech/hatchback/review/n24175\",\n",
    "        \"https://www.whatcar.com/renault/austral/estate/review/n25066\",\n",
    "        \"https://www.whatcar.com/renault/captur/hatchback/review/n20\",\n",
    "        \"https://www.whatcar.com/renault/scenic-e-tech/estate/review/n26635\",\n",
    "        \"https://www.whatcar.com/renault/rafale/estate/review/n26868\",\n",
    "        \"https://www.whatcar.com/renault/arkana/estate/review/n23158\",\n",
    "        \"https://www.whatcar.com/renault/zoe-van/van/review/n22211\"\n",
    "    ],\n",
    "    \"peugeot\": [\n",
    "        \"https://www.whatcar.com/peugeot/208/hatchback/review/n30\",\n",
    "        \"https://www.whatcar.com/peugeot/208/hatchback/review/n20228\",\n",
    "        \"https://www.whatcar.com/peugeot/2008/estate/review/n110\",\n",
    "        \"https://www.whatcar.com/peugeot/2008/estate/review/n20552\",\n",
    "        \"https://www.whatcar.com/peugeot/308/hatchback/review/n17380\",\n",
    "        \"https://www.whatcar.com/peugeot/308/hatchback/review/n26197\",\n",
    "        \"https://www.whatcar.com/peugeot/308/estate/review/n17314\",\n",
    "        \"https://www.whatcar.com/peugeot/408/saloon/review/n25222\",\n",
    "        \"https://www.whatcar.com/peugeot/3008/estate/review/n17363\",\n",
    "        \"https://www.whatcar.com/peugeot/3008/estate/review/n26800\",\n",
    "        \"https://www.whatcar.com/peugeot/5008/4x4/review/n17369\",\n",
    "        \"https://www.whatcar.com/peugeot/5008/4x4/review/n26918\",\n",
    "        \"https://www.whatcar.com/peugeot/rifter/estate/review/n23858\",\n",
    "        \"https://www.whatcar.com/peugeot/traveller/mpv/review/n24152\",\n",
    "        \"https://www.whatcar.com/peugeot/508/saloon/review/n17284\"\n",
    "    ],\n",
    "    \"fiat\": [\n",
    "        \"https://www.whatcar.com/fiat/500/hatchback/review/n22352\", \n",
    "        \"https://www.whatcar.com/fiat/500/hatchback/review/n84\", \n",
    "        \"https://www.whatcar.com/fiat/600/hatchback/review/n26136\", \n",
    "        \"https://www.whatcar.com/fiat/500/sports/review/n22462\"\n",
    "    ],\n",
    "    \"bmw\": [\n",
    "        \"https://www.whatcar.com/bmw/1-series/hatchback/review/n26\", \n",
    "        \"https://www.whatcar.com/bmw/2-series/hatchback/review/n78\", \n",
    "        \"https://www.whatcar.com/bmw/3-series/saloon/review/n91\", \n",
    "        \"https://www.whatcar.com/bmw/4-series/coupe/review/n62\", \n",
    "        \"https://www.whatcar.com/bmw/5-series/saloon/review/n63\", \n",
    "        \"https://www.whatcar.com/bmw/5-series/estate/review/n34\",\n",
    "        \"https://www.whatcar.com/bmw/x1/estate/review/n25006\", \n",
    "        \"https://www.whatcar.com/bmw/ix1/estate/review/n25005\", \n",
    "        \"https://www.whatcar.com/bmw/x2/hatchback/review/n121\", \n",
    "        \"https://www.whatcar.com/bmw/ix2/hatchback/review/n26586\", \n",
    "        \"https://www.whatcar.com/bmw/x3/4x4/review/n42\", \n",
    "        \"https://www.whatcar.com/bmw/ix3/4x4/review/n22236\", \n",
    "        \"https://www.whatcar.com/bmw/x4/estate/review/n134\", \n",
    "        \"https://www.whatcar.com/bmw/x5/4x4/review/n38\", \n",
    "        \"https://www.whatcar.com/bmw/x6/4x4/review/n17306\", \n",
    "        \"https://www.whatcar.com/bmw/x7/4x4/review/n19102\", \n",
    "        \"https://www.whatcar.com/bmw/ix/4x4/review/n23569\", \n",
    "        \"https://www.whatcar.com/bmw/i4/hatchback/review/n23575\", \n",
    "        \"https://www.whatcar.com/bmw/i5/saloon/review/n26177\", \n",
    "        \"https://www.whatcar.com/bmw/i5/estate/review/n26831\",  \n",
    "    ],\n",
    "}"
   ]
  },
  {
   "cell_type": "code",
   "execution_count": 22,
   "id": "63b75991",
   "metadata": {},
   "outputs": [],
   "source": [
    "# Helper funzione per pulire testo\n",
    "def clean_text(text: str):\n",
    "    return re.sub(r'\\s+', ' ', text.strip())"
   ]
  },
  {
   "cell_type": "code",
   "execution_count": 23,
   "id": "986e5e63",
   "metadata": {},
   "outputs": [],
   "source": [
    "def scrape_carwow():\n",
    "    results = []\n",
    "    base_url = \"https://www.carwow.co.uk/\"\n",
    "    for brand, model in BRAND_MODELS.items():\n",
    "        for m in model:\n",
    "            url = f\"{base_url}{brand}/{m}\"\n",
    "            # print(f\"[Carwow] Scraping: {url}\")\n",
    "            try:\n",
    "                res = requests.get(url, headers=HEADERS)\n",
    "                soup = BeautifulSoup(res.content, \"html.parser\")\n",
    "                \n",
    "                # Titoli recensioni\n",
    "                review_section = soup.find(\"section\", class_=\"product-article-section\")\n",
    "                # review_section = soup.find(\"div\", class_=\"content-block\")\n",
    "                if review_section:\n",
    "                    summary = clean_text(review_section.text)\n",
    "                else:\n",
    "                    summary = \"N/A\"\n",
    "                \n",
    "                # rating_tag = soup.find(\"section\", class_=\"cw-score__number\")\n",
    "                # rating = rating_tag.text.strip() if rating_tag else \"N/A\"\n",
    "\n",
    "                results.append({\n",
    "                    \"brand\": brand,\n",
    "                    \"model\": m,\n",
    "                    \"text\": summary,\n",
    "                    \"source\": \"Carwow\"\n",
    "                })\n",
    "                time.sleep(1)\n",
    "            except Exception as e:\n",
    "                print(f\"Error scraping {url}: {e}\")\n",
    "    return results"
   ]
  },
  {
   "cell_type": "code",
   "execution_count": 24,
   "id": "da0ba648",
   "metadata": {},
   "outputs": [],
   "source": [
    "def scrape_whatcar():\n",
    "    results = []\n",
    "    for brand, model in WC_MODELS.items():\n",
    "        for m in model:\n",
    "            # print(f\"[Whatcar] Scraping: {m}\")\n",
    "            model_name = m.split(\"/\", maxsplit=5)[4]  # Estrai il nome del modello dalla URL\n",
    "            try:\n",
    "                res = requests.get(m, headers=HEADERS)\n",
    "                soup = BeautifulSoup(res.content, \"html.parser\")\n",
    "                \n",
    "                # Estrai il div con le classi specificate\n",
    "                review_section = soup.find(\"div\", class_=\"Grid_col-xs-12__TJ7HS Grid_col-md-9__4qJt9\")\n",
    "                if review_section:\n",
    "                    summary = clean_text(review_section.get_text())\n",
    "                else:\n",
    "                    summary = \"N/A\"\n",
    "\n",
    "                results.append({\n",
    "                    \"brand\": brand,\n",
    "                    \"model\": model_name,\n",
    "                    \"text\": summary,\n",
    "                    \"source\": \"Whatcar\"\n",
    "                })\n",
    "                time.sleep(1)\n",
    "            except Exception as e:\n",
    "                print(f\"Error scraping {m}: {e}\")\n",
    "    return results"
   ]
  },
  {
   "cell_type": "code",
   "execution_count": null,
   "id": "32bf0c0d",
   "metadata": {},
   "outputs": [],
   "source": [
    "def main():\n",
    "    all_data = []\n",
    "    all_data += scrape_carwow()\n",
    "    all_data += scrape_whatcar()\n",
    "\n",
    "    with open(\"file_txt/auto_review.csv\", \"w\", newline=\"\", encoding=\"utf-8\") as f:\n",
    "        writer = csv.DictWriter(f, fieldnames=[\"brand\", \"model\", \"text\", \"source\"])\n",
    "        writer.writeheader()\n",
    "        writer.writerows(all_data)\n",
    "\n",
    "    print(f\"\\n✅ Dataset completato con {len(all_data)} recensioni.\")"
   ]
  },
  {
   "cell_type": "code",
   "execution_count": 26,
   "id": "5cc89b62",
   "metadata": {},
   "outputs": [
    {
     "name": "stdout",
     "output_type": "stream",
     "text": [
      "\n",
      "✅ Dataset completato con 162 recensioni.\n"
     ]
    }
   ],
   "source": [
    "main()"
   ]
  },
  {
   "cell_type": "code",
   "execution_count": 27,
   "id": "1675a3fe",
   "metadata": {},
   "outputs": [
    {
     "name": "stdout",
     "output_type": "stream",
     "text": [
      "\n",
      "Anteprima del dataset:\n"
     ]
    },
    {
     "data": {
      "application/vnd.microsoft.datawrangler.viewer.v0+json": {
       "columns": [
        {
         "name": "index",
         "rawType": "int64",
         "type": "integer"
        },
        {
         "name": "brand",
         "rawType": "object",
         "type": "string"
        },
        {
         "name": "model",
         "rawType": "object",
         "type": "string"
        },
        {
         "name": "text",
         "rawType": "object",
         "type": "string"
        },
        {
         "name": "source",
         "rawType": "object",
         "type": "string"
        }
       ],
       "ref": "d5cda5ea-aed6-4aef-a2fd-99a9c9e6dd40",
       "rows": [
        [
         "0",
         "mg",
         "mg3",
         "Is the MG3 a good car? The MG3 used to be a bit of a joke - the old one was the lowest-ranked car on Carwow - but the new model aims to change all that. Now, instead of being antiquated, it’s right up there with the best small cars for performance, efficiency and equipment. Like an air fryer from the middle of Lidl, the MG3’s feature set is as good as any of its alternatives and it’s not immediately clear where the money’s been saved to bring it in at such a low price. Now that it’s a full self-charging hybrid car, the MG3 no longer targets the very cheapest on the market like the Dacia Sandero or Citroen C3 Origin. Instead, it’s more like a cut-price alternative to the Renault Clio E-Tech or Toyota Yaris - a halfway house for people who want the most efficient small car possible, but either don’t want or can’t have a fully electric model. The MG3 won’t win awards for its practicality - it’s not cramped, but it’s no better than average in this regard with a boot that’s about halfway between the Yaris and the Clio in capacity. Rear seat space is moderate, too, though annoyingly the rear seats don’t split when they fold which does limit overall versatility. The front of the cabin looks great, and very modern - in stark contrast to the car it replaces. Poke around and you can find a few places where MG’s saved money - there’s a sliding cover for one of the storage compartments that feels comically flimsy, and the top of the dash and the door cards are made of hard plastic - but the Clio and the Yaris have areas that feel equally cheap. The new MG3 is a transformation from the old model, and instantly becomes one of the best small cars you can buy Mat Watson Expert Car Reviewer More importantly, MG’s given the 3 its best touchscreen infotainment system yet, and it’s loaded with equipment - climate control, a digital dashboard, sat-nav and a full suite of assisted driving features are standard on every model. The MG’s hybrid system is brand-new, and puts out an impressive 191hp - versus 140hp for the Clio and up to 130hp for the Yaris. That means it’s easily got any of them beat in a drag race, and makes mincemeat of overtakes or motorway sliproads. It’s not quite as efficient as the alternatives, but you might decide that the additional performance makes the small drop in mpg worthwhile. The real surprise is what happens when you reach a twisty road. The old MG3 was always shockingly good fun in the corners, but unexpectedly MG has managed to repeat the trick. The new MG3 handles brilliantly for a small car, and that makes it one of the most enjoyable small cars to drive. Sound interesting? Check here for our best MG3 deals, or look for a used MG3 on Carwow here. You could also check out other used MGs here, and remember that Carwow can even help you sell your car online too.",
         "Carwow"
        ],
        [
         "1",
         "mg",
         "zs",
         "Is the MG ZS a good car? The previous-generation MG ZS was a small SUV that you’d buy because it was cheap - and then spend the rest of your time apologising for it. It was unattractive, thirsty, poor to drive and had a really cheap-feeling interior. However, the second-generation model has had a true Cinderella-style glow-up, and should push the old car right to the back of everybody’s minds - it’s a huge improvement in every way. Based on the same mechanical underpinnings as the excellent MG3 hatchback, the new ZS gets an up-to-date hybrid engine, techy interior and a smart - if not stunning - new look. It’s like trading in your old Nokia for a new smartphone. Probably not the latest Apple iPhone, as MG is still firmly a budget brand - more like one of those off-brand Android phones that gives you lots and lots of bang for your buck. As a small hybrid SUV, there are alternatives to the MG ZS coming from every corner. Some of the best include the Renault Captur, the Hyundai Kona Hybrid, the Peugeot 2008 or the Carwow award-winning Toyota Yaris Cross. MG does things a bit differently to those cars, though. First of all, there’s the way the hybrid system works. It’s far more powerful than any of those alternatives - with 191hp beating out 140hp in the Captur or a measly 115hp in the Yaris Cross. MG’s done this by fitting a more powerful electric motor and a bigger battery, which means that most of the time it drives like an electric car with a petrol generator. However, if you put your foot down both power sources will give their all, making this quite a rapid little SUV. The ZS undercuts almost every alternative on price while offering loads of space and a powerful engine - but you may want to pay a little extra for a more polished ownership experience Mat Watson Expert Car Reviewer The comparison is also pretty favourable when it comes to interior space. The ZS has enough room for a six-foot adult to sit behind a driver of the same size in comfort, which means it’s also great for child seats or lanky teenagers. The 443-litre boot is also bigger than the hybrid Renault Captur or the Toyota Yaris Cross, and only marginally smaller than the Hyundai Kona hybrid. It’s in the cabin where you notice evidence of MG’s cost-cutting, though - there are plenty of low-rent material choices, and infotainment software that despite being a huge improvement on the old ZS isn’t as easy to use or as intuitive as the best systems out there. You do get loads of equipment, though. The top-spec Trophy model is still inexpensive but comes with climate control, sat-nav, smartphone connectivity, leather upholstery and a full suite of driver assistance tech including the semi-autonomous MG Pilot system. To drive, it’s another huge leap from the old car, which was pretty dire on the road. The ZS isn’t as satisfying to drive as a Renault Captur or Toyota Yaris Cross, despite its superior power output - but it has light controls and good visibility, making it great around town. Only poor refinement on the motorway and quite crashy suspension let the side down. If lots of power and equipment for a low price capture your imagination, check out our best MG ZS deals right here. You can find a used MG ZS for sale here, or search other used MGs for sale. And remember that Carwow can even help you sell your old car when the time comes.",
         "Carwow"
        ],
        [
         "2",
         "mg",
         "zs-ev",
         "Is the MG ZS EV a good car? The MG ZS EV is an electric SUV that goes up against the likes of the Hyundai Kona Electric and Kia Niro EV – both of which are now well-established options at the affordable end of the electric car market. It’s a bit like going for a pair of cheap Bluetooth headphones. It might not be from the obvious choice of brands, but it promises to do a similar job at a lower cost. Since its revival as a mass-production manufacturer, MG’s models haven’t been the most exciting to look at. The new ZS EV is in a similar vein, but this updated version now comes with a blanked-out grille and LED headlights as part of a tweaked front end. There is also a new rear bumper with altered lights. MG has also improved the interior design, with the main addition being a new 10.1-inch infotainment touchscreen that has updated software to make it much smoother than before. A 7.0-inch driver display has also been added that offers efficiency and safety information. But where alternatives may offer slightly more comfort and refinement, you’ll find a lot of scratchy plastics alongside the new carbon fibre-effect upholstery finish on the dashboard and leather trim on the seats. In the back, you have decent legroom behind even the tallest of drivers. But as the batteries are mounted under the floor, your knees end up quite high. Headroom is also not the best, with the panoramic sunroof on Trophy models eating into the space even more. Taller passengers may struggle to get comfortable in the back. With an adjustable boot floor as standard, you get 470 litres. This is on par with the Kia Niro EV's 475 litres, but is 140 litres more than the Hyundai Kona Electric's offering. Folding the seats down creates a 1,100-litre space, but the seats don’t quite fold flat. Although refinement and overall quality aren’t the best, the ZS EV is more than capable of being a practical option Mat Watson Expert Car Reviewer The ZS EV comes with two battery options. The 51kWh Standard Range and 72kWh Long Range options offer up to 198 and 273 miles respectively. When driving in the real world across multiple conditions and in all three driving modes – Eco, Normal and Sport – you get closer to 240 miles. But leave it in Normal mode and you’ll get nearer to the claimed figure. Around town, the steering feels light and accurate. It also doesn’t allow many bumps into the cabin at slow speeds, with the suspension setup in normal mode helping it out. On the motorway, you’ll notice a lot of tyre noise and, if you go for the top-spec Trophy version, the roof rails do make a slight whistling noise. It feels comfortable on the whole, but the seats don’t have as much cushioning or support as you might like. When applying Sport mode and tackling a country road, the ZS feels pretty stable. It isn’t the most engaging car in the world and it can scrabble for grip in damper conditions – but for most that won’t be much of an issue. With its competitive pricing and practicality, the ZS EV is a model you should consider. It may not be as refined as alternatives, but it can certainly be a useful option if you’re in the market for an efficient SUV. If you want to see what you could save on a new MG ZS EV, check out the deals page. You can also find the best deals on used MG cars as well as find out how much your car is worth by using our sell my car service - you can change your car entirely through carwow.",
         "Carwow"
        ],
        [
         "3",
         "mg",
         "hs",
         "Is the MG HS a good car? The MG HS has at points been the best-selling car in the UK and it’s easy to see why. It’s a big, practical family SUV with a posh-looking interior, loads of standard equipment and a headline-grabbing plug-in hybrid engine option - but it costs about as much as most small hatchbacks. While the old HS was definitely in the ‘cheap but not very cheerful’ category, the new model actually feels like something you wouldn’t mind driving around - it has redeeming features other than its price tag. It’s a bit like a Harvester - nobody’s ever going to look at it as a high-end option, but if you’re looking to feed the whole family on a budget, it’s tasty enough that you don’t feel punished for your penny-pinching. The HS is a similar size to family SUVs such as the Ford Kuga, Kia Sportage and Nissan Qashqai - but with its low price tag, you might consider it on the same shortlist as much smaller SUVs such as the Volkswagen T-Cross or Ford Puma. Two more direct alternatives are the Citroen C5 Aircross or BYD Seal U - both big SUVs that put affordability first, and have plug-in hybrid engines available. If your main concern is space for the money, the MG HS is a great option. Despite a price tag close to something like a Volkswagen Polo hatchback, it has space in the back for a six-foot adult to stretch out, plus a 507-litre boot that’ll accommodate the whole family’s kit and clobber. Still remarkably cheap but now much more capable - the MG HS is now a car I could recommend for more than just its price tag Mat Watson Expert Car Reviewer You also get a dashboard that looks pretty posh, with a dual-screen setup just like you get on a BMW X3. You don’t have to press very far to find out where MG’s saved money, though, and materials and build quality aren’t really up to the standards of more expensive cars. It’s also not the easiest to use, with very few physical switches, an awkward touchscreen interface and not much storage for smaller items. As far as engines go, there’s a choice of two. You can have a bog-standard petrol, available with manual or automatic gearboxes - these are the more affordable options, and though they’re not particularly offensive to drive they are a bit thirsty. The headline-grabber is the HS plug-in hybrid, which can do up to 75 miles on a charge. That figure is up there with the best PHEVs on sale, and it gives you tons of flexibility - it’s enough to do even the longest of commutes without troubling the petrol engine once. It also nudges the HS into the lowest-but-one band for Benefit-in-Kind tax, making it hundreds of pounds a month cheaper than the equivalent Kia Sportage or Ford Kuga for company car drivers. Both of those cars are better to drive, mind you - they steer more sweetly and handle bumps better, as well as being more responsive and reassuring in the corners. The gap is narrower if you’re just cruising round town or on the motorway, though, where the HS is impressively refined and difficult to dislike. If the new MG HS seems like the SUV for you, check out our best MG HS deals on Carwow. You can see our other MG deals here, or search for a used MG for sale here. And remember, Carwow can even help you sell your old car.",
         "Carwow"
        ],
        [
         "4",
         "mg",
         "mg-4",
         "Is the MG4 EV a good car? MG pulled an absolute blinder with the MG4, and much like the lovable underdog in a boxing movie it punches well above its weight division. It’s more affordable than alternatives such as the Renault Megane E-Tech and Cupra Born, costing around the same as the smaller Vauxhall Corsa Electric and Fiat 500e. You’d be forgiven for thinking that MG have taken a ‘cheap and cheerful’ approach to engineering the MG4, but that’s far from the truth. So far from it, in fact, that the MG4 received high commendations in the 2024 Carwow Car of the Year Awards’ Outstanding EV and Urban Living categories. Just look at it, a mix of pointy details, sharp creases and funky shapes such as the lower body cladding and split roof spoiler. It’s a refreshing looking thing; it still stands out against newer MGs such as the MG S5 and MG HS as much as it does its alternatives. MG4 EV: electric range, battery and charging data Range: 218-331 milesEfficiency: 3.6-3.8 miles per kWhBattery size: 51kWh / 62kWh / 74kWhMax charge speed: 150kWCharge time AC: 6hrs 12mins, 10-100%, 7kW / 7hrs 30mins, 10-100%, 7kW / 9hrs, 10-100%, 7kWCharge time DC: 39mins, 10-80%, 150kW / 35mins, 10-80%, 150kWCharge port location: Left rearPower outputs: 170hp / 204hp / 245hp It’s a shame the interior isn’t quite as novel, with a dashboard layout that’s so simple it verges on boring, but the material quality, fit and finish and standard kit is better than you might expect for the price. A 10.25-inch infotainment display comes as standard on all trim levels of the MG4, and though it comes with Apple CarPlay and Android Auto connectivity, MG’s own software is rather basic. It’s frustrating to operate too, especially on the move, with too many menus to navigate. There’s plenty of room in the MG4 though; plenty of adjustability for you to get comfy behind the wheel and enough head and leg room for tall passengers in the rear - though it’s a bit of a squeeze when you’ve got three in the back. The 363-litre boot capacity trails the Volkswagen ID3 for space, and puts it well behind the Megane E-Tech. The MG4 comes with two battery options, offering 218 claimed miles of range in its most basic trim through to 323 miles for the Trophy Extended Range model. The top-rung MG4 XPower, which we’ve reviewed separately, offers a big power hike over the rest of the trim levels, but makes do with a 239-mile range. MG has fully injected its own personality into the MG4 EV, and it leaves you wanting to get to know it a lot more… Mat Watson Expert Car Reviewer Around town the MG4 is easy to potter about in thanks to its light steering, peppy electric motors and most importantly, its comfortable suspension. It takes potholes, speed bumps and cracked roads in its stride, and the same applies to motorways where the MG4 just soaks up the miles with ease. Yet even with its soft suspension the MG4 is rather fun to drive on a twisty road, feeling agile and grippy with little in the way of body lean. The X-Power is particularly rapid, but it’s different enough that we've reviewed it separately here. For a stonking value for money proposition, have a look at our new MG4 deals as well as our MG4 lease deals. You can also check out used MG4s from our network of trusted dealers as well as other used MGs. When it’s time for a change, you can even sell your current car through Carwow.",
         "Carwow"
        ]
       ],
       "shape": {
        "columns": 4,
        "rows": 5
       }
      },
      "text/html": [
       "<div>\n",
       "<style scoped>\n",
       "    .dataframe tbody tr th:only-of-type {\n",
       "        vertical-align: middle;\n",
       "    }\n",
       "\n",
       "    .dataframe tbody tr th {\n",
       "        vertical-align: top;\n",
       "    }\n",
       "\n",
       "    .dataframe thead th {\n",
       "        text-align: right;\n",
       "    }\n",
       "</style>\n",
       "<table border=\"1\" class=\"dataframe\">\n",
       "  <thead>\n",
       "    <tr style=\"text-align: right;\">\n",
       "      <th></th>\n",
       "      <th>brand</th>\n",
       "      <th>model</th>\n",
       "      <th>text</th>\n",
       "      <th>source</th>\n",
       "    </tr>\n",
       "  </thead>\n",
       "  <tbody>\n",
       "    <tr>\n",
       "      <th>0</th>\n",
       "      <td>mg</td>\n",
       "      <td>mg3</td>\n",
       "      <td>Is the MG3 a good car? The MG3 used to be a bi...</td>\n",
       "      <td>Carwow</td>\n",
       "    </tr>\n",
       "    <tr>\n",
       "      <th>1</th>\n",
       "      <td>mg</td>\n",
       "      <td>zs</td>\n",
       "      <td>Is the MG ZS a good car? The previous-generati...</td>\n",
       "      <td>Carwow</td>\n",
       "    </tr>\n",
       "    <tr>\n",
       "      <th>2</th>\n",
       "      <td>mg</td>\n",
       "      <td>zs-ev</td>\n",
       "      <td>Is the MG ZS EV a good car? The MG ZS EV is an...</td>\n",
       "      <td>Carwow</td>\n",
       "    </tr>\n",
       "    <tr>\n",
       "      <th>3</th>\n",
       "      <td>mg</td>\n",
       "      <td>hs</td>\n",
       "      <td>Is the MG HS a good car? The MG HS has at poin...</td>\n",
       "      <td>Carwow</td>\n",
       "    </tr>\n",
       "    <tr>\n",
       "      <th>4</th>\n",
       "      <td>mg</td>\n",
       "      <td>mg-4</td>\n",
       "      <td>Is the MG4 EV a good car? MG pulled an absolut...</td>\n",
       "      <td>Carwow</td>\n",
       "    </tr>\n",
       "  </tbody>\n",
       "</table>\n",
       "</div>"
      ],
      "text/plain": [
       "  brand  model                                               text  source\n",
       "0    mg    mg3  Is the MG3 a good car? The MG3 used to be a bi...  Carwow\n",
       "1    mg     zs  Is the MG ZS a good car? The previous-generati...  Carwow\n",
       "2    mg  zs-ev  Is the MG ZS EV a good car? The MG ZS EV is an...  Carwow\n",
       "3    mg     hs  Is the MG HS a good car? The MG HS has at poin...  Carwow\n",
       "4    mg   mg-4  Is the MG4 EV a good car? MG pulled an absolut...  Carwow"
      ]
     },
     "execution_count": 27,
     "metadata": {},
     "output_type": "execute_result"
    }
   ],
   "source": [
    "# Carica il dataset e mostra le prime righe\n",
    "df = pd.read_csv(\"file_txt/auto_review.csv\")\n",
    "print(\"\\nAnteprima del dataset:\")\n",
    "df.head()"
   ]
  },
  {
   "cell_type": "code",
   "execution_count": 28,
   "id": "b835aed9",
   "metadata": {},
   "outputs": [
    {
     "name": "stdout",
     "output_type": "stream",
     "text": [
      "Fatto! File aggiornato salvato come: file_txt/auto_review_no_processed.csv\n"
     ]
    }
   ],
   "source": [
    "# Percorsi dei file\n",
    "input_path = \"file_txt/auto_review.csv\"\n",
    "modelli_path = \"file_txt/recensioni_auto.csv\"\n",
    "output_path = \"file_txt/auto_review_no_processed.csv\"\n",
    "\n",
    "# Leggi i modelli dal secondo file\n",
    "with open(modelli_path, newline='', encoding='utf-8') as f_modelli:\n",
    "    reader = csv.DictReader(f_modelli)\n",
    "    modelli = [row['model'] for row in reader]\n",
    "\n",
    "# Leggi il file da aggiornare\n",
    "with open(input_path, newline='', encoding='utf-8') as f_input:\n",
    "    reader = csv.reader(f_input)\n",
    "    rows = list(reader)\n",
    "    header = rows[0]\n",
    "    model_idx = header.index('model')\n",
    "\n",
    "# Sostituisci la colonna 'model' con i nuovi valori (escludendo l'header)\n",
    "for i, row in enumerate(rows[1:]):\n",
    "    if i < len(modelli):\n",
    "        row[model_idx] = modelli[i]\n",
    "\n",
    "# Scrivi il risultato in un nuovo file\n",
    "with open(output_path, \"w\", newline='', encoding='utf-8') as f_out:\n",
    "    writer = csv.writer(f_out)\n",
    "    writer.writerow(header)\n",
    "    writer.writerows(rows[1:])\n",
    "\n",
    "print(\"Fatto! File aggiornato salvato come:\", output_path)"
   ]
  },
  {
   "cell_type": "code",
   "execution_count": 41,
   "id": "24bbd2f8",
   "metadata": {},
   "outputs": [],
   "source": [
    "def extract_important_content(text):\n",
    "    # Rimuovi frasi introduttive generiche\n",
    "    text = re.sub(r'\\bWhat Car\\? says\\.{0,3}', '', text, flags=re.IGNORECASE)\n",
    "    text = re.sub(r'\\bIs the [^?]+\\? ?', '', text, flags=re.IGNORECASE)\n",
    "\n",
    "    # Rimuovi riferimenti a video e inviti alla lettura\n",
    "    text = re.sub(r'\\b[\\w\\s]*video review\\b', '', text, flags=re.IGNORECASE)\n",
    "    text = re.sub(r'Read on to find out…', '', text, flags=re.IGNORECASE)\n",
    "\n",
    "    # Rimuovi solo le frasi promozionali, senza mangiare testo prima/dopo\n",
    "    text = re.sub(r'Sound interesting\\?', '', text, flags=re.IGNORECASE)\n",
    "    text = re.sub(r'Check here for our best [^.]+\\.', '', text, flags=re.IGNORECASE)\n",
    "    text = re.sub(r'look for a used [^.]+\\.', '', text, flags=re.IGNORECASE)\n",
    "    text = re.sub(r'You could also check out other used [^.]+\\.', '', text, flags=re.IGNORECASE)\n",
    "    text = re.sub(r'Want to sell your car online\\? Carwow can help with that, too\\.', '', text, flags=re.IGNORECASE)\n",
    "    text = re.sub(r'Carwow can even help you sell your car online too\\.', '', text, flags=re.IGNORECASE)\n",
    "    text = re.sub(r'head on over to our .*? deals page to see how much money .*? can save you\\.', '', text, flags=re.IGNORECASE)\n",
    "\n",
    "    # Rimuovi firme\n",
    "    text = re.sub(r'Mat Watson Expert Car Reviewer', '', text, flags=re.IGNORECASE)\n",
    "\n",
    "    # Rimuovi blocchi con solo listini/offerte (ma non specifiche tecniche)\n",
    "    text = re.sub(r'(New car deals|Leasing deals).*?(From £[0-9,]+)?', '', text, flags=re.IGNORECASE)\n",
    "\n",
    "    # Rimuovi intestazioni vuote (es. \"Overview\", \"Performance & drive\", se isolate)\n",
    "    text = re.sub(r'\\b(Overview|Our Pick|Performance & drive|Strengths|Weaknesses|Verdict|Specification)\\b\\s*', '', text)\n",
    "\n",
    "    # Rimuovi caratteri superflui: - \\ | ? ! $ % &\n",
    "    text = re.sub(r'[-\\\\|?!$%&]', '', text)\n",
    "\n",
    "    # Pulisci spazi extra\n",
    "    text = re.sub(r'\\s+', ' ', text).strip()\n",
    "\n",
    "    return text"
   ]
  },
  {
   "cell_type": "code",
   "execution_count": 42,
   "id": "1aaba599",
   "metadata": {},
   "outputs": [
    {
     "data": {
      "application/vnd.microsoft.datawrangler.viewer.v0+json": {
       "columns": [
        {
         "name": "index",
         "rawType": "int64",
         "type": "integer"
        },
        {
         "name": "brand",
         "rawType": "object",
         "type": "string"
        },
        {
         "name": "model",
         "rawType": "object",
         "type": "string"
        },
        {
         "name": "text",
         "rawType": "object",
         "type": "string"
        },
        {
         "name": "source",
         "rawType": "object",
         "type": "string"
        }
       ],
       "ref": "b92353b7-e167-4fed-a250-17b2e1f3947d",
       "rows": [
        [
         "0",
         "mg",
         "mg3",
         "Is the MG3 a good car? The MG3 used to be a bit of a joke - the old one was the lowest-ranked car on Carwow - but the new model aims to change all that. Now, instead of being antiquated, it’s right up there with the best small cars for performance, efficiency and equipment. Like an air fryer from the middle of Lidl, the MG3’s feature set is as good as any of its alternatives and it’s not immediately clear where the money’s been saved to bring it in at such a low price. Now that it’s a full self-charging hybrid car, the MG3 no longer targets the very cheapest on the market like the Dacia Sandero or Citroen C3 Origin. Instead, it’s more like a cut-price alternative to the Renault Clio E-Tech or Toyota Yaris - a halfway house for people who want the most efficient small car possible, but either don’t want or can’t have a fully electric model. The MG3 won’t win awards for its practicality - it’s not cramped, but it’s no better than average in this regard with a boot that’s about halfway between the Yaris and the Clio in capacity. Rear seat space is moderate, too, though annoyingly the rear seats don’t split when they fold which does limit overall versatility. The front of the cabin looks great, and very modern - in stark contrast to the car it replaces. Poke around and you can find a few places where MG’s saved money - there’s a sliding cover for one of the storage compartments that feels comically flimsy, and the top of the dash and the door cards are made of hard plastic - but the Clio and the Yaris have areas that feel equally cheap. The new MG3 is a transformation from the old model, and instantly becomes one of the best small cars you can buy Mat Watson Expert Car Reviewer More importantly, MG’s given the 3 its best touchscreen infotainment system yet, and it’s loaded with equipment - climate control, a digital dashboard, sat-nav and a full suite of assisted driving features are standard on every model. The MG’s hybrid system is brand-new, and puts out an impressive 191hp - versus 140hp for the Clio and up to 130hp for the Yaris. That means it’s easily got any of them beat in a drag race, and makes mincemeat of overtakes or motorway sliproads. It’s not quite as efficient as the alternatives, but you might decide that the additional performance makes the small drop in mpg worthwhile. The real surprise is what happens when you reach a twisty road. The old MG3 was always shockingly good fun in the corners, but unexpectedly MG has managed to repeat the trick. The new MG3 handles brilliantly for a small car, and that makes it one of the most enjoyable small cars to drive. Sound interesting? Check here for our best MG3 deals, or look for a used MG3 on Carwow here. You could also check out other used MGs here, and remember that Carwow can even help you sell your car online too.",
         "Carwow"
        ],
        [
         "1",
         "mg",
         "zs",
         "Is the MG ZS a good car? The previous-generation MG ZS was a small SUV that you’d buy because it was cheap - and then spend the rest of your time apologising for it. It was unattractive, thirsty, poor to drive and had a really cheap-feeling interior. However, the second-generation model has had a true Cinderella-style glow-up, and should push the old car right to the back of everybody’s minds - it’s a huge improvement in every way. Based on the same mechanical underpinnings as the excellent MG3 hatchback, the new ZS gets an up-to-date hybrid engine, techy interior and a smart - if not stunning - new look. It’s like trading in your old Nokia for a new smartphone. Probably not the latest Apple iPhone, as MG is still firmly a budget brand - more like one of those off-brand Android phones that gives you lots and lots of bang for your buck. As a small hybrid SUV, there are alternatives to the MG ZS coming from every corner. Some of the best include the Renault Captur, the Hyundai Kona Hybrid, the Peugeot 2008 or the Carwow award-winning Toyota Yaris Cross. MG does things a bit differently to those cars, though. First of all, there’s the way the hybrid system works. It’s far more powerful than any of those alternatives - with 191hp beating out 140hp in the Captur or a measly 115hp in the Yaris Cross. MG’s done this by fitting a more powerful electric motor and a bigger battery, which means that most of the time it drives like an electric car with a petrol generator. However, if you put your foot down both power sources will give their all, making this quite a rapid little SUV. The ZS undercuts almost every alternative on price while offering loads of space and a powerful engine - but you may want to pay a little extra for a more polished ownership experience Mat Watson Expert Car Reviewer The comparison is also pretty favourable when it comes to interior space. The ZS has enough room for a six-foot adult to sit behind a driver of the same size in comfort, which means it’s also great for child seats or lanky teenagers. The 443-litre boot is also bigger than the hybrid Renault Captur or the Toyota Yaris Cross, and only marginally smaller than the Hyundai Kona hybrid. It’s in the cabin where you notice evidence of MG’s cost-cutting, though - there are plenty of low-rent material choices, and infotainment software that despite being a huge improvement on the old ZS isn’t as easy to use or as intuitive as the best systems out there. You do get loads of equipment, though. The top-spec Trophy model is still inexpensive but comes with climate control, sat-nav, smartphone connectivity, leather upholstery and a full suite of driver assistance tech including the semi-autonomous MG Pilot system. To drive, it’s another huge leap from the old car, which was pretty dire on the road. The ZS isn’t as satisfying to drive as a Renault Captur or Toyota Yaris Cross, despite its superior power output - but it has light controls and good visibility, making it great around town. Only poor refinement on the motorway and quite crashy suspension let the side down. If lots of power and equipment for a low price capture your imagination, check out our best MG ZS deals right here. You can find a used MG ZS for sale here, or search other used MGs for sale. And remember that Carwow can even help you sell your old car when the time comes.",
         "Carwow"
        ],
        [
         "2",
         "mg",
         "zs-ev",
         "Is the MG ZS EV a good car? The MG ZS EV is an electric SUV that goes up against the likes of the Hyundai Kona Electric and Kia Niro EV – both of which are now well-established options at the affordable end of the electric car market. It’s a bit like going for a pair of cheap Bluetooth headphones. It might not be from the obvious choice of brands, but it promises to do a similar job at a lower cost. Since its revival as a mass-production manufacturer, MG’s models haven’t been the most exciting to look at. The new ZS EV is in a similar vein, but this updated version now comes with a blanked-out grille and LED headlights as part of a tweaked front end. There is also a new rear bumper with altered lights. MG has also improved the interior design, with the main addition being a new 10.1-inch infotainment touchscreen that has updated software to make it much smoother than before. A 7.0-inch driver display has also been added that offers efficiency and safety information. But where alternatives may offer slightly more comfort and refinement, you’ll find a lot of scratchy plastics alongside the new carbon fibre-effect upholstery finish on the dashboard and leather trim on the seats. In the back, you have decent legroom behind even the tallest of drivers. But as the batteries are mounted under the floor, your knees end up quite high. Headroom is also not the best, with the panoramic sunroof on Trophy models eating into the space even more. Taller passengers may struggle to get comfortable in the back. With an adjustable boot floor as standard, you get 470 litres. This is on par with the Kia Niro EV's 475 litres, but is 140 litres more than the Hyundai Kona Electric's offering. Folding the seats down creates a 1,100-litre space, but the seats don’t quite fold flat. Although refinement and overall quality aren’t the best, the ZS EV is more than capable of being a practical option Mat Watson Expert Car Reviewer The ZS EV comes with two battery options. The 51kWh Standard Range and 72kWh Long Range options offer up to 198 and 273 miles respectively. When driving in the real world across multiple conditions and in all three driving modes – Eco, Normal and Sport – you get closer to 240 miles. But leave it in Normal mode and you’ll get nearer to the claimed figure. Around town, the steering feels light and accurate. It also doesn’t allow many bumps into the cabin at slow speeds, with the suspension setup in normal mode helping it out. On the motorway, you’ll notice a lot of tyre noise and, if you go for the top-spec Trophy version, the roof rails do make a slight whistling noise. It feels comfortable on the whole, but the seats don’t have as much cushioning or support as you might like. When applying Sport mode and tackling a country road, the ZS feels pretty stable. It isn’t the most engaging car in the world and it can scrabble for grip in damper conditions – but for most that won’t be much of an issue. With its competitive pricing and practicality, the ZS EV is a model you should consider. It may not be as refined as alternatives, but it can certainly be a useful option if you’re in the market for an efficient SUV. If you want to see what you could save on a new MG ZS EV, check out the deals page. You can also find the best deals on used MG cars as well as find out how much your car is worth by using our sell my car service - you can change your car entirely through carwow.",
         "Carwow"
        ],
        [
         "3",
         "mg",
         "hs",
         "Is the MG HS a good car? The MG HS has at points been the best-selling car in the UK and it’s easy to see why. It’s a big, practical family SUV with a posh-looking interior, loads of standard equipment and a headline-grabbing plug-in hybrid engine option - but it costs about as much as most small hatchbacks. While the old HS was definitely in the ‘cheap but not very cheerful’ category, the new model actually feels like something you wouldn’t mind driving around - it has redeeming features other than its price tag. It’s a bit like a Harvester - nobody’s ever going to look at it as a high-end option, but if you’re looking to feed the whole family on a budget, it’s tasty enough that you don’t feel punished for your penny-pinching. The HS is a similar size to family SUVs such as the Ford Kuga, Kia Sportage and Nissan Qashqai - but with its low price tag, you might consider it on the same shortlist as much smaller SUVs such as the Volkswagen T-Cross or Ford Puma. Two more direct alternatives are the Citroen C5 Aircross or BYD Seal U - both big SUVs that put affordability first, and have plug-in hybrid engines available. If your main concern is space for the money, the MG HS is a great option. Despite a price tag close to something like a Volkswagen Polo hatchback, it has space in the back for a six-foot adult to stretch out, plus a 507-litre boot that’ll accommodate the whole family’s kit and clobber. Still remarkably cheap but now much more capable - the MG HS is now a car I could recommend for more than just its price tag Mat Watson Expert Car Reviewer You also get a dashboard that looks pretty posh, with a dual-screen setup just like you get on a BMW X3. You don’t have to press very far to find out where MG’s saved money, though, and materials and build quality aren’t really up to the standards of more expensive cars. It’s also not the easiest to use, with very few physical switches, an awkward touchscreen interface and not much storage for smaller items. As far as engines go, there’s a choice of two. You can have a bog-standard petrol, available with manual or automatic gearboxes - these are the more affordable options, and though they’re not particularly offensive to drive they are a bit thirsty. The headline-grabber is the HS plug-in hybrid, which can do up to 75 miles on a charge. That figure is up there with the best PHEVs on sale, and it gives you tons of flexibility - it’s enough to do even the longest of commutes without troubling the petrol engine once. It also nudges the HS into the lowest-but-one band for Benefit-in-Kind tax, making it hundreds of pounds a month cheaper than the equivalent Kia Sportage or Ford Kuga for company car drivers. Both of those cars are better to drive, mind you - they steer more sweetly and handle bumps better, as well as being more responsive and reassuring in the corners. The gap is narrower if you’re just cruising round town or on the motorway, though, where the HS is impressively refined and difficult to dislike. If the new MG HS seems like the SUV for you, check out our best MG HS deals on Carwow. You can see our other MG deals here, or search for a used MG for sale here. And remember, Carwow can even help you sell your old car.",
         "Carwow"
        ],
        [
         "4",
         "mg",
         "mg-4",
         "Is the MG4 EV a good car? MG pulled an absolute blinder with the MG4, and much like the lovable underdog in a boxing movie it punches well above its weight division. It’s more affordable than alternatives such as the Renault Megane E-Tech and Cupra Born, costing around the same as the smaller Vauxhall Corsa Electric and Fiat 500e. You’d be forgiven for thinking that MG have taken a ‘cheap and cheerful’ approach to engineering the MG4, but that’s far from the truth. So far from it, in fact, that the MG4 received high commendations in the 2024 Carwow Car of the Year Awards’ Outstanding EV and Urban Living categories. Just look at it, a mix of pointy details, sharp creases and funky shapes such as the lower body cladding and split roof spoiler. It’s a refreshing looking thing; it still stands out against newer MGs such as the MG S5 and MG HS as much as it does its alternatives. MG4 EV: electric range, battery and charging data Range: 218-331 milesEfficiency: 3.6-3.8 miles per kWhBattery size: 51kWh / 62kWh / 74kWhMax charge speed: 150kWCharge time AC: 6hrs 12mins, 10-100%, 7kW / 7hrs 30mins, 10-100%, 7kW / 9hrs, 10-100%, 7kWCharge time DC: 39mins, 10-80%, 150kW / 35mins, 10-80%, 150kWCharge port location: Left rearPower outputs: 170hp / 204hp / 245hp It’s a shame the interior isn’t quite as novel, with a dashboard layout that’s so simple it verges on boring, but the material quality, fit and finish and standard kit is better than you might expect for the price. A 10.25-inch infotainment display comes as standard on all trim levels of the MG4, and though it comes with Apple CarPlay and Android Auto connectivity, MG’s own software is rather basic. It’s frustrating to operate too, especially on the move, with too many menus to navigate. There’s plenty of room in the MG4 though; plenty of adjustability for you to get comfy behind the wheel and enough head and leg room for tall passengers in the rear - though it’s a bit of a squeeze when you’ve got three in the back. The 363-litre boot capacity trails the Volkswagen ID3 for space, and puts it well behind the Megane E-Tech. The MG4 comes with two battery options, offering 218 claimed miles of range in its most basic trim through to 323 miles for the Trophy Extended Range model. The top-rung MG4 XPower, which we’ve reviewed separately, offers a big power hike over the rest of the trim levels, but makes do with a 239-mile range. MG has fully injected its own personality into the MG4 EV, and it leaves you wanting to get to know it a lot more… Mat Watson Expert Car Reviewer Around town the MG4 is easy to potter about in thanks to its light steering, peppy electric motors and most importantly, its comfortable suspension. It takes potholes, speed bumps and cracked roads in its stride, and the same applies to motorways where the MG4 just soaks up the miles with ease. Yet even with its soft suspension the MG4 is rather fun to drive on a twisty road, feeling agile and grippy with little in the way of body lean. The X-Power is particularly rapid, but it’s different enough that we've reviewed it separately here. For a stonking value for money proposition, have a look at our new MG4 deals as well as our MG4 lease deals. You can also check out used MG4s from our network of trusted dealers as well as other used MGs. When it’s time for a change, you can even sell your current car through Carwow.",
         "Carwow"
        ]
       ],
       "shape": {
        "columns": 4,
        "rows": 5
       }
      },
      "text/html": [
       "<div>\n",
       "<style scoped>\n",
       "    .dataframe tbody tr th:only-of-type {\n",
       "        vertical-align: middle;\n",
       "    }\n",
       "\n",
       "    .dataframe tbody tr th {\n",
       "        vertical-align: top;\n",
       "    }\n",
       "\n",
       "    .dataframe thead th {\n",
       "        text-align: right;\n",
       "    }\n",
       "</style>\n",
       "<table border=\"1\" class=\"dataframe\">\n",
       "  <thead>\n",
       "    <tr style=\"text-align: right;\">\n",
       "      <th></th>\n",
       "      <th>brand</th>\n",
       "      <th>model</th>\n",
       "      <th>text</th>\n",
       "      <th>source</th>\n",
       "    </tr>\n",
       "  </thead>\n",
       "  <tbody>\n",
       "    <tr>\n",
       "      <th>0</th>\n",
       "      <td>mg</td>\n",
       "      <td>mg3</td>\n",
       "      <td>Is the MG3 a good car? The MG3 used to be a bi...</td>\n",
       "      <td>Carwow</td>\n",
       "    </tr>\n",
       "    <tr>\n",
       "      <th>1</th>\n",
       "      <td>mg</td>\n",
       "      <td>zs</td>\n",
       "      <td>Is the MG ZS a good car? The previous-generati...</td>\n",
       "      <td>Carwow</td>\n",
       "    </tr>\n",
       "    <tr>\n",
       "      <th>2</th>\n",
       "      <td>mg</td>\n",
       "      <td>zs-ev</td>\n",
       "      <td>Is the MG ZS EV a good car? The MG ZS EV is an...</td>\n",
       "      <td>Carwow</td>\n",
       "    </tr>\n",
       "    <tr>\n",
       "      <th>3</th>\n",
       "      <td>mg</td>\n",
       "      <td>hs</td>\n",
       "      <td>Is the MG HS a good car? The MG HS has at poin...</td>\n",
       "      <td>Carwow</td>\n",
       "    </tr>\n",
       "    <tr>\n",
       "      <th>4</th>\n",
       "      <td>mg</td>\n",
       "      <td>mg-4</td>\n",
       "      <td>Is the MG4 EV a good car? MG pulled an absolut...</td>\n",
       "      <td>Carwow</td>\n",
       "    </tr>\n",
       "  </tbody>\n",
       "</table>\n",
       "</div>"
      ],
      "text/plain": [
       "  brand  model                                               text  source\n",
       "0    mg    mg3  Is the MG3 a good car? The MG3 used to be a bi...  Carwow\n",
       "1    mg     zs  Is the MG ZS a good car? The previous-generati...  Carwow\n",
       "2    mg  zs-ev  Is the MG ZS EV a good car? The MG ZS EV is an...  Carwow\n",
       "3    mg     hs  Is the MG HS a good car? The MG HS has at poin...  Carwow\n",
       "4    mg   mg-4  Is the MG4 EV a good car? MG pulled an absolut...  Carwow"
      ]
     },
     "execution_count": 42,
     "metadata": {},
     "output_type": "execute_result"
    }
   ],
   "source": [
    "df = pd.read_csv(\"file_txt/auto_review_no_processed.csv\")\n",
    "df.head()"
   ]
  },
  {
   "cell_type": "code",
   "execution_count": 43,
   "id": "4bf18489",
   "metadata": {},
   "outputs": [],
   "source": [
    "for index, element in df['text'].items():\n",
    "    df.loc[index, 'text'] = extract_important_content(element)"
   ]
  },
  {
   "cell_type": "code",
   "execution_count": 44,
   "id": "d9adc731",
   "metadata": {},
   "outputs": [
    {
     "data": {
      "application/vnd.microsoft.datawrangler.viewer.v0+json": {
       "columns": [
        {
         "name": "index",
         "rawType": "int64",
         "type": "integer"
        },
        {
         "name": "brand",
         "rawType": "object",
         "type": "string"
        },
        {
         "name": "model",
         "rawType": "object",
         "type": "string"
        },
        {
         "name": "text",
         "rawType": "object",
         "type": "string"
        },
        {
         "name": "source",
         "rawType": "object",
         "type": "string"
        }
       ],
       "ref": "28535e50-8be1-4e8b-9041-aad770103f39",
       "rows": [
        [
         "0",
         "mg",
         "mg3",
         "The MG3 used to be a bit of a joke the old one was the lowestranked car on Carwow but the new model aims to change all that. Now, instead of being antiquated, it’s right up there with the best small cars for performance, efficiency and equipment. Like an air fryer from the middle of Lidl, the MG3’s feature set is as good as any of its alternatives and it’s not immediately clear where the money’s been saved to bring it in at such a low price. Now that it’s a full selfcharging hybrid car, the MG3 no longer targets the very cheapest on the market like the Dacia Sandero or Citroen C3 Origin. Instead, it’s more like a cutprice alternative to the Renault Clio ETech or Toyota Yaris a halfway house for people who want the most efficient small car possible, but either don’t want or can’t have a fully electric model. The MG3 won’t win awards for its practicality it’s not cramped, but it’s no better than average in this regard with a boot that’s about halfway between the Yaris and the Clio in capacity. Rear seat space is moderate, too, though annoyingly the rear seats don’t split when they fold which does limit overall versatility. The front of the cabin looks great, and very modern in stark contrast to the car it replaces. Poke around and you can find a few places where MG’s saved money there’s a sliding cover for one of the storage compartments that feels comically flimsy, and the top of the dash and the door cards are made of hard plastic but the Clio and the Yaris have areas that feel equally cheap. The new MG3 is a transformation from the old model, and instantly becomes one of the best small cars you can buy More importantly, MG’s given the 3 its best touchscreen infotainment system yet, and it’s loaded with equipment climate control, a digital dashboard, satnav and a full suite of assisted driving features are standard on every model. The MG’s hybrid system is brandnew, and puts out an impressive 191hp versus 140hp for the Clio and up to 130hp for the Yaris. That means it’s easily got any of them beat in a drag race, and makes mincemeat of overtakes or motorway sliproads. It’s not quite as efficient as the alternatives, but you might decide that the additional performance makes the small drop in mpg worthwhile. The real surprise is what happens when you reach a twisty road. The old MG3 was always shockingly good fun in the corners, but unexpectedly MG has managed to repeat the trick. The new MG3 handles brilliantly for a small car, and that makes it one of the most enjoyable small cars to drive.",
         "Carwow"
        ],
        [
         "1",
         "mg",
         "zs",
         "The previousgeneration MG ZS was a small SUV that you’d buy because it was cheap and then spend the rest of your time apologising for it. It was unattractive, thirsty, poor to drive and had a really cheapfeeling interior. However, the secondgeneration model has had a true Cinderellastyle glowup, and should push the old car right to the back of everybody’s minds it’s a huge improvement in every way. Based on the same mechanical underpinnings as the excellent MG3 hatchback, the new ZS gets an uptodate hybrid engine, techy interior and a smart if not stunning new look. It’s like trading in your old Nokia for a new smartphone. Probably not the latest Apple iPhone, as MG is still firmly a budget brand more like one of those offbrand Android phones that gives you lots and lots of bang for your buck. As a small hybrid SUV, there are alternatives to the MG ZS coming from every corner. Some of the best include the Renault Captur, the Hyundai Kona Hybrid, the Peugeot 2008 or the Carwow awardwinning Toyota Yaris Cross. MG does things a bit differently to those cars, though. First of all, there’s the way the hybrid system works. It’s far more powerful than any of those alternatives with 191hp beating out 140hp in the Captur or a measly 115hp in the Yaris Cross. MG’s done this by fitting a more powerful electric motor and a bigger battery, which means that most of the time it drives like an electric car with a petrol generator. However, if you put your foot down both power sources will give their all, making this quite a rapid little SUV. The ZS undercuts almost every alternative on price while offering loads of space and a powerful engine but you may want to pay a little extra for a more polished ownership experience The comparison is also pretty favourable when it comes to interior space. The ZS has enough room for a sixfoot adult to sit behind a driver of the same size in comfort, which means it’s also great for child seats or lanky teenagers. The 443litre boot is also bigger than the hybrid Renault Captur or the Toyota Yaris Cross, and only marginally smaller than the Hyundai Kona hybrid. It’s in the cabin where you notice evidence of MG’s costcutting, though there are plenty of lowrent material choices, and infotainment software that despite being a huge improvement on the old ZS isn’t as easy to use or as intuitive as the best systems out there. You do get loads of equipment, though. The topspec Trophy model is still inexpensive but comes with climate control, satnav, smartphone connectivity, leather upholstery and a full suite of driver assistance tech including the semiautonomous MG Pilot system. To drive, it’s another huge leap from the old car, which was pretty dire on the road. The ZS isn’t as satisfying to drive as a Renault Captur or Toyota Yaris Cross, despite its superior power output but it has light controls and good visibility, making it great around town. Only poor refinement on the motorway and quite crashy suspension let the side down. If lots of power and equipment for a low price capture your imagination, check out our best MG ZS deals right here. You can find a used MG ZS for sale here, or search other used MGs for sale. And remember that Carwow can even help you sell your old car when the time comes.",
         "Carwow"
        ],
        [
         "2",
         "mg",
         "zs-ev",
         "The MG ZS EV is an electric SUV that goes up against the likes of the Hyundai Kona Electric and Kia Niro EV – both of which are now wellestablished options at the affordable end of the electric car market. It’s a bit like going for a pair of cheap Bluetooth headphones. It might not be from the obvious choice of brands, but it promises to do a similar job at a lower cost. Since its revival as a massproduction manufacturer, MG’s models haven’t been the most exciting to look at. The new ZS EV is in a similar vein, but this updated version now comes with a blankedout grille and LED headlights as part of a tweaked front end. There is also a new rear bumper with altered lights. MG has also improved the interior design, with the main addition being a new 10.1inch infotainment touchscreen that has updated software to make it much smoother than before. A 7.0inch driver display has also been added that offers efficiency and safety information. But where alternatives may offer slightly more comfort and refinement, you’ll find a lot of scratchy plastics alongside the new carbon fibreeffect upholstery finish on the dashboard and leather trim on the seats. In the back, you have decent legroom behind even the tallest of drivers. But as the batteries are mounted under the floor, your knees end up quite high. Headroom is also not the best, with the panoramic sunroof on Trophy models eating into the space even more. Taller passengers may struggle to get comfortable in the back. With an adjustable boot floor as standard, you get 470 litres. This is on par with the Kia Niro EV's 475 litres, but is 140 litres more than the Hyundai Kona Electric's offering. Folding the seats down creates a 1,100litre space, but the seats don’t quite fold flat. Although refinement and overall quality aren’t the best, the ZS EV is more than capable of being a practical option The ZS EV comes with two battery options. The 51kWh Standard Range and 72kWh Long Range options offer up to 198 and 273 miles respectively. When driving in the real world across multiple conditions and in all three driving modes – Eco, Normal and Sport – you get closer to 240 miles. But leave it in Normal mode and you’ll get nearer to the claimed figure. Around town, the steering feels light and accurate. It also doesn’t allow many bumps into the cabin at slow speeds, with the suspension setup in normal mode helping it out. On the motorway, you’ll notice a lot of tyre noise and, if you go for the topspec Trophy version, the roof rails do make a slight whistling noise. It feels comfortable on the whole, but the seats don’t have as much cushioning or support as you might like. When applying Sport mode and tackling a country road, the ZS feels pretty stable. It isn’t the most engaging car in the world and it can scrabble for grip in damper conditions – but for most that won’t be much of an issue. With its competitive pricing and practicality, the ZS EV is a model you should consider. It may not be as refined as alternatives, but it can certainly be a useful option if you’re in the market for an efficient SUV. If you want to see what you could save on a new MG ZS EV, check out the deals page. You can also find the best deals on used MG cars as well as find out how much your car is worth by using our sell my car service you can change your car entirely through carwow.",
         "Carwow"
        ],
        [
         "3",
         "mg",
         "hs",
         "The MG HS has at points been the bestselling car in the UK and it’s easy to see why. It’s a big, practical family SUV with a poshlooking interior, loads of standard equipment and a headlinegrabbing plugin hybrid engine option but it costs about as much as most small hatchbacks. While the old HS was definitely in the ‘cheap but not very cheerful’ category, the new model actually feels like something you wouldn’t mind driving around it has redeeming features other than its price tag. It’s a bit like a Harvester nobody’s ever going to look at it as a highend option, but if you’re looking to feed the whole family on a budget, it’s tasty enough that you don’t feel punished for your pennypinching. The HS is a similar size to family SUVs such as the Ford Kuga, Kia Sportage and Nissan Qashqai but with its low price tag, you might consider it on the same shortlist as much smaller SUVs such as the Volkswagen TCross or Ford Puma. Two more direct alternatives are the Citroen C5 Aircross or BYD Seal U both big SUVs that put affordability first, and have plugin hybrid engines available. If your main concern is space for the money, the MG HS is a great option. Despite a price tag close to something like a Volkswagen Polo hatchback, it has space in the back for a sixfoot adult to stretch out, plus a 507litre boot that’ll accommodate the whole family’s kit and clobber. Still remarkably cheap but now much more capable the MG HS is now a car I could recommend for more than just its price tag You also get a dashboard that looks pretty posh, with a dualscreen setup just like you get on a BMW X3. You don’t have to press very far to find out where MG’s saved money, though, and materials and build quality aren’t really up to the standards of more expensive cars. It’s also not the easiest to use, with very few physical switches, an awkward touchscreen interface and not much storage for smaller items. As far as engines go, there’s a choice of two. You can have a bogstandard petrol, available with manual or automatic gearboxes these are the more affordable options, and though they’re not particularly offensive to drive they are a bit thirsty. The headlinegrabber is the HS plugin hybrid, which can do up to 75 miles on a charge. That figure is up there with the best PHEVs on sale, and it gives you tons of flexibility it’s enough to do even the longest of commutes without troubling the petrol engine once. It also nudges the HS into the lowestbutone band for BenefitinKind tax, making it hundreds of pounds a month cheaper than the equivalent Kia Sportage or Ford Kuga for company car drivers. Both of those cars are better to drive, mind you they steer more sweetly and handle bumps better, as well as being more responsive and reassuring in the corners. The gap is narrower if you’re just cruising round town or on the motorway, though, where the HS is impressively refined and difficult to dislike. If the new MG HS seems like the SUV for you, check out our best MG HS deals on Carwow. You can see our other MG deals here, or search for a used MG for sale here. And remember, Carwow can even help you sell your old car.",
         "Carwow"
        ],
        [
         "4",
         "mg",
         "mg-4",
         "MG pulled an absolute blinder with the MG4, and much like the lovable underdog in a boxing movie it punches well above its weight division. It’s more affordable than alternatives such as the Renault Megane ETech and Cupra Born, costing around the same as the smaller Vauxhall Corsa Electric and Fiat 500e. You’d be forgiven for thinking that MG have taken a ‘cheap and cheerful’ approach to engineering the MG4, but that’s far from the truth. So far from it, in fact, that the MG4 received high commendations in the 2024 Carwow Car of the Year Awards’ Outstanding EV and Urban Living categories. Just look at it, a mix of pointy details, sharp creases and funky shapes such as the lower body cladding and split roof spoiler. It’s a refreshing looking thing; it still stands out against newer MGs such as the MG S5 and MG HS as much as it does its alternatives. MG4 EV: electric range, battery and charging data Range: 218331 milesEfficiency: 3.63.8 miles per kWhBattery size: 51kWh / 62kWh / 74kWhMax charge speed: 150kWCharge time AC: 6hrs 12mins, 10100, 7kW / 7hrs 30mins, 10100, 7kW / 9hrs, 10100, 7kWCharge time DC: 39mins, 1080, 150kW / 35mins, 1080, 150kWCharge port location: Left rearPower outputs: 170hp / 204hp / 245hp It’s a shame the interior isn’t quite as novel, with a dashboard layout that’s so simple it verges on boring, but the material quality, fit and finish and standard kit is better than you might expect for the price. A 10.25inch infotainment display comes as standard on all trim levels of the MG4, and though it comes with Apple CarPlay and Android Auto connectivity, MG’s own software is rather basic. It’s frustrating to operate too, especially on the move, with too many menus to navigate. There’s plenty of room in the MG4 though; plenty of adjustability for you to get comfy behind the wheel and enough head and leg room for tall passengers in the rear though it’s a bit of a squeeze when you’ve got three in the back. The 363litre boot capacity trails the Volkswagen ID3 for space, and puts it well behind the Megane ETech. The MG4 comes with two battery options, offering 218 claimed miles of range in its most basic trim through to 323 miles for the Trophy Extended Range model. The toprung MG4 XPower, which we’ve reviewed separately, offers a big power hike over the rest of the trim levels, but makes do with a 239mile range. MG has fully injected its own personality into the MG4 EV, and it leaves you wanting to get to know it a lot more… Around town the MG4 is easy to potter about in thanks to its light steering, peppy electric motors and most importantly, its comfortable suspension. It takes potholes, speed bumps and cracked roads in its stride, and the same applies to motorways where the MG4 just soaks up the miles with ease. Yet even with its soft suspension the MG4 is rather fun to drive on a twisty road, feeling agile and grippy with little in the way of body lean. The XPower is particularly rapid, but it’s different enough that we've reviewed it separately here. For a stonking value for money proposition, have a look at our new MG4 deals as well as our MG4 lease deals. You can also check out used MG4s from our network of trusted dealers as well as other used MGs. When it’s time for a change, you can even sell your current car through Carwow.",
         "Carwow"
        ]
       ],
       "shape": {
        "columns": 4,
        "rows": 5
       }
      },
      "text/html": [
       "<div>\n",
       "<style scoped>\n",
       "    .dataframe tbody tr th:only-of-type {\n",
       "        vertical-align: middle;\n",
       "    }\n",
       "\n",
       "    .dataframe tbody tr th {\n",
       "        vertical-align: top;\n",
       "    }\n",
       "\n",
       "    .dataframe thead th {\n",
       "        text-align: right;\n",
       "    }\n",
       "</style>\n",
       "<table border=\"1\" class=\"dataframe\">\n",
       "  <thead>\n",
       "    <tr style=\"text-align: right;\">\n",
       "      <th></th>\n",
       "      <th>brand</th>\n",
       "      <th>model</th>\n",
       "      <th>text</th>\n",
       "      <th>source</th>\n",
       "    </tr>\n",
       "  </thead>\n",
       "  <tbody>\n",
       "    <tr>\n",
       "      <th>0</th>\n",
       "      <td>mg</td>\n",
       "      <td>mg3</td>\n",
       "      <td>The MG3 used to be a bit of a joke the old one...</td>\n",
       "      <td>Carwow</td>\n",
       "    </tr>\n",
       "    <tr>\n",
       "      <th>1</th>\n",
       "      <td>mg</td>\n",
       "      <td>zs</td>\n",
       "      <td>The previousgeneration MG ZS was a small SUV t...</td>\n",
       "      <td>Carwow</td>\n",
       "    </tr>\n",
       "    <tr>\n",
       "      <th>2</th>\n",
       "      <td>mg</td>\n",
       "      <td>zs-ev</td>\n",
       "      <td>The MG ZS EV is an electric SUV that goes up a...</td>\n",
       "      <td>Carwow</td>\n",
       "    </tr>\n",
       "    <tr>\n",
       "      <th>3</th>\n",
       "      <td>mg</td>\n",
       "      <td>hs</td>\n",
       "      <td>The MG HS has at points been the bestselling c...</td>\n",
       "      <td>Carwow</td>\n",
       "    </tr>\n",
       "    <tr>\n",
       "      <th>4</th>\n",
       "      <td>mg</td>\n",
       "      <td>mg-4</td>\n",
       "      <td>MG pulled an absolute blinder with the MG4, an...</td>\n",
       "      <td>Carwow</td>\n",
       "    </tr>\n",
       "  </tbody>\n",
       "</table>\n",
       "</div>"
      ],
      "text/plain": [
       "  brand  model                                               text  source\n",
       "0    mg    mg3  The MG3 used to be a bit of a joke the old one...  Carwow\n",
       "1    mg     zs  The previousgeneration MG ZS was a small SUV t...  Carwow\n",
       "2    mg  zs-ev  The MG ZS EV is an electric SUV that goes up a...  Carwow\n",
       "3    mg     hs  The MG HS has at points been the bestselling c...  Carwow\n",
       "4    mg   mg-4  MG pulled an absolute blinder with the MG4, an...  Carwow"
      ]
     },
     "execution_count": 44,
     "metadata": {},
     "output_type": "execute_result"
    }
   ],
   "source": [
    "df.head()"
   ]
  },
  {
   "cell_type": "code",
   "execution_count": 55,
   "id": "798ae9a6",
   "metadata": {},
   "outputs": [],
   "source": [
    "# Combine reviews from different sources for each (brand, model) pair\n",
    "def combine_reviews(group):\n",
    "    # If two reviews exist, append the second to the first (text and source)\n",
    "    if len(group) == 2:\n",
    "        combined_text = \"CarWow Review: \" + group.iloc[0]['text'] + \"\\ Whatcar Review: \" + group.iloc[1]['text']\n",
    "        combined_source = group.iloc[0]['source'] + \" && \" + group.iloc[1]['source']\n",
    "        return pd.Series({\n",
    "            'brand': group.iloc[0]['brand'],\n",
    "            'model': group.iloc[0]['model'],\n",
    "            'text': combined_text,\n",
    "            'source': combined_source\n",
    "        })\n",
    "    else:\n",
    "        # If only one review, keep as is\n",
    "        combined_text = group.iloc[0]['source'] + \" Review: \" + group.iloc[0]['text']\n",
    "        return pd.Series({\n",
    "            'brand': group.iloc[0]['brand'],\n",
    "            'model': group.iloc[0]['model'],\n",
    "            'text': combined_text,\n",
    "            'source': group.iloc[0]['source']\n",
    "        })"
   ]
  },
  {
   "cell_type": "code",
   "execution_count": 56,
   "id": "b6ec9dca",
   "metadata": {},
   "outputs": [
    {
     "name": "stdout",
     "output_type": "stream",
     "text": [
      "91\n"
     ]
    },
    {
     "name": "stderr",
     "output_type": "stream",
     "text": [
      "/tmp/ipykernel_5253/711102355.py:3: DeprecationWarning: DataFrameGroupBy.apply operated on the grouping columns. This behavior is deprecated, and in a future version of pandas the grouping columns will be excluded from the operation. Either pass `include_groups=False` to exclude the groupings or explicitly select the grouping columns after groupby to silence this warning.\n",
      "  .apply(combine_reviews)\n"
     ]
    },
    {
     "data": {
      "application/vnd.microsoft.datawrangler.viewer.v0+json": {
       "columns": [
        {
         "name": "index",
         "rawType": "int64",
         "type": "integer"
        },
        {
         "name": "brand",
         "rawType": "object",
         "type": "string"
        },
        {
         "name": "model",
         "rawType": "object",
         "type": "string"
        },
        {
         "name": "text",
         "rawType": "object",
         "type": "string"
        },
        {
         "name": "source",
         "rawType": "object",
         "type": "string"
        }
       ],
       "ref": "3a536411-959e-41e7-aa3d-7208d7462208",
       "rows": [
        [
         "0",
         "bmw",
         "1-series",
         "CarWow Review: The BMW 1 Series is a posh family hatchback with a highquality cabin and loads of cuttingedge tech. You may also be considering the Audi A3 or Mercedes AClass if you’re shopping for a premium hatchback, and the 1 Series was updated in 2024 with a new look and an updated cabin. The 1 Series has always been the goto if you want a premium hatchback with a sporty edge. It’s a bit like choosing a pair of Yeezys over some Dr. Marten loafers. There are very few small cars which feel as posh inside as the BMW 1 Series, and this was only improved during the 2024 update. All the materials feel soft and yielding and everything is really solid. Quality in here is much better than it is in a Mercedes AClass. The tech you get inside is also really impressive. All cars get a huge curved display atop the dashboard comprising a 10.7inch touchscreen and a 10.3inch digital driver’s display, and it’s all very responsive and easy to use. Watch: BMW M135 review As is the case in most BMWs the driving position is spot on. There’s loads of adjustment in the seats and steering wheel for all drivers big and small to get comfortable. Once you’re ready to go, there are also plenty of cubby holes for you to empty your pockets into. Moving to the rear seats, the space on offer is best described as adequate. If you’re only carrying two people back there then they’ll have enough legroom, however headroom could be a struggle for taller adults. Getting three people back there is also a tight squeeze, and a Volkswagen Golf is more adept at carrying rear passengers. Boot space is also down on some of this car's key competitors. In the basic petrol model you get significantly less space than an Audi A3 or Honda Civic have to offer, however the BMW’s load area is a nice square shape and there isn’t much of a lip to haul items over. As for engines, there are just three on offer and they’re all petrolpowered. Entrylevel models get a 1.5litre threecylinder with 170hp, then there’s a 2.0litre with 218hp or the rangetopping M135 hot hatchback with 300hp and allwheel drive. The 1 Series really is a good, premiumfeeling small car, it’s just a little bit expensive Once you’ve loaded the car up and hit the road, the first thing you’ll notice is that even the entrylevel petrol model has a hot hatch feel to it. The steering is responsive and it’s great fun to thread down a country road, though the performancefocused M135 isn't as exciting as the Volkswagen Golf R, even if there's no denying it's fast in a straight line. The sportiness does come at the expense of comfort though, because even the normal 1 Series is a bit firmer than an Audi A3. This is especially apparent around town, where the car jitters around over potholes and broken surfaces. Still, at least the steering is nice and light and you get decent allround visibility. Things settle down on the motorway, where the cabin feels nice and hushed. There’s just a hint of tyre roar disturbing the peace, but the 1 Series is a relaxing car for covering long distances. So the BMW 1 Series is great to drive, packed with tech and really wellmade. Some alternatives are more comfortable though, and quite a lot of features are pricey options. Check out the latest BMW 1 Series deals if you fancy this as your next car and want to save some cash, or browse offers on other BMW models. You can also take a look at used 1 Series’ available now, and don’t forget that you can also sell your current car through Carwow for a great price.\\ Whatcar Review: The design team behind the latest BMW 1 Series seem to have adopted a Keep It Simple, Stupid (KISS) philosophy – and with good reason.When the firstgeneration 1 Series debuted, it was a proudly unconventional family car with a sporty rearwheeldrive layout, bold styling and a wide range of engines, including a punchy sixcylinder petrol.While those features thrilled driving enthusiasts, they didn’t always appeal to the car’s primary target: families. So with the thirdgeneration 1 Series BMW shifted to a more practical frontwheeldrive layout (with the option of fourwheel drive for certain variants).BMW 1 Series video reviewNow, as part of the 1 Series' latest facelift, BMW decided to simplify the 1 Series package further. In the UK you can get two versions – the BMW 120 and 123. They run on petrol and have mildhybrid tech.The front end was given a sharper look, while the interior received a fairly thorough makeover – pretty much the whole dashboard has changed. So Let's find out…",
         "Carwow && Whatcar"
        ],
        [
         "1",
         "bmw",
         "2-series-active-tourer",
         "CarWow Review: Crossovers and SUVs dominate the family car market these days, however BMW is keen to prove that the humble MPV is still deserving of a place on the driveway with the 2 Series Active Tourer. You can think of the 2 Series Active Tourer as a more sensible alternative to cars like the Audi Q2 and Mercedes GLA, and BMW’s own X1. If those cars were a pair of trendy Nike Air Max trainers, the 2 Series Active Tourer is a sensible pair of Hush Puppies. In terms of premium people carriers, only Mercedes offers something similar, with the BClass very much in the same mould as the Active Tourer practical rather than fashionable for the size. It may not be as stylish as a modern SUV, but you can lift the 2 Series Active Tourer by going for the M Sport pack. This gives the car some sportylooking bumpers, as well as 18inch alloy wheels, making it look a bit less dowdy and a bit more aggressive. This may not hide the car’s boxy shape, but the plus side is a practical cabin. Upfront there’s plenty of headroom, as well as loads of adjustment in the seats to find your ideal driving position. You get plenty of storage, with a small cubby under the armrest as well as a big space under the centre console where you could keep a bag. The glovebox is an average size, as are the door bins. You can get a wireless charging pad in front of the cupholders, which has a helpful clip to keep your phone in place. The spacious theme continues in the rear. Headroom is still generous, and there’s plenty of knee room as well. There’s also a handy armrest with cupholders in the rear, and fitting a child seat is easy thanks to the exposed ISOFIX anchor points. As for the boot, you get 470 litres of space in the 218d models, or 415 litres in the 220i and 223i versions. Plugin hybrid versions drop to 406 litres of cargo room thanks to a battery pack under the floor, although that’s still around the same as the 405 litres offered by the Audi Q2. The 2 Series Active Tourer may not be as stylish as an SUV, but it offers plenty of practicality and a really nice interior The Mercedes BClass gets 420 litres of boot space, so slightly more than the petrol and plugin hybrid Active Tourer, but less than you get in the 218d version. It’s worth bearing in mind however that the diesel’s additional storage space is situated under the boot floor., rather than within the main luggage area The exterior design may not be as exciting as an SUV, however the interior can easily match something like a Mercedes GLA. Everything feels really well screwed together, and the materials used are all highquality. The overall cabin layout is very similar to the BMW X1 SUV, meaning you get the same floating armrest and wide central air vent, as well as the same 10.25inch digital driver’s display and 10.7inch infotainment system. Enginewise, there are plenty to choose from. Only one of them is diesel though, the 218d with 150hp. Then there’s a couple of petrol models, the 220i and the 223i with 170hp and 218hp respectively. If you’re a company car driver, you’ll probably be looking at the taxefficient 225e plugin hybrid. This gets a 1.5litre petrol engine paired with an electric motor, producing 245hp and capable of an official 56 miles on electric power alone. The plugin hybrid makes the most sense around town, where the instant acceleration of the electric motor makes pulling out at busy junctions easy. Whichever engine you go for though, the 2 Series Active Tourer is easy to drive in the urban jungle. The BMW 2 Series Active Tourer may not be the most exciting offering in the family car segment, however if you’re looking for a wellmade, premiumfeeling car to haul the family around, and you’re not too bothered about looking flash while doing it, this car is certainly worth a lookin. If you’re looking to make the BMW 2 Series Active Tourer your next car, check out the latest offers available on carwow. Alternatively, you can browse used BMW models, and you can sell your car for what it’s really worth.\\ Whatcar Review: The BMW 2 Series Active Tourer and other MPVs have been suffering at the hands of SUVs in recent years. In fact, while people carriers used to be the highrise wagon of choice for families, most now go for something that looks a bit more like an offroader. To that end, car manufacturers have been focusing on creating SUVs that fit all niches and have taken their eyes off the MPV ball. BMW hasn’t. Instead, it’s looking to tempt families out of small SUVs with its own sportylooking MPV, the 2 Series Active Tourer. That won’t be easy though, and it’ll take more than just good aesthetics and a premium badge on the nose. So what’s on offer Well, BMW has equipped it with a classleading interior and loads of standard equipment.The 2 Series Active Tourer also comes with the choice of a petrol engine with two different power outputs and mildhybrid assistance or a diesel option. There are also two plugin hybrid (PHEV) variants – perfect for company car drivers and those wanting to keep running costs low.",
         "Carwow && Whatcar"
        ],
        [
         "2",
         "bmw",
         "3-series",
         "CarWow Review: The BMW 3 Series is like Alan Shearer. No, it’s not from Newcastle, but like Shearer it has for generations been a reliable and impressive performer, able to outshine European and world opposition at the highest level, and is still going strong even in its advancing years. While Audi might be reinventing the A4 as the new A5 (rather confusingly) and Mercedes has brought out a new CClass while BMW was just updating the 3 Series, this is still a car that looks and feels totally cutting edge, especially in how it drives. Though if you would also consider an electric car, the Tesla Model 3 feels more futuristic still. In terms of styling, the most recent round of updates for the 3 Series haven’t changed that much. There’s been some small nipping and tucking around the lights and grille, some new wheels and paint options, but the overall shape and style remains the same. That’s both good and bad — good in that, overall, the 3 Series is still a handsome thing. Bad in that it hasn’t addressed some design missteps, such as the way the 3 looks overly bulky around the rear wheelarches. Basic Sport models get chrome trim around the radiator grille, while MSport models look a little more glowering with blackedout trim. Watch: Audi A4 v BMW 3 Series v Genesis G70 v Mercedes CClass It’s in the cabin that you’ll find the bigger changes. BMW has binned the (rather attractive) separate digital instruments and infotainment screen in favour of the big, curved, combined screen setup taken from other models such as the 4 Series and 5 Series. This means that the 3 Series now has the latest and most up to date infotainment software — which can update itself via overtheair links — but even though the old iDrive clickwheel has been retained, there are some fiddly bits to find your way around on the screens, and the graphics don’t look quite as nice as they used to. Space in the cabin remains unchanged, which means you get just enough for four adults to sit in reasonable comfort, but there’s not the stretchout space you’d find elsewhere. The boot is practical, especially in the Touring estate, but remember that the plugin hybrid 330e — a hugely popular model with business userchoosers — loses quite a lot of that space to the battery, to the point where a basic VW Golf hatchback has a bigger boot. Not that you’ll care about boot space much when you’re sitting up in the driver’s seat. The BMW 3 Series has long been considered the best of its breed to drive, and that hasn’t changed, despite the fact it’s bigger and heavier now than it has ever been. While we have to wait to see what Audi has cooked up with the new A5 saloon, the 3 Series most definitely has the beating of the otherwiseimpressive Mercedes CClass when it comes to the driving experience. This is still a car that looks and feels totally cutting edge, especially in the way it drives The engine range has shrunk somewhat in the past few years — your choice at the base of the BMW 3 Series lineup is now restricted to the petrol 320i or the plugin hybrid 330e. Byebye diesel 320d — we shall miss your combo of easygoing performance and exceptional economy, though there are plenty of excellent used examples to be found. In fact, there are now no diesel 3 Series models at all, something of a shock when you remember how wildly successful they have been over the years. Mind you, the 330e looks like it might be settling into the 320d’s economy shoes, not least because a big battery upgrade now means that it can do as much as 62 miles on electric power alone, if you remember to charge up the battery (which can’t, alas, be fastcharged from public DC chargers). Of course, if it’s serious performance you want — but you don’t fancy the expense and insurance cost of stepping up to a fullon M3 — there’s the brilliant M340i with its 374hp, straightsix, 3.0litre turbo engine. Whisper it, but that’s actually a more enjoyable car to drive even than the mighty M3 itself. If you want to bag yourself a great deal, check out Carwow’s BMW 3 Series deals. You can also get a great price on a used 3 Series as well as other used BMWs from our network of trusted dealers. Carwow’s Sell My Car service takes the pain out of moving your old motor on, too.\\ Whatcar Review: The BMW 3 Series has always done the business for business people – and this latest version is no exception. It's a sporty rearwheeldrive executive car that's available as a taxefficient plugin hybrid and comes with all the latest tech.The 3 Series has moved with the times in other ways too. As part of its recent midlife facelift, the seventhgeneration model we're reviewing here has gained some subtle styling updates – but lost its diesel engines. You can still choose from a range of strong petrol engines to suit most tastes, one with fourwheel drive (BMW calls it xDrive).Once you've factored in all the infotainment goodies and safety equipment you get as standard, the 3 Series looks like it's in with a shot at topping our best executive cars list.BMW 3 Series video reviewLet's not be too hasty though – there are a few other models that give it a run for its money, starting with the 3 Series' longstanding rival, the Mercedes CClass. You might also be considering the greatvalue Skoda Superb or – if an electric car works for you – the Tesla Model 3.",
         "Carwow && Whatcar"
        ],
        [
         "3",
         "bmw",
         "4-series",
         "CarWow Review: The BMW 4 Series is an upmarket coupe that seats four and is designed to be more stylish and fun to drive than the BMW 3 Series saloon on which it’s based. It’s also more fun than its main alternatives, the Audi A5 and Mercedes CClass Coupe. The twodoor 4 Series Coupe sits in a family of 4 Series models, along with the convertible and fivedoor Gran Coupe models, while the BMW i4 The 190hp 420d 2.0litre diesel will cruise more efficiently. If you want maximum punch, the M440d diesel and M440i petrol both have powerful sixcylinder engines with startling performance. Then there’s the highperformance BMW M4, which we have reviewed separately. Handily, all 4 Series models are huge fun to drive. They’re lower and stiffer than a BMW 3 Series, and turn into corners with more agility than an A5 or CClass Coupe. The xDrive allwheel drive system is available with the 420d and standard on the M440 models for added security in slippery conditions, plus BMW offers things like upgraded brakes, a sports differential and adaptive suspension to really spice things up. The M models get this as standard. That agility does mean the 4 Series feels harder over bumps in town, even in its most comfortable driving mode, but otherwise, its standard parking sensors and rear camera make light work of parking. On the motorway, the suspension feels less abrupt and the 4 Series cruises quietly, but like the lumbar support, BMW’s clever adaptive cruise control with lanekeep steering assist costs a fortune to add as part of a pack. More grrr. Despite these minor setbacks, we think the 4 Series is the best of its breed. See how much you could save on a new BMW 4 Series with carwow, or check out our latest used BMWs. And if you need to sell your car, we can help with that too\\ Whatcar Review: Historically, BMW coupés have simply been swoopier, less practical versions of their saloon car counterparts. Not any more – the BMW 4 Series is a rakish model in its own right.Sure, the 4 Series is based on the same underpinnings as the more sensibly shaped BMW 3 Series but the differences go well beyond losing the back doors. BMW has widened the car's rear, lowered the centre of gravity, retuned the suspension and stiffened the chassis.All that should help make the 4 Series even more agile and capable than its saloon equivalent through corners. In other words, BMW has worked hard to make sure this is a car with the performance to match its sleek looks.Coupés like the 4 Series are quite niche these days, but has BMW done enough to keep you away from its main rival, the Mercedes CLE Read on to find...OverviewThe BMW 4 Series is great to drive, smart inside and roomier than you might imagine. With its powerful engine, the M440i is great fun, but the 420i strikes the best balance between performance and running costs while still impressing on a twisty road.More fun to drive than a Mercedes CLERangetopping M440i is seriously rapidBack seats are more usable than you might expectSome wind and tyre noiseMercedes CLE comes with more standard kit Best price from £45,195Estimated from £511pmAvailable nowFrom £49,491pm Bmw 4series 420i M Sport 2dr Step Auto review Read our version reviewRRP £45,195See the full rangePerformance driveWhat it’s like to drive, and how quiet it isStrengths+Punchy engines+Rewarding handling+Composed rideWeaknessesSome road noise at speedThe entrylevel engine for the BMW 4 Series is the 181bhp petrol in the 420i, which is rearwheeldrive and is our pick of the range. With a 062mph time of 7.5 seconds, it's quick enough to be fun and loves to be revved – which is in keeping with the character of a sporty coupé.",
         "Carwow && Whatcar"
        ],
        [
         "4",
         "bmw",
         "5-series",
         "CarWow Review: Think of an allrounder, and two things are likely to spring to mind. First will be a Swiss army knife – the global icon for ‘a thing that does everything’ – and the next could well be the BMW 5 Series. Since debuting five decades ago, this posh German saloon has proven time and again that it can offer comfort, bags of practicality, the latest technology and serious performance. It’s a similar story with its two key alternatives – if you’re considering a 5 Series you should also take a look at the Mercedes EClass and Audi A6. Or perhaps the Lexus ES if you want a leftfield option. The latest 5 Series clearly takes hints from BMW’s recent bold design direction as seen on the likes of the 2 Series Coupe and XM, albeit a little more subdued. That said, its styling is rather challenging, lacking the elegance of its predecessors. There are odd, incohesive lines around the headlights and front bumper, a front grille that seemingly mimics beaver teeth and the rear end looks like the designers couldn’t agree on what to do so gave up halfway through the process. Watch: Allelectric BMW i5 review It’s a different story inside, with BMW’s latest infotainment system present and correct, combining a 12.3inch digital drivers’ display with a 14.9inch central screen. Apple CarPlay and Android Auto are included as standard, and operate wirelessly. The overall design is pretty good and although some of the physical buttons have disappeared, forcing you to use the touchscreen more, there are high quality materials and solid build quality to make up for it. Artificial leather upholstery comes as standard, though you can opt for the real stuff, as well as a partAlcantara choice if you’d prefer. So you get all the good tech, but if practicality is key, you might be a touch disappointed. Petrolpowered versions of the new 5 Series promise 520 litres of boot capacity, which is less than the Mercedes EClass and Audi A6, though not by much. On the plus side, unlike those two cars the BMW’s boot doesn’t lose capacity in the plugin hybrid version. A Touring estate version will arrive later if you need the extra room. The BMW 5 Series is available with one petrol engine, offering 208hp, and a pair of plugin hybrid versions with up to 489hp. Notably, there’s no diesel version, which is a sign of the times given that this model is typically popular with those who rack up serious motorway mileage. The BMW 5 Series is comfortable to drive and has a lovely interior – shame the outside just looks so… bleugh It’s goodbye to diesel, but hello to electric for the first time in a 5 Series. The i5 – reviewed separately here – will do up to 361 miles on a charge, but is quite a bit more expensive than the petrolpowered model. As you might expect, the BMW 5 Series is a comfortable and refined motorway cruiser. There’s a little bit of wind and road noise but overall it’s a relaxing way to rack up miles. However, BMWs usually excel at also being great fun on a twisty road, but the latest 5 Series is a bit disappointing in this regard. The steering is numb and doesn’t give much feedback about how much grip the tyres have, while the car just generally lacks the eagerness to turn into a corner that made old versions so much fun to drive. An Audi A6 is, surprisingly, more fun here… Regardless, this is a great allrounder and just a fraction better overall than the Mercedes EClass and Audi A6. Want one Check out the latest BMW 5 Series deals available through Carwow. You can also see how much you could save on a used 5 Series from our network of trusted dealers, as well as other used BMWs. You can sell your car through Carwow, too.\\ Whatcar Review: Lionel Messi has won football’s Ballon d'Or a record eight times, but he’s still got nothing on the BMW 5 Series, which has won 27 What Car Awards over the years – more than any other model.Part of the reason for the 5 Series' sustained success is that BMW has done a great job of keeping it up to date. The latest version is even available as an electric car – the BMW i5 – which you can read about in our separate review. However, here we’re focusing on the other variants.The cheapest option is the 520i, which uses a 205bhp 2.0litre mildhybrid petrol engine, and there are also two plugin hybrids: the 530e, which produces 295bhp, and the 550e, with a whopping 482bhp. (Or, for the performance version, see our BMW M5 review.)BMW 5 Series video reviewRivals include the Audi A6 and Mercedes EClass so in this review we’ll look at how the latest BMW 5 Series compares with those cars in key areas. We'll cover everything from the way it drives to how practical it is and how much it will cost to run. Read on to find out how we rate it...",
         "Carwow && Whatcar"
        ],
        [
         "5",
         "bmw",
         "5-series-tourer",
         "Whatcar Review: What could possibly top the BMW 5 Series After all, we’ve championed it as one of the best cars on sale. Well, how about a 5 Series with an even bigger boot: the BMW 5 Series Touring perhaps After all, you get the panache and luxury of the 5 Series saloon, but with enough space in the back for your dog to enjoy it as well. The 5 Series Touring features a great lineup of engines that come with mild hybrid technology to improve efficiency. There’s a full plugin hybrid (PHEV) option, too, which offers zeroemissions motoring and very appealing company car tax rates.BMW has kept the range of trim levels simple: there's just SE and M Sport to choose from. However, unlike the saloon, there isn’t the option of a highperformance M variant.Now, the 5 Series is a previous winner of our What Car Car of the Year award so you know it’s good, but it’s already had a midlife refresh since then and a replacement is due to arrive later in 2023. So is it still a strong choiceWhile it sounds very promising on paper, there are plenty of other big, deluxe wagons to choose from. In this review we’ll be comparing the BMW 5 Series Touring with the Audi A6 Avant, the Mercedes EClass Estate and the Volvo V90 – and we’ll also explain which engine and trim make the most sense in the range.",
         "Whatcar"
        ],
        [
         "6",
         "bmw",
         "5-series-touring",
         "Carwow Review: The BMW 5 Series Touring is a posh estate car with a plugin hybrid engine that makes it ideal as a practical family car, or for company car drivers looking for something comfortable to rack up miles in. It’s a bit like a Burberry backpack, because it’s posh and practical in equal measure. SUVs might be the ontrend choice, but there are plenty of estate alternatives to consider if you prefer to sit lower in the car. Other posh estates include the Audi A6 Avant and Mercedes EClass Estate, or you could opt for a wellspecced Volkswagen Passat. The 5 Series Touring isn’t the bestlooking car, with odd angular lines in the bodywork that never feel quite as cohesive as more elegantly styled generations of old. Things get better inside, though, with a clean design for the most part. You get a smart piece of trim splitting the dashboard widthways and a pair of screens above this. BMW’s infotainment tech is some of the best in the business, with crisp displays and intuitive menu navigation. Aesthetically challenged on the outside, but the BMW 5 Series Touring should be a comfortable, practical estate car Boot space is up on the BMW 5 Series Saloon, increasing from that car’s 520 litres to 570 litres. Not a huge leap, but the more boxy shape should make it easier to load large items. It’s worth noting the Mercedes EClass Estate has a roomier boot than this and the Audi A6 Avant, with the BMW’s boot the smallest of the trio. At launch, there’s just the one plugin hybrid engine option. Called 530e, it combines a 2.0litre petrol engine with an electric motor to make 184hp, while the battery provides a range of nearly 60 miles. This will be particularly appealing to company car drivers because of the favourable BenefitinKind rate, though for the same reason the allelectric i5 Touring is also worth a look. Another plugin hybrid, as well as a regular petrol engine, will join the lineup later. Although we’ve not been behind the wheel of this new model just yet, it’s likely to drive very much like the 5 Series Saloon. As such, you can expect a refined and comfortable car that’s at its best at motorway speeds, though perhaps not as much fun on a twisty road as its predecessors. If you’re interested in this car, find out how much you could save with Carwow’s BMW 5 Series Touring deals. You can also get a great price on a used 5 Series Touring, as well as other used BMW models. If you want to sell your car online, Carwow can help with that, too.",
         "Carwow"
        ],
        [
         "7",
         "bmw",
         "i4",
         "CarWow Review: The BMW i4 is like a 4 Series from a decade in the future. It shares a very similar outline, but uses allelectric power and has a slightly bolder design, as well as having a more advanced interior. It certainly won’t fade into the background, as BMW has fitted the huge kidney grille from the 4 Series Gran Coupe that the i4 is based on. In the cabin, the i4 has a plush finish to match other BMW models – it definitely feels more upmarket in here than a Tesla Model 3, and can match a Polestar 2. Entrylevel models come with cloth seat trim as standard, but leather is also on offer for those wanting a highend feel. Regardless, it’s a wellbuilt and neatly designed cabin, but the infotainment is the star of the show and features the impressive curved display combining the 12.3inch instrument and 14.9inch infotainment screens in one sleek unit. Compared to the 4 Series Gran Coupe, it’s 6mm taller and sits 15mm closer to the road – but remains mostly the same. Taller passengers may struggle to fit in the rear due to the sloping roof line, but knee room is acceptable. As it’s based on a conventional fuelpowered car, there isn’t a flat floor in the footwell, so fitting three adults in will be a struggle. However, the door openings are a good size and it is more than comfortable enough. You’ll be happy to hear that it’s quite spacious in the boot, with the hatchback tailgate opening up to provide a roomy load space. The rear seats fold down to reveal a flat floor, too. The BMW i4 is the allelectric cousin of the 4 Series Gran Coupe. The M50 version is as fast as an M3 to 60mph, just not quite as fun to drive The i4 comes in three versions. The entrylevel eDrive35 has 282hp and claims up to 299 miles of range, while the eDrive40 ups this to 366 miles courtesy of a larger battery. That version comes with a 340hp rearmounted electric motor setup that also produces 430Nm. The topspec i4 M50 version – which was developed by BMW's M division – is fitted with two electric motors. With one fitted on each axle, the M50 comes with fourwheel drive and has a stout 544hp and 795Nm on tap. With the same sized battery as the eDrive40, though, claimed range is reduced to up to 318 miles. Whichever i4 you want, performance isn’t an issue. Even the eDrive35 models can do the sprint to 62mph in 6.0 seconds. But if you want brutal electric acceleration, the M50 gets to 62mph in 3.9 seconds (we bettered that in our video, however). Top speed is 140mph, though, rather than the usual 155, because the range of an EV really suffers at high speed. In town, the i4 feels very comfortable over bumps and cracks in the surface thanks to air suspension at the rear, and it’s pretty nimble as well. M50 models come with adaptive suspension for further comfort, meaning that even the higherperformance model can deal nicely with poorer surfaces. As standard, the i4 features adaptive cruise control and a reversing camera – making driving on the motorway and parking much simpler respectively. Refinement is also excellent throughout the i4 lineup, with only tyre noise making an impression. If the i4 sounds like the model for you, check out our deals page to see what price you can get for this stylish electric fourdoor. If you're interested in waiting to see some used examples of the BMW i4 then head over to our used BMW i4 page.\\ Whatcar Review: If you’re eyeing up an electric car but don’t fancy broadcasting it to the world, the BMW i4 could be for you. While BMW’s first proper stab at an allelectric model – the quirky i3 – was all about looking like it came from a scifi flick, the i4 is more understated.It's essentially an electric version of the BMW 4 Series Gran Coupé – and that’s no bad thing. The 4 Series and its close sibling, the BMW 3 Series, are pretty much the benchmarks for their respective classes, so the i4 has a solid foundation.BMW’s offering comes in three flavours. At the more modest end, you’ve got the i4 eDrive35, with a 67kWh battery and a rear motor. That version goes up against the Tesla Model 3 RWD and Polestar 2 Standard Range.BMW i4 video reviewThen there’s the i4 eDrive40, which adds a heftier 80.7kWh battery, a more potent rear motor, and squares up with the Model 3 Long Range and the Polestar 2 LR. At the top of the tree The M50 – with two motors, fourwheel drive, and ready to take on the Model 3 Performance and Polestar 2 LR Dual Motor.",
         "Carwow && Whatcar"
        ],
        [
         "8",
         "bmw",
         "i5",
         "CarWow Review: The BMW i5 is a bit like an alcoholfree pilsner. You still enjoy the refreshing taste of German lager, but it’s better for you – or in this case the planet. You see, the new i5 Well, the way you drive will make a big difference. When Mat drove the M60 in Portugal the range was closer to 200 miles, but car reviewers aren’t renowned for driving gently. Assume that’s a worstcase scenario, and the official numbers are a best case. The i5 has a lovely interior and incredible performance, it's just a shame it doesn't go a bit further on a charge Plenty of electric cars are fast in a straight line, but BMWs are supposed to be fun around corners as well. The i5 corners with poise, especially cars with adaptive sports suspension and active antiroll bars. The trouble is, the i5 is heavier than the regular 5 Series saloon, weighing as much as a big 4x4. The M60 is especially heavy, which is a shame as the car doesn’t feel as light on its feet as we’d hope. Get carried away and the front tyres push wide surprisingly early. Drive more steadily and the i5 is remarkably comfortable and superquiet, with only a murmur of wind and road noise. Inside, the cabin is a hightech banquet for the eyes, with a huge twinscreen display and an exceptional standard of finish. Even lower down the dash and doors there’s no sign of pennypinching. Only the brittle action of the indicator stalks feels less than premium. There’s plenty of space front and rear, too, although the big transmission tunnel that exists for the internalcombustionengined 5 Series gets in the way if there are three passengers in the back. The car is packed with clever tech, although frustratingly perhaps the smartest technology of all isn’t available in the UK. The optional upgrade for the adaptive cruise control available in some markets will change lanes for you. All the driver needs to do is look in their mirrors to check that it’s safe, and the car’s sensors can tell that you’ve looked to the side and will swap lanes. Where legal, the driver can even take their hands off the wheel. The eye activation feature is launching initially in Germany, the USA and Canada. A UK launch date for the automated lanechanging function has not been confirmed. So, clever, quick, and very good to drive – if not quite great compared with BMW’s greatest hits of the past. Next to other electric saloons, though, the i5 is pretty much as good as it gets, and if you need a bit more practicality, a BMW i5 Touring is coming later this year. Click the link to see how much a BMW i5 will cost you through Carwow, or have a look at the latest savings on BMW’s entire model range. We’ve also got plenty of used BMWs for sale via our trusted dealers, and when you’ve found your new car, you can sell your car online through Carwow too.\\ Whatcar Review: While many people dream of being driven around in a luxury limo, few of us will ever be able to afford either the car or a chauffeur. The BMW i5 might be the answer: it promises firstclass comfort at a more attainable businessclass price.You see, the i5 Well, the Mercedes EQE is the i5's main rival, but if you can spend a bit more, you could also look at the Porsche Taycan – a sporty take on the electric saloon.",
         "Carwow && Whatcar"
        ],
        [
         "9",
         "bmw",
         "i5-touring",
         "CarWow Review: The BMW i5 Touring is an electric estate car, which means it’s a very rare thing indeed. You get the same posh interior and silent running as the i5 saloon, but with a bit more practicality. It’s like a North Face duffle bag, because it’s big, practical and has designer appeal. It's also extremely good so good, it picked up Highly Commended in the Comfortable Cruiser category of the 2025 Carwow Car of the Year Awards. As it stands, the only other electric estates in this price range are the Volkswagen ID7 Tourer and the Audi A6 Avant etron, so you might also crossshop the i5 Touring with electric SUVs such as the BMW iX, Audi Q8 etron and Polestar 3. BMW’s modern styling is certainly an acquired taste, but with the i5 we’re either getting used to it or the styling department is finding its groove, because it’s a much more cohesive design than other recent models such as the iX. There are plenty of sharp angles and creases in the bodywork that give it a distinctive appearance, though base models get softer styling that looks a bit plain. There can be no complaints about the interior though, because it’s a lovely place to eat up miles. The seats are soft and there are quality materials throughout, and all trim levels get the same high quality twinscreen infotainment displays. They look great with clear graphics, though the menus can be really confusing to navigate around. BMW i5 Touring: electric range, battery and charging data Range: 279 343 milesEfficiency: 3.0 3.7 miles/kWhBattery size: 84kWhMax charge speed: 205kWCharge time AC: 12h 30mins, 0100, 7.4kWCharge time DC: 30mins, 1080, 205kWCharge port location: Right side rearPower outputs: 340hp / 601hp It’s spacious too, with plenty of adjustment to get yourself comfortable – you don’t get the same commanding view as an SUV, but the upside is that you feel more snug within the cockpit, rather than sat atop it. Storage is good in the front and there’s loads of room in the back seats, too. The main advantage of the estate body shape is that the BMW i5 Touring has a big boot – at 570 litres it should be enough space for the vast majority of people, and more space than any of the electric SUVs mentioned above, though the VW ID7 Tourer estate has more space still if you really need it. There are two motor options to choose between, with the eDrive40 being the more affordable car to buy and to run, with a topoftherange M60 also available with ludicrous performance at the expense of range. As such, the eDrive40 can go up to 348 miles between charges, compared with 314 miles for the M60, which puts it behind what alternatives such as the Audi A6 Avant etron (437 miles) and Polestar 3 (403 miles) are capable of. The BMW i5 Touring is an incredibly comfortable and refined car, and the practical boot is the icing on the cake Regardless, the way the BMW i5 Touring chews through those miles is incredibly impressive, because it’s one of the most comfortable, quiet and refined cars on sale today. You feel utterly cocooned from the outside world. That means it’s a great motorway cruiser, but also means potholeriddled innercity roads and bumpy Broads do little to unsettle the car. It’s fairly composed going around corners, with little in the way of body roll, but you really do feel its weight, so it’s not a car that encourages you to drive it like a sports car. However, if you’re looking for a comfortable and refined car to cruise around in, the BMW i5 Touring has very few weak points, most of which are worthy sacrifices for something so comfortable and practical. If you’re interested, check out the latest BMW i5 Touring deals available on Carwow, or if you don’t need all that space we have i5 Saloon deals, too. You can also browse used BMW models from our network of trusted dealers, and when it’s time to sell your car, Carwow can help with that, too.\\ Whatcar Review: Part of the appeal of luxury products has traditionally been their exclusivity, and yet prestige SUVs seem to be everywhere these days. So what do you buy if you want something big and upmarket that isn’t omnipresent Well, the BMW i5 Touring might fit the bill.As an estate version of the fully electric BMW i5 executive car, this model’s closest rival is the Porsche Taycan Sport Turismo. But they’re far from direct competitors, with the i5 Touring having a less sporting focus and a much bigger boot.If the latter quality is important to you, you might also have the conventionally powered Mercedes EClass Estate on your shortlist. Plus, it’s worth noting that the i5 will soon be joined in the BMW 5 Series Touring lineup by new 530e plugin hybrid (PHEV) and 520i petrol variants.Here, though, it’s the i5 Touring we’re focusing on, as we compare it with the main rivals and look at everything from how good it is to drive to how practical it really is.OverviewThe BMW i5 Touring is a practical, hushed and luxurious choice. Plus, it’s surprisingly affordable to run as a company car, thanks to its low benefitinkind tax rating. It’s just a pity its high starting price will rule it out for a lot of private buyers.Practical and well builtA very quiet cruiserTidy handlingAn expensive private buyYou’ll want to add optionsRange is good rather than great Best price from £58,084Estimated from £774pmAvailable nowFrom £58,084pm Bmw I5 250kW eDrive40 Sport Edition 84kWh 5dr Auto review Read our version reviewRRP £69,955See the full rangePerformance driveWhat it’s like to drive, and how quiet it isStrengths+Punchy performance+Hushed road manners+Agile handlingWeaknessesSuspension could be more suppleUnspectacular rangeTwo versions of the BMW i5 Touring are available: the performancefocused M60, with its twin electric motors (for fourwheel drive) and 593bhp output, and the singlemotor eDrive40 model that we tested, which is rearwheel drive and produces a still healthy 335bhp.",
         "Carwow && Whatcar"
        ]
       ],
       "shape": {
        "columns": 4,
        "rows": 10
       }
      },
      "text/html": [
       "<div>\n",
       "<style scoped>\n",
       "    .dataframe tbody tr th:only-of-type {\n",
       "        vertical-align: middle;\n",
       "    }\n",
       "\n",
       "    .dataframe tbody tr th {\n",
       "        vertical-align: top;\n",
       "    }\n",
       "\n",
       "    .dataframe thead th {\n",
       "        text-align: right;\n",
       "    }\n",
       "</style>\n",
       "<table border=\"1\" class=\"dataframe\">\n",
       "  <thead>\n",
       "    <tr style=\"text-align: right;\">\n",
       "      <th></th>\n",
       "      <th>brand</th>\n",
       "      <th>model</th>\n",
       "      <th>text</th>\n",
       "      <th>source</th>\n",
       "    </tr>\n",
       "  </thead>\n",
       "  <tbody>\n",
       "    <tr>\n",
       "      <th>0</th>\n",
       "      <td>bmw</td>\n",
       "      <td>1-series</td>\n",
       "      <td>CarWow Review: The BMW 1 Series is a posh fami...</td>\n",
       "      <td>Carwow &amp;&amp; Whatcar</td>\n",
       "    </tr>\n",
       "    <tr>\n",
       "      <th>1</th>\n",
       "      <td>bmw</td>\n",
       "      <td>2-series-active-tourer</td>\n",
       "      <td>CarWow Review: Crossovers and SUVs dominate th...</td>\n",
       "      <td>Carwow &amp;&amp; Whatcar</td>\n",
       "    </tr>\n",
       "    <tr>\n",
       "      <th>2</th>\n",
       "      <td>bmw</td>\n",
       "      <td>3-series</td>\n",
       "      <td>CarWow Review: The BMW 3 Series is like Alan S...</td>\n",
       "      <td>Carwow &amp;&amp; Whatcar</td>\n",
       "    </tr>\n",
       "    <tr>\n",
       "      <th>3</th>\n",
       "      <td>bmw</td>\n",
       "      <td>4-series</td>\n",
       "      <td>CarWow Review: The BMW 4 Series is an upmarket...</td>\n",
       "      <td>Carwow &amp;&amp; Whatcar</td>\n",
       "    </tr>\n",
       "    <tr>\n",
       "      <th>4</th>\n",
       "      <td>bmw</td>\n",
       "      <td>5-series</td>\n",
       "      <td>CarWow Review: Think of an allrounder, and two...</td>\n",
       "      <td>Carwow &amp;&amp; Whatcar</td>\n",
       "    </tr>\n",
       "    <tr>\n",
       "      <th>5</th>\n",
       "      <td>bmw</td>\n",
       "      <td>5-series-tourer</td>\n",
       "      <td>Whatcar Review: What could possibly top the BM...</td>\n",
       "      <td>Whatcar</td>\n",
       "    </tr>\n",
       "    <tr>\n",
       "      <th>6</th>\n",
       "      <td>bmw</td>\n",
       "      <td>5-series-touring</td>\n",
       "      <td>Carwow Review: The BMW 5 Series Touring is a p...</td>\n",
       "      <td>Carwow</td>\n",
       "    </tr>\n",
       "    <tr>\n",
       "      <th>7</th>\n",
       "      <td>bmw</td>\n",
       "      <td>i4</td>\n",
       "      <td>CarWow Review: The BMW i4 is like a 4 Series f...</td>\n",
       "      <td>Carwow &amp;&amp; Whatcar</td>\n",
       "    </tr>\n",
       "    <tr>\n",
       "      <th>8</th>\n",
       "      <td>bmw</td>\n",
       "      <td>i5</td>\n",
       "      <td>CarWow Review: The BMW i5 is a bit like an alc...</td>\n",
       "      <td>Carwow &amp;&amp; Whatcar</td>\n",
       "    </tr>\n",
       "    <tr>\n",
       "      <th>9</th>\n",
       "      <td>bmw</td>\n",
       "      <td>i5-touring</td>\n",
       "      <td>CarWow Review: The BMW i5 Touring is an electr...</td>\n",
       "      <td>Carwow &amp;&amp; Whatcar</td>\n",
       "    </tr>\n",
       "  </tbody>\n",
       "</table>\n",
       "</div>"
      ],
      "text/plain": [
       "  brand                   model  \\\n",
       "0   bmw                1-series   \n",
       "1   bmw  2-series-active-tourer   \n",
       "2   bmw                3-series   \n",
       "3   bmw                4-series   \n",
       "4   bmw                5-series   \n",
       "5   bmw         5-series-tourer   \n",
       "6   bmw        5-series-touring   \n",
       "7   bmw                      i4   \n",
       "8   bmw                      i5   \n",
       "9   bmw              i5-touring   \n",
       "\n",
       "                                                text             source  \n",
       "0  CarWow Review: The BMW 1 Series is a posh fami...  Carwow && Whatcar  \n",
       "1  CarWow Review: Crossovers and SUVs dominate th...  Carwow && Whatcar  \n",
       "2  CarWow Review: The BMW 3 Series is like Alan S...  Carwow && Whatcar  \n",
       "3  CarWow Review: The BMW 4 Series is an upmarket...  Carwow && Whatcar  \n",
       "4  CarWow Review: Think of an allrounder, and two...  Carwow && Whatcar  \n",
       "5  Whatcar Review: What could possibly top the BM...            Whatcar  \n",
       "6  Carwow Review: The BMW 5 Series Touring is a p...             Carwow  \n",
       "7  CarWow Review: The BMW i4 is like a 4 Series f...  Carwow && Whatcar  \n",
       "8  CarWow Review: The BMW i5 is a bit like an alc...  Carwow && Whatcar  \n",
       "9  CarWow Review: The BMW i5 Touring is an electr...  Carwow && Whatcar  "
      ]
     },
     "execution_count": 56,
     "metadata": {},
     "output_type": "execute_result"
    }
   ],
   "source": [
    "df_combined = (\n",
    "    df.groupby(['brand', 'model'], as_index=False, group_keys=False)\n",
    "      .apply(combine_reviews)\n",
    "      .reset_index(drop=True)\n",
    ")\n",
    "\n",
    "print(len(df_combined))\n",
    "df_combined.head(10)"
   ]
  },
  {
   "cell_type": "code",
   "execution_count": 103,
   "id": "76ce28d2",
   "metadata": {},
   "outputs": [
    {
     "name": "stdout",
     "output_type": "stream",
     "text": [
      "You are a sentiment analyzer tasked with classifying specific aspects of a car review.\n",
      "\n",
      "**INPUT FORMAT**:\n",
      "    - You will receive a review extracted from two source that will be defined at the end of the text.\n",
      "    - The format of the review you will receive will be as it follow:\n",
      "        ```brand, model, text, first source && second source```\n",
      "    - Note that the text of the review is like this:\n",
      "        first source: first text\\\\ second source: second text\n",
      "\n",
      "**Task**:\n",
      "Given a full car review, extract sentiment for each of the following 14 categories:\n",
      "\n",
      "    - Drive\n",
      "    - Quality of interior\n",
      "    - Infotainment system\n",
      "    - Comfort\n",
      "    - Performance\n",
      "    - Handling\n",
      "    - Practicality\n",
      "    - Reliability\n",
      "    - Safety\n",
      "    - Quality of construction\n",
      "    - Noise\n",
      "    - Engine\n",
      "    - Price\n",
      "    - Overall\n",
      "\n",
      "**Instructions**:\n",
      "\n",
      "    - For each category, assign one of: Positive, Negative, Neutral, or Not mentioned (only if the category is truly not referenced).\n",
      "    - For Price, sentiment must be one of: very high, high, medium, or low.\n",
      "    - Use the Overall category to express the general sentiment toward the entire car.\n",
      "    - Include the Brand, Model, and Source of the review.\n",
      "    - Minimize the use of \"Not mentioned\" by inferring sentiment where context allows.\n",
      "    - Respond with a single line of output only.\n",
      "\n",
      "**OUTPUT FORMAT (read carefully)**:\n",
      "\n",
      "    - You MUST return the entire result inside triple backticks (```).\n",
      "    - For each category, return ONLY the sentiment.\n",
      "    - The format of the content inside the backticks must be:\n",
      "        ```Brand||Model||Source||Drive||Quality of interior||Infotainment system||Comfort||Performance||Handling||Practicality||Reliability||Safety||Quality of construction||Noise||Engine||Price||Overall```\n",
      "\n",
      "Do not include any comment, introduction, or explanation. Return only the backtick-enclosed line.\n",
      "\n",
      "**Example of OUTPUT FORMAT**:\n",
      "```BMW||1-Series||Carwow && Whatcar||Positive||Excellent||Positive||Positive||Positive||Negative||Neutral||Negative||Positive||Negative||Medium||Medium||Very high||Positive```\n"
     ]
    }
   ],
   "source": [
    "with open(\"file_txt/system_information.txt\", \"r\") as f:\n",
    "    system_information = f.read()\n",
    "print(f\"{system_information.strip()}\")"
   ]
  },
  {
   "cell_type": "code",
   "execution_count": 104,
   "id": "6855fd8f",
   "metadata": {},
   "outputs": [
    {
     "data": {
      "text/plain": [
       "[\"bmw, 1-series, CarWow Review: The BMW 1 Series is a posh family hatchback with a highquality cabin and loads of cuttingedge tech. You may also be considering the Audi A3 or Mercedes AClass if you’re shopping for a premium hatchback, and the 1 Series was updated in 2024 with a new look and an updated cabin. The 1 Series has always been the goto if you want a premium hatchback with a sporty edge. It’s a bit like choosing a pair of Yeezys over some Dr. Marten loafers. There are very few small cars which feel as posh inside as the BMW 1 Series, and this was only improved during the 2024 update. All the materials feel soft and yielding and everything is really solid. Quality in here is much better than it is in a Mercedes AClass. The tech you get inside is also really impressive. All cars get a huge curved display atop the dashboard comprising a 10.7inch touchscreen and a 10.3inch digital driver’s display, and it’s all very responsive and easy to use. Watch: BMW M135 review As is the case in most BMWs the driving position is spot on. There’s loads of adjustment in the seats and steering wheel for all drivers big and small to get comfortable. Once you’re ready to go, there are also plenty of cubby holes for you to empty your pockets into. Moving to the rear seats, the space on offer is best described as adequate. If you’re only carrying two people back there then they’ll have enough legroom, however headroom could be a struggle for taller adults. Getting three people back there is also a tight squeeze, and a Volkswagen Golf is more adept at carrying rear passengers. Boot space is also down on some of this car's key competitors. In the basic petrol model you get significantly less space than an Audi A3 or Honda Civic have to offer, however the BMW’s load area is a nice square shape and there isn’t much of a lip to haul items over. As for engines, there are just three on offer and they’re all petrolpowered. Entrylevel models get a 1.5litre threecylinder with 170hp, then there’s a 2.0litre with 218hp or the rangetopping M135 hot hatchback with 300hp and allwheel drive. The 1 Series really is a good, premiumfeeling small car, it’s just a little bit expensive Once you’ve loaded the car up and hit the road, the first thing you’ll notice is that even the entrylevel petrol model has a hot hatch feel to it. The steering is responsive and it’s great fun to thread down a country road, though the performancefocused M135 isn't as exciting as the Volkswagen Golf R, even if there's no denying it's fast in a straight line. The sportiness does come at the expense of comfort though, because even the normal 1 Series is a bit firmer than an Audi A3. This is especially apparent around town, where the car jitters around over potholes and broken surfaces. Still, at least the steering is nice and light and you get decent allround visibility. Things settle down on the motorway, where the cabin feels nice and hushed. There’s just a hint of tyre roar disturbing the peace, but the 1 Series is a relaxing car for covering long distances. So the BMW 1 Series is great to drive, packed with tech and really wellmade. Some alternatives are more comfortable though, and quite a lot of features are pricey options. Check out the latest BMW 1 Series deals if you fancy this as your next car and want to save some cash, or browse offers on other BMW models. You can also take a look at used 1 Series’ available now, and don’t forget that you can also sell your current car through Carwow for a great price.\\\\ Whatcar Review: The design team behind the latest BMW 1 Series seem to have adopted a Keep It Simple, Stupid (KISS) philosophy – and with good reason.When the firstgeneration 1 Series debuted, it was a proudly unconventional family car with a sporty rearwheeldrive layout, bold styling and a wide range of engines, including a punchy sixcylinder petrol.While those features thrilled driving enthusiasts, they didn’t always appeal to the car’s primary target: families. So with the thirdgeneration 1 Series BMW shifted to a more practical frontwheeldrive layout (with the option of fourwheel drive for certain variants).BMW 1 Series video reviewNow, as part of the 1 Series' latest facelift, BMW decided to simplify the 1 Series package further. In the UK you can get two versions – the BMW 120 and 123. They run on petrol and have mildhybrid tech.The front end was given a sharper look, while the interior received a fairly thorough makeover – pretty much the whole dashboard has changed. So Let's find out…, Carwow && Whatcar\",\n",
       " 'bmw, 2-series-active-tourer, CarWow Review: Crossovers and SUVs dominate the family car market these days, however BMW is keen to prove that the humble MPV is still deserving of a place on the driveway with the 2 Series Active Tourer. You can think of the 2 Series Active Tourer as a more sensible alternative to cars like the Audi Q2 and Mercedes GLA, and BMW’s own X1. If those cars were a pair of trendy Nike Air Max trainers, the 2 Series Active Tourer is a sensible pair of Hush Puppies. In terms of premium people carriers, only Mercedes offers something similar, with the BClass very much in the same mould as the Active Tourer practical rather than fashionable for the size. It may not be as stylish as a modern SUV, but you can lift the 2 Series Active Tourer by going for the M Sport pack. This gives the car some sportylooking bumpers, as well as 18inch alloy wheels, making it look a bit less dowdy and a bit more aggressive. This may not hide the car’s boxy shape, but the plus side is a practical cabin. Upfront there’s plenty of headroom, as well as loads of adjustment in the seats to find your ideal driving position. You get plenty of storage, with a small cubby under the armrest as well as a big space under the centre console where you could keep a bag. The glovebox is an average size, as are the door bins. You can get a wireless charging pad in front of the cupholders, which has a helpful clip to keep your phone in place. The spacious theme continues in the rear. Headroom is still generous, and there’s plenty of knee room as well. There’s also a handy armrest with cupholders in the rear, and fitting a child seat is easy thanks to the exposed ISOFIX anchor points. As for the boot, you get 470 litres of space in the 218d models, or 415 litres in the 220i and 223i versions. Plugin hybrid versions drop to 406 litres of cargo room thanks to a battery pack under the floor, although that’s still around the same as the 405 litres offered by the Audi Q2. The 2 Series Active Tourer may not be as stylish as an SUV, but it offers plenty of practicality and a really nice interior The Mercedes BClass gets 420 litres of boot space, so slightly more than the petrol and plugin hybrid Active Tourer, but less than you get in the 218d version. It’s worth bearing in mind however that the diesel’s additional storage space is situated under the boot floor., rather than within the main luggage area The exterior design may not be as exciting as an SUV, however the interior can easily match something like a Mercedes GLA. Everything feels really well screwed together, and the materials used are all highquality. The overall cabin layout is very similar to the BMW X1 SUV, meaning you get the same floating armrest and wide central air vent, as well as the same 10.25inch digital driver’s display and 10.7inch infotainment system. Enginewise, there are plenty to choose from. Only one of them is diesel though, the 218d with 150hp. Then there’s a couple of petrol models, the 220i and the 223i with 170hp and 218hp respectively. If you’re a company car driver, you’ll probably be looking at the taxefficient 225e plugin hybrid. This gets a 1.5litre petrol engine paired with an electric motor, producing 245hp and capable of an official 56 miles on electric power alone. The plugin hybrid makes the most sense around town, where the instant acceleration of the electric motor makes pulling out at busy junctions easy. Whichever engine you go for though, the 2 Series Active Tourer is easy to drive in the urban jungle. The BMW 2 Series Active Tourer may not be the most exciting offering in the family car segment, however if you’re looking for a wellmade, premiumfeeling car to haul the family around, and you’re not too bothered about looking flash while doing it, this car is certainly worth a lookin. If you’re looking to make the BMW 2 Series Active Tourer your next car, check out the latest offers available on carwow. Alternatively, you can browse used BMW models, and you can sell your car for what it’s really worth.\\\\ Whatcar Review: The BMW 2 Series Active Tourer and other MPVs have been suffering at the hands of SUVs in recent years. In fact, while people carriers used to be the highrise wagon of choice for families, most now go for something that looks a bit more like an offroader. To that end, car manufacturers have been focusing on creating SUVs that fit all niches and have taken their eyes off the MPV ball. BMW hasn’t. Instead, it’s looking to tempt families out of small SUVs with its own sportylooking MPV, the 2 Series Active Tourer. That won’t be easy though, and it’ll take more than just good aesthetics and a premium badge on the nose. So what’s on offer Well, BMW has equipped it with a classleading interior and loads of standard equipment.The 2 Series Active Tourer also comes with the choice of a petrol engine with two different power outputs and mildhybrid assistance or a diesel option. There are also two plugin hybrid (PHEV) variants – perfect for company car drivers and those wanting to keep running costs low., Carwow && Whatcar',\n",
       " \"bmw, 3-series, CarWow Review: The BMW 3 Series is like Alan Shearer. No, it’s not from Newcastle, but like Shearer it has for generations been a reliable and impressive performer, able to outshine European and world opposition at the highest level, and is still going strong even in its advancing years. While Audi might be reinventing the A4 as the new A5 (rather confusingly) and Mercedes has brought out a new CClass while BMW was just updating the 3 Series, this is still a car that looks and feels totally cutting edge, especially in how it drives. Though if you would also consider an electric car, the Tesla Model 3 feels more futuristic still. In terms of styling, the most recent round of updates for the 3 Series haven’t changed that much. There’s been some small nipping and tucking around the lights and grille, some new wheels and paint options, but the overall shape and style remains the same. That’s both good and bad — good in that, overall, the 3 Series is still a handsome thing. Bad in that it hasn’t addressed some design missteps, such as the way the 3 looks overly bulky around the rear wheelarches. Basic Sport models get chrome trim around the radiator grille, while MSport models look a little more glowering with blackedout trim. Watch: Audi A4 v BMW 3 Series v Genesis G70 v Mercedes CClass It’s in the cabin that you’ll find the bigger changes. BMW has binned the (rather attractive) separate digital instruments and infotainment screen in favour of the big, curved, combined screen setup taken from other models such as the 4 Series and 5 Series. This means that the 3 Series now has the latest and most up to date infotainment software — which can update itself via overtheair links — but even though the old iDrive clickwheel has been retained, there are some fiddly bits to find your way around on the screens, and the graphics don’t look quite as nice as they used to. Space in the cabin remains unchanged, which means you get just enough for four adults to sit in reasonable comfort, but there’s not the stretchout space you’d find elsewhere. The boot is practical, especially in the Touring estate, but remember that the plugin hybrid 330e — a hugely popular model with business userchoosers — loses quite a lot of that space to the battery, to the point where a basic VW Golf hatchback has a bigger boot. Not that you’ll care about boot space much when you’re sitting up in the driver’s seat. The BMW 3 Series has long been considered the best of its breed to drive, and that hasn’t changed, despite the fact it’s bigger and heavier now than it has ever been. While we have to wait to see what Audi has cooked up with the new A5 saloon, the 3 Series most definitely has the beating of the otherwiseimpressive Mercedes CClass when it comes to the driving experience. This is still a car that looks and feels totally cutting edge, especially in the way it drives The engine range has shrunk somewhat in the past few years — your choice at the base of the BMW 3 Series lineup is now restricted to the petrol 320i or the plugin hybrid 330e. Byebye diesel 320d — we shall miss your combo of easygoing performance and exceptional economy, though there are plenty of excellent used examples to be found. In fact, there are now no diesel 3 Series models at all, something of a shock when you remember how wildly successful they have been over the years. Mind you, the 330e looks like it might be settling into the 320d’s economy shoes, not least because a big battery upgrade now means that it can do as much as 62 miles on electric power alone, if you remember to charge up the battery (which can’t, alas, be fastcharged from public DC chargers). Of course, if it’s serious performance you want — but you don’t fancy the expense and insurance cost of stepping up to a fullon M3 — there’s the brilliant M340i with its 374hp, straightsix, 3.0litre turbo engine. Whisper it, but that’s actually a more enjoyable car to drive even than the mighty M3 itself. If you want to bag yourself a great deal, check out Carwow’s BMW 3 Series deals. You can also get a great price on a used 3 Series as well as other used BMWs from our network of trusted dealers. Carwow’s Sell My Car service takes the pain out of moving your old motor on, too.\\\\ Whatcar Review: The BMW 3 Series has always done the business for business people – and this latest version is no exception. It's a sporty rearwheeldrive executive car that's available as a taxefficient plugin hybrid and comes with all the latest tech.The 3 Series has moved with the times in other ways too. As part of its recent midlife facelift, the seventhgeneration model we're reviewing here has gained some subtle styling updates – but lost its diesel engines. You can still choose from a range of strong petrol engines to suit most tastes, one with fourwheel drive (BMW calls it xDrive).Once you've factored in all the infotainment goodies and safety equipment you get as standard, the 3 Series looks like it's in with a shot at topping our best executive cars list.BMW 3 Series video reviewLet's not be too hasty though – there are a few other models that give it a run for its money, starting with the 3 Series' longstanding rival, the Mercedes CClass. You might also be considering the greatvalue Skoda Superb or – if an electric car works for you – the Tesla Model 3., Carwow && Whatcar\",\n",
       " \"bmw, 4-series, CarWow Review: The BMW 4 Series is an upmarket coupe that seats four and is designed to be more stylish and fun to drive than the BMW 3 Series saloon on which it’s based. It’s also more fun than its main alternatives, the Audi A5 and Mercedes CClass Coupe. The twodoor 4 Series Coupe sits in a family of 4 Series models, along with the convertible and fivedoor Gran Coupe models, while the BMW i4 The 190hp 420d 2.0litre diesel will cruise more efficiently. If you want maximum punch, the M440d diesel and M440i petrol both have powerful sixcylinder engines with startling performance. Then there’s the highperformance BMW M4, which we have reviewed separately. Handily, all 4 Series models are huge fun to drive. They’re lower and stiffer than a BMW 3 Series, and turn into corners with more agility than an A5 or CClass Coupe. The xDrive allwheel drive system is available with the 420d and standard on the M440 models for added security in slippery conditions, plus BMW offers things like upgraded brakes, a sports differential and adaptive suspension to really spice things up. The M models get this as standard. That agility does mean the 4 Series feels harder over bumps in town, even in its most comfortable driving mode, but otherwise, its standard parking sensors and rear camera make light work of parking. On the motorway, the suspension feels less abrupt and the 4 Series cruises quietly, but like the lumbar support, BMW’s clever adaptive cruise control with lanekeep steering assist costs a fortune to add as part of a pack. More grrr. Despite these minor setbacks, we think the 4 Series is the best of its breed. See how much you could save on a new BMW 4 Series with carwow, or check out our latest used BMWs. And if you need to sell your car, we can help with that too\\\\ Whatcar Review: Historically, BMW coupés have simply been swoopier, less practical versions of their saloon car counterparts. Not any more – the BMW 4 Series is a rakish model in its own right.Sure, the 4 Series is based on the same underpinnings as the more sensibly shaped BMW 3 Series but the differences go well beyond losing the back doors. BMW has widened the car's rear, lowered the centre of gravity, retuned the suspension and stiffened the chassis.All that should help make the 4 Series even more agile and capable than its saloon equivalent through corners. In other words, BMW has worked hard to make sure this is a car with the performance to match its sleek looks.Coupés like the 4 Series are quite niche these days, but has BMW done enough to keep you away from its main rival, the Mercedes CLE Read on to find...OverviewThe BMW 4 Series is great to drive, smart inside and roomier than you might imagine. With its powerful engine, the M440i is great fun, but the 420i strikes the best balance between performance and running costs while still impressing on a twisty road.More fun to drive than a Mercedes CLERangetopping M440i is seriously rapidBack seats are more usable than you might expectSome wind and tyre noiseMercedes CLE comes with more standard kit Best price from £45,195Estimated from £511pmAvailable nowFrom £49,491pm Bmw 4series 420i M Sport 2dr Step Auto review Read our version reviewRRP £45,195See the full rangePerformance driveWhat it’s like to drive, and how quiet it isStrengths+Punchy engines+Rewarding handling+Composed rideWeaknessesSome road noise at speedThe entrylevel engine for the BMW 4 Series is the 181bhp petrol in the 420i, which is rearwheeldrive and is our pick of the range. With a 062mph time of 7.5 seconds, it's quick enough to be fun and loves to be revved – which is in keeping with the character of a sporty coupé., Carwow && Whatcar\",\n",
       " \"bmw, 5-series, CarWow Review: Think of an allrounder, and two things are likely to spring to mind. First will be a Swiss army knife – the global icon for ‘a thing that does everything’ – and the next could well be the BMW 5 Series. Since debuting five decades ago, this posh German saloon has proven time and again that it can offer comfort, bags of practicality, the latest technology and serious performance. It’s a similar story with its two key alternatives – if you’re considering a 5 Series you should also take a look at the Mercedes EClass and Audi A6. Or perhaps the Lexus ES if you want a leftfield option. The latest 5 Series clearly takes hints from BMW’s recent bold design direction as seen on the likes of the 2 Series Coupe and XM, albeit a little more subdued. That said, its styling is rather challenging, lacking the elegance of its predecessors. There are odd, incohesive lines around the headlights and front bumper, a front grille that seemingly mimics beaver teeth and the rear end looks like the designers couldn’t agree on what to do so gave up halfway through the process. Watch: Allelectric BMW i5 review It’s a different story inside, with BMW’s latest infotainment system present and correct, combining a 12.3inch digital drivers’ display with a 14.9inch central screen. Apple CarPlay and Android Auto are included as standard, and operate wirelessly. The overall design is pretty good and although some of the physical buttons have disappeared, forcing you to use the touchscreen more, there are high quality materials and solid build quality to make up for it. Artificial leather upholstery comes as standard, though you can opt for the real stuff, as well as a partAlcantara choice if you’d prefer. So you get all the good tech, but if practicality is key, you might be a touch disappointed. Petrolpowered versions of the new 5 Series promise 520 litres of boot capacity, which is less than the Mercedes EClass and Audi A6, though not by much. On the plus side, unlike those two cars the BMW’s boot doesn’t lose capacity in the plugin hybrid version. A Touring estate version will arrive later if you need the extra room. The BMW 5 Series is available with one petrol engine, offering 208hp, and a pair of plugin hybrid versions with up to 489hp. Notably, there’s no diesel version, which is a sign of the times given that this model is typically popular with those who rack up serious motorway mileage. The BMW 5 Series is comfortable to drive and has a lovely interior – shame the outside just looks so… bleugh It’s goodbye to diesel, but hello to electric for the first time in a 5 Series. The i5 – reviewed separately here – will do up to 361 miles on a charge, but is quite a bit more expensive than the petrolpowered model. As you might expect, the BMW 5 Series is a comfortable and refined motorway cruiser. There’s a little bit of wind and road noise but overall it’s a relaxing way to rack up miles. However, BMWs usually excel at also being great fun on a twisty road, but the latest 5 Series is a bit disappointing in this regard. The steering is numb and doesn’t give much feedback about how much grip the tyres have, while the car just generally lacks the eagerness to turn into a corner that made old versions so much fun to drive. An Audi A6 is, surprisingly, more fun here… Regardless, this is a great allrounder and just a fraction better overall than the Mercedes EClass and Audi A6. Want one Check out the latest BMW 5 Series deals available through Carwow. You can also see how much you could save on a used 5 Series from our network of trusted dealers, as well as other used BMWs. You can sell your car through Carwow, too.\\\\ Whatcar Review: Lionel Messi has won football’s Ballon d'Or a record eight times, but he’s still got nothing on the BMW 5 Series, which has won 27 What Car Awards over the years – more than any other model.Part of the reason for the 5 Series' sustained success is that BMW has done a great job of keeping it up to date. The latest version is even available as an electric car – the BMW i5 – which you can read about in our separate review. However, here we’re focusing on the other variants.The cheapest option is the 520i, which uses a 205bhp 2.0litre mildhybrid petrol engine, and there are also two plugin hybrids: the 530e, which produces 295bhp, and the 550e, with a whopping 482bhp. (Or, for the performance version, see our BMW M5 review.)BMW 5 Series video reviewRivals include the Audi A6 and Mercedes EClass so in this review we’ll look at how the latest BMW 5 Series compares with those cars in key areas. We'll cover everything from the way it drives to how practical it is and how much it will cost to run. Read on to find out how we rate it..., Carwow && Whatcar\"]"
      ]
     },
     "execution_count": 104,
     "metadata": {},
     "output_type": "execute_result"
    }
   ],
   "source": [
    "reviews = []\n",
    "for idx, row in df_combined.iterrows():\n",
    "    brand = row['brand']\n",
    "    model = row['model']\n",
    "    text: str = row['text']\n",
    "    source = row['source']\n",
    "    review = f\"{brand}, {model}, {text.strip()}, {source}\"\n",
    "    reviews.append(review)\n",
    "\n",
    "reviews[:5]"
   ]
  },
  {
   "cell_type": "code",
   "execution_count": 105,
   "id": "18ac30c9",
   "metadata": {},
   "outputs": [],
   "source": [
    "# Creation of the dataframe\n",
    "df_new = pd.DataFrame(\n",
    "    columns = [\n",
    "        'Brand', \n",
    "        'Model', \n",
    "        'Source', \n",
    "        'Drive', \n",
    "        'Quality of interior', \n",
    "        'Infotainment system', \n",
    "        'Comfort', \n",
    "        'Performance',\n",
    "        'Handling', \n",
    "        'Practicality',  \n",
    "        'Reliability', \n",
    "        'Safety', \n",
    "        'Quality of construction', \n",
    "        'Noise', \n",
    "        'Engine', \n",
    "        'Price',\n",
    "        'Overall',\n",
    "    ]\n",
    ")"
   ]
  },
  {
   "cell_type": "code",
   "execution_count": 110,
   "id": "ec395e8d",
   "metadata": {},
   "outputs": [],
   "source": [
    "model_llm = [\"deepseek-r1:8b\", \"llama3.1:8b-instruct-q5_K_M\", \"gemma3:4b\", \"gemma3:4b-it-q8_0\", \"llama3.1:8b-instruct-q2_K\", \"llama3.2:3b-instruct-q5_K_M\"]"
   ]
  },
  {
   "cell_type": "code",
   "execution_count": 111,
   "id": "8fabd62d",
   "metadata": {},
   "outputs": [],
   "source": [
    "def extract_insights_ollama(text):\n",
    "    response = ollama.chat(\n",
    "        model=model_llm[2],\n",
    "        messages=[\n",
    "            {'role': 'system', 'content': system_information},\n",
    "            {'role': 'user', 'content': text}\n",
    "        ],\n",
    "    )    \n",
    "    return response['message']['content'].strip()"
   ]
  },
  {
   "cell_type": "code",
   "execution_count": 112,
   "id": "60224284",
   "metadata": {},
   "outputs": [
    {
     "name": "stdout",
     "output_type": "stream",
     "text": [
      "\n",
      "[Ollama] Elaborazione recensione 1/91...\n",
      "[Ollama] Risultato pulito (17 campi): ['BMW', '1-Series', 'Carwow && Whatcar', 'Excellent', 'Excellent', 'Impressive', 'Positive', 'Positive', 'Neutral', 'Adequate', 'Neutral', 'Positive', 'Medium', 'High', 'Medium', 'High', 'Medium']\n",
      "\n",
      "[Ollama] Elaborazione recensione 2/91...\n",
      "[Ollama] Risultato pulito (17 campi): ['BMW', '2-Series Active Tourer', 'Carwow && Whatcar', 'Drive', 'Excellent', 'Positive', 'Positive', 'Positive', 'Neutral', 'Neutral', 'Positive', 'Positive', 'Positive', 'Excellent', 'Neutral', 'Positive', 'Medium||Positive']\n",
      "\n",
      "[Ollama] Elaborazione recensione 3/91...\n",
      "[Ollama] Risultato pulito (15 campi): ['BMW', '3-Series', 'CarWow && Whatcar', 'Positive', 'Excellent', 'Positive', 'Positive', 'Negative', 'Neutral', 'Negative', 'Positive', 'Negative', 'Medium', 'High', 'Positive']\n",
      "[Ollama] Formato non valido, secondo tentativo...\n",
      "[Ollama] Secondo tentativo (15 campi): ['BMW', '3-Series', 'CarWow && Whatcar', 'Positive', 'Excellent', 'Positive', 'Positive', 'Negative', 'Neutral', 'Negative', 'Positive', 'Negative', 'Medium', 'High', 'Positive']\n"
     ]
    },
    {
     "ename": "ValueError",
     "evalue": "Numero di campi non corretto (attesi 17).",
     "output_type": "error",
     "traceback": [
      "\u001b[0;31m---------------------------------------------------------------------------\u001b[0m",
      "\u001b[0;31mValueError\u001b[0m                                Traceback (most recent call last)",
      "Cell \u001b[0;32mIn[112], line 32\u001b[0m\n\u001b[1;32m     29\u001b[0m     \u001b[38;5;28mprint\u001b[39m(\u001b[38;5;124mf\u001b[39m\u001b[38;5;124m\"\u001b[39m\u001b[38;5;124m[Ollama] Secondo tentativo (\u001b[39m\u001b[38;5;132;01m{\u001b[39;00m\u001b[38;5;28mlen\u001b[39m(result)\u001b[38;5;132;01m}\u001b[39;00m\u001b[38;5;124m campi):\u001b[39m\u001b[38;5;124m\"\u001b[39m, result)\n\u001b[1;32m     31\u001b[0m \u001b[38;5;28;01mif\u001b[39;00m \u001b[38;5;28mlen\u001b[39m(result) \u001b[38;5;241m!=\u001b[39m \u001b[38;5;241m17\u001b[39m:\n\u001b[0;32m---> 32\u001b[0m     \u001b[38;5;28;01mraise\u001b[39;00m \u001b[38;5;167;01mValueError\u001b[39;00m(\u001b[38;5;124m\"\u001b[39m\u001b[38;5;124mNumero di campi non corretto (attesi 17).\u001b[39m\u001b[38;5;124m\"\u001b[39m)\n\u001b[1;32m     34\u001b[0m \u001b[38;5;66;03m# Store only the 17 fields\u001b[39;00m\n\u001b[1;32m     35\u001b[0m df_new\u001b[38;5;241m.\u001b[39mloc[i] \u001b[38;5;241m=\u001b[39m [field\u001b[38;5;241m.\u001b[39mstrip() \u001b[38;5;28;01mfor\u001b[39;00m field \u001b[38;5;129;01min\u001b[39;00m result]\n",
      "\u001b[0;31mValueError\u001b[0m: Numero di campi non corretto (attesi 17)."
     ]
    }
   ],
   "source": [
    "for i in range(len(reviews)):\n",
    "    \n",
    "    print(f\"\\n[Ollama] Elaborazione recensione {i + 1}/{len(reviews)}...\")\n",
    "    \n",
    "    insights: str = extract_insights_ollama(reviews[i])\n",
    "\n",
    "    # Extract inside triple backticks\n",
    "    match = re.search(r'```(.*?)```', insights, flags=re.DOTALL)\n",
    "    if match:\n",
    "        insights_clean = match.group(1).strip()\n",
    "    else:\n",
    "        print(\"[Ollama] Nessun blocco con backticks trovato, uso l'intero testo.\")\n",
    "        insights_clean = insights.strip()\n",
    "\n",
    "    # Now split expecting 17 fields\n",
    "    result = insights_clean.split('||', 16)\n",
    "    print(f\"[Ollama] Risultato pulito ({len(result)} campi):\", result)\n",
    "\n",
    "    # Retry if wrong number of fields\n",
    "    if len(result) != 17:\n",
    "        print(\"[Ollama] Formato non valido, secondo tentativo...\")\n",
    "        insights = extract_insights_ollama(reviews[i])\n",
    "        match = re.search(r'```(.*?)```', insights, flags=re.DOTALL)\n",
    "        if match:\n",
    "            insights_clean = match.group(1).strip()\n",
    "        else:\n",
    "            insights_clean = insights.strip()\n",
    "        result = insights_clean.split('||', 16)\n",
    "        print(f\"[Ollama] Secondo tentativo ({len(result)} campi):\", result)\n",
    "\n",
    "    if len(result) != 17:\n",
    "        raise ValueError(\"Numero di campi non corretto (attesi 17).\")\n",
    "\n",
    "    # Store only the 17 fields\n",
    "    df_new.loc[i] = [field.strip() for field in result]\n",
    "\n",
    "    if i == 2:\n",
    "        break"
   ]
  },
  {
   "cell_type": "code",
   "execution_count": null,
   "id": "80a4f200",
   "metadata": {},
   "outputs": [
    {
     "data": {
      "application/vnd.microsoft.datawrangler.viewer.v0+json": {
       "columns": [
        {
         "name": "index",
         "rawType": "int64",
         "type": "integer"
        },
        {
         "name": "Brand",
         "rawType": "object",
         "type": "string"
        },
        {
         "name": "Model",
         "rawType": "object",
         "type": "string"
        },
        {
         "name": "Source",
         "rawType": "object",
         "type": "string"
        },
        {
         "name": "Drive",
         "rawType": "object",
         "type": "string"
        },
        {
         "name": "Quality of interior",
         "rawType": "object",
         "type": "string"
        },
        {
         "name": "Infotainment system",
         "rawType": "object",
         "type": "string"
        },
        {
         "name": "Comfort",
         "rawType": "object",
         "type": "string"
        },
        {
         "name": "Performance",
         "rawType": "object",
         "type": "string"
        },
        {
         "name": "Handling",
         "rawType": "object",
         "type": "string"
        },
        {
         "name": "Practicality",
         "rawType": "object",
         "type": "string"
        },
        {
         "name": "Reliability",
         "rawType": "object",
         "type": "string"
        },
        {
         "name": "Safety",
         "rawType": "object",
         "type": "string"
        },
        {
         "name": "Quality of construction",
         "rawType": "object",
         "type": "string"
        },
        {
         "name": "Noise",
         "rawType": "object",
         "type": "string"
        },
        {
         "name": "Engine",
         "rawType": "object",
         "type": "string"
        },
        {
         "name": "Price",
         "rawType": "object",
         "type": "string"
        },
        {
         "name": "Overall",
         "rawType": "object",
         "type": "string"
        }
       ],
       "ref": "b4747651-8d8b-4ce6-80dd-d5fc45635e56",
       "rows": [
        [
         "0",
         "BMW",
         "1-Series",
         "CarWow Review",
         "Positive",
         "Excellent",
         "Positive",
         "Positive",
         "Positive",
         "Negative",
         "Neutral",
         "Negative",
         "Positive",
         "Negative",
         "Medium",
         "Very high",
         "Negative",
         "BMW||1-Series||Whatcar Review||Positive||Excellent||Positive||Positive||Neutral||Neutral||Negative||Positive||Neutral||Negative||Medium||High||Negative||"
        ],
        [
         "1",
         "```BMW",
         "2-Series Active Tourer",
         "CarWow Review",
         "Positive",
         "Neutral",
         "Positive",
         "Negative",
         "Neutral",
         "Reliable",
         "Positive",
         "Neutral",
         "Positive",
         "Negative",
         "Very Low",
         "Low",
         "Medium",
         "High||``"
        ],
        [
         "2",
         "bmw",
         "3-series",
         "(seventh generation)",
         "Negative",
         "Very good",
         "Not mentioned",
         "Positive",
         "Positive",
         "Positive",
         "Positive",
         "Positive",
         "Negative",
         "Neutral",
         "Negative",
         "High",
         "Very high",
         "Overall"
        ]
       ],
       "shape": {
        "columns": 17,
        "rows": 3
       }
      },
      "text/html": [
       "<div>\n",
       "<style scoped>\n",
       "    .dataframe tbody tr th:only-of-type {\n",
       "        vertical-align: middle;\n",
       "    }\n",
       "\n",
       "    .dataframe tbody tr th {\n",
       "        vertical-align: top;\n",
       "    }\n",
       "\n",
       "    .dataframe thead th {\n",
       "        text-align: right;\n",
       "    }\n",
       "</style>\n",
       "<table border=\"1\" class=\"dataframe\">\n",
       "  <thead>\n",
       "    <tr style=\"text-align: right;\">\n",
       "      <th></th>\n",
       "      <th>Brand</th>\n",
       "      <th>Model</th>\n",
       "      <th>Source</th>\n",
       "      <th>Drive</th>\n",
       "      <th>Quality of interior</th>\n",
       "      <th>Infotainment system</th>\n",
       "      <th>Comfort</th>\n",
       "      <th>Performance</th>\n",
       "      <th>Handling</th>\n",
       "      <th>Practicality</th>\n",
       "      <th>Reliability</th>\n",
       "      <th>Safety</th>\n",
       "      <th>Quality of construction</th>\n",
       "      <th>Noise</th>\n",
       "      <th>Engine</th>\n",
       "      <th>Price</th>\n",
       "      <th>Overall</th>\n",
       "    </tr>\n",
       "  </thead>\n",
       "  <tbody>\n",
       "    <tr>\n",
       "      <th>0</th>\n",
       "      <td>BMW</td>\n",
       "      <td>1-Series</td>\n",
       "      <td>CarWow Review</td>\n",
       "      <td>Positive</td>\n",
       "      <td>Excellent</td>\n",
       "      <td>Positive</td>\n",
       "      <td>Positive</td>\n",
       "      <td>Positive</td>\n",
       "      <td>Negative</td>\n",
       "      <td>Neutral</td>\n",
       "      <td>Negative</td>\n",
       "      <td>Positive</td>\n",
       "      <td>Negative</td>\n",
       "      <td>Medium</td>\n",
       "      <td>Very high</td>\n",
       "      <td>Negative</td>\n",
       "      <td>BMW||1-Series||Whatcar Review||Positive||Excel...</td>\n",
       "    </tr>\n",
       "    <tr>\n",
       "      <th>1</th>\n",
       "      <td>```BMW</td>\n",
       "      <td>2-Series Active Tourer</td>\n",
       "      <td>CarWow Review</td>\n",
       "      <td>Positive</td>\n",
       "      <td>Neutral</td>\n",
       "      <td>Positive</td>\n",
       "      <td>Negative</td>\n",
       "      <td>Neutral</td>\n",
       "      <td>Reliable</td>\n",
       "      <td>Positive</td>\n",
       "      <td>Neutral</td>\n",
       "      <td>Positive</td>\n",
       "      <td>Negative</td>\n",
       "      <td>Very Low</td>\n",
       "      <td>Low</td>\n",
       "      <td>Medium</td>\n",
       "      <td>High||``</td>\n",
       "    </tr>\n",
       "    <tr>\n",
       "      <th>2</th>\n",
       "      <td>bmw</td>\n",
       "      <td>3-series</td>\n",
       "      <td>(seventh generation)</td>\n",
       "      <td>Negative</td>\n",
       "      <td>Very good</td>\n",
       "      <td>Not mentioned</td>\n",
       "      <td>Positive</td>\n",
       "      <td>Positive</td>\n",
       "      <td>Positive</td>\n",
       "      <td>Positive</td>\n",
       "      <td>Positive</td>\n",
       "      <td>Negative</td>\n",
       "      <td>Neutral</td>\n",
       "      <td>Negative</td>\n",
       "      <td>High</td>\n",
       "      <td>Very high</td>\n",
       "      <td>Overall</td>\n",
       "    </tr>\n",
       "  </tbody>\n",
       "</table>\n",
       "</div>"
      ],
      "text/plain": [
       "    Brand                   Model                Source     Drive  \\\n",
       "0     BMW                1-Series         CarWow Review  Positive   \n",
       "1  ```BMW  2-Series Active Tourer         CarWow Review  Positive   \n",
       "2     bmw                3-series  (seventh generation)  Negative   \n",
       "\n",
       "  Quality of interior Infotainment system   Comfort Performance  Handling  \\\n",
       "0           Excellent            Positive  Positive    Positive  Negative   \n",
       "1             Neutral            Positive  Negative     Neutral  Reliable   \n",
       "2           Very good       Not mentioned  Positive    Positive  Positive   \n",
       "\n",
       "  Practicality Reliability    Safety Quality of construction     Noise  \\\n",
       "0      Neutral    Negative  Positive                Negative    Medium   \n",
       "1     Positive     Neutral  Positive                Negative  Very Low   \n",
       "2     Positive    Positive  Negative                 Neutral  Negative   \n",
       "\n",
       "      Engine      Price                                            Overall  \n",
       "0  Very high   Negative  BMW||1-Series||Whatcar Review||Positive||Excel...  \n",
       "1        Low     Medium                                           High||``  \n",
       "2       High  Very high                                            Overall  "
      ]
     },
     "execution_count": 78,
     "metadata": {},
     "output_type": "execute_result"
    }
   ],
   "source": [
    "df_new.head()"
   ]
  },
  {
   "cell_type": "code",
   "execution_count": null,
   "id": "84537842",
   "metadata": {},
   "outputs": [],
   "source": []
  }
 ],
 "metadata": {
  "kernelspec": {
   "display_name": ".venv",
   "language": "python",
   "name": "python3"
  },
  "language_info": {
   "codemirror_mode": {
    "name": "ipython",
    "version": 3
   },
   "file_extension": ".py",
   "mimetype": "text/x-python",
   "name": "python",
   "nbconvert_exporter": "python",
   "pygments_lexer": "ipython3",
   "version": "3.10.12"
  }
 },
 "nbformat": 4,
 "nbformat_minor": 5
}
