{
 "cells": [
  {
   "cell_type": "markdown",
   "id": "8742435d",
   "metadata": {},
   "source": [
    "### Perform removing important content and perform sentiment analysis"
   ]
  },
  {
   "cell_type": "code",
   "execution_count": null,
   "id": "15a66e27",
   "metadata": {},
   "outputs": [],
   "source": [
    "import re\n",
    "import ollama\n",
    "import pandas as pd"
   ]
  },
  {
   "cell_type": "code",
   "execution_count": null,
   "id": "4d15eea7",
   "metadata": {},
   "outputs": [],
   "source": [
    "def extract_important_content(text):\n",
    "    # Rimuovi frasi introduttive generiche\n",
    "    text = re.sub(r'\\bWhat Car\\? says\\.{0,3}', '', text, flags=re.IGNORECASE)\n",
    "    text = re.sub(r'\\bIs the [^?]+\\? ?', '', text, flags=re.IGNORECASE)\n",
    "\n",
    "    # Rimuovi riferimenti a video e inviti alla lettura\n",
    "    text = re.sub(r'\\b[\\w\\s]*video review\\b', '', text, flags=re.IGNORECASE)\n",
    "    text = re.sub(r'Read on to find out…', '', text, flags=re.IGNORECASE)\n",
    "\n",
    "    # Rimuovi solo le frasi promozionali, senza mangiare testo prima/dopo\n",
    "    text = re.sub(r'Sound interesting\\?', '', text, flags=re.IGNORECASE)\n",
    "    text = re.sub(r'Check here for our best [^.]+\\.', '', text, flags=re.IGNORECASE)\n",
    "    text = re.sub(r'look for a used [^.]+\\.', '', text, flags=re.IGNORECASE)\n",
    "    text = re.sub(r'You could also check out other used [^.]+\\.', '', text, flags=re.IGNORECASE)\n",
    "    text = re.sub(r'Want to sell your car online\\? Carwow can help with that, too\\.', '', text, flags=re.IGNORECASE)\n",
    "    text = re.sub(r'Carwow can even help you sell your car online too\\.', '', text, flags=re.IGNORECASE)\n",
    "    text = re.sub(r'head on over to our .*? deals page to see how much money .*? can save you\\.', '', text, flags=re.IGNORECASE)\n",
    "\n",
    "    # Rimuovi firme\n",
    "    text = re.sub(r'Mat Watson Expert Car Reviewer', '', text, flags=re.IGNORECASE)\n",
    "\n",
    "    # Rimuovi blocchi con solo listini/offerte (ma non specifiche tecniche)\n",
    "    text = re.sub(r'(New car deals|Leasing deals).*?(From £[0-9,]+)?', '', text, flags=re.IGNORECASE)\n",
    "\n",
    "    # Rimuovi intestazioni vuote (es. \"Overview\", \"Performance & drive\", se isolate)\n",
    "    text = re.sub(r'\\b(Overview|Our Pick|Performance & drive|Strengths|Weaknesses|Verdict|Specification)\\b\\s*', '', text)\n",
    "\n",
    "    # Rimuovi caratteri superflui: - \\ | ? ! $ % &\n",
    "    text = re.sub(r'[-\\\\|?!$%&]', '', text)\n",
    "\n",
    "    # Pulisci spazi extra\n",
    "    text = re.sub(r'\\s+', ' ', text).strip()\n",
    "\n",
    "    return text"
   ]
  },
  {
   "cell_type": "code",
   "execution_count": null,
   "id": "7277dc58",
   "metadata": {},
   "outputs": [],
   "source": [
    "df = pd.read_csv(\"file_txt/auto_review_no_processed.csv\")\n",
    "df.head()"
   ]
  },
  {
   "cell_type": "code",
   "execution_count": null,
   "id": "e1b0a20c",
   "metadata": {},
   "outputs": [],
   "source": [
    "for index, element in df['text'].items():\n",
    "    df.loc[index, 'text'] = extract_important_content(element)"
   ]
  },
  {
   "cell_type": "code",
   "execution_count": null,
   "id": "0573a0be",
   "metadata": {},
   "outputs": [],
   "source": [
    "df.head()"
   ]
  },
  {
   "cell_type": "code",
   "execution_count": null,
   "id": "76f04f02",
   "metadata": {},
   "outputs": [],
   "source": [
    "# Combine reviews from different sources for each (brand, model) pair\n",
    "def combine_reviews(group):\n",
    "    # If two reviews exist, append the second to the first (text and source)\n",
    "    if len(group) == 2:\n",
    "        combined_text = \"CarWow Review: \" + group.iloc[0]['text'] + \"\\ Whatcar Review: \" + group.iloc[1]['text']\n",
    "        combined_source = group.iloc[0]['source'] + \" && \" + group.iloc[1]['source']\n",
    "        return pd.Series({\n",
    "            'brand': group.iloc[0]['brand'],\n",
    "            'model': group.iloc[0]['model'],\n",
    "            'text': combined_text,\n",
    "            'source': combined_source\n",
    "        })\n",
    "    else:\n",
    "        # If only one review, keep as is\n",
    "        combined_text = group.iloc[0]['source'] + \" Review: \" + group.iloc[0]['text']\n",
    "        return pd.Series({\n",
    "            'brand': group.iloc[0]['brand'],\n",
    "            'model': group.iloc[0]['model'],\n",
    "            'text': combined_text,\n",
    "            'source': group.iloc[0]['source']\n",
    "        })"
   ]
  },
  {
   "cell_type": "code",
   "execution_count": null,
   "id": "31899f25",
   "metadata": {},
   "outputs": [],
   "source": [
    "df_combined = (\n",
    "    df.groupby(['brand', 'model'], as_index=False, group_keys=False)\n",
    "      .apply(combine_reviews)\n",
    "      .reset_index(drop=True)\n",
    ")\n",
    "\n",
    "print(len(df_combined))\n",
    "df_combined.head(10)"
   ]
  },
  {
   "cell_type": "code",
   "execution_count": null,
   "id": "af4e3c7e",
   "metadata": {},
   "outputs": [],
   "source": [
    "with open(\"file_txt/system_information.txt\", \"r\") as f:\n",
    "    system_information = f.read()\n",
    "print(f\"{system_information.strip()}\")"
   ]
  },
  {
   "cell_type": "code",
   "execution_count": null,
   "id": "92498000",
   "metadata": {},
   "outputs": [],
   "source": [
    "reviews = []\n",
    "for idx, row in df_combined.iterrows():\n",
    "    brand = row['brand']\n",
    "    model = row['model']\n",
    "    text: str = row['text']\n",
    "    source = row['source']\n",
    "    review = f\"{brand}, {model}, {text.strip()}, {source}\"\n",
    "    reviews.append(review)\n",
    "\n",
    "reviews[:5]"
   ]
  },
  {
   "cell_type": "code",
   "execution_count": null,
   "id": "6586ff3c",
   "metadata": {},
   "outputs": [],
   "source": [
    "# Creation of the dataframe\n",
    "df_new = pd.DataFrame(\n",
    "    columns = [\n",
    "        'Brand', \n",
    "        'Model', \n",
    "        'Source', \n",
    "        'Drive', \n",
    "        'Quality of interior', \n",
    "        'Infotainment system', \n",
    "        'Comfort', \n",
    "        'Performance',\n",
    "        'Handling', \n",
    "        'Practicality',  \n",
    "        'Reliability', \n",
    "        'Safety', \n",
    "        'Quality of construction', \n",
    "        'Noise', \n",
    "        'Engine', \n",
    "        'Price',\n",
    "        'Overall',\n",
    "    ]\n",
    ")"
   ]
  },
  {
   "cell_type": "code",
   "execution_count": null,
   "id": "1b76e1b8",
   "metadata": {},
   "outputs": [],
   "source": [
    "model_llm = [\"deepseek-r1:8b\", \"llama3.1:8b-instruct-q5_K_M\", \"gemma3:4b\", \"gemma3:4b-it-q8_0\", \"llama3.1:8b-instruct-q2_K\", \"llama3.2:3b-instruct-q5_K_M\", \"gemma3:1b\"]\n",
    "model_llm[4]"
   ]
  },
  {
   "cell_type": "code",
   "execution_count": null,
   "id": "4465013e",
   "metadata": {},
   "outputs": [],
   "source": [
    "def extract_insights_ollama(text):\n",
    "    response = ollama.chat(\n",
    "        model=model_llm[4],\n",
    "        messages=[\n",
    "            {'role': 'system', 'content': system_information},\n",
    "            {'role': 'user', 'content': text}\n",
    "        ],\n",
    "    )    \n",
    "    return response['message']['content'].strip()\n",
    "\n",
    "def extract_backtick_block(s):\n",
    "    m = re.search(r'```(.*?)```', s, flags=re.DOTALL)\n",
    "    return m.group(1).strip() if m else s.strip()\n",
    "\n",
    "def normalize_pipes(s):\n",
    "    return re.sub(r'\\s*\\|\\|\\s*', ' || ', s)"
   ]
  },
  {
   "cell_type": "code",
   "execution_count": null,
   "id": "c5442797",
   "metadata": {},
   "outputs": [],
   "source": [
    "fmt_prompt = [\n",
    "            \"Remember to return the Brand, the model and the source with the other 14 sentiment you have to output!\",\n",
    "            \"Perform again the sentiment analysis.\"\n",
    "]\n",
    "fmt_prompt"
   ]
  },
  {
   "cell_type": "code",
   "execution_count": null,
   "id": "2f341c83",
   "metadata": {},
   "outputs": [],
   "source": [
    "error = 0\n",
    "for i, review in enumerate(reviews):\n",
    "    \n",
    "    print(f\"Processing {i+1}/{len(reviews)}…\")\n",
    "    raw = extract_insights_ollama(review)\n",
    "    cleaned = normalize_pipes(extract_backtick_block(raw))\n",
    "    parts = cleaned.split(' || ')\n",
    "\n",
    "    retries = 0\n",
    "    while len(parts) != 17 and retries < 10:\n",
    "        print(f\"Invalid format: {len(parts)}. Retrying…\")\n",
    "        print(\"Last malformed response:\\n\", raw)\n",
    "        retry_prompt = (\n",
    "            system_information.strip()\n",
    "            + \"\\n\\n\"\n",
    "            + f\"You returned {len(parts)} fields instead of 17. Please return the output in this exact format:\\n\"\n",
    "            + \"```Brand || Model || Source || Drive || Quality of interior || Infotainment system || Comfort || Performance || Handling || Practicality || Reliability || Safety || Quality of construction || Noise || Engine || Price || Overall```\\n\\n\"\n",
    "            + \"Perform the analysis again for the following review:\\n\"\n",
    "            + review\n",
    "        )\n",
    "\n",
    "        raw = extract_insights_ollama(retry_prompt)\n",
    "        cleaned = normalize_pipes(extract_backtick_block(raw))\n",
    "        parts = cleaned.split(' || ')\n",
    "        retries += 1\n",
    "\n",
    "    if len(parts) != 17:\n",
    "        print(\"Error: \", len(parts))\n",
    "        parts = [''] * 17\n",
    "        error += 1\n",
    "\n",
    "    df_new.loc[i] = [p.strip() for p in parts]\n",
    "\n",
    "print(error)"
   ]
  },
  {
   "cell_type": "code",
   "execution_count": null,
   "id": "b675e6e3",
   "metadata": {},
   "outputs": [],
   "source": [
    "df_new.to_csv(\"file_txt/auto_review_sentiment.csv\", index=False)"
   ]
  }
 ],
 "metadata": {
  "kernelspec": {
   "display_name": ".venv",
   "language": "python",
   "name": "python3"
  },
  "language_info": {
   "name": "python",
   "version": "3.10.12"
  }
 },
 "nbformat": 4,
 "nbformat_minor": 5
}
