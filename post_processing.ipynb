{
 "cells": [
  {
   "cell_type": "code",
   "execution_count": 2,
   "id": "e8c56307",
   "metadata": {},
   "outputs": [],
   "source": [
    "import pandas as pd\n",
    "import numpy as np"
   ]
  },
  {
   "cell_type": "code",
   "execution_count": 17,
   "id": "f14a3c18",
   "metadata": {},
   "outputs": [
    {
     "data": {
      "application/vnd.microsoft.datawrangler.viewer.v0+json": {
       "columns": [
        {
         "name": "index",
         "rawType": "int64",
         "type": "integer"
        },
        {
         "name": "Brand",
         "rawType": "object",
         "type": "string"
        },
        {
         "name": "Model",
         "rawType": "object",
         "type": "string"
        },
        {
         "name": "Drive",
         "rawType": "object",
         "type": "string"
        },
        {
         "name": "Quality of interior",
         "rawType": "object",
         "type": "string"
        },
        {
         "name": "Infotainment system",
         "rawType": "object",
         "type": "string"
        },
        {
         "name": "Comfort",
         "rawType": "object",
         "type": "string"
        },
        {
         "name": "Performance",
         "rawType": "object",
         "type": "string"
        },
        {
         "name": "Handling",
         "rawType": "object",
         "type": "string"
        },
        {
         "name": "Practicality",
         "rawType": "object",
         "type": "string"
        },
        {
         "name": "Reliability",
         "rawType": "object",
         "type": "string"
        },
        {
         "name": "Safety",
         "rawType": "object",
         "type": "string"
        },
        {
         "name": "Quality of construction",
         "rawType": "object",
         "type": "string"
        },
        {
         "name": "Noise",
         "rawType": "object",
         "type": "string"
        },
        {
         "name": "Engine",
         "rawType": "object",
         "type": "string"
        },
        {
         "name": "Price",
         "rawType": "float64",
         "type": "float"
        },
        {
         "name": "Overall",
         "rawType": "float64",
         "type": "float"
        }
       ],
       "ref": "ed8eca71-2fba-4e51-bc0e-28166dbc1fc4",
       "rows": [
        [
         "0",
         "MG",
         "MG3",
         "Positive",
         "Medium",
         "Positive",
         "Not mentioned",
         "Positive",
         "Positive",
         "Negative",
         "Not mentioned",
         "Not mentioned",
         "Medium",
         "Not mentioned",
         "Positive",
         "16995.0",
         "8.0"
        ],
        [
         "1",
         "MG",
         "HS",
         "Medium",
         "Negative",
         "Negative",
         "Positive",
         "Medium",
         "Negative",
         "Positive",
         "Not mentioned",
         "Not mentioned",
         "Negative",
         "Medium",
         "Positive",
         "25995.0",
         "7.0"
        ],
        [
         "2",
         "MG",
         "Cyberster",
         "Not mentioned",
         "Positive",
         "Negative",
         "Positive",
         "Positive",
         "Medium",
         "Positive",
         "Not mentioned",
         "Not mentioned",
         "Positive",
         "Negative",
         "Not mentioned",
         "54995.0",
         "7.0"
        ],
        [
         "3",
         "MG",
         "ZS",
         "Positive",
         "Medium",
         "Positive",
         "Negative",
         "Medium",
         "Positive",
         "Positive",
         "Not mentioned",
         "Negative",
         "Not mentioned",
         "Negative",
         "Medium",
         "18605.0",
         "6.0"
        ],
        [
         "4",
         "MG",
         "MG4 EV",
         "Positive",
         "Medium",
         "Negative",
         "Positive",
         "Positive",
         "Positive",
         "Mixed",
         "Not mentioned",
         "Not mentioned",
         "Not mentioned",
         "Not mentioned",
         "Positive",
         "26995.0",
         "8.0"
        ]
       ],
       "shape": {
        "columns": 16,
        "rows": 5
       }
      },
      "text/html": [
       "<div>\n",
       "<style scoped>\n",
       "    .dataframe tbody tr th:only-of-type {\n",
       "        vertical-align: middle;\n",
       "    }\n",
       "\n",
       "    .dataframe tbody tr th {\n",
       "        vertical-align: top;\n",
       "    }\n",
       "\n",
       "    .dataframe thead th {\n",
       "        text-align: right;\n",
       "    }\n",
       "</style>\n",
       "<table border=\"1\" class=\"dataframe\">\n",
       "  <thead>\n",
       "    <tr style=\"text-align: right;\">\n",
       "      <th></th>\n",
       "      <th>Brand</th>\n",
       "      <th>Model</th>\n",
       "      <th>Drive</th>\n",
       "      <th>Quality of interior</th>\n",
       "      <th>Infotainment system</th>\n",
       "      <th>Comfort</th>\n",
       "      <th>Performance</th>\n",
       "      <th>Handling</th>\n",
       "      <th>Practicality</th>\n",
       "      <th>Reliability</th>\n",
       "      <th>Safety</th>\n",
       "      <th>Quality of construction</th>\n",
       "      <th>Noise</th>\n",
       "      <th>Engine</th>\n",
       "      <th>Price</th>\n",
       "      <th>Overall</th>\n",
       "    </tr>\n",
       "  </thead>\n",
       "  <tbody>\n",
       "    <tr>\n",
       "      <th>0</th>\n",
       "      <td>MG</td>\n",
       "      <td>MG3</td>\n",
       "      <td>Positive</td>\n",
       "      <td>Medium</td>\n",
       "      <td>Positive</td>\n",
       "      <td>Not mentioned</td>\n",
       "      <td>Positive</td>\n",
       "      <td>Positive</td>\n",
       "      <td>Negative</td>\n",
       "      <td>Not mentioned</td>\n",
       "      <td>Not mentioned</td>\n",
       "      <td>Medium</td>\n",
       "      <td>Not mentioned</td>\n",
       "      <td>Positive</td>\n",
       "      <td>16995.0</td>\n",
       "      <td>8.0</td>\n",
       "    </tr>\n",
       "    <tr>\n",
       "      <th>1</th>\n",
       "      <td>MG</td>\n",
       "      <td>HS</td>\n",
       "      <td>Medium</td>\n",
       "      <td>Negative</td>\n",
       "      <td>Negative</td>\n",
       "      <td>Positive</td>\n",
       "      <td>Medium</td>\n",
       "      <td>Negative</td>\n",
       "      <td>Positive</td>\n",
       "      <td>Not mentioned</td>\n",
       "      <td>Not mentioned</td>\n",
       "      <td>Negative</td>\n",
       "      <td>Medium</td>\n",
       "      <td>Positive</td>\n",
       "      <td>25995.0</td>\n",
       "      <td>7.0</td>\n",
       "    </tr>\n",
       "    <tr>\n",
       "      <th>2</th>\n",
       "      <td>MG</td>\n",
       "      <td>Cyberster</td>\n",
       "      <td>Not mentioned</td>\n",
       "      <td>Positive</td>\n",
       "      <td>Negative</td>\n",
       "      <td>Positive</td>\n",
       "      <td>Positive</td>\n",
       "      <td>Medium</td>\n",
       "      <td>Positive</td>\n",
       "      <td>Not mentioned</td>\n",
       "      <td>Not mentioned</td>\n",
       "      <td>Positive</td>\n",
       "      <td>Negative</td>\n",
       "      <td>Not mentioned</td>\n",
       "      <td>54995.0</td>\n",
       "      <td>7.0</td>\n",
       "    </tr>\n",
       "    <tr>\n",
       "      <th>3</th>\n",
       "      <td>MG</td>\n",
       "      <td>ZS</td>\n",
       "      <td>Positive</td>\n",
       "      <td>Medium</td>\n",
       "      <td>Positive</td>\n",
       "      <td>Negative</td>\n",
       "      <td>Medium</td>\n",
       "      <td>Positive</td>\n",
       "      <td>Positive</td>\n",
       "      <td>Not mentioned</td>\n",
       "      <td>Negative</td>\n",
       "      <td>Not mentioned</td>\n",
       "      <td>Negative</td>\n",
       "      <td>Medium</td>\n",
       "      <td>18605.0</td>\n",
       "      <td>6.0</td>\n",
       "    </tr>\n",
       "    <tr>\n",
       "      <th>4</th>\n",
       "      <td>MG</td>\n",
       "      <td>MG4 EV</td>\n",
       "      <td>Positive</td>\n",
       "      <td>Medium</td>\n",
       "      <td>Negative</td>\n",
       "      <td>Positive</td>\n",
       "      <td>Positive</td>\n",
       "      <td>Positive</td>\n",
       "      <td>Mixed</td>\n",
       "      <td>Not mentioned</td>\n",
       "      <td>Not mentioned</td>\n",
       "      <td>Not mentioned</td>\n",
       "      <td>Not mentioned</td>\n",
       "      <td>Positive</td>\n",
       "      <td>26995.0</td>\n",
       "      <td>8.0</td>\n",
       "    </tr>\n",
       "  </tbody>\n",
       "</table>\n",
       "</div>"
      ],
      "text/plain": [
       "  Brand      Model          Drive Quality of interior Infotainment system  \\\n",
       "0    MG        MG3       Positive              Medium            Positive   \n",
       "1    MG         HS         Medium            Negative            Negative   \n",
       "2    MG  Cyberster  Not mentioned            Positive            Negative   \n",
       "3    MG         ZS       Positive              Medium            Positive   \n",
       "4    MG     MG4 EV       Positive              Medium            Negative   \n",
       "\n",
       "         Comfort Performance  Handling Practicality    Reliability  \\\n",
       "0  Not mentioned    Positive  Positive     Negative  Not mentioned   \n",
       "1       Positive      Medium  Negative     Positive  Not mentioned   \n",
       "2       Positive    Positive    Medium     Positive  Not mentioned   \n",
       "3       Negative      Medium  Positive     Positive  Not mentioned   \n",
       "4       Positive    Positive  Positive        Mixed  Not mentioned   \n",
       "\n",
       "          Safety Quality of construction          Noise         Engine  \\\n",
       "0  Not mentioned                  Medium  Not mentioned       Positive   \n",
       "1  Not mentioned                Negative         Medium       Positive   \n",
       "2  Not mentioned                Positive       Negative  Not mentioned   \n",
       "3       Negative           Not mentioned       Negative         Medium   \n",
       "4  Not mentioned           Not mentioned  Not mentioned       Positive   \n",
       "\n",
       "     Price  Overall  \n",
       "0  16995.0      8.0  \n",
       "1  25995.0      7.0  \n",
       "2  54995.0      7.0  \n",
       "3  18605.0      6.0  \n",
       "4  26995.0      8.0  "
      ]
     },
     "execution_count": 17,
     "metadata": {},
     "output_type": "execute_result"
    }
   ],
   "source": [
    "df = pd.read_csv(\"info/car_review.csv\")\n",
    "df.head()"
   ]
  },
  {
   "cell_type": "code",
   "execution_count": 18,
   "id": "c5f49c34",
   "metadata": {},
   "outputs": [
    {
     "name": "stdout",
     "output_type": "stream",
     "text": [
      "<class 'pandas.core.frame.DataFrame'>\n",
      "RangeIndex: 203 entries, 0 to 202\n",
      "Data columns (total 16 columns):\n",
      " #   Column                   Non-Null Count  Dtype  \n",
      "---  ------                   --------------  -----  \n",
      " 0   Brand                    203 non-null    object \n",
      " 1   Model                    203 non-null    object \n",
      " 2   Drive                    203 non-null    object \n",
      " 3   Quality of interior      203 non-null    object \n",
      " 4   Infotainment system      203 non-null    object \n",
      " 5   Comfort                  203 non-null    object \n",
      " 6   Performance              203 non-null    object \n",
      " 7   Handling                 203 non-null    object \n",
      " 8   Practicality             203 non-null    object \n",
      " 9   Reliability              203 non-null    object \n",
      " 10  Safety                   203 non-null    object \n",
      " 11  Quality of construction  203 non-null    object \n",
      " 12  Noise                    203 non-null    object \n",
      " 13  Engine                   203 non-null    object \n",
      " 14  Price                    203 non-null    float64\n",
      " 15  Overall                  203 non-null    float64\n",
      "dtypes: float64(2), object(14)\n",
      "memory usage: 25.5+ KB\n"
     ]
    }
   ],
   "source": [
    "df.info()"
   ]
  }
 ],
 "metadata": {
  "kernelspec": {
   "display_name": ".venv",
   "language": "python",
   "name": "python3"
  },
  "language_info": {
   "codemirror_mode": {
    "name": "ipython",
    "version": 3
   },
   "file_extension": ".py",
   "mimetype": "text/x-python",
   "name": "python",
   "nbconvert_exporter": "python",
   "pygments_lexer": "ipython3",
   "version": "3.10.12"
  }
 },
 "nbformat": 4,
 "nbformat_minor": 5
}
