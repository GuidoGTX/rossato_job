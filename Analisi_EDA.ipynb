{
 "cells": [
  {
   "cell_type": "markdown",
   "id": "616564cb",
   "metadata": {},
   "source": [
    "# Analisi Esplorativa dei Dati (EDA) e Preparazione del Dataset\n",
    "\n",
    "Questo notebook guida l’analisi esplorativa, la pulizia e la preparazione del dataset di recensioni auto.  \n",
    "Obiettivi:\n",
    "- Analizzare la struttura e la qualità dei dati\n",
    "- Pulire e uniformare il dataset\n",
    "- Creare nuove feature utili\n",
    "- Esplorare le principali distribuzioni e relazioni tra variabili\n",
    "- Sintetizzare i principali insight e le azioni correttive adottate"
   ]
  },
  {
   "cell_type": "code",
   "execution_count": 1,
   "id": "e8c56307",
   "metadata": {},
   "outputs": [],
   "source": [
    "import pandas as pd\n",
    "import numpy as np"
   ]
  },
  {
   "cell_type": "code",
   "execution_count": 2,
   "id": "f14a3c18",
   "metadata": {},
   "outputs": [
    {
     "data": {
      "application/vnd.microsoft.datawrangler.viewer.v0+json": {
       "columns": [
        {
         "name": "index",
         "rawType": "int64",
         "type": "integer"
        },
        {
         "name": "Brand",
         "rawType": "object",
         "type": "string"
        },
        {
         "name": "Model",
         "rawType": "object",
         "type": "string"
        },
        {
         "name": "Drive",
         "rawType": "object",
         "type": "string"
        },
        {
         "name": "Quality of interior",
         "rawType": "object",
         "type": "string"
        },
        {
         "name": "Infotainment system",
         "rawType": "object",
         "type": "string"
        },
        {
         "name": "Comfort",
         "rawType": "object",
         "type": "string"
        },
        {
         "name": "Performance",
         "rawType": "object",
         "type": "string"
        },
        {
         "name": "Handling",
         "rawType": "object",
         "type": "string"
        },
        {
         "name": "Practicality",
         "rawType": "object",
         "type": "string"
        },
        {
         "name": "Reliability",
         "rawType": "object",
         "type": "string"
        },
        {
         "name": "Safety",
         "rawType": "object",
         "type": "string"
        },
        {
         "name": "Quality of construction",
         "rawType": "object",
         "type": "string"
        },
        {
         "name": "Noise",
         "rawType": "object",
         "type": "string"
        },
        {
         "name": "Engine",
         "rawType": "object",
         "type": "string"
        },
        {
         "name": "Price",
         "rawType": "float64",
         "type": "float"
        },
        {
         "name": "Overall",
         "rawType": "float64",
         "type": "float"
        }
       ],
       "ref": "2be67d71-fc24-46c9-9294-47ee84d14095",
       "rows": [
        [
         "0",
         "MG",
         "MG3",
         "Positive",
         "Medium",
         "Positive",
         "Not mentioned",
         "Positive",
         "Positive",
         "Negative",
         "Not mentioned",
         "Not mentioned",
         "Medium",
         "Not mentioned",
         "Positive",
         "16995.0",
         "8.0"
        ],
        [
         "1",
         "MG",
         "HS",
         "Medium",
         "Negative",
         "Negative",
         "Positive",
         "Medium",
         "Negative",
         "Positive",
         "Not mentioned",
         "Not mentioned",
         "Negative",
         "Medium",
         "Positive",
         "25995.0",
         "7.0"
        ],
        [
         "2",
         "MG",
         "Cyberster",
         "Not mentioned",
         "Positive",
         "Negative",
         "Positive",
         "Positive",
         "Medium",
         "Positive",
         "Not mentioned",
         "Not mentioned",
         "Positive",
         "Negative",
         "Not mentioned",
         "54995.0",
         "7.0"
        ],
        [
         "3",
         "MG",
         "ZS",
         "Positive",
         "Medium",
         "Positive",
         "Negative",
         "Medium",
         "Positive",
         "Positive",
         "Not mentioned",
         "Negative",
         "Not mentioned",
         "Negative",
         "Medium",
         "18605.0",
         "6.0"
        ],
        [
         "4",
         "MG",
         "MG4 EV",
         "Positive",
         "Medium",
         "Negative",
         "Positive",
         "Positive",
         "Positive",
         "Mixed",
         "Not mentioned",
         "Not mentioned",
         "Not mentioned",
         "Not mentioned",
         "Positive",
         "26995.0",
         "8.0"
        ]
       ],
       "shape": {
        "columns": 16,
        "rows": 5
       }
      },
      "text/html": [
       "<div>\n",
       "<style scoped>\n",
       "    .dataframe tbody tr th:only-of-type {\n",
       "        vertical-align: middle;\n",
       "    }\n",
       "\n",
       "    .dataframe tbody tr th {\n",
       "        vertical-align: top;\n",
       "    }\n",
       "\n",
       "    .dataframe thead th {\n",
       "        text-align: right;\n",
       "    }\n",
       "</style>\n",
       "<table border=\"1\" class=\"dataframe\">\n",
       "  <thead>\n",
       "    <tr style=\"text-align: right;\">\n",
       "      <th></th>\n",
       "      <th>Brand</th>\n",
       "      <th>Model</th>\n",
       "      <th>Drive</th>\n",
       "      <th>Quality of interior</th>\n",
       "      <th>Infotainment system</th>\n",
       "      <th>Comfort</th>\n",
       "      <th>Performance</th>\n",
       "      <th>Handling</th>\n",
       "      <th>Practicality</th>\n",
       "      <th>Reliability</th>\n",
       "      <th>Safety</th>\n",
       "      <th>Quality of construction</th>\n",
       "      <th>Noise</th>\n",
       "      <th>Engine</th>\n",
       "      <th>Price</th>\n",
       "      <th>Overall</th>\n",
       "    </tr>\n",
       "  </thead>\n",
       "  <tbody>\n",
       "    <tr>\n",
       "      <th>0</th>\n",
       "      <td>MG</td>\n",
       "      <td>MG3</td>\n",
       "      <td>Positive</td>\n",
       "      <td>Medium</td>\n",
       "      <td>Positive</td>\n",
       "      <td>Not mentioned</td>\n",
       "      <td>Positive</td>\n",
       "      <td>Positive</td>\n",
       "      <td>Negative</td>\n",
       "      <td>Not mentioned</td>\n",
       "      <td>Not mentioned</td>\n",
       "      <td>Medium</td>\n",
       "      <td>Not mentioned</td>\n",
       "      <td>Positive</td>\n",
       "      <td>16995.0</td>\n",
       "      <td>8.0</td>\n",
       "    </tr>\n",
       "    <tr>\n",
       "      <th>1</th>\n",
       "      <td>MG</td>\n",
       "      <td>HS</td>\n",
       "      <td>Medium</td>\n",
       "      <td>Negative</td>\n",
       "      <td>Negative</td>\n",
       "      <td>Positive</td>\n",
       "      <td>Medium</td>\n",
       "      <td>Negative</td>\n",
       "      <td>Positive</td>\n",
       "      <td>Not mentioned</td>\n",
       "      <td>Not mentioned</td>\n",
       "      <td>Negative</td>\n",
       "      <td>Medium</td>\n",
       "      <td>Positive</td>\n",
       "      <td>25995.0</td>\n",
       "      <td>7.0</td>\n",
       "    </tr>\n",
       "    <tr>\n",
       "      <th>2</th>\n",
       "      <td>MG</td>\n",
       "      <td>Cyberster</td>\n",
       "      <td>Not mentioned</td>\n",
       "      <td>Positive</td>\n",
       "      <td>Negative</td>\n",
       "      <td>Positive</td>\n",
       "      <td>Positive</td>\n",
       "      <td>Medium</td>\n",
       "      <td>Positive</td>\n",
       "      <td>Not mentioned</td>\n",
       "      <td>Not mentioned</td>\n",
       "      <td>Positive</td>\n",
       "      <td>Negative</td>\n",
       "      <td>Not mentioned</td>\n",
       "      <td>54995.0</td>\n",
       "      <td>7.0</td>\n",
       "    </tr>\n",
       "    <tr>\n",
       "      <th>3</th>\n",
       "      <td>MG</td>\n",
       "      <td>ZS</td>\n",
       "      <td>Positive</td>\n",
       "      <td>Medium</td>\n",
       "      <td>Positive</td>\n",
       "      <td>Negative</td>\n",
       "      <td>Medium</td>\n",
       "      <td>Positive</td>\n",
       "      <td>Positive</td>\n",
       "      <td>Not mentioned</td>\n",
       "      <td>Negative</td>\n",
       "      <td>Not mentioned</td>\n",
       "      <td>Negative</td>\n",
       "      <td>Medium</td>\n",
       "      <td>18605.0</td>\n",
       "      <td>6.0</td>\n",
       "    </tr>\n",
       "    <tr>\n",
       "      <th>4</th>\n",
       "      <td>MG</td>\n",
       "      <td>MG4 EV</td>\n",
       "      <td>Positive</td>\n",
       "      <td>Medium</td>\n",
       "      <td>Negative</td>\n",
       "      <td>Positive</td>\n",
       "      <td>Positive</td>\n",
       "      <td>Positive</td>\n",
       "      <td>Mixed</td>\n",
       "      <td>Not mentioned</td>\n",
       "      <td>Not mentioned</td>\n",
       "      <td>Not mentioned</td>\n",
       "      <td>Not mentioned</td>\n",
       "      <td>Positive</td>\n",
       "      <td>26995.0</td>\n",
       "      <td>8.0</td>\n",
       "    </tr>\n",
       "  </tbody>\n",
       "</table>\n",
       "</div>"
      ],
      "text/plain": [
       "  Brand      Model          Drive Quality of interior Infotainment system  \\\n",
       "0    MG        MG3       Positive              Medium            Positive   \n",
       "1    MG         HS         Medium            Negative            Negative   \n",
       "2    MG  Cyberster  Not mentioned            Positive            Negative   \n",
       "3    MG         ZS       Positive              Medium            Positive   \n",
       "4    MG     MG4 EV       Positive              Medium            Negative   \n",
       "\n",
       "         Comfort Performance  Handling Practicality    Reliability  \\\n",
       "0  Not mentioned    Positive  Positive     Negative  Not mentioned   \n",
       "1       Positive      Medium  Negative     Positive  Not mentioned   \n",
       "2       Positive    Positive    Medium     Positive  Not mentioned   \n",
       "3       Negative      Medium  Positive     Positive  Not mentioned   \n",
       "4       Positive    Positive  Positive        Mixed  Not mentioned   \n",
       "\n",
       "          Safety Quality of construction          Noise         Engine  \\\n",
       "0  Not mentioned                  Medium  Not mentioned       Positive   \n",
       "1  Not mentioned                Negative         Medium       Positive   \n",
       "2  Not mentioned                Positive       Negative  Not mentioned   \n",
       "3       Negative           Not mentioned       Negative         Medium   \n",
       "4  Not mentioned           Not mentioned  Not mentioned       Positive   \n",
       "\n",
       "     Price  Overall  \n",
       "0  16995.0      8.0  \n",
       "1  25995.0      7.0  \n",
       "2  54995.0      7.0  \n",
       "3  18605.0      6.0  \n",
       "4  26995.0      8.0  "
      ]
     },
     "execution_count": 2,
     "metadata": {},
     "output_type": "execute_result"
    }
   ],
   "source": [
    "df = pd.read_csv(\"info/car_review.csv\")\n",
    "df.head()"
   ]
  },
  {
   "cell_type": "code",
   "execution_count": 3,
   "id": "c5f49c34",
   "metadata": {},
   "outputs": [
    {
     "name": "stdout",
     "output_type": "stream",
     "text": [
      "<class 'pandas.core.frame.DataFrame'>\n",
      "RangeIndex: 203 entries, 0 to 202\n",
      "Data columns (total 16 columns):\n",
      " #   Column                   Non-Null Count  Dtype  \n",
      "---  ------                   --------------  -----  \n",
      " 0   Brand                    203 non-null    object \n",
      " 1   Model                    203 non-null    object \n",
      " 2   Drive                    203 non-null    object \n",
      " 3   Quality of interior      203 non-null    object \n",
      " 4   Infotainment system      203 non-null    object \n",
      " 5   Comfort                  203 non-null    object \n",
      " 6   Performance              203 non-null    object \n",
      " 7   Handling                 203 non-null    object \n",
      " 8   Practicality             203 non-null    object \n",
      " 9   Reliability              203 non-null    object \n",
      " 10  Safety                   203 non-null    object \n",
      " 11  Quality of construction  203 non-null    object \n",
      " 12  Noise                    203 non-null    object \n",
      " 13  Engine                   203 non-null    object \n",
      " 14  Price                    203 non-null    float64\n",
      " 15  Overall                  203 non-null    float64\n",
      "dtypes: float64(2), object(14)\n",
      "memory usage: 25.5+ KB\n"
     ]
    }
   ],
   "source": [
    "df.info()"
   ]
  },
  {
   "cell_type": "code",
   "execution_count": 4,
   "id": "a31de4d2",
   "metadata": {},
   "outputs": [
    {
     "data": {
      "application/vnd.microsoft.datawrangler.viewer.v0+json": {
       "columns": [
        {
         "name": "index",
         "rawType": "object",
         "type": "string"
        },
        {
         "name": "Price",
         "rawType": "float64",
         "type": "float"
        },
        {
         "name": "Overall",
         "rawType": "float64",
         "type": "float"
        }
       ],
       "ref": "e9ca5254-34b0-43ad-b6aa-dc794b7163ec",
       "rows": [
        [
         "count",
         "203.0",
         "203.0"
        ],
        [
         "mean",
         "41141.01",
         "6.98"
        ],
        [
         "std",
         "29834.42",
         "1.25"
        ],
        [
         "min",
         "4.0",
         "4.0"
        ],
        [
         "25%",
         "22032.5",
         "6.0"
        ],
        [
         "50%",
         "32925.0",
         "7.0"
        ],
        [
         "75%",
         "47560.0",
         "8.0"
        ],
        [
         "max",
         "152450.0",
         "9.0"
        ]
       ],
       "shape": {
        "columns": 2,
        "rows": 8
       }
      },
      "text/html": [
       "<div>\n",
       "<style scoped>\n",
       "    .dataframe tbody tr th:only-of-type {\n",
       "        vertical-align: middle;\n",
       "    }\n",
       "\n",
       "    .dataframe tbody tr th {\n",
       "        vertical-align: top;\n",
       "    }\n",
       "\n",
       "    .dataframe thead th {\n",
       "        text-align: right;\n",
       "    }\n",
       "</style>\n",
       "<table border=\"1\" class=\"dataframe\">\n",
       "  <thead>\n",
       "    <tr style=\"text-align: right;\">\n",
       "      <th></th>\n",
       "      <th>Price</th>\n",
       "      <th>Overall</th>\n",
       "    </tr>\n",
       "  </thead>\n",
       "  <tbody>\n",
       "    <tr>\n",
       "      <th>count</th>\n",
       "      <td>203.00</td>\n",
       "      <td>203.00</td>\n",
       "    </tr>\n",
       "    <tr>\n",
       "      <th>mean</th>\n",
       "      <td>41141.01</td>\n",
       "      <td>6.98</td>\n",
       "    </tr>\n",
       "    <tr>\n",
       "      <th>std</th>\n",
       "      <td>29834.42</td>\n",
       "      <td>1.25</td>\n",
       "    </tr>\n",
       "    <tr>\n",
       "      <th>min</th>\n",
       "      <td>4.00</td>\n",
       "      <td>4.00</td>\n",
       "    </tr>\n",
       "    <tr>\n",
       "      <th>25%</th>\n",
       "      <td>22032.50</td>\n",
       "      <td>6.00</td>\n",
       "    </tr>\n",
       "    <tr>\n",
       "      <th>50%</th>\n",
       "      <td>32925.00</td>\n",
       "      <td>7.00</td>\n",
       "    </tr>\n",
       "    <tr>\n",
       "      <th>75%</th>\n",
       "      <td>47560.00</td>\n",
       "      <td>8.00</td>\n",
       "    </tr>\n",
       "    <tr>\n",
       "      <th>max</th>\n",
       "      <td>152450.00</td>\n",
       "      <td>9.00</td>\n",
       "    </tr>\n",
       "  </tbody>\n",
       "</table>\n",
       "</div>"
      ],
      "text/plain": [
       "           Price  Overall\n",
       "count     203.00   203.00\n",
       "mean    41141.01     6.98\n",
       "std     29834.42     1.25\n",
       "min         4.00     4.00\n",
       "25%     22032.50     6.00\n",
       "50%     32925.00     7.00\n",
       "75%     47560.00     8.00\n",
       "max    152450.00     9.00"
      ]
     },
     "execution_count": 4,
     "metadata": {},
     "output_type": "execute_result"
    }
   ],
   "source": [
    "df.describe().round(2)"
   ]
  },
  {
   "cell_type": "markdown",
   "id": "71ac725c",
   "metadata": {},
   "source": [
    "## Visualizzazione valori unici per colonne categoriche\n",
    "\n",
    "Prendiamo solo le colonne categoriche e visualizziamo i valori univoci per essere sicuri che la sentiment analysis sia andata a buon fine"
   ]
  },
  {
   "cell_type": "code",
   "execution_count": 5,
   "id": "d2501d8c",
   "metadata": {},
   "outputs": [],
   "source": [
    "categorical_col = [\n",
    "    'Drive',\n",
    "    'Quality of interior',\n",
    "    'Infotainment system',\n",
    "    'Comfort',\n",
    "    'Performance',\n",
    "    'Handling',\n",
    "    'Practicality',\n",
    "    'Reliability',\n",
    "    'Safety',\n",
    "    'Quality of construction',\n",
    "    'Noise',\n",
    "    'Engine'\n",
    "]"
   ]
  },
  {
   "cell_type": "code",
   "execution_count": 6,
   "id": "a99119c4",
   "metadata": {},
   "outputs": [
    {
     "name": "stdout",
     "output_type": "stream",
     "text": [
      "['Positive' 'Medium' 'Not mentioned' 'Negative' 'Front-wheel drive']\n",
      "['Medium' 'Negative' 'Positive' 'Not mentioned' 'Mixed']\n",
      "['Positive' 'Negative' 'Medium' 'Not mentioned'\n",
      " 'Mixed (positive for interface, negative for steering wheel controls)']\n",
      "['Not mentioned' 'Positive' 'Negative' 'Mixed' 'Medium']\n",
      "['Positive' 'Medium' 'Not mentioned' 'Neutral' 'Negative'\n",
      " 'Negative for base model, Positive for top-spec model' 'Mixed']\n",
      "['Positive' 'Negative' 'Medium' 'Not mentioned' 'Mixed' 'Neutral']\n",
      "['Negative' 'Positive' 'Mixed' 'Medium' 'Neutral' 'Not mentioned']\n",
      "['Not mentioned' 'Positive']\n",
      "['Not mentioned' 'Negative' 'Positive' 'Medium']\n",
      "['Medium' 'Negative' 'Positive' 'Not mentioned' 'Neutral' 'Mixed' 'Fine'\n",
      " 'High quality']\n",
      "['Not mentioned' 'Medium' 'Negative' 'Positive' 'Neutral']\n",
      "['Positive' 'Not mentioned' 'Medium' 'Mixed' 'Negative' 'Neutral'\n",
      " 'Negative for base model, Positive for top-spec model']\n"
     ]
    }
   ],
   "source": [
    "for col in categorical_col:\n",
    "    print(df[col].unique())"
   ]
  },
  {
   "cell_type": "code",
   "execution_count": 7,
   "id": "41e55b65",
   "metadata": {},
   "outputs": [
    {
     "name": "stdout",
     "output_type": "stream",
     "text": [
      "Drive: ['Positive' 'Medium' 'Not mentioned' 'Negative']\n",
      "Quality of interior: ['Medium' 'Negative' 'Positive' 'Not mentioned']\n",
      "Infotainment system: ['Positive' 'Negative' 'Medium' 'Not mentioned']\n",
      "Comfort: ['Not mentioned' 'Positive' 'Negative' 'Medium']\n",
      "Performance: ['Positive' 'Medium' 'Not mentioned' 'Negative']\n",
      "Handling: ['Positive' 'Negative' 'Medium' 'Not mentioned']\n",
      "Practicality: ['Negative' 'Positive' 'Medium' 'Not mentioned']\n",
      "Reliability: ['Not mentioned' 'Positive']\n",
      "Safety: ['Not mentioned' 'Negative' 'Positive' 'Medium']\n",
      "Quality of construction: ['Medium' 'Negative' 'Positive' 'Not mentioned']\n",
      "Noise: ['Not mentioned' 'Medium' 'Negative' 'Positive']\n",
      "Engine: ['Positive' 'Not mentioned' 'Medium' 'Negative']\n"
     ]
    }
   ],
   "source": [
    "## Procediamo a modificare i valori che non sono Positive, Negative, Neutral/Medium o Not mentioned\n",
    "\n",
    "def clean_sentiment_value(val):\n",
    "    if pd.isnull(val):\n",
    "        return \"Not mentioned\"\n",
    "    val = str(val).strip().lower()\n",
    "    if \"positive\" in val:\n",
    "        return \"Positive\"\n",
    "    if \"negative\" in val:\n",
    "        return \"Negative\"\n",
    "    if \"medium\" in val:\n",
    "        return \"Medium\"\n",
    "    if \"not mentioned\" in val:\n",
    "        return \"Not mentioned\"\n",
    "    if \"neutral\" in val or \"mixed\" in val:\n",
    "        return \"Medium\"\n",
    "    return \"Medium\"\n",
    "\n",
    "for col in categorical_col:\n",
    "    df[col] = df[col].apply(clean_sentiment_value)\n",
    "\n",
    "# Ora puoi ricontrollare i valori unici:\n",
    "for col in categorical_col:\n",
    "    print(f\"{col}: {df[col].unique()}\")"
   ]
  },
  {
   "cell_type": "code",
   "execution_count": 8,
   "id": "25d889ee",
   "metadata": {},
   "outputs": [],
   "source": [
    "## Gestiamo i valori numerici\n",
    "\n",
    "## Conversione prezzi da £ a €\n",
    "# Tasso di cambio: 1 GBP ≈ 1.17 EUR\n",
    "tasso_cambio_gbp_eur = 1.17\n",
    "\n",
    "df['Price_EUR'] = round((df['Price'] * tasso_cambio_gbp_eur), 2)\n",
    "\n",
    "# Sostituisco la colonna originale con quella convertita\n",
    "df['Price'] = df['Price_EUR']\n",
    "df = df.drop('Price_EUR', axis=1)"
   ]
  },
  {
   "cell_type": "code",
   "execution_count": 9,
   "id": "2463cd27",
   "metadata": {},
   "outputs": [
    {
     "data": {
      "application/vnd.microsoft.datawrangler.viewer.v0+json": {
       "columns": [
        {
         "name": "index",
         "rawType": "int64",
         "type": "integer"
        },
        {
         "name": "Brand",
         "rawType": "object",
         "type": "string"
        },
        {
         "name": "Model",
         "rawType": "object",
         "type": "string"
        },
        {
         "name": "Drive",
         "rawType": "object",
         "type": "string"
        },
        {
         "name": "Quality of interior",
         "rawType": "object",
         "type": "string"
        },
        {
         "name": "Infotainment system",
         "rawType": "object",
         "type": "string"
        },
        {
         "name": "Comfort",
         "rawType": "object",
         "type": "string"
        },
        {
         "name": "Performance",
         "rawType": "object",
         "type": "string"
        },
        {
         "name": "Handling",
         "rawType": "object",
         "type": "string"
        },
        {
         "name": "Practicality",
         "rawType": "object",
         "type": "string"
        },
        {
         "name": "Reliability",
         "rawType": "object",
         "type": "string"
        },
        {
         "name": "Safety",
         "rawType": "object",
         "type": "string"
        },
        {
         "name": "Quality of construction",
         "rawType": "object",
         "type": "string"
        },
        {
         "name": "Noise",
         "rawType": "object",
         "type": "string"
        },
        {
         "name": "Engine",
         "rawType": "object",
         "type": "string"
        },
        {
         "name": "Price",
         "rawType": "float64",
         "type": "float"
        },
        {
         "name": "Overall",
         "rawType": "float64",
         "type": "float"
        }
       ],
       "ref": "3c46e9a2-db86-45c6-b972-b5b2d181e236",
       "rows": [
        [
         "53",
         "Fiat",
         "Qubo",
         "Medium",
         "Negative",
         "Not mentioned",
         "Positive",
         "Medium",
         "Positive",
         "Positive",
         "Not mentioned",
         "Negative",
         "Negative",
         "Not mentioned",
         "Medium",
         "4.68",
         "6.0"
        ],
        [
         "172",
         "Peugeot",
         "108",
         "Not mentioned",
         "Positive",
         "Positive",
         "Medium",
         "Negative",
         "Negative",
         "Negative",
         "Positive",
         "Positive",
         "Positive",
         "Negative",
         "Medium",
         "5007.6",
         "6.0"
        ],
        [
         "54",
         "Fiat",
         "500C",
         "Medium",
         "Negative",
         "Positive",
         "Medium",
         "Negative",
         "Negative",
         "Negative",
         "Not mentioned",
         "Not mentioned",
         "Not mentioned",
         "Positive",
         "Negative",
         "5259.15",
         "4.0"
        ],
        [
         "55",
         "Fiat",
         "Tipo",
         "Not mentioned",
         "Medium",
         "Positive",
         "Positive",
         "Negative",
         "Not mentioned",
         "Positive",
         "Not mentioned",
         "Not mentioned",
         "Medium",
         "Medium",
         "Medium",
         "5604.3",
         "6.0"
        ],
        [
         "78",
         "Renault",
         "Kadjar",
         "Positive",
         "Medium",
         "Negative",
         "Positive",
         "Positive",
         "Positive",
         "Positive",
         "Not mentioned",
         "Positive",
         "Medium",
         "Negative",
         "Positive",
         "6189.3",
         "8.0"
        ],
        [
         "44",
         "Dacia",
         "Logan MCV",
         "Medium",
         "Negative",
         "Positive",
         "Negative",
         "Medium",
         "Not mentioned",
         "Positive",
         "Not mentioned",
         "Medium",
         "Negative",
         "Negative",
         "Positive",
         "8663.85",
         "7.0"
        ],
        [
         "76",
         "Renault",
         "Zoe",
         "Positive",
         "Positive",
         "Positive",
         "Positive",
         "Positive",
         "Positive",
         "Negative",
         "Not mentioned",
         "Medium",
         "Not mentioned",
         "Negative",
         "Positive",
         "9007.83",
         "7.0"
        ],
        [
         "86",
         "Citroen",
         "Ami",
         "Positive",
         "Negative",
         "Negative",
         "Positive",
         "Negative",
         "Positive",
         "Negative",
         "Not mentioned",
         "Not mentioned",
         "Negative",
         "Positive",
         "Negative",
         "9014.85",
         "4.0"
        ],
        [
         "81",
         "Renault",
         "Twingo",
         "Positive",
         "Medium",
         "Positive",
         "Negative",
         "Negative",
         "Positive",
         "Positive",
         "Not mentioned",
         "Positive",
         "Medium",
         "Not mentioned",
         "Medium",
         "9634.95",
         "4.0"
        ],
        [
         "64",
         "Renault",
         "Clio-Renaultsport",
         "Not mentioned",
         "Not mentioned",
         "Not mentioned",
         "Not mentioned",
         "Not mentioned",
         "Not mentioned",
         "Not mentioned",
         "Not mentioned",
         "Not mentioned",
         "Not mentioned",
         "Not mentioned",
         "Not mentioned",
         "9634.95",
         "8.0"
        ],
        [
         "186",
         "Peugeot",
         "Partner Tepee",
         "Not mentioned",
         "Not mentioned",
         "Not mentioned",
         "Not mentioned",
         "Not mentioned",
         "Not mentioned",
         "Positive",
         "Not mentioned",
         "Not mentioned",
         "Not mentioned",
         "Not mentioned",
         "Not mentioned",
         "10026.9",
         "8.0"
        ],
        [
         "63",
         "Fiat",
         "Panda Cross",
         "Positive",
         "Negative",
         "Not mentioned",
         "Medium",
         "Positive",
         "Medium",
         "Medium",
         "Not mentioned",
         "Negative",
         "Positive",
         "Not mentioned",
         "Positive",
         "10875.15",
         "6.0"
        ],
        [
         "95",
         "Citroen",
         "C1",
         "Medium",
         "Negative",
         "Positive",
         "Negative",
         "Positive",
         "Positive",
         "Negative",
         "Not mentioned",
         "Medium",
         "Negative",
         "Negative",
         "Positive",
         "10939.5",
         "6.0"
        ],
        [
         "50",
         "Fiat",
         "Punto",
         "Not mentioned",
         "Not mentioned",
         "Not mentioned",
         "Not mentioned",
         "Not mentioned",
         "Not mentioned",
         "Not mentioned",
         "Not mentioned",
         "Not mentioned",
         "Not mentioned",
         "Not mentioned",
         "Not mentioned",
         "11097.45",
         "9.0"
        ],
        [
         "46",
         "Fiat",
         "Tipo Station Wagon",
         "Not mentioned",
         "Negative",
         "Medium",
         "Positive",
         "Medium",
         "Medium",
         "Positive",
         "Not mentioned",
         "Negative",
         "Medium",
         "Negative",
         "Medium",
         "11874.33",
         "4.0"
        ],
        [
         "87",
         "Citroen",
         "C1 Airscape",
         "Medium",
         "Negative",
         "Positive",
         "Negative",
         "Negative",
         "Medium",
         "Negative",
         "Not mentioned",
         "Not mentioned",
         "Not mentioned",
         "Negative",
         "Negative",
         "12805.65",
         "4.0"
        ],
        [
         "174",
         "Peugeot",
         "108 TOP",
         "Not mentioned",
         "Negative",
         "Positive",
         "Medium",
         "Negative",
         "Positive",
         "Negative",
         "Not mentioned",
         "Medium",
         "Not mentioned",
         "Negative",
         "Negative",
         "13004.55",
         "4.0"
        ],
        [
         "57",
         "Fiat",
         "500L MPW",
         "Not mentioned",
         "Positive",
         "Negative",
         "Medium",
         "Medium",
         "Positive",
         "Positive",
         "Not mentioned",
         "Negative",
         "Not mentioned",
         "Not mentioned",
         "Medium",
         "13022.1",
         "6.0"
        ],
        [
         "45",
         "Dacia",
         "Logan MCV Stepway",
         "Not mentioned",
         "Not mentioned",
         "Positive",
         "Not mentioned",
         "Medium",
         "Not mentioned",
         "Not mentioned",
         "Not mentioned",
         "Positive",
         "Not mentioned",
         "Not mentioned",
         "Medium",
         "14472.9",
         "6.0"
        ],
        [
         "102",
         "Citroen",
         "C3 Picasso",
         "Not mentioned",
         "Negative",
         "Negative",
         "Positive",
         "Medium",
         "Negative",
         "Positive",
         "Not mentioned",
         "Not mentioned",
         "Negative",
         "Positive",
         "Negative",
         "15765.75",
         "6.0"
        ],
        [
         "40",
         "Dacia",
         "Sandero",
         "Positive",
         "Medium",
         "Positive",
         "Positive",
         "Not mentioned",
         "Positive",
         "Positive",
         "Not mentioned",
         "Not mentioned",
         "Medium",
         "Negative",
         "Positive",
         "17216.55",
         "7.5"
        ],
        [
         "49",
         "Fiat",
         "500L",
         "Not mentioned",
         "Medium",
         "Not mentioned",
         "Medium",
         "Not mentioned",
         "Not mentioned",
         "Positive",
         "Not mentioned",
         "Not mentioned",
         "Not mentioned",
         "Not mentioned",
         "Not mentioned",
         "17514.9",
         "4.0"
        ],
        [
         "43",
         "Dacia",
         "Spring",
         "Not mentioned",
         "Medium",
         "Positive",
         "Positive",
         "Positive",
         "Not mentioned",
         "Positive",
         "Not mentioned",
         "Not mentioned",
         "Medium",
         "Not mentioned",
         "Positive",
         "17544.15",
         "6.0"
        ],
        [
         "52",
         "Fiat",
         "Panda",
         "Positive",
         "Medium",
         "Not mentioned",
         "Positive",
         "Negative",
         "Positive",
         "Positive",
         "Not mentioned",
         "Positive",
         "Medium",
         "Not mentioned",
         "Negative",
         "17544.15",
         "7.0"
        ],
        [
         "7",
         "MG",
         "GS",
         "Negative",
         "Negative",
         "Negative",
         "Not mentioned",
         "Positive",
         "Negative",
         "Medium",
         "Not mentioned",
         "Negative",
         "Negative",
         "Positive",
         "Medium",
         "18053.1",
         "4.0"
        ],
        [
         "62",
         "Fiat",
         "Panda 4x4",
         "Positive",
         "Medium",
         "Negative",
         "Positive",
         "Medium",
         "Positive",
         "Medium",
         "Not mentioned",
         "Negative",
         "Medium",
         "Not mentioned",
         "Positive",
         "18058.95",
         "7.0"
        ],
        [
         "201",
         "Leapmotor",
         "T03",
         "Positive",
         "Medium",
         "Negative",
         "Medium",
         "Positive",
         "Negative",
         "Medium",
         "Not mentioned",
         "Not mentioned",
         "Medium",
         "Not mentioned",
         "Not mentioned",
         "18714.15",
         "6.0"
        ],
        [
         "39",
         "Dacia",
         "Sandero Stepway",
         "Not mentioned",
         "Positive",
         "Medium",
         "Positive",
         "Negative",
         "Negative",
         "Positive",
         "Not mentioned",
         "Negative",
         "Positive",
         "Not mentioned",
         "Not mentioned",
         "18737.55",
         "6.0"
        ],
        [
         "0",
         "MG",
         "MG3",
         "Positive",
         "Medium",
         "Positive",
         "Not mentioned",
         "Positive",
         "Positive",
         "Negative",
         "Not mentioned",
         "Not mentioned",
         "Medium",
         "Not mentioned",
         "Positive",
         "19884.15",
         "8.0"
        ],
        [
         "89",
         "Citroen",
         "C4 Cactus",
         "Positive",
         "Medium",
         "Positive",
         "Positive",
         "Medium",
         "Not mentioned",
         "Negative",
         "Not mentioned",
         "Positive",
         "Not mentioned",
         "Positive",
         "Positive",
         "20024.55",
         "7.0"
        ],
        [
         "70",
         "Renault",
         "Megane",
         "Medium",
         "Positive",
         "Positive",
         "Positive",
         "Medium",
         "Medium",
         "Medium",
         "Not mentioned",
         "Positive",
         "Positive",
         "Negative",
         "Medium",
         "20580.3",
         "7.0"
        ],
        [
         "173",
         "Peugeot",
         "Traveller",
         "Medium",
         "Medium",
         "Positive",
         "Positive",
         "Negative",
         "Negative",
         "Positive",
         "Not mentioned",
         "Positive",
         "Medium",
         "Negative",
         "Medium",
         "20590.83",
         "5.0"
        ],
        [
         "47",
         "Fiat",
         "500",
         "Not mentioned",
         "Medium",
         "Negative",
         "Negative",
         "Positive",
         "Positive",
         "Positive",
         "Not mentioned",
         "Negative",
         "Not mentioned",
         "Negative",
         "Positive",
         "21054.15",
         "6.0"
        ],
        [
         "92",
         "Citroen",
         "C3 Origin",
         "Medium",
         "Negative",
         "Positive",
         "Positive",
         "Medium",
         "Medium",
         "Positive",
         "Not mentioned",
         "Not mentioned",
         "Negative",
         "Not mentioned",
         "Positive",
         "21089.25",
         "6.0"
        ],
        [
         "100",
         "Citroen",
         "C3",
         "Not mentioned",
         "Positive",
         "Medium",
         "Positive",
         "Positive",
         "Not mentioned",
         "Positive",
         "Not mentioned",
         "Not mentioned",
         "Medium",
         "Not mentioned",
         "Positive",
         "21416.85",
         "8.0"
        ],
        [
         "126",
         "BMW",
         "M135i",
         "Positive",
         "Medium",
         "Positive",
         "Positive",
         "Positive",
         "Positive",
         "Positive",
         "Not mentioned",
         "Not mentioned",
         "Medium",
         "Negative",
         "Positive",
         "21645.0",
         "7.0"
        ],
        [
         "3",
         "MG",
         "ZS",
         "Positive",
         "Medium",
         "Positive",
         "Negative",
         "Medium",
         "Positive",
         "Positive",
         "Not mentioned",
         "Negative",
         "Not mentioned",
         "Negative",
         "Medium",
         "21767.85",
         "6.0"
        ],
        [
         "75",
         "Renault",
         "Megane Sports Tourer",
         "Not mentioned",
         "Medium",
         "Positive",
         "Positive",
         "Positive",
         "Not mentioned",
         "Positive",
         "Not mentioned",
         "Not mentioned",
         "Medium",
         "Not mentioned",
         "Positive",
         "21984.3",
         "8.0"
        ],
        [
         "38",
         "Dacia",
         "Jogger",
         "Positive",
         "Medium",
         "Negative",
         "Positive",
         "Medium",
         "Positive",
         "Positive",
         "Not mentioned",
         "Not mentioned",
         "Medium",
         "Negative",
         "Medium",
         "22194.9",
         "8.0"
        ],
        [
         "73",
         "Renault",
         "Clio",
         "Positive",
         "Medium",
         "Positive",
         "Positive",
         "Medium",
         "Negative",
         "Positive",
         "Not mentioned",
         "Not mentioned",
         "Medium",
         "Medium",
         "Positive",
         "22224.15",
         "8.0"
        ],
        [
         "42",
         "Dacia",
         "Duster",
         "Positive",
         "Medium",
         "Positive",
         "Positive",
         "Positive",
         "Positive",
         "Positive",
         "Not mentioned",
         "Not mentioned",
         "Medium",
         "Not mentioned",
         "Positive",
         "22674.6",
         "9.0"
        ],
        [
         "99",
         "Citroen",
         "Grand C4 SpaceTourer",
         "Positive",
         "Positive",
         "Negative",
         "Medium",
         "Not mentioned",
         "Positive",
         "Positive",
         "Not mentioned",
         "Positive",
         "Positive",
         "Not mentioned",
         "Medium",
         "22984.65",
         "7.0"
        ],
        [
         "98",
         "Citroen",
         "C4 X",
         "Medium",
         "Medium",
         "Negative",
         "Positive",
         "Medium",
         "Not mentioned",
         "Negative",
         "Not mentioned",
         "Not mentioned",
         "Not mentioned",
         "Not mentioned",
         "Medium",
         "23329.8",
         "5.0"
        ],
        [
         "88",
         "Citroen",
         "C4",
         "Positive",
         "Medium",
         "Negative",
         "Positive",
         "Medium",
         "Negative",
         "Not mentioned",
         "Not mentioned",
         "Not mentioned",
         "Medium",
         "Negative",
         "Positive",
         "23329.8",
         "7.0"
        ],
        [
         "169",
         "Peugeot",
         "208",
         "Positive",
         "Positive",
         "Positive",
         "Medium",
         "Positive",
         "Positive",
         "Negative",
         "Not mentioned",
         "Not mentioned",
         "Positive",
         "Medium",
         "Positive",
         "23394.15",
         "8.0"
        ],
        [
         "9",
         "MG",
         "ZS",
         "Positive",
         "Negative",
         "Medium",
         "Positive",
         "Positive",
         "Medium",
         "Positive",
         "Not mentioned",
         "Not mentioned",
         "Not mentioned",
         "Negative",
         "Positive",
         "23394.15",
         "8.0"
        ],
        [
         "94",
         "Citroen",
         "C3 Aircross",
         "Not mentioned",
         "Medium",
         "Negative",
         "Not mentioned",
         "Negative",
         "Not mentioned",
         "Positive",
         "Not mentioned",
         "Not mentioned",
         "Medium",
         "Not mentioned",
         "Negative",
         "24107.85",
         "6.0"
        ],
        [
         "58",
         "Fiat",
         "124 Spider",
         "Positive",
         "Positive",
         "Medium",
         "Positive",
         "Medium",
         "Positive",
         "Negative",
         "Not mentioned",
         "Not mentioned",
         "Positive",
         "Negative",
         "Medium",
         "25026.3",
         "6.0"
        ],
        [
         "17",
         "Volkswagen",
         "Polo",
         "Medium",
         "Positive",
         "Negative",
         "Positive",
         "Negative",
         "Negative",
         "Positive",
         "Not mentioned",
         "Not mentioned",
         "Positive",
         "Medium",
         "Medium",
         "25119.9",
         "7.0"
        ],
        [
         "80",
         "Renault",
         "Scenic",
         "Positive",
         "Positive",
         "Not mentioned",
         "Medium",
         "Not mentioned",
         "Negative",
         "Positive",
         "Positive",
         "Positive",
         "Positive",
         "Not mentioned",
         "Positive",
         "25605.45",
         "8.0"
        ]
       ],
       "shape": {
        "columns": 16,
        "rows": 203
       }
      },
      "text/html": [
       "<div>\n",
       "<style scoped>\n",
       "    .dataframe tbody tr th:only-of-type {\n",
       "        vertical-align: middle;\n",
       "    }\n",
       "\n",
       "    .dataframe tbody tr th {\n",
       "        vertical-align: top;\n",
       "    }\n",
       "\n",
       "    .dataframe thead th {\n",
       "        text-align: right;\n",
       "    }\n",
       "</style>\n",
       "<table border=\"1\" class=\"dataframe\">\n",
       "  <thead>\n",
       "    <tr style=\"text-align: right;\">\n",
       "      <th></th>\n",
       "      <th>Brand</th>\n",
       "      <th>Model</th>\n",
       "      <th>Drive</th>\n",
       "      <th>Quality of interior</th>\n",
       "      <th>Infotainment system</th>\n",
       "      <th>Comfort</th>\n",
       "      <th>Performance</th>\n",
       "      <th>Handling</th>\n",
       "      <th>Practicality</th>\n",
       "      <th>Reliability</th>\n",
       "      <th>Safety</th>\n",
       "      <th>Quality of construction</th>\n",
       "      <th>Noise</th>\n",
       "      <th>Engine</th>\n",
       "      <th>Price</th>\n",
       "      <th>Overall</th>\n",
       "    </tr>\n",
       "  </thead>\n",
       "  <tbody>\n",
       "    <tr>\n",
       "      <th>53</th>\n",
       "      <td>Fiat</td>\n",
       "      <td>Qubo</td>\n",
       "      <td>Medium</td>\n",
       "      <td>Negative</td>\n",
       "      <td>Not mentioned</td>\n",
       "      <td>Positive</td>\n",
       "      <td>Medium</td>\n",
       "      <td>Positive</td>\n",
       "      <td>Positive</td>\n",
       "      <td>Not mentioned</td>\n",
       "      <td>Negative</td>\n",
       "      <td>Negative</td>\n",
       "      <td>Not mentioned</td>\n",
       "      <td>Medium</td>\n",
       "      <td>4.68</td>\n",
       "      <td>6.0</td>\n",
       "    </tr>\n",
       "    <tr>\n",
       "      <th>172</th>\n",
       "      <td>Peugeot</td>\n",
       "      <td>108</td>\n",
       "      <td>Not mentioned</td>\n",
       "      <td>Positive</td>\n",
       "      <td>Positive</td>\n",
       "      <td>Medium</td>\n",
       "      <td>Negative</td>\n",
       "      <td>Negative</td>\n",
       "      <td>Negative</td>\n",
       "      <td>Positive</td>\n",
       "      <td>Positive</td>\n",
       "      <td>Positive</td>\n",
       "      <td>Negative</td>\n",
       "      <td>Medium</td>\n",
       "      <td>5007.60</td>\n",
       "      <td>6.0</td>\n",
       "    </tr>\n",
       "    <tr>\n",
       "      <th>54</th>\n",
       "      <td>Fiat</td>\n",
       "      <td>500C</td>\n",
       "      <td>Medium</td>\n",
       "      <td>Negative</td>\n",
       "      <td>Positive</td>\n",
       "      <td>Medium</td>\n",
       "      <td>Negative</td>\n",
       "      <td>Negative</td>\n",
       "      <td>Negative</td>\n",
       "      <td>Not mentioned</td>\n",
       "      <td>Not mentioned</td>\n",
       "      <td>Not mentioned</td>\n",
       "      <td>Positive</td>\n",
       "      <td>Negative</td>\n",
       "      <td>5259.15</td>\n",
       "      <td>4.0</td>\n",
       "    </tr>\n",
       "    <tr>\n",
       "      <th>55</th>\n",
       "      <td>Fiat</td>\n",
       "      <td>Tipo</td>\n",
       "      <td>Not mentioned</td>\n",
       "      <td>Medium</td>\n",
       "      <td>Positive</td>\n",
       "      <td>Positive</td>\n",
       "      <td>Negative</td>\n",
       "      <td>Not mentioned</td>\n",
       "      <td>Positive</td>\n",
       "      <td>Not mentioned</td>\n",
       "      <td>Not mentioned</td>\n",
       "      <td>Medium</td>\n",
       "      <td>Medium</td>\n",
       "      <td>Medium</td>\n",
       "      <td>5604.30</td>\n",
       "      <td>6.0</td>\n",
       "    </tr>\n",
       "    <tr>\n",
       "      <th>78</th>\n",
       "      <td>Renault</td>\n",
       "      <td>Kadjar</td>\n",
       "      <td>Positive</td>\n",
       "      <td>Medium</td>\n",
       "      <td>Negative</td>\n",
       "      <td>Positive</td>\n",
       "      <td>Positive</td>\n",
       "      <td>Positive</td>\n",
       "      <td>Positive</td>\n",
       "      <td>Not mentioned</td>\n",
       "      <td>Positive</td>\n",
       "      <td>Medium</td>\n",
       "      <td>Negative</td>\n",
       "      <td>Positive</td>\n",
       "      <td>6189.30</td>\n",
       "      <td>8.0</td>\n",
       "    </tr>\n",
       "    <tr>\n",
       "      <th>...</th>\n",
       "      <td>...</td>\n",
       "      <td>...</td>\n",
       "      <td>...</td>\n",
       "      <td>...</td>\n",
       "      <td>...</td>\n",
       "      <td>...</td>\n",
       "      <td>...</td>\n",
       "      <td>...</td>\n",
       "      <td>...</td>\n",
       "      <td>...</td>\n",
       "      <td>...</td>\n",
       "      <td>...</td>\n",
       "      <td>...</td>\n",
       "      <td>...</td>\n",
       "      <td>...</td>\n",
       "      <td>...</td>\n",
       "    </tr>\n",
       "    <tr>\n",
       "      <th>159</th>\n",
       "      <td>BMW</td>\n",
       "      <td>X5 M Competition</td>\n",
       "      <td>Positive</td>\n",
       "      <td>Positive</td>\n",
       "      <td>Medium</td>\n",
       "      <td>Positive</td>\n",
       "      <td>Positive</td>\n",
       "      <td>Positive</td>\n",
       "      <td>Positive</td>\n",
       "      <td>Not mentioned</td>\n",
       "      <td>Not mentioned</td>\n",
       "      <td>Positive</td>\n",
       "      <td>Negative</td>\n",
       "      <td>Positive</td>\n",
       "      <td>157341.60</td>\n",
       "      <td>8.0</td>\n",
       "    </tr>\n",
       "    <tr>\n",
       "      <th>118</th>\n",
       "      <td>BMW</td>\n",
       "      <td>X6 M Competition</td>\n",
       "      <td>Positive</td>\n",
       "      <td>Positive</td>\n",
       "      <td>Medium</td>\n",
       "      <td>Positive</td>\n",
       "      <td>Positive</td>\n",
       "      <td>Positive</td>\n",
       "      <td>Medium</td>\n",
       "      <td>Not mentioned</td>\n",
       "      <td>Not mentioned</td>\n",
       "      <td>Positive</td>\n",
       "      <td>Negative</td>\n",
       "      <td>Positive</td>\n",
       "      <td>160512.30</td>\n",
       "      <td>8.0</td>\n",
       "    </tr>\n",
       "    <tr>\n",
       "      <th>144</th>\n",
       "      <td>BMW</td>\n",
       "      <td>M8 Gran Coupe</td>\n",
       "      <td>Not mentioned</td>\n",
       "      <td>Positive</td>\n",
       "      <td>Positive</td>\n",
       "      <td>Medium</td>\n",
       "      <td>Positive</td>\n",
       "      <td>Positive</td>\n",
       "      <td>Negative</td>\n",
       "      <td>Not mentioned</td>\n",
       "      <td>Not mentioned</td>\n",
       "      <td>Not mentioned</td>\n",
       "      <td>Not mentioned</td>\n",
       "      <td>Positive</td>\n",
       "      <td>167251.50</td>\n",
       "      <td>6.0</td>\n",
       "    </tr>\n",
       "    <tr>\n",
       "      <th>129</th>\n",
       "      <td>BMW</td>\n",
       "      <td>M8</td>\n",
       "      <td>Positive</td>\n",
       "      <td>Positive</td>\n",
       "      <td>Medium</td>\n",
       "      <td>Negative</td>\n",
       "      <td>Positive</td>\n",
       "      <td>Positive</td>\n",
       "      <td>Negative</td>\n",
       "      <td>Not mentioned</td>\n",
       "      <td>Not mentioned</td>\n",
       "      <td>Positive</td>\n",
       "      <td>Not mentioned</td>\n",
       "      <td>Positive</td>\n",
       "      <td>170176.50</td>\n",
       "      <td>8.0</td>\n",
       "    </tr>\n",
       "    <tr>\n",
       "      <th>150</th>\n",
       "      <td>BMW</td>\n",
       "      <td>M8 Convertible</td>\n",
       "      <td>Positive</td>\n",
       "      <td>Positive</td>\n",
       "      <td>Medium</td>\n",
       "      <td>Not mentioned</td>\n",
       "      <td>Positive</td>\n",
       "      <td>Not mentioned</td>\n",
       "      <td>Negative</td>\n",
       "      <td>Not mentioned</td>\n",
       "      <td>Not mentioned</td>\n",
       "      <td>Not mentioned</td>\n",
       "      <td>Not mentioned</td>\n",
       "      <td>Positive</td>\n",
       "      <td>178366.50</td>\n",
       "      <td>8.0</td>\n",
       "    </tr>\n",
       "  </tbody>\n",
       "</table>\n",
       "<p>203 rows × 16 columns</p>\n",
       "</div>"
      ],
      "text/plain": [
       "       Brand             Model          Drive Quality of interior  \\\n",
       "53      Fiat              Qubo         Medium            Negative   \n",
       "172  Peugeot               108  Not mentioned            Positive   \n",
       "54      Fiat              500C         Medium            Negative   \n",
       "55      Fiat              Tipo  Not mentioned              Medium   \n",
       "78   Renault            Kadjar       Positive              Medium   \n",
       "..       ...               ...            ...                 ...   \n",
       "159      BMW  X5 M Competition       Positive            Positive   \n",
       "118      BMW  X6 M Competition       Positive            Positive   \n",
       "144      BMW     M8 Gran Coupe  Not mentioned            Positive   \n",
       "129      BMW                M8       Positive            Positive   \n",
       "150      BMW    M8 Convertible       Positive            Positive   \n",
       "\n",
       "    Infotainment system        Comfort Performance       Handling  \\\n",
       "53        Not mentioned       Positive      Medium       Positive   \n",
       "172            Positive         Medium    Negative       Negative   \n",
       "54             Positive         Medium    Negative       Negative   \n",
       "55             Positive       Positive    Negative  Not mentioned   \n",
       "78             Negative       Positive    Positive       Positive   \n",
       "..                  ...            ...         ...            ...   \n",
       "159              Medium       Positive    Positive       Positive   \n",
       "118              Medium       Positive    Positive       Positive   \n",
       "144            Positive         Medium    Positive       Positive   \n",
       "129              Medium       Negative    Positive       Positive   \n",
       "150              Medium  Not mentioned    Positive  Not mentioned   \n",
       "\n",
       "    Practicality    Reliability         Safety Quality of construction  \\\n",
       "53      Positive  Not mentioned       Negative                Negative   \n",
       "172     Negative       Positive       Positive                Positive   \n",
       "54      Negative  Not mentioned  Not mentioned           Not mentioned   \n",
       "55      Positive  Not mentioned  Not mentioned                  Medium   \n",
       "78      Positive  Not mentioned       Positive                  Medium   \n",
       "..           ...            ...            ...                     ...   \n",
       "159     Positive  Not mentioned  Not mentioned                Positive   \n",
       "118       Medium  Not mentioned  Not mentioned                Positive   \n",
       "144     Negative  Not mentioned  Not mentioned           Not mentioned   \n",
       "129     Negative  Not mentioned  Not mentioned                Positive   \n",
       "150     Negative  Not mentioned  Not mentioned           Not mentioned   \n",
       "\n",
       "             Noise    Engine      Price  Overall  \n",
       "53   Not mentioned    Medium       4.68      6.0  \n",
       "172       Negative    Medium    5007.60      6.0  \n",
       "54        Positive  Negative    5259.15      4.0  \n",
       "55          Medium    Medium    5604.30      6.0  \n",
       "78        Negative  Positive    6189.30      8.0  \n",
       "..             ...       ...        ...      ...  \n",
       "159       Negative  Positive  157341.60      8.0  \n",
       "118       Negative  Positive  160512.30      8.0  \n",
       "144  Not mentioned  Positive  167251.50      6.0  \n",
       "129  Not mentioned  Positive  170176.50      8.0  \n",
       "150  Not mentioned  Positive  178366.50      8.0  \n",
       "\n",
       "[203 rows x 16 columns]"
      ]
     },
     "execution_count": 9,
     "metadata": {},
     "output_type": "execute_result"
    }
   ],
   "source": [
    "## Rimozione valore errato di prezzo\n",
    "\n",
    "df.sort_values('Price', ascending=True)\n"
   ]
  },
  {
   "cell_type": "code",
   "execution_count": 10,
   "id": "1b78bf9c",
   "metadata": {},
   "outputs": [],
   "source": [
    "df = df[df['Model'] != 'Qubo']"
   ]
  },
  {
   "cell_type": "code",
   "execution_count": 11,
   "id": "c1d7bb56",
   "metadata": {},
   "outputs": [
    {
     "data": {
      "text/plain": [
       "array([8. , 7. , 6. , 4. , 9. , 5. , 7.5])"
      ]
     },
     "execution_count": 11,
     "metadata": {},
     "output_type": "execute_result"
    }
   ],
   "source": [
    "## Gestione valori overall\n",
    "\n",
    "df['Overall'].unique()"
   ]
  },
  {
   "cell_type": "code",
   "execution_count": 12,
   "id": "a0120fd4",
   "metadata": {},
   "outputs": [
    {
     "name": "stdout",
     "output_type": "stream",
     "text": [
      "['MG' 'OMODA' 'Volkswagen' 'Dacia' 'Fiat' 'Renault' 'Citroen' 'BMW'\n",
      " 'Peugeot' 'BYD' 'GWM' 'Haval' 'Jaecoo' 'Leapmotor' 'Xpeng']\n"
     ]
    }
   ],
   "source": [
    "## Visualizzazione dei brand unici\n",
    "\n",
    "print(df['Brand'].unique())"
   ]
  },
  {
   "cell_type": "code",
   "execution_count": 13,
   "id": "532ea9f7",
   "metadata": {},
   "outputs": [
    {
     "data": {
      "application/vnd.microsoft.datawrangler.viewer.v0+json": {
       "columns": [
        {
         "name": "index",
         "rawType": "int64",
         "type": "integer"
        },
        {
         "name": "Brand",
         "rawType": "object",
         "type": "string"
        },
        {
         "name": "Model",
         "rawType": "object",
         "type": "string"
        },
        {
         "name": "Drive",
         "rawType": "object",
         "type": "string"
        },
        {
         "name": "Quality of interior",
         "rawType": "object",
         "type": "string"
        },
        {
         "name": "Infotainment system",
         "rawType": "object",
         "type": "string"
        },
        {
         "name": "Comfort",
         "rawType": "object",
         "type": "string"
        },
        {
         "name": "Performance",
         "rawType": "object",
         "type": "string"
        },
        {
         "name": "Handling",
         "rawType": "object",
         "type": "string"
        },
        {
         "name": "Practicality",
         "rawType": "object",
         "type": "string"
        },
        {
         "name": "Reliability",
         "rawType": "object",
         "type": "string"
        },
        {
         "name": "Safety",
         "rawType": "object",
         "type": "string"
        },
        {
         "name": "Quality of construction",
         "rawType": "object",
         "type": "string"
        },
        {
         "name": "Noise",
         "rawType": "object",
         "type": "string"
        },
        {
         "name": "Engine",
         "rawType": "object",
         "type": "string"
        },
        {
         "name": "Price",
         "rawType": "float64",
         "type": "float"
        },
        {
         "name": "Overall",
         "rawType": "float64",
         "type": "float"
        }
       ],
       "ref": "2aa369a8-77e4-47c0-b958-83eef16ee499",
       "rows": [
        [
         "3",
         "MG",
         "ZS",
         "Positive",
         "Medium",
         "Positive",
         "Negative",
         "Medium",
         "Positive",
         "Positive",
         "Not mentioned",
         "Negative",
         "Not mentioned",
         "Negative",
         "Medium",
         "21767.85",
         "6.0"
        ],
        [
         "9",
         "MG",
         "ZS",
         "Positive",
         "Negative",
         "Medium",
         "Positive",
         "Positive",
         "Medium",
         "Positive",
         "Not mentioned",
         "Not mentioned",
         "Not mentioned",
         "Negative",
         "Positive",
         "23394.15",
         "8.0"
        ],
        [
         "179",
         "Peugeot",
         "508",
         "Positive",
         "Positive",
         "Positive",
         "Medium",
         "Positive",
         "Not mentioned",
         "Negative",
         "Not mentioned",
         "Positive",
         "Positive",
         "Negative",
         "Positive",
         "32758.83",
         "7.0"
        ],
        [
         "180",
         "Peugeot",
         "508",
         "Positive",
         "Medium",
         "Positive",
         "Negative",
         "Positive",
         "Positive",
         "Not mentioned",
         "Not mentioned",
         "Not mentioned",
         "Medium",
         "Not mentioned",
         "Positive",
         "54896.4",
         "6.0"
        ],
        [
         "188",
         "Peugeot",
         "5008",
         "Medium",
         "Positive",
         "Positive",
         "Positive",
         "Negative",
         "Negative",
         "Positive",
         "Not mentioned",
         "Not mentioned",
         "Positive",
         "Not mentioned",
         "Positive",
         "46203.3",
         "8.0"
        ],
        [
         "189",
         "Peugeot",
         "5008",
         "Medium",
         "Positive",
         "Positive",
         "Positive",
         "Negative",
         "Negative",
         "Positive",
         "Not mentioned",
         "Not mentioned",
         "Positive",
         "Not mentioned",
         "Positive",
         "46203.3",
         "8.0"
        ]
       ],
       "shape": {
        "columns": 16,
        "rows": 6
       }
      },
      "text/html": [
       "<div>\n",
       "<style scoped>\n",
       "    .dataframe tbody tr th:only-of-type {\n",
       "        vertical-align: middle;\n",
       "    }\n",
       "\n",
       "    .dataframe tbody tr th {\n",
       "        vertical-align: top;\n",
       "    }\n",
       "\n",
       "    .dataframe thead th {\n",
       "        text-align: right;\n",
       "    }\n",
       "</style>\n",
       "<table border=\"1\" class=\"dataframe\">\n",
       "  <thead>\n",
       "    <tr style=\"text-align: right;\">\n",
       "      <th></th>\n",
       "      <th>Brand</th>\n",
       "      <th>Model</th>\n",
       "      <th>Drive</th>\n",
       "      <th>Quality of interior</th>\n",
       "      <th>Infotainment system</th>\n",
       "      <th>Comfort</th>\n",
       "      <th>Performance</th>\n",
       "      <th>Handling</th>\n",
       "      <th>Practicality</th>\n",
       "      <th>Reliability</th>\n",
       "      <th>Safety</th>\n",
       "      <th>Quality of construction</th>\n",
       "      <th>Noise</th>\n",
       "      <th>Engine</th>\n",
       "      <th>Price</th>\n",
       "      <th>Overall</th>\n",
       "    </tr>\n",
       "  </thead>\n",
       "  <tbody>\n",
       "    <tr>\n",
       "      <th>3</th>\n",
       "      <td>MG</td>\n",
       "      <td>ZS</td>\n",
       "      <td>Positive</td>\n",
       "      <td>Medium</td>\n",
       "      <td>Positive</td>\n",
       "      <td>Negative</td>\n",
       "      <td>Medium</td>\n",
       "      <td>Positive</td>\n",
       "      <td>Positive</td>\n",
       "      <td>Not mentioned</td>\n",
       "      <td>Negative</td>\n",
       "      <td>Not mentioned</td>\n",
       "      <td>Negative</td>\n",
       "      <td>Medium</td>\n",
       "      <td>21767.85</td>\n",
       "      <td>6.0</td>\n",
       "    </tr>\n",
       "    <tr>\n",
       "      <th>9</th>\n",
       "      <td>MG</td>\n",
       "      <td>ZS</td>\n",
       "      <td>Positive</td>\n",
       "      <td>Negative</td>\n",
       "      <td>Medium</td>\n",
       "      <td>Positive</td>\n",
       "      <td>Positive</td>\n",
       "      <td>Medium</td>\n",
       "      <td>Positive</td>\n",
       "      <td>Not mentioned</td>\n",
       "      <td>Not mentioned</td>\n",
       "      <td>Not mentioned</td>\n",
       "      <td>Negative</td>\n",
       "      <td>Positive</td>\n",
       "      <td>23394.15</td>\n",
       "      <td>8.0</td>\n",
       "    </tr>\n",
       "    <tr>\n",
       "      <th>179</th>\n",
       "      <td>Peugeot</td>\n",
       "      <td>508</td>\n",
       "      <td>Positive</td>\n",
       "      <td>Positive</td>\n",
       "      <td>Positive</td>\n",
       "      <td>Medium</td>\n",
       "      <td>Positive</td>\n",
       "      <td>Not mentioned</td>\n",
       "      <td>Negative</td>\n",
       "      <td>Not mentioned</td>\n",
       "      <td>Positive</td>\n",
       "      <td>Positive</td>\n",
       "      <td>Negative</td>\n",
       "      <td>Positive</td>\n",
       "      <td>32758.83</td>\n",
       "      <td>7.0</td>\n",
       "    </tr>\n",
       "    <tr>\n",
       "      <th>180</th>\n",
       "      <td>Peugeot</td>\n",
       "      <td>508</td>\n",
       "      <td>Positive</td>\n",
       "      <td>Medium</td>\n",
       "      <td>Positive</td>\n",
       "      <td>Negative</td>\n",
       "      <td>Positive</td>\n",
       "      <td>Positive</td>\n",
       "      <td>Not mentioned</td>\n",
       "      <td>Not mentioned</td>\n",
       "      <td>Not mentioned</td>\n",
       "      <td>Medium</td>\n",
       "      <td>Not mentioned</td>\n",
       "      <td>Positive</td>\n",
       "      <td>54896.40</td>\n",
       "      <td>6.0</td>\n",
       "    </tr>\n",
       "    <tr>\n",
       "      <th>188</th>\n",
       "      <td>Peugeot</td>\n",
       "      <td>5008</td>\n",
       "      <td>Medium</td>\n",
       "      <td>Positive</td>\n",
       "      <td>Positive</td>\n",
       "      <td>Positive</td>\n",
       "      <td>Negative</td>\n",
       "      <td>Negative</td>\n",
       "      <td>Positive</td>\n",
       "      <td>Not mentioned</td>\n",
       "      <td>Not mentioned</td>\n",
       "      <td>Positive</td>\n",
       "      <td>Not mentioned</td>\n",
       "      <td>Positive</td>\n",
       "      <td>46203.30</td>\n",
       "      <td>8.0</td>\n",
       "    </tr>\n",
       "    <tr>\n",
       "      <th>189</th>\n",
       "      <td>Peugeot</td>\n",
       "      <td>5008</td>\n",
       "      <td>Medium</td>\n",
       "      <td>Positive</td>\n",
       "      <td>Positive</td>\n",
       "      <td>Positive</td>\n",
       "      <td>Negative</td>\n",
       "      <td>Negative</td>\n",
       "      <td>Positive</td>\n",
       "      <td>Not mentioned</td>\n",
       "      <td>Not mentioned</td>\n",
       "      <td>Positive</td>\n",
       "      <td>Not mentioned</td>\n",
       "      <td>Positive</td>\n",
       "      <td>46203.30</td>\n",
       "      <td>8.0</td>\n",
       "    </tr>\n",
       "  </tbody>\n",
       "</table>\n",
       "</div>"
      ],
      "text/plain": [
       "       Brand Model     Drive Quality of interior Infotainment system  \\\n",
       "3         MG    ZS  Positive              Medium            Positive   \n",
       "9         MG    ZS  Positive            Negative              Medium   \n",
       "179  Peugeot   508  Positive            Positive            Positive   \n",
       "180  Peugeot   508  Positive              Medium            Positive   \n",
       "188  Peugeot  5008    Medium            Positive            Positive   \n",
       "189  Peugeot  5008    Medium            Positive            Positive   \n",
       "\n",
       "      Comfort Performance       Handling   Practicality    Reliability  \\\n",
       "3    Negative      Medium       Positive       Positive  Not mentioned   \n",
       "9    Positive    Positive         Medium       Positive  Not mentioned   \n",
       "179    Medium    Positive  Not mentioned       Negative  Not mentioned   \n",
       "180  Negative    Positive       Positive  Not mentioned  Not mentioned   \n",
       "188  Positive    Negative       Negative       Positive  Not mentioned   \n",
       "189  Positive    Negative       Negative       Positive  Not mentioned   \n",
       "\n",
       "            Safety Quality of construction          Noise    Engine     Price  \\\n",
       "3         Negative           Not mentioned       Negative    Medium  21767.85   \n",
       "9    Not mentioned           Not mentioned       Negative  Positive  23394.15   \n",
       "179       Positive                Positive       Negative  Positive  32758.83   \n",
       "180  Not mentioned                  Medium  Not mentioned  Positive  54896.40   \n",
       "188  Not mentioned                Positive  Not mentioned  Positive  46203.30   \n",
       "189  Not mentioned                Positive  Not mentioned  Positive  46203.30   \n",
       "\n",
       "     Overall  \n",
       "3        6.0  \n",
       "9        8.0  \n",
       "179      7.0  \n",
       "180      6.0  \n",
       "188      8.0  \n",
       "189      8.0  "
      ]
     },
     "execution_count": 13,
     "metadata": {},
     "output_type": "execute_result"
    }
   ],
   "source": [
    "## Visualizzazione righe duplicate\n",
    "\n",
    "modelli_due = df['Model'].value_counts()[df['Model'].value_counts() == 2].index\n",
    "df[df['Model'].isin(modelli_due)]"
   ]
  },
  {
   "cell_type": "code",
   "execution_count": 14,
   "id": "0d575552",
   "metadata": {},
   "outputs": [],
   "source": [
    "# Tieni solo la riga più costosa per ogni modello duplicato\n",
    "df = df.sort_values('Price', ascending=False).drop_duplicates(subset='Model', keep='first').reset_index(drop=True)"
   ]
  },
  {
   "cell_type": "code",
   "execution_count": 15,
   "id": "1caf3914",
   "metadata": {},
   "outputs": [],
   "source": [
    "# Crea la colonna Fascia_Prezzo per aggiungere feature\n",
    "# 'Economica (<20k)', 'Media (20k-40k)', 'Premium (40k-60k)', 'Lusso (>60k)'\n",
    "\n",
    "if 'Fascia_Prezzo' not in df.columns:\n",
    "    bins = [0, 20000, 40000, 60000, np.inf]\n",
    "    labels = ['Economica', 'Media', 'Premium', 'Lusso']\n",
    "    df['Fascia_Prezzo'] = pd.cut(df['Price'], bins=bins, labels=labels, right=False)"
   ]
  },
  {
   "cell_type": "code",
   "execution_count": 16,
   "id": "4eaeb7fc",
   "metadata": {},
   "outputs": [
    {
     "data": {
      "text/plain": [
       "Index(['Brand', 'Model', 'Drive', 'Quality of interior', 'Infotainment system',\n",
       "       'Comfort', 'Performance', 'Handling', 'Practicality', 'Reliability',\n",
       "       'Safety', 'Quality of construction', 'Noise', 'Engine', 'Price',\n",
       "       'Overall', 'Fascia_Prezzo'],\n",
       "      dtype='object')"
      ]
     },
     "execution_count": 16,
     "metadata": {},
     "output_type": "execute_result"
    }
   ],
   "source": [
    "df.columns"
   ]
  },
  {
   "cell_type": "code",
   "execution_count": 22,
   "id": "7d64a3e0",
   "metadata": {},
   "outputs": [],
   "source": [
    "## Salvataggio dataset pulito e sistemato anche in un csv\n",
    "\n",
    "df.to_csv(\"info/car_review_cleaned.csv\", sep=\",\")"
   ]
  },
  {
   "cell_type": "code",
   "execution_count": 17,
   "id": "fa58bb98",
   "metadata": {},
   "outputs": [
    {
     "data": {
      "application/vnd.plotly.v1+json": {
       "config": {
        "plotlyServerURL": "https://plot.ly"
       },
       "data": [
        {
         "marker": {
          "color": "skyblue"
         },
         "name": "Prezzi",
         "nbinsx": 30,
         "type": "histogram",
         "x": {
          "bdata": "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",
          "dtype": "f8"
         }
        }
       ],
       "layout": {
        "height": 400,
        "template": {
         "data": {
          "bar": [
           {
            "error_x": {
             "color": "#2a3f5f"
            },
            "error_y": {
             "color": "#2a3f5f"
            },
            "marker": {
             "line": {
              "color": "#E5ECF6",
              "width": 0.5
             },
             "pattern": {
              "fillmode": "overlay",
              "size": 10,
              "solidity": 0.2
             }
            },
            "type": "bar"
           }
          ],
          "barpolar": [
           {
            "marker": {
             "line": {
              "color": "#E5ECF6",
              "width": 0.5
             },
             "pattern": {
              "fillmode": "overlay",
              "size": 10,
              "solidity": 0.2
             }
            },
            "type": "barpolar"
           }
          ],
          "carpet": [
           {
            "aaxis": {
             "endlinecolor": "#2a3f5f",
             "gridcolor": "white",
             "linecolor": "white",
             "minorgridcolor": "white",
             "startlinecolor": "#2a3f5f"
            },
            "baxis": {
             "endlinecolor": "#2a3f5f",
             "gridcolor": "white",
             "linecolor": "white",
             "minorgridcolor": "white",
             "startlinecolor": "#2a3f5f"
            },
            "type": "carpet"
           }
          ],
          "choropleth": [
           {
            "colorbar": {
             "outlinewidth": 0,
             "ticks": ""
            },
            "type": "choropleth"
           }
          ],
          "contour": [
           {
            "colorbar": {
             "outlinewidth": 0,
             "ticks": ""
            },
            "colorscale": [
             [
              0,
              "#0d0887"
             ],
             [
              0.1111111111111111,
              "#46039f"
             ],
             [
              0.2222222222222222,
              "#7201a8"
             ],
             [
              0.3333333333333333,
              "#9c179e"
             ],
             [
              0.4444444444444444,
              "#bd3786"
             ],
             [
              0.5555555555555556,
              "#d8576b"
             ],
             [
              0.6666666666666666,
              "#ed7953"
             ],
             [
              0.7777777777777778,
              "#fb9f3a"
             ],
             [
              0.8888888888888888,
              "#fdca26"
             ],
             [
              1,
              "#f0f921"
             ]
            ],
            "type": "contour"
           }
          ],
          "contourcarpet": [
           {
            "colorbar": {
             "outlinewidth": 0,
             "ticks": ""
            },
            "type": "contourcarpet"
           }
          ],
          "heatmap": [
           {
            "colorbar": {
             "outlinewidth": 0,
             "ticks": ""
            },
            "colorscale": [
             [
              0,
              "#0d0887"
             ],
             [
              0.1111111111111111,
              "#46039f"
             ],
             [
              0.2222222222222222,
              "#7201a8"
             ],
             [
              0.3333333333333333,
              "#9c179e"
             ],
             [
              0.4444444444444444,
              "#bd3786"
             ],
             [
              0.5555555555555556,
              "#d8576b"
             ],
             [
              0.6666666666666666,
              "#ed7953"
             ],
             [
              0.7777777777777778,
              "#fb9f3a"
             ],
             [
              0.8888888888888888,
              "#fdca26"
             ],
             [
              1,
              "#f0f921"
             ]
            ],
            "type": "heatmap"
           }
          ],
          "histogram": [
           {
            "marker": {
             "pattern": {
              "fillmode": "overlay",
              "size": 10,
              "solidity": 0.2
             }
            },
            "type": "histogram"
           }
          ],
          "histogram2d": [
           {
            "colorbar": {
             "outlinewidth": 0,
             "ticks": ""
            },
            "colorscale": [
             [
              0,
              "#0d0887"
             ],
             [
              0.1111111111111111,
              "#46039f"
             ],
             [
              0.2222222222222222,
              "#7201a8"
             ],
             [
              0.3333333333333333,
              "#9c179e"
             ],
             [
              0.4444444444444444,
              "#bd3786"
             ],
             [
              0.5555555555555556,
              "#d8576b"
             ],
             [
              0.6666666666666666,
              "#ed7953"
             ],
             [
              0.7777777777777778,
              "#fb9f3a"
             ],
             [
              0.8888888888888888,
              "#fdca26"
             ],
             [
              1,
              "#f0f921"
             ]
            ],
            "type": "histogram2d"
           }
          ],
          "histogram2dcontour": [
           {
            "colorbar": {
             "outlinewidth": 0,
             "ticks": ""
            },
            "colorscale": [
             [
              0,
              "#0d0887"
             ],
             [
              0.1111111111111111,
              "#46039f"
             ],
             [
              0.2222222222222222,
              "#7201a8"
             ],
             [
              0.3333333333333333,
              "#9c179e"
             ],
             [
              0.4444444444444444,
              "#bd3786"
             ],
             [
              0.5555555555555556,
              "#d8576b"
             ],
             [
              0.6666666666666666,
              "#ed7953"
             ],
             [
              0.7777777777777778,
              "#fb9f3a"
             ],
             [
              0.8888888888888888,
              "#fdca26"
             ],
             [
              1,
              "#f0f921"
             ]
            ],
            "type": "histogram2dcontour"
           }
          ],
          "mesh3d": [
           {
            "colorbar": {
             "outlinewidth": 0,
             "ticks": ""
            },
            "type": "mesh3d"
           }
          ],
          "parcoords": [
           {
            "line": {
             "colorbar": {
              "outlinewidth": 0,
              "ticks": ""
             }
            },
            "type": "parcoords"
           }
          ],
          "pie": [
           {
            "automargin": true,
            "type": "pie"
           }
          ],
          "scatter": [
           {
            "fillpattern": {
             "fillmode": "overlay",
             "size": 10,
             "solidity": 0.2
            },
            "type": "scatter"
           }
          ],
          "scatter3d": [
           {
            "line": {
             "colorbar": {
              "outlinewidth": 0,
              "ticks": ""
             }
            },
            "marker": {
             "colorbar": {
              "outlinewidth": 0,
              "ticks": ""
             }
            },
            "type": "scatter3d"
           }
          ],
          "scattercarpet": [
           {
            "marker": {
             "colorbar": {
              "outlinewidth": 0,
              "ticks": ""
             }
            },
            "type": "scattercarpet"
           }
          ],
          "scattergeo": [
           {
            "marker": {
             "colorbar": {
              "outlinewidth": 0,
              "ticks": ""
             }
            },
            "type": "scattergeo"
           }
          ],
          "scattergl": [
           {
            "marker": {
             "colorbar": {
              "outlinewidth": 0,
              "ticks": ""
             }
            },
            "type": "scattergl"
           }
          ],
          "scattermap": [
           {
            "marker": {
             "colorbar": {
              "outlinewidth": 0,
              "ticks": ""
             }
            },
            "type": "scattermap"
           }
          ],
          "scattermapbox": [
           {
            "marker": {
             "colorbar": {
              "outlinewidth": 0,
              "ticks": ""
             }
            },
            "type": "scattermapbox"
           }
          ],
          "scatterpolar": [
           {
            "marker": {
             "colorbar": {
              "outlinewidth": 0,
              "ticks": ""
             }
            },
            "type": "scatterpolar"
           }
          ],
          "scatterpolargl": [
           {
            "marker": {
             "colorbar": {
              "outlinewidth": 0,
              "ticks": ""
             }
            },
            "type": "scatterpolargl"
           }
          ],
          "scatterternary": [
           {
            "marker": {
             "colorbar": {
              "outlinewidth": 0,
              "ticks": ""
             }
            },
            "type": "scatterternary"
           }
          ],
          "surface": [
           {
            "colorbar": {
             "outlinewidth": 0,
             "ticks": ""
            },
            "colorscale": [
             [
              0,
              "#0d0887"
             ],
             [
              0.1111111111111111,
              "#46039f"
             ],
             [
              0.2222222222222222,
              "#7201a8"
             ],
             [
              0.3333333333333333,
              "#9c179e"
             ],
             [
              0.4444444444444444,
              "#bd3786"
             ],
             [
              0.5555555555555556,
              "#d8576b"
             ],
             [
              0.6666666666666666,
              "#ed7953"
             ],
             [
              0.7777777777777778,
              "#fb9f3a"
             ],
             [
              0.8888888888888888,
              "#fdca26"
             ],
             [
              1,
              "#f0f921"
             ]
            ],
            "type": "surface"
           }
          ],
          "table": [
           {
            "cells": {
             "fill": {
              "color": "#EBF0F8"
             },
             "line": {
              "color": "white"
             }
            },
            "header": {
             "fill": {
              "color": "#C8D4E3"
             },
             "line": {
              "color": "white"
             }
            },
            "type": "table"
           }
          ]
         },
         "layout": {
          "annotationdefaults": {
           "arrowcolor": "#2a3f5f",
           "arrowhead": 0,
           "arrowwidth": 1
          },
          "autotypenumbers": "strict",
          "coloraxis": {
           "colorbar": {
            "outlinewidth": 0,
            "ticks": ""
           }
          },
          "colorscale": {
           "diverging": [
            [
             0,
             "#8e0152"
            ],
            [
             0.1,
             "#c51b7d"
            ],
            [
             0.2,
             "#de77ae"
            ],
            [
             0.3,
             "#f1b6da"
            ],
            [
             0.4,
             "#fde0ef"
            ],
            [
             0.5,
             "#f7f7f7"
            ],
            [
             0.6,
             "#e6f5d0"
            ],
            [
             0.7,
             "#b8e186"
            ],
            [
             0.8,
             "#7fbc41"
            ],
            [
             0.9,
             "#4d9221"
            ],
            [
             1,
             "#276419"
            ]
           ],
           "sequential": [
            [
             0,
             "#0d0887"
            ],
            [
             0.1111111111111111,
             "#46039f"
            ],
            [
             0.2222222222222222,
             "#7201a8"
            ],
            [
             0.3333333333333333,
             "#9c179e"
            ],
            [
             0.4444444444444444,
             "#bd3786"
            ],
            [
             0.5555555555555556,
             "#d8576b"
            ],
            [
             0.6666666666666666,
             "#ed7953"
            ],
            [
             0.7777777777777778,
             "#fb9f3a"
            ],
            [
             0.8888888888888888,
             "#fdca26"
            ],
            [
             1,
             "#f0f921"
            ]
           ],
           "sequentialminus": [
            [
             0,
             "#0d0887"
            ],
            [
             0.1111111111111111,
             "#46039f"
            ],
            [
             0.2222222222222222,
             "#7201a8"
            ],
            [
             0.3333333333333333,
             "#9c179e"
            ],
            [
             0.4444444444444444,
             "#bd3786"
            ],
            [
             0.5555555555555556,
             "#d8576b"
            ],
            [
             0.6666666666666666,
             "#ed7953"
            ],
            [
             0.7777777777777778,
             "#fb9f3a"
            ],
            [
             0.8888888888888888,
             "#fdca26"
            ],
            [
             1,
             "#f0f921"
            ]
           ]
          },
          "colorway": [
           "#636efa",
           "#EF553B",
           "#00cc96",
           "#ab63fa",
           "#FFA15A",
           "#19d3f3",
           "#FF6692",
           "#B6E880",
           "#FF97FF",
           "#FECB52"
          ],
          "font": {
           "color": "#2a3f5f"
          },
          "geo": {
           "bgcolor": "white",
           "lakecolor": "white",
           "landcolor": "#E5ECF6",
           "showlakes": true,
           "showland": true,
           "subunitcolor": "white"
          },
          "hoverlabel": {
           "align": "left"
          },
          "hovermode": "closest",
          "mapbox": {
           "style": "light"
          },
          "paper_bgcolor": "white",
          "plot_bgcolor": "#E5ECF6",
          "polar": {
           "angularaxis": {
            "gridcolor": "white",
            "linecolor": "white",
            "ticks": ""
           },
           "bgcolor": "#E5ECF6",
           "radialaxis": {
            "gridcolor": "white",
            "linecolor": "white",
            "ticks": ""
           }
          },
          "scene": {
           "xaxis": {
            "backgroundcolor": "#E5ECF6",
            "gridcolor": "white",
            "gridwidth": 2,
            "linecolor": "white",
            "showbackground": true,
            "ticks": "",
            "zerolinecolor": "white"
           },
           "yaxis": {
            "backgroundcolor": "#E5ECF6",
            "gridcolor": "white",
            "gridwidth": 2,
            "linecolor": "white",
            "showbackground": true,
            "ticks": "",
            "zerolinecolor": "white"
           },
           "zaxis": {
            "backgroundcolor": "#E5ECF6",
            "gridcolor": "white",
            "gridwidth": 2,
            "linecolor": "white",
            "showbackground": true,
            "ticks": "",
            "zerolinecolor": "white"
           }
          },
          "shapedefaults": {
           "line": {
            "color": "#2a3f5f"
           }
          },
          "ternary": {
           "aaxis": {
            "gridcolor": "white",
            "linecolor": "white",
            "ticks": ""
           },
           "baxis": {
            "gridcolor": "white",
            "linecolor": "white",
            "ticks": ""
           },
           "bgcolor": "#E5ECF6",
           "caxis": {
            "gridcolor": "white",
            "linecolor": "white",
            "ticks": ""
           }
          },
          "title": {
           "x": 0.05
          },
          "xaxis": {
           "automargin": true,
           "gridcolor": "white",
           "linecolor": "white",
           "ticks": "",
           "title": {
            "standoff": 15
           },
           "zerolinecolor": "white",
           "zerolinewidth": 2
          },
          "yaxis": {
           "automargin": true,
           "gridcolor": "white",
           "linecolor": "white",
           "ticks": "",
           "title": {
            "standoff": 15
           },
           "zerolinecolor": "white",
           "zerolinewidth": 2
          }
         }
        },
        "title": {
         "text": "Distribuzione dei Prezzi"
        },
        "width": 700,
        "xaxis": {
         "title": {
          "text": "Prezzo (€)"
         }
        },
        "yaxis": {
         "title": {
          "text": "Frequenza"
         }
        }
       }
      }
     },
     "metadata": {},
     "output_type": "display_data"
    },
    {
     "data": {
      "application/vnd.plotly.v1+json": {
       "config": {
        "plotlyServerURL": "https://plot.ly"
       },
       "data": [
        {
         "boxpoints": "outliers",
         "marker": {
          "color": "royalblue"
         },
         "name": "Prezzi",
         "type": "box",
         "y": {
          "bdata": "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",
          "dtype": "f8"
         }
        }
       ],
       "layout": {
        "height": 400,
        "template": {
         "data": {
          "bar": [
           {
            "error_x": {
             "color": "#2a3f5f"
            },
            "error_y": {
             "color": "#2a3f5f"
            },
            "marker": {
             "line": {
              "color": "#E5ECF6",
              "width": 0.5
             },
             "pattern": {
              "fillmode": "overlay",
              "size": 10,
              "solidity": 0.2
             }
            },
            "type": "bar"
           }
          ],
          "barpolar": [
           {
            "marker": {
             "line": {
              "color": "#E5ECF6",
              "width": 0.5
             },
             "pattern": {
              "fillmode": "overlay",
              "size": 10,
              "solidity": 0.2
             }
            },
            "type": "barpolar"
           }
          ],
          "carpet": [
           {
            "aaxis": {
             "endlinecolor": "#2a3f5f",
             "gridcolor": "white",
             "linecolor": "white",
             "minorgridcolor": "white",
             "startlinecolor": "#2a3f5f"
            },
            "baxis": {
             "endlinecolor": "#2a3f5f",
             "gridcolor": "white",
             "linecolor": "white",
             "minorgridcolor": "white",
             "startlinecolor": "#2a3f5f"
            },
            "type": "carpet"
           }
          ],
          "choropleth": [
           {
            "colorbar": {
             "outlinewidth": 0,
             "ticks": ""
            },
            "type": "choropleth"
           }
          ],
          "contour": [
           {
            "colorbar": {
             "outlinewidth": 0,
             "ticks": ""
            },
            "colorscale": [
             [
              0,
              "#0d0887"
             ],
             [
              0.1111111111111111,
              "#46039f"
             ],
             [
              0.2222222222222222,
              "#7201a8"
             ],
             [
              0.3333333333333333,
              "#9c179e"
             ],
             [
              0.4444444444444444,
              "#bd3786"
             ],
             [
              0.5555555555555556,
              "#d8576b"
             ],
             [
              0.6666666666666666,
              "#ed7953"
             ],
             [
              0.7777777777777778,
              "#fb9f3a"
             ],
             [
              0.8888888888888888,
              "#fdca26"
             ],
             [
              1,
              "#f0f921"
             ]
            ],
            "type": "contour"
           }
          ],
          "contourcarpet": [
           {
            "colorbar": {
             "outlinewidth": 0,
             "ticks": ""
            },
            "type": "contourcarpet"
           }
          ],
          "heatmap": [
           {
            "colorbar": {
             "outlinewidth": 0,
             "ticks": ""
            },
            "colorscale": [
             [
              0,
              "#0d0887"
             ],
             [
              0.1111111111111111,
              "#46039f"
             ],
             [
              0.2222222222222222,
              "#7201a8"
             ],
             [
              0.3333333333333333,
              "#9c179e"
             ],
             [
              0.4444444444444444,
              "#bd3786"
             ],
             [
              0.5555555555555556,
              "#d8576b"
             ],
             [
              0.6666666666666666,
              "#ed7953"
             ],
             [
              0.7777777777777778,
              "#fb9f3a"
             ],
             [
              0.8888888888888888,
              "#fdca26"
             ],
             [
              1,
              "#f0f921"
             ]
            ],
            "type": "heatmap"
           }
          ],
          "histogram": [
           {
            "marker": {
             "pattern": {
              "fillmode": "overlay",
              "size": 10,
              "solidity": 0.2
             }
            },
            "type": "histogram"
           }
          ],
          "histogram2d": [
           {
            "colorbar": {
             "outlinewidth": 0,
             "ticks": ""
            },
            "colorscale": [
             [
              0,
              "#0d0887"
             ],
             [
              0.1111111111111111,
              "#46039f"
             ],
             [
              0.2222222222222222,
              "#7201a8"
             ],
             [
              0.3333333333333333,
              "#9c179e"
             ],
             [
              0.4444444444444444,
              "#bd3786"
             ],
             [
              0.5555555555555556,
              "#d8576b"
             ],
             [
              0.6666666666666666,
              "#ed7953"
             ],
             [
              0.7777777777777778,
              "#fb9f3a"
             ],
             [
              0.8888888888888888,
              "#fdca26"
             ],
             [
              1,
              "#f0f921"
             ]
            ],
            "type": "histogram2d"
           }
          ],
          "histogram2dcontour": [
           {
            "colorbar": {
             "outlinewidth": 0,
             "ticks": ""
            },
            "colorscale": [
             [
              0,
              "#0d0887"
             ],
             [
              0.1111111111111111,
              "#46039f"
             ],
             [
              0.2222222222222222,
              "#7201a8"
             ],
             [
              0.3333333333333333,
              "#9c179e"
             ],
             [
              0.4444444444444444,
              "#bd3786"
             ],
             [
              0.5555555555555556,
              "#d8576b"
             ],
             [
              0.6666666666666666,
              "#ed7953"
             ],
             [
              0.7777777777777778,
              "#fb9f3a"
             ],
             [
              0.8888888888888888,
              "#fdca26"
             ],
             [
              1,
              "#f0f921"
             ]
            ],
            "type": "histogram2dcontour"
           }
          ],
          "mesh3d": [
           {
            "colorbar": {
             "outlinewidth": 0,
             "ticks": ""
            },
            "type": "mesh3d"
           }
          ],
          "parcoords": [
           {
            "line": {
             "colorbar": {
              "outlinewidth": 0,
              "ticks": ""
             }
            },
            "type": "parcoords"
           }
          ],
          "pie": [
           {
            "automargin": true,
            "type": "pie"
           }
          ],
          "scatter": [
           {
            "fillpattern": {
             "fillmode": "overlay",
             "size": 10,
             "solidity": 0.2
            },
            "type": "scatter"
           }
          ],
          "scatter3d": [
           {
            "line": {
             "colorbar": {
              "outlinewidth": 0,
              "ticks": ""
             }
            },
            "marker": {
             "colorbar": {
              "outlinewidth": 0,
              "ticks": ""
             }
            },
            "type": "scatter3d"
           }
          ],
          "scattercarpet": [
           {
            "marker": {
             "colorbar": {
              "outlinewidth": 0,
              "ticks": ""
             }
            },
            "type": "scattercarpet"
           }
          ],
          "scattergeo": [
           {
            "marker": {
             "colorbar": {
              "outlinewidth": 0,
              "ticks": ""
             }
            },
            "type": "scattergeo"
           }
          ],
          "scattergl": [
           {
            "marker": {
             "colorbar": {
              "outlinewidth": 0,
              "ticks": ""
             }
            },
            "type": "scattergl"
           }
          ],
          "scattermap": [
           {
            "marker": {
             "colorbar": {
              "outlinewidth": 0,
              "ticks": ""
             }
            },
            "type": "scattermap"
           }
          ],
          "scattermapbox": [
           {
            "marker": {
             "colorbar": {
              "outlinewidth": 0,
              "ticks": ""
             }
            },
            "type": "scattermapbox"
           }
          ],
          "scatterpolar": [
           {
            "marker": {
             "colorbar": {
              "outlinewidth": 0,
              "ticks": ""
             }
            },
            "type": "scatterpolar"
           }
          ],
          "scatterpolargl": [
           {
            "marker": {
             "colorbar": {
              "outlinewidth": 0,
              "ticks": ""
             }
            },
            "type": "scatterpolargl"
           }
          ],
          "scatterternary": [
           {
            "marker": {
             "colorbar": {
              "outlinewidth": 0,
              "ticks": ""
             }
            },
            "type": "scatterternary"
           }
          ],
          "surface": [
           {
            "colorbar": {
             "outlinewidth": 0,
             "ticks": ""
            },
            "colorscale": [
             [
              0,
              "#0d0887"
             ],
             [
              0.1111111111111111,
              "#46039f"
             ],
             [
              0.2222222222222222,
              "#7201a8"
             ],
             [
              0.3333333333333333,
              "#9c179e"
             ],
             [
              0.4444444444444444,
              "#bd3786"
             ],
             [
              0.5555555555555556,
              "#d8576b"
             ],
             [
              0.6666666666666666,
              "#ed7953"
             ],
             [
              0.7777777777777778,
              "#fb9f3a"
             ],
             [
              0.8888888888888888,
              "#fdca26"
             ],
             [
              1,
              "#f0f921"
             ]
            ],
            "type": "surface"
           }
          ],
          "table": [
           {
            "cells": {
             "fill": {
              "color": "#EBF0F8"
             },
             "line": {
              "color": "white"
             }
            },
            "header": {
             "fill": {
              "color": "#C8D4E3"
             },
             "line": {
              "color": "white"
             }
            },
            "type": "table"
           }
          ]
         },
         "layout": {
          "annotationdefaults": {
           "arrowcolor": "#2a3f5f",
           "arrowhead": 0,
           "arrowwidth": 1
          },
          "autotypenumbers": "strict",
          "coloraxis": {
           "colorbar": {
            "outlinewidth": 0,
            "ticks": ""
           }
          },
          "colorscale": {
           "diverging": [
            [
             0,
             "#8e0152"
            ],
            [
             0.1,
             "#c51b7d"
            ],
            [
             0.2,
             "#de77ae"
            ],
            [
             0.3,
             "#f1b6da"
            ],
            [
             0.4,
             "#fde0ef"
            ],
            [
             0.5,
             "#f7f7f7"
            ],
            [
             0.6,
             "#e6f5d0"
            ],
            [
             0.7,
             "#b8e186"
            ],
            [
             0.8,
             "#7fbc41"
            ],
            [
             0.9,
             "#4d9221"
            ],
            [
             1,
             "#276419"
            ]
           ],
           "sequential": [
            [
             0,
             "#0d0887"
            ],
            [
             0.1111111111111111,
             "#46039f"
            ],
            [
             0.2222222222222222,
             "#7201a8"
            ],
            [
             0.3333333333333333,
             "#9c179e"
            ],
            [
             0.4444444444444444,
             "#bd3786"
            ],
            [
             0.5555555555555556,
             "#d8576b"
            ],
            [
             0.6666666666666666,
             "#ed7953"
            ],
            [
             0.7777777777777778,
             "#fb9f3a"
            ],
            [
             0.8888888888888888,
             "#fdca26"
            ],
            [
             1,
             "#f0f921"
            ]
           ],
           "sequentialminus": [
            [
             0,
             "#0d0887"
            ],
            [
             0.1111111111111111,
             "#46039f"
            ],
            [
             0.2222222222222222,
             "#7201a8"
            ],
            [
             0.3333333333333333,
             "#9c179e"
            ],
            [
             0.4444444444444444,
             "#bd3786"
            ],
            [
             0.5555555555555556,
             "#d8576b"
            ],
            [
             0.6666666666666666,
             "#ed7953"
            ],
            [
             0.7777777777777778,
             "#fb9f3a"
            ],
            [
             0.8888888888888888,
             "#fdca26"
            ],
            [
             1,
             "#f0f921"
            ]
           ]
          },
          "colorway": [
           "#636efa",
           "#EF553B",
           "#00cc96",
           "#ab63fa",
           "#FFA15A",
           "#19d3f3",
           "#FF6692",
           "#B6E880",
           "#FF97FF",
           "#FECB52"
          ],
          "font": {
           "color": "#2a3f5f"
          },
          "geo": {
           "bgcolor": "white",
           "lakecolor": "white",
           "landcolor": "#E5ECF6",
           "showlakes": true,
           "showland": true,
           "subunitcolor": "white"
          },
          "hoverlabel": {
           "align": "left"
          },
          "hovermode": "closest",
          "mapbox": {
           "style": "light"
          },
          "paper_bgcolor": "white",
          "plot_bgcolor": "#E5ECF6",
          "polar": {
           "angularaxis": {
            "gridcolor": "white",
            "linecolor": "white",
            "ticks": ""
           },
           "bgcolor": "#E5ECF6",
           "radialaxis": {
            "gridcolor": "white",
            "linecolor": "white",
            "ticks": ""
           }
          },
          "scene": {
           "xaxis": {
            "backgroundcolor": "#E5ECF6",
            "gridcolor": "white",
            "gridwidth": 2,
            "linecolor": "white",
            "showbackground": true,
            "ticks": "",
            "zerolinecolor": "white"
           },
           "yaxis": {
            "backgroundcolor": "#E5ECF6",
            "gridcolor": "white",
            "gridwidth": 2,
            "linecolor": "white",
            "showbackground": true,
            "ticks": "",
            "zerolinecolor": "white"
           },
           "zaxis": {
            "backgroundcolor": "#E5ECF6",
            "gridcolor": "white",
            "gridwidth": 2,
            "linecolor": "white",
            "showbackground": true,
            "ticks": "",
            "zerolinecolor": "white"
           }
          },
          "shapedefaults": {
           "line": {
            "color": "#2a3f5f"
           }
          },
          "ternary": {
           "aaxis": {
            "gridcolor": "white",
            "linecolor": "white",
            "ticks": ""
           },
           "baxis": {
            "gridcolor": "white",
            "linecolor": "white",
            "ticks": ""
           },
           "bgcolor": "#E5ECF6",
           "caxis": {
            "gridcolor": "white",
            "linecolor": "white",
            "ticks": ""
           }
          },
          "title": {
           "x": 0.05
          },
          "xaxis": {
           "automargin": true,
           "gridcolor": "white",
           "linecolor": "white",
           "ticks": "",
           "title": {
            "standoff": 15
           },
           "zerolinecolor": "white",
           "zerolinewidth": 2
          },
          "yaxis": {
           "automargin": true,
           "gridcolor": "white",
           "linecolor": "white",
           "ticks": "",
           "title": {
            "standoff": 15
           },
           "zerolinecolor": "white",
           "zerolinewidth": 2
          }
         }
        },
        "title": {
         "text": "Boxplot dei Prezzi"
        },
        "width": 700,
        "yaxis": {
         "title": {
          "text": "Prezzo (€)"
         }
        }
       }
      }
     },
     "metadata": {},
     "output_type": "display_data"
    },
    {
     "data": {
      "application/vnd.plotly.v1+json": {
       "config": {
        "plotlyServerURL": "https://plot.ly"
       },
       "data": [
        {
         "marker": {
          "color": "lightgreen"
         },
         "name": "Overall",
         "nbinsx": 20,
         "type": "histogram",
         "x": {
          "bdata": "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",
          "dtype": "f8"
         }
        }
       ],
       "layout": {
        "height": 400,
        "template": {
         "data": {
          "bar": [
           {
            "error_x": {
             "color": "#2a3f5f"
            },
            "error_y": {
             "color": "#2a3f5f"
            },
            "marker": {
             "line": {
              "color": "#E5ECF6",
              "width": 0.5
             },
             "pattern": {
              "fillmode": "overlay",
              "size": 10,
              "solidity": 0.2
             }
            },
            "type": "bar"
           }
          ],
          "barpolar": [
           {
            "marker": {
             "line": {
              "color": "#E5ECF6",
              "width": 0.5
             },
             "pattern": {
              "fillmode": "overlay",
              "size": 10,
              "solidity": 0.2
             }
            },
            "type": "barpolar"
           }
          ],
          "carpet": [
           {
            "aaxis": {
             "endlinecolor": "#2a3f5f",
             "gridcolor": "white",
             "linecolor": "white",
             "minorgridcolor": "white",
             "startlinecolor": "#2a3f5f"
            },
            "baxis": {
             "endlinecolor": "#2a3f5f",
             "gridcolor": "white",
             "linecolor": "white",
             "minorgridcolor": "white",
             "startlinecolor": "#2a3f5f"
            },
            "type": "carpet"
           }
          ],
          "choropleth": [
           {
            "colorbar": {
             "outlinewidth": 0,
             "ticks": ""
            },
            "type": "choropleth"
           }
          ],
          "contour": [
           {
            "colorbar": {
             "outlinewidth": 0,
             "ticks": ""
            },
            "colorscale": [
             [
              0,
              "#0d0887"
             ],
             [
              0.1111111111111111,
              "#46039f"
             ],
             [
              0.2222222222222222,
              "#7201a8"
             ],
             [
              0.3333333333333333,
              "#9c179e"
             ],
             [
              0.4444444444444444,
              "#bd3786"
             ],
             [
              0.5555555555555556,
              "#d8576b"
             ],
             [
              0.6666666666666666,
              "#ed7953"
             ],
             [
              0.7777777777777778,
              "#fb9f3a"
             ],
             [
              0.8888888888888888,
              "#fdca26"
             ],
             [
              1,
              "#f0f921"
             ]
            ],
            "type": "contour"
           }
          ],
          "contourcarpet": [
           {
            "colorbar": {
             "outlinewidth": 0,
             "ticks": ""
            },
            "type": "contourcarpet"
           }
          ],
          "heatmap": [
           {
            "colorbar": {
             "outlinewidth": 0,
             "ticks": ""
            },
            "colorscale": [
             [
              0,
              "#0d0887"
             ],
             [
              0.1111111111111111,
              "#46039f"
             ],
             [
              0.2222222222222222,
              "#7201a8"
             ],
             [
              0.3333333333333333,
              "#9c179e"
             ],
             [
              0.4444444444444444,
              "#bd3786"
             ],
             [
              0.5555555555555556,
              "#d8576b"
             ],
             [
              0.6666666666666666,
              "#ed7953"
             ],
             [
              0.7777777777777778,
              "#fb9f3a"
             ],
             [
              0.8888888888888888,
              "#fdca26"
             ],
             [
              1,
              "#f0f921"
             ]
            ],
            "type": "heatmap"
           }
          ],
          "histogram": [
           {
            "marker": {
             "pattern": {
              "fillmode": "overlay",
              "size": 10,
              "solidity": 0.2
             }
            },
            "type": "histogram"
           }
          ],
          "histogram2d": [
           {
            "colorbar": {
             "outlinewidth": 0,
             "ticks": ""
            },
            "colorscale": [
             [
              0,
              "#0d0887"
             ],
             [
              0.1111111111111111,
              "#46039f"
             ],
             [
              0.2222222222222222,
              "#7201a8"
             ],
             [
              0.3333333333333333,
              "#9c179e"
             ],
             [
              0.4444444444444444,
              "#bd3786"
             ],
             [
              0.5555555555555556,
              "#d8576b"
             ],
             [
              0.6666666666666666,
              "#ed7953"
             ],
             [
              0.7777777777777778,
              "#fb9f3a"
             ],
             [
              0.8888888888888888,
              "#fdca26"
             ],
             [
              1,
              "#f0f921"
             ]
            ],
            "type": "histogram2d"
           }
          ],
          "histogram2dcontour": [
           {
            "colorbar": {
             "outlinewidth": 0,
             "ticks": ""
            },
            "colorscale": [
             [
              0,
              "#0d0887"
             ],
             [
              0.1111111111111111,
              "#46039f"
             ],
             [
              0.2222222222222222,
              "#7201a8"
             ],
             [
              0.3333333333333333,
              "#9c179e"
             ],
             [
              0.4444444444444444,
              "#bd3786"
             ],
             [
              0.5555555555555556,
              "#d8576b"
             ],
             [
              0.6666666666666666,
              "#ed7953"
             ],
             [
              0.7777777777777778,
              "#fb9f3a"
             ],
             [
              0.8888888888888888,
              "#fdca26"
             ],
             [
              1,
              "#f0f921"
             ]
            ],
            "type": "histogram2dcontour"
           }
          ],
          "mesh3d": [
           {
            "colorbar": {
             "outlinewidth": 0,
             "ticks": ""
            },
            "type": "mesh3d"
           }
          ],
          "parcoords": [
           {
            "line": {
             "colorbar": {
              "outlinewidth": 0,
              "ticks": ""
             }
            },
            "type": "parcoords"
           }
          ],
          "pie": [
           {
            "automargin": true,
            "type": "pie"
           }
          ],
          "scatter": [
           {
            "fillpattern": {
             "fillmode": "overlay",
             "size": 10,
             "solidity": 0.2
            },
            "type": "scatter"
           }
          ],
          "scatter3d": [
           {
            "line": {
             "colorbar": {
              "outlinewidth": 0,
              "ticks": ""
             }
            },
            "marker": {
             "colorbar": {
              "outlinewidth": 0,
              "ticks": ""
             }
            },
            "type": "scatter3d"
           }
          ],
          "scattercarpet": [
           {
            "marker": {
             "colorbar": {
              "outlinewidth": 0,
              "ticks": ""
             }
            },
            "type": "scattercarpet"
           }
          ],
          "scattergeo": [
           {
            "marker": {
             "colorbar": {
              "outlinewidth": 0,
              "ticks": ""
             }
            },
            "type": "scattergeo"
           }
          ],
          "scattergl": [
           {
            "marker": {
             "colorbar": {
              "outlinewidth": 0,
              "ticks": ""
             }
            },
            "type": "scattergl"
           }
          ],
          "scattermap": [
           {
            "marker": {
             "colorbar": {
              "outlinewidth": 0,
              "ticks": ""
             }
            },
            "type": "scattermap"
           }
          ],
          "scattermapbox": [
           {
            "marker": {
             "colorbar": {
              "outlinewidth": 0,
              "ticks": ""
             }
            },
            "type": "scattermapbox"
           }
          ],
          "scatterpolar": [
           {
            "marker": {
             "colorbar": {
              "outlinewidth": 0,
              "ticks": ""
             }
            },
            "type": "scatterpolar"
           }
          ],
          "scatterpolargl": [
           {
            "marker": {
             "colorbar": {
              "outlinewidth": 0,
              "ticks": ""
             }
            },
            "type": "scatterpolargl"
           }
          ],
          "scatterternary": [
           {
            "marker": {
             "colorbar": {
              "outlinewidth": 0,
              "ticks": ""
             }
            },
            "type": "scatterternary"
           }
          ],
          "surface": [
           {
            "colorbar": {
             "outlinewidth": 0,
             "ticks": ""
            },
            "colorscale": [
             [
              0,
              "#0d0887"
             ],
             [
              0.1111111111111111,
              "#46039f"
             ],
             [
              0.2222222222222222,
              "#7201a8"
             ],
             [
              0.3333333333333333,
              "#9c179e"
             ],
             [
              0.4444444444444444,
              "#bd3786"
             ],
             [
              0.5555555555555556,
              "#d8576b"
             ],
             [
              0.6666666666666666,
              "#ed7953"
             ],
             [
              0.7777777777777778,
              "#fb9f3a"
             ],
             [
              0.8888888888888888,
              "#fdca26"
             ],
             [
              1,
              "#f0f921"
             ]
            ],
            "type": "surface"
           }
          ],
          "table": [
           {
            "cells": {
             "fill": {
              "color": "#EBF0F8"
             },
             "line": {
              "color": "white"
             }
            },
            "header": {
             "fill": {
              "color": "#C8D4E3"
             },
             "line": {
              "color": "white"
             }
            },
            "type": "table"
           }
          ]
         },
         "layout": {
          "annotationdefaults": {
           "arrowcolor": "#2a3f5f",
           "arrowhead": 0,
           "arrowwidth": 1
          },
          "autotypenumbers": "strict",
          "coloraxis": {
           "colorbar": {
            "outlinewidth": 0,
            "ticks": ""
           }
          },
          "colorscale": {
           "diverging": [
            [
             0,
             "#8e0152"
            ],
            [
             0.1,
             "#c51b7d"
            ],
            [
             0.2,
             "#de77ae"
            ],
            [
             0.3,
             "#f1b6da"
            ],
            [
             0.4,
             "#fde0ef"
            ],
            [
             0.5,
             "#f7f7f7"
            ],
            [
             0.6,
             "#e6f5d0"
            ],
            [
             0.7,
             "#b8e186"
            ],
            [
             0.8,
             "#7fbc41"
            ],
            [
             0.9,
             "#4d9221"
            ],
            [
             1,
             "#276419"
            ]
           ],
           "sequential": [
            [
             0,
             "#0d0887"
            ],
            [
             0.1111111111111111,
             "#46039f"
            ],
            [
             0.2222222222222222,
             "#7201a8"
            ],
            [
             0.3333333333333333,
             "#9c179e"
            ],
            [
             0.4444444444444444,
             "#bd3786"
            ],
            [
             0.5555555555555556,
             "#d8576b"
            ],
            [
             0.6666666666666666,
             "#ed7953"
            ],
            [
             0.7777777777777778,
             "#fb9f3a"
            ],
            [
             0.8888888888888888,
             "#fdca26"
            ],
            [
             1,
             "#f0f921"
            ]
           ],
           "sequentialminus": [
            [
             0,
             "#0d0887"
            ],
            [
             0.1111111111111111,
             "#46039f"
            ],
            [
             0.2222222222222222,
             "#7201a8"
            ],
            [
             0.3333333333333333,
             "#9c179e"
            ],
            [
             0.4444444444444444,
             "#bd3786"
            ],
            [
             0.5555555555555556,
             "#d8576b"
            ],
            [
             0.6666666666666666,
             "#ed7953"
            ],
            [
             0.7777777777777778,
             "#fb9f3a"
            ],
            [
             0.8888888888888888,
             "#fdca26"
            ],
            [
             1,
             "#f0f921"
            ]
           ]
          },
          "colorway": [
           "#636efa",
           "#EF553B",
           "#00cc96",
           "#ab63fa",
           "#FFA15A",
           "#19d3f3",
           "#FF6692",
           "#B6E880",
           "#FF97FF",
           "#FECB52"
          ],
          "font": {
           "color": "#2a3f5f"
          },
          "geo": {
           "bgcolor": "white",
           "lakecolor": "white",
           "landcolor": "#E5ECF6",
           "showlakes": true,
           "showland": true,
           "subunitcolor": "white"
          },
          "hoverlabel": {
           "align": "left"
          },
          "hovermode": "closest",
          "mapbox": {
           "style": "light"
          },
          "paper_bgcolor": "white",
          "plot_bgcolor": "#E5ECF6",
          "polar": {
           "angularaxis": {
            "gridcolor": "white",
            "linecolor": "white",
            "ticks": ""
           },
           "bgcolor": "#E5ECF6",
           "radialaxis": {
            "gridcolor": "white",
            "linecolor": "white",
            "ticks": ""
           }
          },
          "scene": {
           "xaxis": {
            "backgroundcolor": "#E5ECF6",
            "gridcolor": "white",
            "gridwidth": 2,
            "linecolor": "white",
            "showbackground": true,
            "ticks": "",
            "zerolinecolor": "white"
           },
           "yaxis": {
            "backgroundcolor": "#E5ECF6",
            "gridcolor": "white",
            "gridwidth": 2,
            "linecolor": "white",
            "showbackground": true,
            "ticks": "",
            "zerolinecolor": "white"
           },
           "zaxis": {
            "backgroundcolor": "#E5ECF6",
            "gridcolor": "white",
            "gridwidth": 2,
            "linecolor": "white",
            "showbackground": true,
            "ticks": "",
            "zerolinecolor": "white"
           }
          },
          "shapedefaults": {
           "line": {
            "color": "#2a3f5f"
           }
          },
          "ternary": {
           "aaxis": {
            "gridcolor": "white",
            "linecolor": "white",
            "ticks": ""
           },
           "baxis": {
            "gridcolor": "white",
            "linecolor": "white",
            "ticks": ""
           },
           "bgcolor": "#E5ECF6",
           "caxis": {
            "gridcolor": "white",
            "linecolor": "white",
            "ticks": ""
           }
          },
          "title": {
           "x": 0.05
          },
          "xaxis": {
           "automargin": true,
           "gridcolor": "white",
           "linecolor": "white",
           "ticks": "",
           "title": {
            "standoff": 15
           },
           "zerolinecolor": "white",
           "zerolinewidth": 2
          },
          "yaxis": {
           "automargin": true,
           "gridcolor": "white",
           "linecolor": "white",
           "ticks": "",
           "title": {
            "standoff": 15
           },
           "zerolinecolor": "white",
           "zerolinewidth": 2
          }
         }
        },
        "title": {
         "text": "Distribuzione Punteggio Overall"
        },
        "width": 700,
        "xaxis": {
         "title": {
          "text": "Punteggio Overall"
         }
        },
        "yaxis": {
         "title": {
          "text": "Frequenza"
         }
        }
       }
      }
     },
     "metadata": {},
     "output_type": "display_data"
    }
   ],
   "source": [
    "import plotly.graph_objs as go\n",
    "\n",
    "# Istogramma dei prezzi\n",
    "fig_hist_price = go.Figure()\n",
    "fig_hist_price.add_trace(\n",
    "    go.Histogram(x=df['Price'], nbinsx=30, marker_color='skyblue', name='Prezzi')\n",
    ")\n",
    "fig_hist_price.update_layout(\n",
    "    title=\"Distribuzione dei Prezzi\",\n",
    "    xaxis_title=\"Prezzo (€)\",\n",
    "    yaxis_title=\"Frequenza\",\n",
    "    height=400, width=700\n",
    ")\n",
    "fig_hist_price.show()\n",
    "\n",
    "# Boxplot dei prezzi\n",
    "fig_box_price = go.Figure()\n",
    "fig_box_price.add_trace(\n",
    "    go.Box(y=df['Price'], boxpoints='outliers', marker_color='royalblue', name='Prezzi')\n",
    ")\n",
    "fig_box_price.update_layout(\n",
    "    title=\"Boxplot dei Prezzi\",\n",
    "    yaxis_title=\"Prezzo (€)\",\n",
    "    height=400, width=700\n",
    ")\n",
    "fig_box_price.show()\n",
    "\n",
    "# Istogramma del punteggio Overall\n",
    "fig_hist_overall = go.Figure()\n",
    "fig_hist_overall.add_trace(\n",
    "    go.Histogram(x=df['Overall'], nbinsx=20, marker_color='lightgreen', name='Overall')\n",
    ")\n",
    "fig_hist_overall.update_layout(\n",
    "    title=\"Distribuzione Punteggio Overall\",\n",
    "    xaxis_title=\"Punteggio Overall\",\n",
    "    yaxis_title=\"Frequenza\",\n",
    "    height=400, width=700\n",
    ")\n",
    "fig_hist_overall.show()"
   ]
  },
  {
   "cell_type": "code",
   "execution_count": 18,
   "id": "66f5b2d0",
   "metadata": {},
   "outputs": [
    {
     "data": {
      "application/vnd.plotly.v1+json": {
       "config": {
        "plotlyServerURL": "https://plot.ly"
       },
       "data": [
        {
         "marker": {
          "color": "lightblue"
         },
         "type": "bar",
         "x": [
          "BMW",
          "Volkswagen",
          "Peugeot",
          "Citroen",
          "Renault",
          "Fiat",
          "MG",
          "Dacia",
          "BYD",
          "OMODA",
          "Leapmotor",
          "Xpeng",
          "Jaecoo",
          "GWM",
          "Haval"
         ],
         "y": {
          "bdata": "PBgYFxMRCggFAwIBAQEB",
          "dtype": "i1"
         }
        }
       ],
       "layout": {
        "height": 400,
        "template": {
         "data": {
          "bar": [
           {
            "error_x": {
             "color": "#2a3f5f"
            },
            "error_y": {
             "color": "#2a3f5f"
            },
            "marker": {
             "line": {
              "color": "#E5ECF6",
              "width": 0.5
             },
             "pattern": {
              "fillmode": "overlay",
              "size": 10,
              "solidity": 0.2
             }
            },
            "type": "bar"
           }
          ],
          "barpolar": [
           {
            "marker": {
             "line": {
              "color": "#E5ECF6",
              "width": 0.5
             },
             "pattern": {
              "fillmode": "overlay",
              "size": 10,
              "solidity": 0.2
             }
            },
            "type": "barpolar"
           }
          ],
          "carpet": [
           {
            "aaxis": {
             "endlinecolor": "#2a3f5f",
             "gridcolor": "white",
             "linecolor": "white",
             "minorgridcolor": "white",
             "startlinecolor": "#2a3f5f"
            },
            "baxis": {
             "endlinecolor": "#2a3f5f",
             "gridcolor": "white",
             "linecolor": "white",
             "minorgridcolor": "white",
             "startlinecolor": "#2a3f5f"
            },
            "type": "carpet"
           }
          ],
          "choropleth": [
           {
            "colorbar": {
             "outlinewidth": 0,
             "ticks": ""
            },
            "type": "choropleth"
           }
          ],
          "contour": [
           {
            "colorbar": {
             "outlinewidth": 0,
             "ticks": ""
            },
            "colorscale": [
             [
              0,
              "#0d0887"
             ],
             [
              0.1111111111111111,
              "#46039f"
             ],
             [
              0.2222222222222222,
              "#7201a8"
             ],
             [
              0.3333333333333333,
              "#9c179e"
             ],
             [
              0.4444444444444444,
              "#bd3786"
             ],
             [
              0.5555555555555556,
              "#d8576b"
             ],
             [
              0.6666666666666666,
              "#ed7953"
             ],
             [
              0.7777777777777778,
              "#fb9f3a"
             ],
             [
              0.8888888888888888,
              "#fdca26"
             ],
             [
              1,
              "#f0f921"
             ]
            ],
            "type": "contour"
           }
          ],
          "contourcarpet": [
           {
            "colorbar": {
             "outlinewidth": 0,
             "ticks": ""
            },
            "type": "contourcarpet"
           }
          ],
          "heatmap": [
           {
            "colorbar": {
             "outlinewidth": 0,
             "ticks": ""
            },
            "colorscale": [
             [
              0,
              "#0d0887"
             ],
             [
              0.1111111111111111,
              "#46039f"
             ],
             [
              0.2222222222222222,
              "#7201a8"
             ],
             [
              0.3333333333333333,
              "#9c179e"
             ],
             [
              0.4444444444444444,
              "#bd3786"
             ],
             [
              0.5555555555555556,
              "#d8576b"
             ],
             [
              0.6666666666666666,
              "#ed7953"
             ],
             [
              0.7777777777777778,
              "#fb9f3a"
             ],
             [
              0.8888888888888888,
              "#fdca26"
             ],
             [
              1,
              "#f0f921"
             ]
            ],
            "type": "heatmap"
           }
          ],
          "histogram": [
           {
            "marker": {
             "pattern": {
              "fillmode": "overlay",
              "size": 10,
              "solidity": 0.2
             }
            },
            "type": "histogram"
           }
          ],
          "histogram2d": [
           {
            "colorbar": {
             "outlinewidth": 0,
             "ticks": ""
            },
            "colorscale": [
             [
              0,
              "#0d0887"
             ],
             [
              0.1111111111111111,
              "#46039f"
             ],
             [
              0.2222222222222222,
              "#7201a8"
             ],
             [
              0.3333333333333333,
              "#9c179e"
             ],
             [
              0.4444444444444444,
              "#bd3786"
             ],
             [
              0.5555555555555556,
              "#d8576b"
             ],
             [
              0.6666666666666666,
              "#ed7953"
             ],
             [
              0.7777777777777778,
              "#fb9f3a"
             ],
             [
              0.8888888888888888,
              "#fdca26"
             ],
             [
              1,
              "#f0f921"
             ]
            ],
            "type": "histogram2d"
           }
          ],
          "histogram2dcontour": [
           {
            "colorbar": {
             "outlinewidth": 0,
             "ticks": ""
            },
            "colorscale": [
             [
              0,
              "#0d0887"
             ],
             [
              0.1111111111111111,
              "#46039f"
             ],
             [
              0.2222222222222222,
              "#7201a8"
             ],
             [
              0.3333333333333333,
              "#9c179e"
             ],
             [
              0.4444444444444444,
              "#bd3786"
             ],
             [
              0.5555555555555556,
              "#d8576b"
             ],
             [
              0.6666666666666666,
              "#ed7953"
             ],
             [
              0.7777777777777778,
              "#fb9f3a"
             ],
             [
              0.8888888888888888,
              "#fdca26"
             ],
             [
              1,
              "#f0f921"
             ]
            ],
            "type": "histogram2dcontour"
           }
          ],
          "mesh3d": [
           {
            "colorbar": {
             "outlinewidth": 0,
             "ticks": ""
            },
            "type": "mesh3d"
           }
          ],
          "parcoords": [
           {
            "line": {
             "colorbar": {
              "outlinewidth": 0,
              "ticks": ""
             }
            },
            "type": "parcoords"
           }
          ],
          "pie": [
           {
            "automargin": true,
            "type": "pie"
           }
          ],
          "scatter": [
           {
            "fillpattern": {
             "fillmode": "overlay",
             "size": 10,
             "solidity": 0.2
            },
            "type": "scatter"
           }
          ],
          "scatter3d": [
           {
            "line": {
             "colorbar": {
              "outlinewidth": 0,
              "ticks": ""
             }
            },
            "marker": {
             "colorbar": {
              "outlinewidth": 0,
              "ticks": ""
             }
            },
            "type": "scatter3d"
           }
          ],
          "scattercarpet": [
           {
            "marker": {
             "colorbar": {
              "outlinewidth": 0,
              "ticks": ""
             }
            },
            "type": "scattercarpet"
           }
          ],
          "scattergeo": [
           {
            "marker": {
             "colorbar": {
              "outlinewidth": 0,
              "ticks": ""
             }
            },
            "type": "scattergeo"
           }
          ],
          "scattergl": [
           {
            "marker": {
             "colorbar": {
              "outlinewidth": 0,
              "ticks": ""
             }
            },
            "type": "scattergl"
           }
          ],
          "scattermap": [
           {
            "marker": {
             "colorbar": {
              "outlinewidth": 0,
              "ticks": ""
             }
            },
            "type": "scattermap"
           }
          ],
          "scattermapbox": [
           {
            "marker": {
             "colorbar": {
              "outlinewidth": 0,
              "ticks": ""
             }
            },
            "type": "scattermapbox"
           }
          ],
          "scatterpolar": [
           {
            "marker": {
             "colorbar": {
              "outlinewidth": 0,
              "ticks": ""
             }
            },
            "type": "scatterpolar"
           }
          ],
          "scatterpolargl": [
           {
            "marker": {
             "colorbar": {
              "outlinewidth": 0,
              "ticks": ""
             }
            },
            "type": "scatterpolargl"
           }
          ],
          "scatterternary": [
           {
            "marker": {
             "colorbar": {
              "outlinewidth": 0,
              "ticks": ""
             }
            },
            "type": "scatterternary"
           }
          ],
          "surface": [
           {
            "colorbar": {
             "outlinewidth": 0,
             "ticks": ""
            },
            "colorscale": [
             [
              0,
              "#0d0887"
             ],
             [
              0.1111111111111111,
              "#46039f"
             ],
             [
              0.2222222222222222,
              "#7201a8"
             ],
             [
              0.3333333333333333,
              "#9c179e"
             ],
             [
              0.4444444444444444,
              "#bd3786"
             ],
             [
              0.5555555555555556,
              "#d8576b"
             ],
             [
              0.6666666666666666,
              "#ed7953"
             ],
             [
              0.7777777777777778,
              "#fb9f3a"
             ],
             [
              0.8888888888888888,
              "#fdca26"
             ],
             [
              1,
              "#f0f921"
             ]
            ],
            "type": "surface"
           }
          ],
          "table": [
           {
            "cells": {
             "fill": {
              "color": "#EBF0F8"
             },
             "line": {
              "color": "white"
             }
            },
            "header": {
             "fill": {
              "color": "#C8D4E3"
             },
             "line": {
              "color": "white"
             }
            },
            "type": "table"
           }
          ]
         },
         "layout": {
          "annotationdefaults": {
           "arrowcolor": "#2a3f5f",
           "arrowhead": 0,
           "arrowwidth": 1
          },
          "autotypenumbers": "strict",
          "coloraxis": {
           "colorbar": {
            "outlinewidth": 0,
            "ticks": ""
           }
          },
          "colorscale": {
           "diverging": [
            [
             0,
             "#8e0152"
            ],
            [
             0.1,
             "#c51b7d"
            ],
            [
             0.2,
             "#de77ae"
            ],
            [
             0.3,
             "#f1b6da"
            ],
            [
             0.4,
             "#fde0ef"
            ],
            [
             0.5,
             "#f7f7f7"
            ],
            [
             0.6,
             "#e6f5d0"
            ],
            [
             0.7,
             "#b8e186"
            ],
            [
             0.8,
             "#7fbc41"
            ],
            [
             0.9,
             "#4d9221"
            ],
            [
             1,
             "#276419"
            ]
           ],
           "sequential": [
            [
             0,
             "#0d0887"
            ],
            [
             0.1111111111111111,
             "#46039f"
            ],
            [
             0.2222222222222222,
             "#7201a8"
            ],
            [
             0.3333333333333333,
             "#9c179e"
            ],
            [
             0.4444444444444444,
             "#bd3786"
            ],
            [
             0.5555555555555556,
             "#d8576b"
            ],
            [
             0.6666666666666666,
             "#ed7953"
            ],
            [
             0.7777777777777778,
             "#fb9f3a"
            ],
            [
             0.8888888888888888,
             "#fdca26"
            ],
            [
             1,
             "#f0f921"
            ]
           ],
           "sequentialminus": [
            [
             0,
             "#0d0887"
            ],
            [
             0.1111111111111111,
             "#46039f"
            ],
            [
             0.2222222222222222,
             "#7201a8"
            ],
            [
             0.3333333333333333,
             "#9c179e"
            ],
            [
             0.4444444444444444,
             "#bd3786"
            ],
            [
             0.5555555555555556,
             "#d8576b"
            ],
            [
             0.6666666666666666,
             "#ed7953"
            ],
            [
             0.7777777777777778,
             "#fb9f3a"
            ],
            [
             0.8888888888888888,
             "#fdca26"
            ],
            [
             1,
             "#f0f921"
            ]
           ]
          },
          "colorway": [
           "#636efa",
           "#EF553B",
           "#00cc96",
           "#ab63fa",
           "#FFA15A",
           "#19d3f3",
           "#FF6692",
           "#B6E880",
           "#FF97FF",
           "#FECB52"
          ],
          "font": {
           "color": "#2a3f5f"
          },
          "geo": {
           "bgcolor": "white",
           "lakecolor": "white",
           "landcolor": "#E5ECF6",
           "showlakes": true,
           "showland": true,
           "subunitcolor": "white"
          },
          "hoverlabel": {
           "align": "left"
          },
          "hovermode": "closest",
          "mapbox": {
           "style": "light"
          },
          "paper_bgcolor": "white",
          "plot_bgcolor": "#E5ECF6",
          "polar": {
           "angularaxis": {
            "gridcolor": "white",
            "linecolor": "white",
            "ticks": ""
           },
           "bgcolor": "#E5ECF6",
           "radialaxis": {
            "gridcolor": "white",
            "linecolor": "white",
            "ticks": ""
           }
          },
          "scene": {
           "xaxis": {
            "backgroundcolor": "#E5ECF6",
            "gridcolor": "white",
            "gridwidth": 2,
            "linecolor": "white",
            "showbackground": true,
            "ticks": "",
            "zerolinecolor": "white"
           },
           "yaxis": {
            "backgroundcolor": "#E5ECF6",
            "gridcolor": "white",
            "gridwidth": 2,
            "linecolor": "white",
            "showbackground": true,
            "ticks": "",
            "zerolinecolor": "white"
           },
           "zaxis": {
            "backgroundcolor": "#E5ECF6",
            "gridcolor": "white",
            "gridwidth": 2,
            "linecolor": "white",
            "showbackground": true,
            "ticks": "",
            "zerolinecolor": "white"
           }
          },
          "shapedefaults": {
           "line": {
            "color": "#2a3f5f"
           }
          },
          "ternary": {
           "aaxis": {
            "gridcolor": "white",
            "linecolor": "white",
            "ticks": ""
           },
           "baxis": {
            "gridcolor": "white",
            "linecolor": "white",
            "ticks": ""
           },
           "bgcolor": "#E5ECF6",
           "caxis": {
            "gridcolor": "white",
            "linecolor": "white",
            "ticks": ""
           }
          },
          "title": {
           "x": 0.05
          },
          "xaxis": {
           "automargin": true,
           "gridcolor": "white",
           "linecolor": "white",
           "ticks": "",
           "title": {
            "standoff": 15
           },
           "zerolinecolor": "white",
           "zerolinewidth": 2
          },
          "yaxis": {
           "automargin": true,
           "gridcolor": "white",
           "linecolor": "white",
           "ticks": "",
           "title": {
            "standoff": 15
           },
           "zerolinecolor": "white",
           "zerolinewidth": 2
          }
         }
        },
        "title": {
         "text": "Numero di Auto per Brand"
        },
        "width": 900,
        "xaxis": {
         "tickangle": -45,
         "title": {
          "text": "Brand"
         }
        },
        "yaxis": {
         "title": {
          "text": "Numero di Auto"
         }
        }
       }
      }
     },
     "metadata": {},
     "output_type": "display_data"
    },
    {
     "data": {
      "application/vnd.plotly.v1+json": {
       "config": {
        "plotlyServerURL": "https://plot.ly"
       },
       "data": [
        {
         "marker": {
          "color": "lightcoral"
         },
         "type": "bar",
         "x": [
          "BMW",
          "Volkswagen",
          "Xpeng",
          "BYD",
          "OMODA",
          "Peugeot",
          "Jaecoo",
          "MG",
          "Leapmotor",
          "GWM",
          "Haval",
          "Citroen",
          "Renault",
          "Fiat",
          "Dacia"
         ],
         "y": {
          "bdata": "Vg4tsk+W9EAUrkfhQ7/nQAAAAAAA2uZAcT0K13Oz5UCamZmZiczjQHE9CtdTheJAmpmZmVE04UDXo3A9ImHgQM3MzMxk/d1AZmZmZvaR3EAAAAAAcLzbQEegaKtRDdtAiPnj2/j52UCWyPsuEqnUQGZmZmbwbtJA",
          "dtype": "f8"
         }
        }
       ],
       "layout": {
        "height": 400,
        "template": {
         "data": {
          "bar": [
           {
            "error_x": {
             "color": "#2a3f5f"
            },
            "error_y": {
             "color": "#2a3f5f"
            },
            "marker": {
             "line": {
              "color": "#E5ECF6",
              "width": 0.5
             },
             "pattern": {
              "fillmode": "overlay",
              "size": 10,
              "solidity": 0.2
             }
            },
            "type": "bar"
           }
          ],
          "barpolar": [
           {
            "marker": {
             "line": {
              "color": "#E5ECF6",
              "width": 0.5
             },
             "pattern": {
              "fillmode": "overlay",
              "size": 10,
              "solidity": 0.2
             }
            },
            "type": "barpolar"
           }
          ],
          "carpet": [
           {
            "aaxis": {
             "endlinecolor": "#2a3f5f",
             "gridcolor": "white",
             "linecolor": "white",
             "minorgridcolor": "white",
             "startlinecolor": "#2a3f5f"
            },
            "baxis": {
             "endlinecolor": "#2a3f5f",
             "gridcolor": "white",
             "linecolor": "white",
             "minorgridcolor": "white",
             "startlinecolor": "#2a3f5f"
            },
            "type": "carpet"
           }
          ],
          "choropleth": [
           {
            "colorbar": {
             "outlinewidth": 0,
             "ticks": ""
            },
            "type": "choropleth"
           }
          ],
          "contour": [
           {
            "colorbar": {
             "outlinewidth": 0,
             "ticks": ""
            },
            "colorscale": [
             [
              0,
              "#0d0887"
             ],
             [
              0.1111111111111111,
              "#46039f"
             ],
             [
              0.2222222222222222,
              "#7201a8"
             ],
             [
              0.3333333333333333,
              "#9c179e"
             ],
             [
              0.4444444444444444,
              "#bd3786"
             ],
             [
              0.5555555555555556,
              "#d8576b"
             ],
             [
              0.6666666666666666,
              "#ed7953"
             ],
             [
              0.7777777777777778,
              "#fb9f3a"
             ],
             [
              0.8888888888888888,
              "#fdca26"
             ],
             [
              1,
              "#f0f921"
             ]
            ],
            "type": "contour"
           }
          ],
          "contourcarpet": [
           {
            "colorbar": {
             "outlinewidth": 0,
             "ticks": ""
            },
            "type": "contourcarpet"
           }
          ],
          "heatmap": [
           {
            "colorbar": {
             "outlinewidth": 0,
             "ticks": ""
            },
            "colorscale": [
             [
              0,
              "#0d0887"
             ],
             [
              0.1111111111111111,
              "#46039f"
             ],
             [
              0.2222222222222222,
              "#7201a8"
             ],
             [
              0.3333333333333333,
              "#9c179e"
             ],
             [
              0.4444444444444444,
              "#bd3786"
             ],
             [
              0.5555555555555556,
              "#d8576b"
             ],
             [
              0.6666666666666666,
              "#ed7953"
             ],
             [
              0.7777777777777778,
              "#fb9f3a"
             ],
             [
              0.8888888888888888,
              "#fdca26"
             ],
             [
              1,
              "#f0f921"
             ]
            ],
            "type": "heatmap"
           }
          ],
          "histogram": [
           {
            "marker": {
             "pattern": {
              "fillmode": "overlay",
              "size": 10,
              "solidity": 0.2
             }
            },
            "type": "histogram"
           }
          ],
          "histogram2d": [
           {
            "colorbar": {
             "outlinewidth": 0,
             "ticks": ""
            },
            "colorscale": [
             [
              0,
              "#0d0887"
             ],
             [
              0.1111111111111111,
              "#46039f"
             ],
             [
              0.2222222222222222,
              "#7201a8"
             ],
             [
              0.3333333333333333,
              "#9c179e"
             ],
             [
              0.4444444444444444,
              "#bd3786"
             ],
             [
              0.5555555555555556,
              "#d8576b"
             ],
             [
              0.6666666666666666,
              "#ed7953"
             ],
             [
              0.7777777777777778,
              "#fb9f3a"
             ],
             [
              0.8888888888888888,
              "#fdca26"
             ],
             [
              1,
              "#f0f921"
             ]
            ],
            "type": "histogram2d"
           }
          ],
          "histogram2dcontour": [
           {
            "colorbar": {
             "outlinewidth": 0,
             "ticks": ""
            },
            "colorscale": [
             [
              0,
              "#0d0887"
             ],
             [
              0.1111111111111111,
              "#46039f"
             ],
             [
              0.2222222222222222,
              "#7201a8"
             ],
             [
              0.3333333333333333,
              "#9c179e"
             ],
             [
              0.4444444444444444,
              "#bd3786"
             ],
             [
              0.5555555555555556,
              "#d8576b"
             ],
             [
              0.6666666666666666,
              "#ed7953"
             ],
             [
              0.7777777777777778,
              "#fb9f3a"
             ],
             [
              0.8888888888888888,
              "#fdca26"
             ],
             [
              1,
              "#f0f921"
             ]
            ],
            "type": "histogram2dcontour"
           }
          ],
          "mesh3d": [
           {
            "colorbar": {
             "outlinewidth": 0,
             "ticks": ""
            },
            "type": "mesh3d"
           }
          ],
          "parcoords": [
           {
            "line": {
             "colorbar": {
              "outlinewidth": 0,
              "ticks": ""
             }
            },
            "type": "parcoords"
           }
          ],
          "pie": [
           {
            "automargin": true,
            "type": "pie"
           }
          ],
          "scatter": [
           {
            "fillpattern": {
             "fillmode": "overlay",
             "size": 10,
             "solidity": 0.2
            },
            "type": "scatter"
           }
          ],
          "scatter3d": [
           {
            "line": {
             "colorbar": {
              "outlinewidth": 0,
              "ticks": ""
             }
            },
            "marker": {
             "colorbar": {
              "outlinewidth": 0,
              "ticks": ""
             }
            },
            "type": "scatter3d"
           }
          ],
          "scattercarpet": [
           {
            "marker": {
             "colorbar": {
              "outlinewidth": 0,
              "ticks": ""
             }
            },
            "type": "scattercarpet"
           }
          ],
          "scattergeo": [
           {
            "marker": {
             "colorbar": {
              "outlinewidth": 0,
              "ticks": ""
             }
            },
            "type": "scattergeo"
           }
          ],
          "scattergl": [
           {
            "marker": {
             "colorbar": {
              "outlinewidth": 0,
              "ticks": ""
             }
            },
            "type": "scattergl"
           }
          ],
          "scattermap": [
           {
            "marker": {
             "colorbar": {
              "outlinewidth": 0,
              "ticks": ""
             }
            },
            "type": "scattermap"
           }
          ],
          "scattermapbox": [
           {
            "marker": {
             "colorbar": {
              "outlinewidth": 0,
              "ticks": ""
             }
            },
            "type": "scattermapbox"
           }
          ],
          "scatterpolar": [
           {
            "marker": {
             "colorbar": {
              "outlinewidth": 0,
              "ticks": ""
             }
            },
            "type": "scatterpolar"
           }
          ],
          "scatterpolargl": [
           {
            "marker": {
             "colorbar": {
              "outlinewidth": 0,
              "ticks": ""
             }
            },
            "type": "scatterpolargl"
           }
          ],
          "scatterternary": [
           {
            "marker": {
             "colorbar": {
              "outlinewidth": 0,
              "ticks": ""
             }
            },
            "type": "scatterternary"
           }
          ],
          "surface": [
           {
            "colorbar": {
             "outlinewidth": 0,
             "ticks": ""
            },
            "colorscale": [
             [
              0,
              "#0d0887"
             ],
             [
              0.1111111111111111,
              "#46039f"
             ],
             [
              0.2222222222222222,
              "#7201a8"
             ],
             [
              0.3333333333333333,
              "#9c179e"
             ],
             [
              0.4444444444444444,
              "#bd3786"
             ],
             [
              0.5555555555555556,
              "#d8576b"
             ],
             [
              0.6666666666666666,
              "#ed7953"
             ],
             [
              0.7777777777777778,
              "#fb9f3a"
             ],
             [
              0.8888888888888888,
              "#fdca26"
             ],
             [
              1,
              "#f0f921"
             ]
            ],
            "type": "surface"
           }
          ],
          "table": [
           {
            "cells": {
             "fill": {
              "color": "#EBF0F8"
             },
             "line": {
              "color": "white"
             }
            },
            "header": {
             "fill": {
              "color": "#C8D4E3"
             },
             "line": {
              "color": "white"
             }
            },
            "type": "table"
           }
          ]
         },
         "layout": {
          "annotationdefaults": {
           "arrowcolor": "#2a3f5f",
           "arrowhead": 0,
           "arrowwidth": 1
          },
          "autotypenumbers": "strict",
          "coloraxis": {
           "colorbar": {
            "outlinewidth": 0,
            "ticks": ""
           }
          },
          "colorscale": {
           "diverging": [
            [
             0,
             "#8e0152"
            ],
            [
             0.1,
             "#c51b7d"
            ],
            [
             0.2,
             "#de77ae"
            ],
            [
             0.3,
             "#f1b6da"
            ],
            [
             0.4,
             "#fde0ef"
            ],
            [
             0.5,
             "#f7f7f7"
            ],
            [
             0.6,
             "#e6f5d0"
            ],
            [
             0.7,
             "#b8e186"
            ],
            [
             0.8,
             "#7fbc41"
            ],
            [
             0.9,
             "#4d9221"
            ],
            [
             1,
             "#276419"
            ]
           ],
           "sequential": [
            [
             0,
             "#0d0887"
            ],
            [
             0.1111111111111111,
             "#46039f"
            ],
            [
             0.2222222222222222,
             "#7201a8"
            ],
            [
             0.3333333333333333,
             "#9c179e"
            ],
            [
             0.4444444444444444,
             "#bd3786"
            ],
            [
             0.5555555555555556,
             "#d8576b"
            ],
            [
             0.6666666666666666,
             "#ed7953"
            ],
            [
             0.7777777777777778,
             "#fb9f3a"
            ],
            [
             0.8888888888888888,
             "#fdca26"
            ],
            [
             1,
             "#f0f921"
            ]
           ],
           "sequentialminus": [
            [
             0,
             "#0d0887"
            ],
            [
             0.1111111111111111,
             "#46039f"
            ],
            [
             0.2222222222222222,
             "#7201a8"
            ],
            [
             0.3333333333333333,
             "#9c179e"
            ],
            [
             0.4444444444444444,
             "#bd3786"
            ],
            [
             0.5555555555555556,
             "#d8576b"
            ],
            [
             0.6666666666666666,
             "#ed7953"
            ],
            [
             0.7777777777777778,
             "#fb9f3a"
            ],
            [
             0.8888888888888888,
             "#fdca26"
            ],
            [
             1,
             "#f0f921"
            ]
           ]
          },
          "colorway": [
           "#636efa",
           "#EF553B",
           "#00cc96",
           "#ab63fa",
           "#FFA15A",
           "#19d3f3",
           "#FF6692",
           "#B6E880",
           "#FF97FF",
           "#FECB52"
          ],
          "font": {
           "color": "#2a3f5f"
          },
          "geo": {
           "bgcolor": "white",
           "lakecolor": "white",
           "landcolor": "#E5ECF6",
           "showlakes": true,
           "showland": true,
           "subunitcolor": "white"
          },
          "hoverlabel": {
           "align": "left"
          },
          "hovermode": "closest",
          "mapbox": {
           "style": "light"
          },
          "paper_bgcolor": "white",
          "plot_bgcolor": "#E5ECF6",
          "polar": {
           "angularaxis": {
            "gridcolor": "white",
            "linecolor": "white",
            "ticks": ""
           },
           "bgcolor": "#E5ECF6",
           "radialaxis": {
            "gridcolor": "white",
            "linecolor": "white",
            "ticks": ""
           }
          },
          "scene": {
           "xaxis": {
            "backgroundcolor": "#E5ECF6",
            "gridcolor": "white",
            "gridwidth": 2,
            "linecolor": "white",
            "showbackground": true,
            "ticks": "",
            "zerolinecolor": "white"
           },
           "yaxis": {
            "backgroundcolor": "#E5ECF6",
            "gridcolor": "white",
            "gridwidth": 2,
            "linecolor": "white",
            "showbackground": true,
            "ticks": "",
            "zerolinecolor": "white"
           },
           "zaxis": {
            "backgroundcolor": "#E5ECF6",
            "gridcolor": "white",
            "gridwidth": 2,
            "linecolor": "white",
            "showbackground": true,
            "ticks": "",
            "zerolinecolor": "white"
           }
          },
          "shapedefaults": {
           "line": {
            "color": "#2a3f5f"
           }
          },
          "ternary": {
           "aaxis": {
            "gridcolor": "white",
            "linecolor": "white",
            "ticks": ""
           },
           "baxis": {
            "gridcolor": "white",
            "linecolor": "white",
            "ticks": ""
           },
           "bgcolor": "#E5ECF6",
           "caxis": {
            "gridcolor": "white",
            "linecolor": "white",
            "ticks": ""
           }
          },
          "title": {
           "x": 0.05
          },
          "xaxis": {
           "automargin": true,
           "gridcolor": "white",
           "linecolor": "white",
           "ticks": "",
           "title": {
            "standoff": 15
           },
           "zerolinecolor": "white",
           "zerolinewidth": 2
          },
          "yaxis": {
           "automargin": true,
           "gridcolor": "white",
           "linecolor": "white",
           "ticks": "",
           "title": {
            "standoff": 15
           },
           "zerolinecolor": "white",
           "zerolinewidth": 2
          }
         }
        },
        "title": {
         "text": "Prezzo Medio per Brand"
        },
        "width": 900,
        "xaxis": {
         "tickangle": -45,
         "title": {
          "text": "Brand"
         }
        },
        "yaxis": {
         "title": {
          "text": "Prezzo Medio (€)"
         }
        }
       }
      }
     },
     "metadata": {},
     "output_type": "display_data"
    },
    {
     "data": {
      "application/vnd.plotly.v1+json": {
       "config": {
        "plotlyServerURL": "https://plot.ly"
       },
       "data": [
        {
         "marker": {
          "color": "lightgreen"
         },
         "type": "bar",
         "x": [
          "Xpeng",
          "BMW",
          "Volkswagen",
          "Dacia",
          "MG",
          "Renault",
          "Peugeot",
          "Citroen",
          "BYD",
          "GWM",
          "Jaecoo",
          "Leapmotor",
          "Fiat",
          "OMODA",
          "Haval"
         ],
         "y": {
          "bdata": "AAAAAAAAIEB3d3d3d3ceQKuqqqqqKh1AAAAAAADAHEBmZmZmZmYcQEN5DeU1lBtAAAAAAAAAG0BkIQtZyEIaQJqZmZmZmRlAAAAAAAAAGEAAAAAAAAAYQAAAAAAAABhAiIeHh4eHF0CrqqqqqqoWQAAAAAAAABRA",
          "dtype": "f8"
         }
        }
       ],
       "layout": {
        "height": 400,
        "template": {
         "data": {
          "bar": [
           {
            "error_x": {
             "color": "#2a3f5f"
            },
            "error_y": {
             "color": "#2a3f5f"
            },
            "marker": {
             "line": {
              "color": "#E5ECF6",
              "width": 0.5
             },
             "pattern": {
              "fillmode": "overlay",
              "size": 10,
              "solidity": 0.2
             }
            },
            "type": "bar"
           }
          ],
          "barpolar": [
           {
            "marker": {
             "line": {
              "color": "#E5ECF6",
              "width": 0.5
             },
             "pattern": {
              "fillmode": "overlay",
              "size": 10,
              "solidity": 0.2
             }
            },
            "type": "barpolar"
           }
          ],
          "carpet": [
           {
            "aaxis": {
             "endlinecolor": "#2a3f5f",
             "gridcolor": "white",
             "linecolor": "white",
             "minorgridcolor": "white",
             "startlinecolor": "#2a3f5f"
            },
            "baxis": {
             "endlinecolor": "#2a3f5f",
             "gridcolor": "white",
             "linecolor": "white",
             "minorgridcolor": "white",
             "startlinecolor": "#2a3f5f"
            },
            "type": "carpet"
           }
          ],
          "choropleth": [
           {
            "colorbar": {
             "outlinewidth": 0,
             "ticks": ""
            },
            "type": "choropleth"
           }
          ],
          "contour": [
           {
            "colorbar": {
             "outlinewidth": 0,
             "ticks": ""
            },
            "colorscale": [
             [
              0,
              "#0d0887"
             ],
             [
              0.1111111111111111,
              "#46039f"
             ],
             [
              0.2222222222222222,
              "#7201a8"
             ],
             [
              0.3333333333333333,
              "#9c179e"
             ],
             [
              0.4444444444444444,
              "#bd3786"
             ],
             [
              0.5555555555555556,
              "#d8576b"
             ],
             [
              0.6666666666666666,
              "#ed7953"
             ],
             [
              0.7777777777777778,
              "#fb9f3a"
             ],
             [
              0.8888888888888888,
              "#fdca26"
             ],
             [
              1,
              "#f0f921"
             ]
            ],
            "type": "contour"
           }
          ],
          "contourcarpet": [
           {
            "colorbar": {
             "outlinewidth": 0,
             "ticks": ""
            },
            "type": "contourcarpet"
           }
          ],
          "heatmap": [
           {
            "colorbar": {
             "outlinewidth": 0,
             "ticks": ""
            },
            "colorscale": [
             [
              0,
              "#0d0887"
             ],
             [
              0.1111111111111111,
              "#46039f"
             ],
             [
              0.2222222222222222,
              "#7201a8"
             ],
             [
              0.3333333333333333,
              "#9c179e"
             ],
             [
              0.4444444444444444,
              "#bd3786"
             ],
             [
              0.5555555555555556,
              "#d8576b"
             ],
             [
              0.6666666666666666,
              "#ed7953"
             ],
             [
              0.7777777777777778,
              "#fb9f3a"
             ],
             [
              0.8888888888888888,
              "#fdca26"
             ],
             [
              1,
              "#f0f921"
             ]
            ],
            "type": "heatmap"
           }
          ],
          "histogram": [
           {
            "marker": {
             "pattern": {
              "fillmode": "overlay",
              "size": 10,
              "solidity": 0.2
             }
            },
            "type": "histogram"
           }
          ],
          "histogram2d": [
           {
            "colorbar": {
             "outlinewidth": 0,
             "ticks": ""
            },
            "colorscale": [
             [
              0,
              "#0d0887"
             ],
             [
              0.1111111111111111,
              "#46039f"
             ],
             [
              0.2222222222222222,
              "#7201a8"
             ],
             [
              0.3333333333333333,
              "#9c179e"
             ],
             [
              0.4444444444444444,
              "#bd3786"
             ],
             [
              0.5555555555555556,
              "#d8576b"
             ],
             [
              0.6666666666666666,
              "#ed7953"
             ],
             [
              0.7777777777777778,
              "#fb9f3a"
             ],
             [
              0.8888888888888888,
              "#fdca26"
             ],
             [
              1,
              "#f0f921"
             ]
            ],
            "type": "histogram2d"
           }
          ],
          "histogram2dcontour": [
           {
            "colorbar": {
             "outlinewidth": 0,
             "ticks": ""
            },
            "colorscale": [
             [
              0,
              "#0d0887"
             ],
             [
              0.1111111111111111,
              "#46039f"
             ],
             [
              0.2222222222222222,
              "#7201a8"
             ],
             [
              0.3333333333333333,
              "#9c179e"
             ],
             [
              0.4444444444444444,
              "#bd3786"
             ],
             [
              0.5555555555555556,
              "#d8576b"
             ],
             [
              0.6666666666666666,
              "#ed7953"
             ],
             [
              0.7777777777777778,
              "#fb9f3a"
             ],
             [
              0.8888888888888888,
              "#fdca26"
             ],
             [
              1,
              "#f0f921"
             ]
            ],
            "type": "histogram2dcontour"
           }
          ],
          "mesh3d": [
           {
            "colorbar": {
             "outlinewidth": 0,
             "ticks": ""
            },
            "type": "mesh3d"
           }
          ],
          "parcoords": [
           {
            "line": {
             "colorbar": {
              "outlinewidth": 0,
              "ticks": ""
             }
            },
            "type": "parcoords"
           }
          ],
          "pie": [
           {
            "automargin": true,
            "type": "pie"
           }
          ],
          "scatter": [
           {
            "fillpattern": {
             "fillmode": "overlay",
             "size": 10,
             "solidity": 0.2
            },
            "type": "scatter"
           }
          ],
          "scatter3d": [
           {
            "line": {
             "colorbar": {
              "outlinewidth": 0,
              "ticks": ""
             }
            },
            "marker": {
             "colorbar": {
              "outlinewidth": 0,
              "ticks": ""
             }
            },
            "type": "scatter3d"
           }
          ],
          "scattercarpet": [
           {
            "marker": {
             "colorbar": {
              "outlinewidth": 0,
              "ticks": ""
             }
            },
            "type": "scattercarpet"
           }
          ],
          "scattergeo": [
           {
            "marker": {
             "colorbar": {
              "outlinewidth": 0,
              "ticks": ""
             }
            },
            "type": "scattergeo"
           }
          ],
          "scattergl": [
           {
            "marker": {
             "colorbar": {
              "outlinewidth": 0,
              "ticks": ""
             }
            },
            "type": "scattergl"
           }
          ],
          "scattermap": [
           {
            "marker": {
             "colorbar": {
              "outlinewidth": 0,
              "ticks": ""
             }
            },
            "type": "scattermap"
           }
          ],
          "scattermapbox": [
           {
            "marker": {
             "colorbar": {
              "outlinewidth": 0,
              "ticks": ""
             }
            },
            "type": "scattermapbox"
           }
          ],
          "scatterpolar": [
           {
            "marker": {
             "colorbar": {
              "outlinewidth": 0,
              "ticks": ""
             }
            },
            "type": "scatterpolar"
           }
          ],
          "scatterpolargl": [
           {
            "marker": {
             "colorbar": {
              "outlinewidth": 0,
              "ticks": ""
             }
            },
            "type": "scatterpolargl"
           }
          ],
          "scatterternary": [
           {
            "marker": {
             "colorbar": {
              "outlinewidth": 0,
              "ticks": ""
             }
            },
            "type": "scatterternary"
           }
          ],
          "surface": [
           {
            "colorbar": {
             "outlinewidth": 0,
             "ticks": ""
            },
            "colorscale": [
             [
              0,
              "#0d0887"
             ],
             [
              0.1111111111111111,
              "#46039f"
             ],
             [
              0.2222222222222222,
              "#7201a8"
             ],
             [
              0.3333333333333333,
              "#9c179e"
             ],
             [
              0.4444444444444444,
              "#bd3786"
             ],
             [
              0.5555555555555556,
              "#d8576b"
             ],
             [
              0.6666666666666666,
              "#ed7953"
             ],
             [
              0.7777777777777778,
              "#fb9f3a"
             ],
             [
              0.8888888888888888,
              "#fdca26"
             ],
             [
              1,
              "#f0f921"
             ]
            ],
            "type": "surface"
           }
          ],
          "table": [
           {
            "cells": {
             "fill": {
              "color": "#EBF0F8"
             },
             "line": {
              "color": "white"
             }
            },
            "header": {
             "fill": {
              "color": "#C8D4E3"
             },
             "line": {
              "color": "white"
             }
            },
            "type": "table"
           }
          ]
         },
         "layout": {
          "annotationdefaults": {
           "arrowcolor": "#2a3f5f",
           "arrowhead": 0,
           "arrowwidth": 1
          },
          "autotypenumbers": "strict",
          "coloraxis": {
           "colorbar": {
            "outlinewidth": 0,
            "ticks": ""
           }
          },
          "colorscale": {
           "diverging": [
            [
             0,
             "#8e0152"
            ],
            [
             0.1,
             "#c51b7d"
            ],
            [
             0.2,
             "#de77ae"
            ],
            [
             0.3,
             "#f1b6da"
            ],
            [
             0.4,
             "#fde0ef"
            ],
            [
             0.5,
             "#f7f7f7"
            ],
            [
             0.6,
             "#e6f5d0"
            ],
            [
             0.7,
             "#b8e186"
            ],
            [
             0.8,
             "#7fbc41"
            ],
            [
             0.9,
             "#4d9221"
            ],
            [
             1,
             "#276419"
            ]
           ],
           "sequential": [
            [
             0,
             "#0d0887"
            ],
            [
             0.1111111111111111,
             "#46039f"
            ],
            [
             0.2222222222222222,
             "#7201a8"
            ],
            [
             0.3333333333333333,
             "#9c179e"
            ],
            [
             0.4444444444444444,
             "#bd3786"
            ],
            [
             0.5555555555555556,
             "#d8576b"
            ],
            [
             0.6666666666666666,
             "#ed7953"
            ],
            [
             0.7777777777777778,
             "#fb9f3a"
            ],
            [
             0.8888888888888888,
             "#fdca26"
            ],
            [
             1,
             "#f0f921"
            ]
           ],
           "sequentialminus": [
            [
             0,
             "#0d0887"
            ],
            [
             0.1111111111111111,
             "#46039f"
            ],
            [
             0.2222222222222222,
             "#7201a8"
            ],
            [
             0.3333333333333333,
             "#9c179e"
            ],
            [
             0.4444444444444444,
             "#bd3786"
            ],
            [
             0.5555555555555556,
             "#d8576b"
            ],
            [
             0.6666666666666666,
             "#ed7953"
            ],
            [
             0.7777777777777778,
             "#fb9f3a"
            ],
            [
             0.8888888888888888,
             "#fdca26"
            ],
            [
             1,
             "#f0f921"
            ]
           ]
          },
          "colorway": [
           "#636efa",
           "#EF553B",
           "#00cc96",
           "#ab63fa",
           "#FFA15A",
           "#19d3f3",
           "#FF6692",
           "#B6E880",
           "#FF97FF",
           "#FECB52"
          ],
          "font": {
           "color": "#2a3f5f"
          },
          "geo": {
           "bgcolor": "white",
           "lakecolor": "white",
           "landcolor": "#E5ECF6",
           "showlakes": true,
           "showland": true,
           "subunitcolor": "white"
          },
          "hoverlabel": {
           "align": "left"
          },
          "hovermode": "closest",
          "mapbox": {
           "style": "light"
          },
          "paper_bgcolor": "white",
          "plot_bgcolor": "#E5ECF6",
          "polar": {
           "angularaxis": {
            "gridcolor": "white",
            "linecolor": "white",
            "ticks": ""
           },
           "bgcolor": "#E5ECF6",
           "radialaxis": {
            "gridcolor": "white",
            "linecolor": "white",
            "ticks": ""
           }
          },
          "scene": {
           "xaxis": {
            "backgroundcolor": "#E5ECF6",
            "gridcolor": "white",
            "gridwidth": 2,
            "linecolor": "white",
            "showbackground": true,
            "ticks": "",
            "zerolinecolor": "white"
           },
           "yaxis": {
            "backgroundcolor": "#E5ECF6",
            "gridcolor": "white",
            "gridwidth": 2,
            "linecolor": "white",
            "showbackground": true,
            "ticks": "",
            "zerolinecolor": "white"
           },
           "zaxis": {
            "backgroundcolor": "#E5ECF6",
            "gridcolor": "white",
            "gridwidth": 2,
            "linecolor": "white",
            "showbackground": true,
            "ticks": "",
            "zerolinecolor": "white"
           }
          },
          "shapedefaults": {
           "line": {
            "color": "#2a3f5f"
           }
          },
          "ternary": {
           "aaxis": {
            "gridcolor": "white",
            "linecolor": "white",
            "ticks": ""
           },
           "baxis": {
            "gridcolor": "white",
            "linecolor": "white",
            "ticks": ""
           },
           "bgcolor": "#E5ECF6",
           "caxis": {
            "gridcolor": "white",
            "linecolor": "white",
            "ticks": ""
           }
          },
          "title": {
           "x": 0.05
          },
          "xaxis": {
           "automargin": true,
           "gridcolor": "white",
           "linecolor": "white",
           "ticks": "",
           "title": {
            "standoff": 15
           },
           "zerolinecolor": "white",
           "zerolinewidth": 2
          },
          "yaxis": {
           "automargin": true,
           "gridcolor": "white",
           "linecolor": "white",
           "ticks": "",
           "title": {
            "standoff": 15
           },
           "zerolinecolor": "white",
           "zerolinewidth": 2
          }
         }
        },
        "title": {
         "text": "Punteggio Overall Medio per Brand"
        },
        "width": 900,
        "xaxis": {
         "tickangle": -45,
         "title": {
          "text": "Brand"
         }
        },
        "yaxis": {
         "title": {
          "text": "Punteggio Overall Medio"
         }
        }
       }
      }
     },
     "metadata": {},
     "output_type": "display_data"
    },
    {
     "data": {
      "application/vnd.plotly.v1+json": {
       "config": {
        "plotlyServerURL": "https://plot.ly"
       },
       "data": [
        {
         "name": "BMW",
         "type": "box",
         "y": {
          "bdata": "AAAAAPTFBUEAAAAABMYEQQAAAACcagRBZmZmZgKYA0HNzMzM7DQDQWZmZmZMKwJBmpmZmYWyAEFmZmZmZDYAQc3MzMyI2v9AzczMzCyp/0BmZmZm9mX+QGZmZmZ2K/5AAAAAAEwS/UAzMzMzn7f8QJqZmZlN9/tAmpmZmQE7+0CamZmZ8dv6QDMzMzMzU/pAAAAAAAw3+kAAAAAAJBb6QGZmZmb6k/lAmpmZmRHc+ECamZmZ4TP4QAAAAAAA2vZAzczMzFTD9kBmZmZmgkf0QJqZmZl1+/NAmpmZmQ2g80AzMzMzX3bzQJqZmZntVvNAZmZmZo6d8kBmZmZmHtjxQAAAAACIQ+9AzczMzJQa70CamZmZ6RnuQM3MzMyE0e1AMzMzM7NL7UBmZmZmjqvsQM3MzMwcjOxAmpmZmaEz7EAAAAAAKMDqQGZmZmYWkupAmpmZmWk36kDNzMzMxNHpQJqZmZmZC+lAmpmZmTGw6EAAAAAAMGzoQFK4HoXrHOhAzczMzGyM50AAAAAAyCbnQDMzMzPTROZAMzMzM+PP5EDNzMzMZO/jQGZmZmbeGeNAAAAAALg14kCamZmZSbThQGZmZmbOW+FAZmZmZhY63kDNzMzMDIzdQAAAAABAI9VA",
          "dtype": "f8"
         }
        },
        {
         "name": "Volkswagen",
         "type": "box",
         "y": {
          "bdata": "AAAAALix90DNzMzMZGT0QDMzMzM/5PBAzczMzASX7UAzMzMzeyPtQIXrUbjmV+xAZmZmZsYV6kCamZmZoXXpQJqZmZlpeedAZmZmZn5F50CamZmZee7mQDMzMzMD7eZAmpmZmZnC5kCamZmZCZ7mQGZmZmZ+W+ZAAAAAAHhh5EBmZmZmDjfkQGZmZmZGoeFAmpmZmbmP4UAAAAAAqHfgQGZmZmZ2AOBAMzMzMyOy3ECamZmZOU3cQJqZmZn5h9hA",
          "dtype": "f8"
         }
        },
        {
         "name": "Peugeot",
         "type": "box",
         "y": {
          "bdata": "AAAAAEjz60BmZmZmhszrQM3MzMyMfetAzczMzAzO6kBmZmZmpkHqQGZmZmaOGehAmpmZmWmP5kBmZmZmhlDmQGZmZmYGoeVAmpmZmYkE5UBmZmZm/tfjQGZmZmbWmeNAAAAAAEjP4kAAAAAASM/iQAAAAACQbOJAmpmZmUE04kAAAAAA0CrhQAAAAAAg6N5AAAAAAFAx3kCamZmZidjWQOxRuB61G9RAZmZmZkZmyUAzMzMzc5XDQJqZmZmZj7NA",
          "dtype": "f8"
         }
        },
        {
         "name": "Citroen",
         "type": "box",
         "y": {
          "bdata": "MzMzM7+p8EBmZmZmDoDmQGZmZmYmdeVAMzMzM6vp4UCamZmZ2djhQJqZmZmRZ+BAAAAAAKCX30DNzMzMXDTcQJqZmZkZpdpAmpmZmYmA2kCamZmZyT7ZQJqZmZk5GtlAZmZmZvaK10AzMzMzc8jWQDMzMzNzyNZAmpmZmSly1kBmZmZmNurUQAAAAABQmNRAMzMzMyOO00AAAAAA4MrOQDMzMzPTAslAAAAAAMBdxUDNzMzMbJvBQA==",
          "dtype": "f8"
         }
        },
        {
         "name": "Renault",
         "type": "box",
         "y": {
          "bdata": "zczMzATS5UDNzMzMxD/lQM3MzMykl+NAzczMzGSQ4kCamZmZkVHhQDMzMzOTNuBAAAAAAACJ30CamZmZCU3fQM3MzMzchNtAmpmZmQlG2kCamZmZSXnZQM3MzMxcAdlAmpmZmQm01UAzMzMzE3jVQDMzMzMTGdRAmpmZmXnRwkCamZmZedHCQNejcD3ql8FAzczMzEwtuEA=",
          "dtype": "f8"
         }
        },
        {
         "name": "Fiat",
         "type": "box",
         "y": {
          "bdata": "MzMzMwvF4kBmZmZm3rrhQDMzMzN7QeFAZmZmZl6W4EBmZmZmNq/cQM3MzMy8mtxAMzMzM5Nw2ECamZmZiY/UQM3MzMy8otFAmpmZmQki0UCamZmZuRrRQM3MzMwMb8lA16NwPSoxx0CamZmZuazFQDMzMzOTPcVAzczMzEzktUBmZmZmJou0QA==",
          "dtype": "f8"
         }
        },
        {
         "name": "MG",
         "type": "box",
         "y": {
          "bdata": "zczMzARr70AAAAAA4LzkQDMzMzN7tuFAMzMzM1tt4UDNzMzMZEfgQJqZmZkJ2N5AmpmZmYmz3UCamZmZidjWQJqZmZkJa9NAZmZmZkah0UA=",
          "dtype": "f8"
         }
        },
        {
         "name": "Dacia",
         "type": "box",
         "y": {
          "bdata": "MzMzM2PP3EBmZmZmpiTWQJqZmZm5rNVAMzMzM2NM0kCamZmZCSLRQDMzMzMj0NBAMzMzM3NEzEDNzMzM7OvAQA==",
          "dtype": "f8"
         }
        },
        {
         "name": "BYD",
         "type": "box",
         "y": {
          "bdata": "AAAAAMDZ6kAzMzMzWxzqQDMzMzNbiuVAmpmZmVEI40BmZmZm9vDdQA==",
          "dtype": "f8"
         }
        }
       ],
       "layout": {
        "height": 500,
        "template": {
         "data": {
          "bar": [
           {
            "error_x": {
             "color": "#2a3f5f"
            },
            "error_y": {
             "color": "#2a3f5f"
            },
            "marker": {
             "line": {
              "color": "#E5ECF6",
              "width": 0.5
             },
             "pattern": {
              "fillmode": "overlay",
              "size": 10,
              "solidity": 0.2
             }
            },
            "type": "bar"
           }
          ],
          "barpolar": [
           {
            "marker": {
             "line": {
              "color": "#E5ECF6",
              "width": 0.5
             },
             "pattern": {
              "fillmode": "overlay",
              "size": 10,
              "solidity": 0.2
             }
            },
            "type": "barpolar"
           }
          ],
          "carpet": [
           {
            "aaxis": {
             "endlinecolor": "#2a3f5f",
             "gridcolor": "white",
             "linecolor": "white",
             "minorgridcolor": "white",
             "startlinecolor": "#2a3f5f"
            },
            "baxis": {
             "endlinecolor": "#2a3f5f",
             "gridcolor": "white",
             "linecolor": "white",
             "minorgridcolor": "white",
             "startlinecolor": "#2a3f5f"
            },
            "type": "carpet"
           }
          ],
          "choropleth": [
           {
            "colorbar": {
             "outlinewidth": 0,
             "ticks": ""
            },
            "type": "choropleth"
           }
          ],
          "contour": [
           {
            "colorbar": {
             "outlinewidth": 0,
             "ticks": ""
            },
            "colorscale": [
             [
              0,
              "#0d0887"
             ],
             [
              0.1111111111111111,
              "#46039f"
             ],
             [
              0.2222222222222222,
              "#7201a8"
             ],
             [
              0.3333333333333333,
              "#9c179e"
             ],
             [
              0.4444444444444444,
              "#bd3786"
             ],
             [
              0.5555555555555556,
              "#d8576b"
             ],
             [
              0.6666666666666666,
              "#ed7953"
             ],
             [
              0.7777777777777778,
              "#fb9f3a"
             ],
             [
              0.8888888888888888,
              "#fdca26"
             ],
             [
              1,
              "#f0f921"
             ]
            ],
            "type": "contour"
           }
          ],
          "contourcarpet": [
           {
            "colorbar": {
             "outlinewidth": 0,
             "ticks": ""
            },
            "type": "contourcarpet"
           }
          ],
          "heatmap": [
           {
            "colorbar": {
             "outlinewidth": 0,
             "ticks": ""
            },
            "colorscale": [
             [
              0,
              "#0d0887"
             ],
             [
              0.1111111111111111,
              "#46039f"
             ],
             [
              0.2222222222222222,
              "#7201a8"
             ],
             [
              0.3333333333333333,
              "#9c179e"
             ],
             [
              0.4444444444444444,
              "#bd3786"
             ],
             [
              0.5555555555555556,
              "#d8576b"
             ],
             [
              0.6666666666666666,
              "#ed7953"
             ],
             [
              0.7777777777777778,
              "#fb9f3a"
             ],
             [
              0.8888888888888888,
              "#fdca26"
             ],
             [
              1,
              "#f0f921"
             ]
            ],
            "type": "heatmap"
           }
          ],
          "histogram": [
           {
            "marker": {
             "pattern": {
              "fillmode": "overlay",
              "size": 10,
              "solidity": 0.2
             }
            },
            "type": "histogram"
           }
          ],
          "histogram2d": [
           {
            "colorbar": {
             "outlinewidth": 0,
             "ticks": ""
            },
            "colorscale": [
             [
              0,
              "#0d0887"
             ],
             [
              0.1111111111111111,
              "#46039f"
             ],
             [
              0.2222222222222222,
              "#7201a8"
             ],
             [
              0.3333333333333333,
              "#9c179e"
             ],
             [
              0.4444444444444444,
              "#bd3786"
             ],
             [
              0.5555555555555556,
              "#d8576b"
             ],
             [
              0.6666666666666666,
              "#ed7953"
             ],
             [
              0.7777777777777778,
              "#fb9f3a"
             ],
             [
              0.8888888888888888,
              "#fdca26"
             ],
             [
              1,
              "#f0f921"
             ]
            ],
            "type": "histogram2d"
           }
          ],
          "histogram2dcontour": [
           {
            "colorbar": {
             "outlinewidth": 0,
             "ticks": ""
            },
            "colorscale": [
             [
              0,
              "#0d0887"
             ],
             [
              0.1111111111111111,
              "#46039f"
             ],
             [
              0.2222222222222222,
              "#7201a8"
             ],
             [
              0.3333333333333333,
              "#9c179e"
             ],
             [
              0.4444444444444444,
              "#bd3786"
             ],
             [
              0.5555555555555556,
              "#d8576b"
             ],
             [
              0.6666666666666666,
              "#ed7953"
             ],
             [
              0.7777777777777778,
              "#fb9f3a"
             ],
             [
              0.8888888888888888,
              "#fdca26"
             ],
             [
              1,
              "#f0f921"
             ]
            ],
            "type": "histogram2dcontour"
           }
          ],
          "mesh3d": [
           {
            "colorbar": {
             "outlinewidth": 0,
             "ticks": ""
            },
            "type": "mesh3d"
           }
          ],
          "parcoords": [
           {
            "line": {
             "colorbar": {
              "outlinewidth": 0,
              "ticks": ""
             }
            },
            "type": "parcoords"
           }
          ],
          "pie": [
           {
            "automargin": true,
            "type": "pie"
           }
          ],
          "scatter": [
           {
            "fillpattern": {
             "fillmode": "overlay",
             "size": 10,
             "solidity": 0.2
            },
            "type": "scatter"
           }
          ],
          "scatter3d": [
           {
            "line": {
             "colorbar": {
              "outlinewidth": 0,
              "ticks": ""
             }
            },
            "marker": {
             "colorbar": {
              "outlinewidth": 0,
              "ticks": ""
             }
            },
            "type": "scatter3d"
           }
          ],
          "scattercarpet": [
           {
            "marker": {
             "colorbar": {
              "outlinewidth": 0,
              "ticks": ""
             }
            },
            "type": "scattercarpet"
           }
          ],
          "scattergeo": [
           {
            "marker": {
             "colorbar": {
              "outlinewidth": 0,
              "ticks": ""
             }
            },
            "type": "scattergeo"
           }
          ],
          "scattergl": [
           {
            "marker": {
             "colorbar": {
              "outlinewidth": 0,
              "ticks": ""
             }
            },
            "type": "scattergl"
           }
          ],
          "scattermap": [
           {
            "marker": {
             "colorbar": {
              "outlinewidth": 0,
              "ticks": ""
             }
            },
            "type": "scattermap"
           }
          ],
          "scattermapbox": [
           {
            "marker": {
             "colorbar": {
              "outlinewidth": 0,
              "ticks": ""
             }
            },
            "type": "scattermapbox"
           }
          ],
          "scatterpolar": [
           {
            "marker": {
             "colorbar": {
              "outlinewidth": 0,
              "ticks": ""
             }
            },
            "type": "scatterpolar"
           }
          ],
          "scatterpolargl": [
           {
            "marker": {
             "colorbar": {
              "outlinewidth": 0,
              "ticks": ""
             }
            },
            "type": "scatterpolargl"
           }
          ],
          "scatterternary": [
           {
            "marker": {
             "colorbar": {
              "outlinewidth": 0,
              "ticks": ""
             }
            },
            "type": "scatterternary"
           }
          ],
          "surface": [
           {
            "colorbar": {
             "outlinewidth": 0,
             "ticks": ""
            },
            "colorscale": [
             [
              0,
              "#0d0887"
             ],
             [
              0.1111111111111111,
              "#46039f"
             ],
             [
              0.2222222222222222,
              "#7201a8"
             ],
             [
              0.3333333333333333,
              "#9c179e"
             ],
             [
              0.4444444444444444,
              "#bd3786"
             ],
             [
              0.5555555555555556,
              "#d8576b"
             ],
             [
              0.6666666666666666,
              "#ed7953"
             ],
             [
              0.7777777777777778,
              "#fb9f3a"
             ],
             [
              0.8888888888888888,
              "#fdca26"
             ],
             [
              1,
              "#f0f921"
             ]
            ],
            "type": "surface"
           }
          ],
          "table": [
           {
            "cells": {
             "fill": {
              "color": "#EBF0F8"
             },
             "line": {
              "color": "white"
             }
            },
            "header": {
             "fill": {
              "color": "#C8D4E3"
             },
             "line": {
              "color": "white"
             }
            },
            "type": "table"
           }
          ]
         },
         "layout": {
          "annotationdefaults": {
           "arrowcolor": "#2a3f5f",
           "arrowhead": 0,
           "arrowwidth": 1
          },
          "autotypenumbers": "strict",
          "coloraxis": {
           "colorbar": {
            "outlinewidth": 0,
            "ticks": ""
           }
          },
          "colorscale": {
           "diverging": [
            [
             0,
             "#8e0152"
            ],
            [
             0.1,
             "#c51b7d"
            ],
            [
             0.2,
             "#de77ae"
            ],
            [
             0.3,
             "#f1b6da"
            ],
            [
             0.4,
             "#fde0ef"
            ],
            [
             0.5,
             "#f7f7f7"
            ],
            [
             0.6,
             "#e6f5d0"
            ],
            [
             0.7,
             "#b8e186"
            ],
            [
             0.8,
             "#7fbc41"
            ],
            [
             0.9,
             "#4d9221"
            ],
            [
             1,
             "#276419"
            ]
           ],
           "sequential": [
            [
             0,
             "#0d0887"
            ],
            [
             0.1111111111111111,
             "#46039f"
            ],
            [
             0.2222222222222222,
             "#7201a8"
            ],
            [
             0.3333333333333333,
             "#9c179e"
            ],
            [
             0.4444444444444444,
             "#bd3786"
            ],
            [
             0.5555555555555556,
             "#d8576b"
            ],
            [
             0.6666666666666666,
             "#ed7953"
            ],
            [
             0.7777777777777778,
             "#fb9f3a"
            ],
            [
             0.8888888888888888,
             "#fdca26"
            ],
            [
             1,
             "#f0f921"
            ]
           ],
           "sequentialminus": [
            [
             0,
             "#0d0887"
            ],
            [
             0.1111111111111111,
             "#46039f"
            ],
            [
             0.2222222222222222,
             "#7201a8"
            ],
            [
             0.3333333333333333,
             "#9c179e"
            ],
            [
             0.4444444444444444,
             "#bd3786"
            ],
            [
             0.5555555555555556,
             "#d8576b"
            ],
            [
             0.6666666666666666,
             "#ed7953"
            ],
            [
             0.7777777777777778,
             "#fb9f3a"
            ],
            [
             0.8888888888888888,
             "#fdca26"
            ],
            [
             1,
             "#f0f921"
            ]
           ]
          },
          "colorway": [
           "#636efa",
           "#EF553B",
           "#00cc96",
           "#ab63fa",
           "#FFA15A",
           "#19d3f3",
           "#FF6692",
           "#B6E880",
           "#FF97FF",
           "#FECB52"
          ],
          "font": {
           "color": "#2a3f5f"
          },
          "geo": {
           "bgcolor": "white",
           "lakecolor": "white",
           "landcolor": "#E5ECF6",
           "showlakes": true,
           "showland": true,
           "subunitcolor": "white"
          },
          "hoverlabel": {
           "align": "left"
          },
          "hovermode": "closest",
          "mapbox": {
           "style": "light"
          },
          "paper_bgcolor": "white",
          "plot_bgcolor": "#E5ECF6",
          "polar": {
           "angularaxis": {
            "gridcolor": "white",
            "linecolor": "white",
            "ticks": ""
           },
           "bgcolor": "#E5ECF6",
           "radialaxis": {
            "gridcolor": "white",
            "linecolor": "white",
            "ticks": ""
           }
          },
          "scene": {
           "xaxis": {
            "backgroundcolor": "#E5ECF6",
            "gridcolor": "white",
            "gridwidth": 2,
            "linecolor": "white",
            "showbackground": true,
            "ticks": "",
            "zerolinecolor": "white"
           },
           "yaxis": {
            "backgroundcolor": "#E5ECF6",
            "gridcolor": "white",
            "gridwidth": 2,
            "linecolor": "white",
            "showbackground": true,
            "ticks": "",
            "zerolinecolor": "white"
           },
           "zaxis": {
            "backgroundcolor": "#E5ECF6",
            "gridcolor": "white",
            "gridwidth": 2,
            "linecolor": "white",
            "showbackground": true,
            "ticks": "",
            "zerolinecolor": "white"
           }
          },
          "shapedefaults": {
           "line": {
            "color": "#2a3f5f"
           }
          },
          "ternary": {
           "aaxis": {
            "gridcolor": "white",
            "linecolor": "white",
            "ticks": ""
           },
           "baxis": {
            "gridcolor": "white",
            "linecolor": "white",
            "ticks": ""
           },
           "bgcolor": "#E5ECF6",
           "caxis": {
            "gridcolor": "white",
            "linecolor": "white",
            "ticks": ""
           }
          },
          "title": {
           "x": 0.05
          },
          "xaxis": {
           "automargin": true,
           "gridcolor": "white",
           "linecolor": "white",
           "ticks": "",
           "title": {
            "standoff": 15
           },
           "zerolinecolor": "white",
           "zerolinewidth": 2
          },
          "yaxis": {
           "automargin": true,
           "gridcolor": "white",
           "linecolor": "white",
           "ticks": "",
           "title": {
            "standoff": 15
           },
           "zerolinecolor": "white",
           "zerolinewidth": 2
          }
         }
        },
        "title": {
         "text": "Distribuzione Prezzi per Brand Principali (>=5 auto)"
        },
        "width": 900,
        "yaxis": {
         "title": {
          "text": "Prezzo (€)"
         }
        }
       }
      }
     },
     "metadata": {},
     "output_type": "display_data"
    }
   ],
   "source": [
    "import plotly.graph_objs as go\n",
    "\n",
    "# Conteggio auto per brand\n",
    "brand_counts = df['Brand'].value_counts()\n",
    "fig_brand_count = go.Figure()\n",
    "fig_brand_count.add_trace(go.Bar(\n",
    "    x=brand_counts.index,\n",
    "    y=brand_counts.values,\n",
    "    marker_color='lightblue'\n",
    "))\n",
    "fig_brand_count.update_layout(\n",
    "    title='Numero di Auto per Brand',\n",
    "    xaxis_title='Brand',\n",
    "    yaxis_title='Numero di Auto',\n",
    "    xaxis_tickangle=-45,\n",
    "    height=400, width=900\n",
    ")\n",
    "fig_brand_count.show()\n",
    "\n",
    "# Prezzo medio per brand\n",
    "brand_price_mean = df.groupby('Brand')['Price'].mean().sort_values(ascending=False)\n",
    "fig_brand_price = go.Figure()\n",
    "fig_brand_price.add_trace(go.Bar(\n",
    "    x=brand_price_mean.index,\n",
    "    y=brand_price_mean.values,\n",
    "    marker_color='lightcoral'\n",
    "))\n",
    "fig_brand_price.update_layout(\n",
    "    title='Prezzo Medio per Brand',\n",
    "    xaxis_title='Brand',\n",
    "    yaxis_title='Prezzo Medio (€)',\n",
    "    xaxis_tickangle=-45,\n",
    "    height=400, width=900\n",
    ")\n",
    "fig_brand_price.show()\n",
    "\n",
    "# Punteggio overall medio per brand\n",
    "brand_overall_mean = df.groupby('Brand')['Overall'].mean().sort_values(ascending=False)\n",
    "fig_brand_overall = go.Figure()\n",
    "fig_brand_overall.add_trace(go.Bar(\n",
    "    x=brand_overall_mean.index,\n",
    "    y=brand_overall_mean.values,\n",
    "    marker_color='lightgreen'\n",
    "))\n",
    "fig_brand_overall.update_layout(\n",
    "    title='Punteggio Overall Medio per Brand',\n",
    "    xaxis_title='Brand',\n",
    "    yaxis_title='Punteggio Overall Medio',\n",
    "    xaxis_tickangle=-45,\n",
    "    height=400, width=900\n",
    ")\n",
    "fig_brand_overall.show()\n",
    "\n",
    "# Boxplot prezzo per i brand principali (con più di 5 auto)\n",
    "main_brands = brand_counts[brand_counts >= 5].index\n",
    "df_main_brands = df[df['Brand'].isin(main_brands)]\n",
    "fig_box_main_brands = go.Figure()\n",
    "for brand in main_brands:\n",
    "    fig_box_main_brands.add_trace(go.Box(\n",
    "        y=df_main_brands[df_main_brands['Brand'] == brand]['Price'],\n",
    "        name=brand\n",
    "    ))\n",
    "fig_box_main_brands.update_layout(\n",
    "    title='Distribuzione Prezzi per Brand Principali (>=5 auto)',\n",
    "    yaxis_title='Prezzo (€)',\n",
    "    height=500, width=900\n",
    ")\n",
    "fig_box_main_brands.show()"
   ]
  },
  {
   "cell_type": "code",
   "execution_count": 19,
   "id": "b76ba354",
   "metadata": {},
   "outputs": [
    {
     "data": {
      "application/vnd.plotly.v1+json": {
       "config": {
        "plotlyServerURL": "https://plot.ly"
       },
       "data": [
        {
         "colorscale": [
          [
           0,
           "#0d0887"
          ],
          [
           0.1111111111111111,
           "#46039f"
          ],
          [
           0.2222222222222222,
           "#7201a8"
          ],
          [
           0.3333333333333333,
           "#9c179e"
          ],
          [
           0.4444444444444444,
           "#bd3786"
          ],
          [
           0.5555555555555556,
           "#d8576b"
          ],
          [
           0.6666666666666666,
           "#ed7953"
          ],
          [
           0.7777777777777778,
           "#fb9f3a"
          ],
          [
           0.8888888888888888,
           "#fdca26"
          ],
          [
           1,
           "#f0f921"
          ]
         ],
         "reversescale": false,
         "showscale": true,
         "type": "heatmap",
         "x": [
          "Drive",
          "Quality of interior",
          "Infotainment system",
          "Comfort",
          "Performance",
          "Handling",
          "Practicality",
          "Reliability",
          "Safety",
          "Quality of construction",
          "Noise",
          "Engine",
          "Overall",
          "Price"
         ],
         "y": [
          "Drive",
          "Quality of interior",
          "Infotainment system",
          "Comfort",
          "Performance",
          "Handling",
          "Practicality",
          "Reliability",
          "Safety",
          "Quality of construction",
          "Noise",
          "Engine",
          "Overall",
          "Price"
         ],
         "z": {
          "bdata": "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",
          "dtype": "f8",
          "shape": "14, 14"
         },
         "zmax": 1,
         "zmin": -1
        }
       ],
       "layout": {
        "annotations": [
         {
          "font": {
           "color": "#000000"
          },
          "showarrow": false,
          "text": "1.0",
          "x": "Drive",
          "xref": "x",
          "y": "Drive",
          "yref": "y"
         },
         {
          "font": {
           "color": "#000000"
          },
          "showarrow": false,
          "text": "0.07",
          "x": "Quality of interior",
          "xref": "x",
          "y": "Drive",
          "yref": "y"
         },
         {
          "font": {
           "color": "#000000"
          },
          "showarrow": false,
          "text": "0.02",
          "x": "Infotainment system",
          "xref": "x",
          "y": "Drive",
          "yref": "y"
         },
         {
          "font": {
           "color": "#000000"
          },
          "showarrow": false,
          "text": "0.11",
          "x": "Comfort",
          "xref": "x",
          "y": "Drive",
          "yref": "y"
         },
         {
          "font": {
           "color": "#000000"
          },
          "showarrow": false,
          "text": "0.26",
          "x": "Performance",
          "xref": "x",
          "y": "Drive",
          "yref": "y"
         },
         {
          "font": {
           "color": "#000000"
          },
          "showarrow": false,
          "text": "0.47",
          "x": "Handling",
          "xref": "x",
          "y": "Drive",
          "yref": "y"
         },
         {
          "font": {
           "color": "#FFFFFF"
          },
          "showarrow": false,
          "text": "-0.14",
          "x": "Practicality",
          "xref": "x",
          "y": "Drive",
          "yref": "y"
         },
         {
          "font": {
           "color": "#FFFFFF"
          },
          "showarrow": false,
          "text": "-0.03",
          "x": "Reliability",
          "xref": "x",
          "y": "Drive",
          "yref": "y"
         },
         {
          "font": {
           "color": "#000000"
          },
          "showarrow": false,
          "text": "0.01",
          "x": "Safety",
          "xref": "x",
          "y": "Drive",
          "yref": "y"
         },
         {
          "font": {
           "color": "#000000"
          },
          "showarrow": false,
          "text": "0.02",
          "x": "Quality of construction",
          "xref": "x",
          "y": "Drive",
          "yref": "y"
         },
         {
          "font": {
           "color": "#000000"
          },
          "showarrow": false,
          "text": "0.11",
          "x": "Noise",
          "xref": "x",
          "y": "Drive",
          "yref": "y"
         },
         {
          "font": {
           "color": "#000000"
          },
          "showarrow": false,
          "text": "0.27",
          "x": "Engine",
          "xref": "x",
          "y": "Drive",
          "yref": "y"
         },
         {
          "font": {
           "color": "#000000"
          },
          "showarrow": false,
          "text": "0.24",
          "x": "Overall",
          "xref": "x",
          "y": "Drive",
          "yref": "y"
         },
         {
          "font": {
           "color": "#000000"
          },
          "showarrow": false,
          "text": "0.16",
          "x": "Price",
          "xref": "x",
          "y": "Drive",
          "yref": "y"
         },
         {
          "font": {
           "color": "#000000"
          },
          "showarrow": false,
          "text": "0.07",
          "x": "Drive",
          "xref": "x",
          "y": "Quality of interior",
          "yref": "y"
         },
         {
          "font": {
           "color": "#000000"
          },
          "showarrow": false,
          "text": "1.0",
          "x": "Quality of interior",
          "xref": "x",
          "y": "Quality of interior",
          "yref": "y"
         },
         {
          "font": {
           "color": "#000000"
          },
          "showarrow": false,
          "text": "0.12",
          "x": "Infotainment system",
          "xref": "x",
          "y": "Quality of interior",
          "yref": "y"
         },
         {
          "font": {
           "color": "#000000"
          },
          "showarrow": false,
          "text": "0.24",
          "x": "Comfort",
          "xref": "x",
          "y": "Quality of interior",
          "yref": "y"
         },
         {
          "font": {
           "color": "#000000"
          },
          "showarrow": false,
          "text": "0.07",
          "x": "Performance",
          "xref": "x",
          "y": "Quality of interior",
          "yref": "y"
         },
         {
          "font": {
           "color": "#000000"
          },
          "showarrow": false,
          "text": "0.07",
          "x": "Handling",
          "xref": "x",
          "y": "Quality of interior",
          "yref": "y"
         },
         {
          "font": {
           "color": "#000000"
          },
          "showarrow": false,
          "text": "0.08",
          "x": "Practicality",
          "xref": "x",
          "y": "Quality of interior",
          "yref": "y"
         },
         {
          "font": {
           "color": "#000000"
          },
          "showarrow": false,
          "text": "0.07",
          "x": "Reliability",
          "xref": "x",
          "y": "Quality of interior",
          "yref": "y"
         },
         {
          "font": {
           "color": "#FFFFFF"
          },
          "showarrow": false,
          "text": "-0.08",
          "x": "Safety",
          "xref": "x",
          "y": "Quality of interior",
          "yref": "y"
         },
         {
          "font": {
           "color": "#000000"
          },
          "showarrow": false,
          "text": "0.42",
          "x": "Quality of construction",
          "xref": "x",
          "y": "Quality of interior",
          "yref": "y"
         },
         {
          "font": {
           "color": "#FFFFFF"
          },
          "showarrow": false,
          "text": "-0.09",
          "x": "Noise",
          "xref": "x",
          "y": "Quality of interior",
          "yref": "y"
         },
         {
          "font": {
           "color": "#000000"
          },
          "showarrow": false,
          "text": "0.28",
          "x": "Engine",
          "xref": "x",
          "y": "Quality of interior",
          "yref": "y"
         },
         {
          "font": {
           "color": "#000000"
          },
          "showarrow": false,
          "text": "0.37",
          "x": "Overall",
          "xref": "x",
          "y": "Quality of interior",
          "yref": "y"
         },
         {
          "font": {
           "color": "#000000"
          },
          "showarrow": false,
          "text": "0.38",
          "x": "Price",
          "xref": "x",
          "y": "Quality of interior",
          "yref": "y"
         },
         {
          "font": {
           "color": "#000000"
          },
          "showarrow": false,
          "text": "0.02",
          "x": "Drive",
          "xref": "x",
          "y": "Infotainment system",
          "yref": "y"
         },
         {
          "font": {
           "color": "#000000"
          },
          "showarrow": false,
          "text": "0.12",
          "x": "Quality of interior",
          "xref": "x",
          "y": "Infotainment system",
          "yref": "y"
         },
         {
          "font": {
           "color": "#000000"
          },
          "showarrow": false,
          "text": "1.0",
          "x": "Infotainment system",
          "xref": "x",
          "y": "Infotainment system",
          "yref": "y"
         },
         {
          "font": {
           "color": "#FFFFFF"
          },
          "showarrow": false,
          "text": "-0.04",
          "x": "Comfort",
          "xref": "x",
          "y": "Infotainment system",
          "yref": "y"
         },
         {
          "font": {
           "color": "#000000"
          },
          "showarrow": false,
          "text": "0.07",
          "x": "Performance",
          "xref": "x",
          "y": "Infotainment system",
          "yref": "y"
         },
         {
          "font": {
           "color": "#000000"
          },
          "showarrow": false,
          "text": "0.07",
          "x": "Handling",
          "xref": "x",
          "y": "Infotainment system",
          "yref": "y"
         },
         {
          "font": {
           "color": "#FFFFFF"
          },
          "showarrow": false,
          "text": "-0.18",
          "x": "Practicality",
          "xref": "x",
          "y": "Infotainment system",
          "yref": "y"
         },
         {
          "font": {
           "color": "#FFFFFF"
          },
          "showarrow": false,
          "text": "-0.11",
          "x": "Reliability",
          "xref": "x",
          "y": "Infotainment system",
          "yref": "y"
         },
         {
          "font": {
           "color": "#FFFFFF"
          },
          "showarrow": false,
          "text": "-0.03",
          "x": "Safety",
          "xref": "x",
          "y": "Infotainment system",
          "yref": "y"
         },
         {
          "font": {
           "color": "#000000"
          },
          "showarrow": false,
          "text": "0.07",
          "x": "Quality of construction",
          "xref": "x",
          "y": "Infotainment system",
          "yref": "y"
         },
         {
          "font": {
           "color": "#000000"
          },
          "showarrow": false,
          "text": "0.12",
          "x": "Noise",
          "xref": "x",
          "y": "Infotainment system",
          "yref": "y"
         },
         {
          "font": {
           "color": "#000000"
          },
          "showarrow": false,
          "text": "0.18",
          "x": "Engine",
          "xref": "x",
          "y": "Infotainment system",
          "yref": "y"
         },
         {
          "font": {
           "color": "#FFFFFF"
          },
          "showarrow": false,
          "text": "-0.05",
          "x": "Overall",
          "xref": "x",
          "y": "Infotainment system",
          "yref": "y"
         },
         {
          "font": {
           "color": "#000000"
          },
          "showarrow": false,
          "text": "0.06",
          "x": "Price",
          "xref": "x",
          "y": "Infotainment system",
          "yref": "y"
         },
         {
          "font": {
           "color": "#000000"
          },
          "showarrow": false,
          "text": "0.11",
          "x": "Drive",
          "xref": "x",
          "y": "Comfort",
          "yref": "y"
         },
         {
          "font": {
           "color": "#000000"
          },
          "showarrow": false,
          "text": "0.24",
          "x": "Quality of interior",
          "xref": "x",
          "y": "Comfort",
          "yref": "y"
         },
         {
          "font": {
           "color": "#FFFFFF"
          },
          "showarrow": false,
          "text": "-0.04",
          "x": "Infotainment system",
          "xref": "x",
          "y": "Comfort",
          "yref": "y"
         },
         {
          "font": {
           "color": "#000000"
          },
          "showarrow": false,
          "text": "1.0",
          "x": "Comfort",
          "xref": "x",
          "y": "Comfort",
          "yref": "y"
         },
         {
          "font": {
           "color": "#000000"
          },
          "showarrow": false,
          "text": "0.02",
          "x": "Performance",
          "xref": "x",
          "y": "Comfort",
          "yref": "y"
         },
         {
          "font": {
           "color": "#000000"
          },
          "showarrow": false,
          "text": "0.08",
          "x": "Handling",
          "xref": "x",
          "y": "Comfort",
          "yref": "y"
         },
         {
          "font": {
           "color": "#000000"
          },
          "showarrow": false,
          "text": "0.33",
          "x": "Practicality",
          "xref": "x",
          "y": "Comfort",
          "yref": "y"
         },
         {
          "font": {
           "color": "#000000"
          },
          "showarrow": false,
          "text": "0.02",
          "x": "Reliability",
          "xref": "x",
          "y": "Comfort",
          "yref": "y"
         },
         {
          "font": {
           "color": "#000000"
          },
          "showarrow": false,
          "text": "0.04",
          "x": "Safety",
          "xref": "x",
          "y": "Comfort",
          "yref": "y"
         },
         {
          "font": {
           "color": "#000000"
          },
          "showarrow": false,
          "text": "0.17",
          "x": "Quality of construction",
          "xref": "x",
          "y": "Comfort",
          "yref": "y"
         },
         {
          "font": {
           "color": "#000000"
          },
          "showarrow": false,
          "text": "0.11",
          "x": "Noise",
          "xref": "x",
          "y": "Comfort",
          "yref": "y"
         },
         {
          "font": {
           "color": "#000000"
          },
          "showarrow": false,
          "text": "0.05",
          "x": "Engine",
          "xref": "x",
          "y": "Comfort",
          "yref": "y"
         },
         {
          "font": {
           "color": "#000000"
          },
          "showarrow": false,
          "text": "0.12",
          "x": "Overall",
          "xref": "x",
          "y": "Comfort",
          "yref": "y"
         },
         {
          "font": {
           "color": "#000000"
          },
          "showarrow": false,
          "text": "0.04",
          "x": "Price",
          "xref": "x",
          "y": "Comfort",
          "yref": "y"
         },
         {
          "font": {
           "color": "#000000"
          },
          "showarrow": false,
          "text": "0.26",
          "x": "Drive",
          "xref": "x",
          "y": "Performance",
          "yref": "y"
         },
         {
          "font": {
           "color": "#000000"
          },
          "showarrow": false,
          "text": "0.07",
          "x": "Quality of interior",
          "xref": "x",
          "y": "Performance",
          "yref": "y"
         },
         {
          "font": {
           "color": "#000000"
          },
          "showarrow": false,
          "text": "0.07",
          "x": "Infotainment system",
          "xref": "x",
          "y": "Performance",
          "yref": "y"
         },
         {
          "font": {
           "color": "#000000"
          },
          "showarrow": false,
          "text": "0.02",
          "x": "Comfort",
          "xref": "x",
          "y": "Performance",
          "yref": "y"
         },
         {
          "font": {
           "color": "#000000"
          },
          "showarrow": false,
          "text": "1.0",
          "x": "Performance",
          "xref": "x",
          "y": "Performance",
          "yref": "y"
         },
         {
          "font": {
           "color": "#000000"
          },
          "showarrow": false,
          "text": "0.33",
          "x": "Handling",
          "xref": "x",
          "y": "Performance",
          "yref": "y"
         },
         {
          "font": {
           "color": "#FFFFFF"
          },
          "showarrow": false,
          "text": "-0.17",
          "x": "Practicality",
          "xref": "x",
          "y": "Performance",
          "yref": "y"
         },
         {
          "font": {
           "color": "#FFFFFF"
          },
          "showarrow": false,
          "text": "-0.16",
          "x": "Reliability",
          "xref": "x",
          "y": "Performance",
          "yref": "y"
         },
         {
          "font": {
           "color": "#FFFFFF"
          },
          "showarrow": false,
          "text": "-0.08",
          "x": "Safety",
          "xref": "x",
          "y": "Performance",
          "yref": "y"
         },
         {
          "font": {
           "color": "#FFFFFF"
          },
          "showarrow": false,
          "text": "-0.06",
          "x": "Quality of construction",
          "xref": "x",
          "y": "Performance",
          "yref": "y"
         },
         {
          "font": {
           "color": "#000000"
          },
          "showarrow": false,
          "text": "0.02",
          "x": "Noise",
          "xref": "x",
          "y": "Performance",
          "yref": "y"
         },
         {
          "font": {
           "color": "#000000"
          },
          "showarrow": false,
          "text": "0.54",
          "x": "Engine",
          "xref": "x",
          "y": "Performance",
          "yref": "y"
         },
         {
          "font": {
           "color": "#000000"
          },
          "showarrow": false,
          "text": "0.28",
          "x": "Overall",
          "xref": "x",
          "y": "Performance",
          "yref": "y"
         },
         {
          "font": {
           "color": "#000000"
          },
          "showarrow": false,
          "text": "0.38",
          "x": "Price",
          "xref": "x",
          "y": "Performance",
          "yref": "y"
         },
         {
          "font": {
           "color": "#000000"
          },
          "showarrow": false,
          "text": "0.47",
          "x": "Drive",
          "xref": "x",
          "y": "Handling",
          "yref": "y"
         },
         {
          "font": {
           "color": "#000000"
          },
          "showarrow": false,
          "text": "0.07",
          "x": "Quality of interior",
          "xref": "x",
          "y": "Handling",
          "yref": "y"
         },
         {
          "font": {
           "color": "#000000"
          },
          "showarrow": false,
          "text": "0.07",
          "x": "Infotainment system",
          "xref": "x",
          "y": "Handling",
          "yref": "y"
         },
         {
          "font": {
           "color": "#000000"
          },
          "showarrow": false,
          "text": "0.08",
          "x": "Comfort",
          "xref": "x",
          "y": "Handling",
          "yref": "y"
         },
         {
          "font": {
           "color": "#000000"
          },
          "showarrow": false,
          "text": "0.33",
          "x": "Performance",
          "xref": "x",
          "y": "Handling",
          "yref": "y"
         },
         {
          "font": {
           "color": "#000000"
          },
          "showarrow": false,
          "text": "1.0",
          "x": "Handling",
          "xref": "x",
          "y": "Handling",
          "yref": "y"
         },
         {
          "font": {
           "color": "#FFFFFF"
          },
          "showarrow": false,
          "text": "-0.12",
          "x": "Practicality",
          "xref": "x",
          "y": "Handling",
          "yref": "y"
         },
         {
          "font": {
           "color": "#FFFFFF"
          },
          "showarrow": false,
          "text": "-0.05",
          "x": "Reliability",
          "xref": "x",
          "y": "Handling",
          "yref": "y"
         },
         {
          "font": {
           "color": "#000000"
          },
          "showarrow": false,
          "text": "-0.0",
          "x": "Safety",
          "xref": "x",
          "y": "Handling",
          "yref": "y"
         },
         {
          "font": {
           "color": "#000000"
          },
          "showarrow": false,
          "text": "0.05",
          "x": "Quality of construction",
          "xref": "x",
          "y": "Handling",
          "yref": "y"
         },
         {
          "font": {
           "color": "#000000"
          },
          "showarrow": false,
          "text": "0.01",
          "x": "Noise",
          "xref": "x",
          "y": "Handling",
          "yref": "y"
         },
         {
          "font": {
           "color": "#000000"
          },
          "showarrow": false,
          "text": "0.22",
          "x": "Engine",
          "xref": "x",
          "y": "Handling",
          "yref": "y"
         },
         {
          "font": {
           "color": "#000000"
          },
          "showarrow": false,
          "text": "0.13",
          "x": "Overall",
          "xref": "x",
          "y": "Handling",
          "yref": "y"
         },
         {
          "font": {
           "color": "#000000"
          },
          "showarrow": false,
          "text": "0.16",
          "x": "Price",
          "xref": "x",
          "y": "Handling",
          "yref": "y"
         },
         {
          "font": {
           "color": "#FFFFFF"
          },
          "showarrow": false,
          "text": "-0.14",
          "x": "Drive",
          "xref": "x",
          "y": "Practicality",
          "yref": "y"
         },
         {
          "font": {
           "color": "#000000"
          },
          "showarrow": false,
          "text": "0.08",
          "x": "Quality of interior",
          "xref": "x",
          "y": "Practicality",
          "yref": "y"
         },
         {
          "font": {
           "color": "#FFFFFF"
          },
          "showarrow": false,
          "text": "-0.18",
          "x": "Infotainment system",
          "xref": "x",
          "y": "Practicality",
          "yref": "y"
         },
         {
          "font": {
           "color": "#000000"
          },
          "showarrow": false,
          "text": "0.33",
          "x": "Comfort",
          "xref": "x",
          "y": "Practicality",
          "yref": "y"
         },
         {
          "font": {
           "color": "#FFFFFF"
          },
          "showarrow": false,
          "text": "-0.17",
          "x": "Performance",
          "xref": "x",
          "y": "Practicality",
          "yref": "y"
         },
         {
          "font": {
           "color": "#FFFFFF"
          },
          "showarrow": false,
          "text": "-0.12",
          "x": "Handling",
          "xref": "x",
          "y": "Practicality",
          "yref": "y"
         },
         {
          "font": {
           "color": "#000000"
          },
          "showarrow": false,
          "text": "1.0",
          "x": "Practicality",
          "xref": "x",
          "y": "Practicality",
          "yref": "y"
         },
         {
          "font": {
           "color": "#000000"
          },
          "showarrow": false,
          "text": "0.0",
          "x": "Reliability",
          "xref": "x",
          "y": "Practicality",
          "yref": "y"
         },
         {
          "font": {
           "color": "#000000"
          },
          "showarrow": false,
          "text": "0.17",
          "x": "Safety",
          "xref": "x",
          "y": "Practicality",
          "yref": "y"
         },
         {
          "font": {
           "color": "#000000"
          },
          "showarrow": false,
          "text": "0.08",
          "x": "Quality of construction",
          "xref": "x",
          "y": "Practicality",
          "yref": "y"
         },
         {
          "font": {
           "color": "#000000"
          },
          "showarrow": false,
          "text": "-0.0",
          "x": "Noise",
          "xref": "x",
          "y": "Practicality",
          "yref": "y"
         },
         {
          "font": {
           "color": "#FFFFFF"
          },
          "showarrow": false,
          "text": "-0.09",
          "x": "Engine",
          "xref": "x",
          "y": "Practicality",
          "yref": "y"
         },
         {
          "font": {
           "color": "#000000"
          },
          "showarrow": false,
          "text": "0.04",
          "x": "Overall",
          "xref": "x",
          "y": "Practicality",
          "yref": "y"
         },
         {
          "font": {
           "color": "#FFFFFF"
          },
          "showarrow": false,
          "text": "-0.13",
          "x": "Price",
          "xref": "x",
          "y": "Practicality",
          "yref": "y"
         },
         {
          "font": {
           "color": "#FFFFFF"
          },
          "showarrow": false,
          "text": "-0.03",
          "x": "Drive",
          "xref": "x",
          "y": "Reliability",
          "yref": "y"
         },
         {
          "font": {
           "color": "#000000"
          },
          "showarrow": false,
          "text": "0.07",
          "x": "Quality of interior",
          "xref": "x",
          "y": "Reliability",
          "yref": "y"
         },
         {
          "font": {
           "color": "#FFFFFF"
          },
          "showarrow": false,
          "text": "-0.11",
          "x": "Infotainment system",
          "xref": "x",
          "y": "Reliability",
          "yref": "y"
         },
         {
          "font": {
           "color": "#000000"
          },
          "showarrow": false,
          "text": "0.02",
          "x": "Comfort",
          "xref": "x",
          "y": "Reliability",
          "yref": "y"
         },
         {
          "font": {
           "color": "#FFFFFF"
          },
          "showarrow": false,
          "text": "-0.16",
          "x": "Performance",
          "xref": "x",
          "y": "Reliability",
          "yref": "y"
         },
         {
          "font": {
           "color": "#FFFFFF"
          },
          "showarrow": false,
          "text": "-0.05",
          "x": "Handling",
          "xref": "x",
          "y": "Reliability",
          "yref": "y"
         },
         {
          "font": {
           "color": "#000000"
          },
          "showarrow": false,
          "text": "0.0",
          "x": "Practicality",
          "xref": "x",
          "y": "Reliability",
          "yref": "y"
         },
         {
          "font": {
           "color": "#000000"
          },
          "showarrow": false,
          "text": "1.0",
          "x": "Reliability",
          "xref": "x",
          "y": "Reliability",
          "yref": "y"
         },
         {
          "font": {
           "color": "#000000"
          },
          "showarrow": false,
          "text": "0.29",
          "x": "Safety",
          "xref": "x",
          "y": "Reliability",
          "yref": "y"
         },
         {
          "font": {
           "color": "#000000"
          },
          "showarrow": false,
          "text": "0.05",
          "x": "Quality of construction",
          "xref": "x",
          "y": "Reliability",
          "yref": "y"
         },
         {
          "font": {
           "color": "#FFFFFF"
          },
          "showarrow": false,
          "text": "-0.12",
          "x": "Noise",
          "xref": "x",
          "y": "Reliability",
          "yref": "y"
         },
         {
          "font": {
           "color": "#000000"
          },
          "showarrow": false,
          "text": "0.07",
          "x": "Engine",
          "xref": "x",
          "y": "Reliability",
          "yref": "y"
         },
         {
          "font": {
           "color": "#000000"
          },
          "showarrow": false,
          "text": "0.07",
          "x": "Overall",
          "xref": "x",
          "y": "Reliability",
          "yref": "y"
         },
         {
          "font": {
           "color": "#FFFFFF"
          },
          "showarrow": false,
          "text": "-0.08",
          "x": "Price",
          "xref": "x",
          "y": "Reliability",
          "yref": "y"
         },
         {
          "font": {
           "color": "#000000"
          },
          "showarrow": false,
          "text": "0.01",
          "x": "Drive",
          "xref": "x",
          "y": "Safety",
          "yref": "y"
         },
         {
          "font": {
           "color": "#FFFFFF"
          },
          "showarrow": false,
          "text": "-0.08",
          "x": "Quality of interior",
          "xref": "x",
          "y": "Safety",
          "yref": "y"
         },
         {
          "font": {
           "color": "#FFFFFF"
          },
          "showarrow": false,
          "text": "-0.03",
          "x": "Infotainment system",
          "xref": "x",
          "y": "Safety",
          "yref": "y"
         },
         {
          "font": {
           "color": "#000000"
          },
          "showarrow": false,
          "text": "0.04",
          "x": "Comfort",
          "xref": "x",
          "y": "Safety",
          "yref": "y"
         },
         {
          "font": {
           "color": "#FFFFFF"
          },
          "showarrow": false,
          "text": "-0.08",
          "x": "Performance",
          "xref": "x",
          "y": "Safety",
          "yref": "y"
         },
         {
          "font": {
           "color": "#000000"
          },
          "showarrow": false,
          "text": "-0.0",
          "x": "Handling",
          "xref": "x",
          "y": "Safety",
          "yref": "y"
         },
         {
          "font": {
           "color": "#000000"
          },
          "showarrow": false,
          "text": "0.17",
          "x": "Practicality",
          "xref": "x",
          "y": "Safety",
          "yref": "y"
         },
         {
          "font": {
           "color": "#000000"
          },
          "showarrow": false,
          "text": "0.29",
          "x": "Reliability",
          "xref": "x",
          "y": "Safety",
          "yref": "y"
         },
         {
          "font": {
           "color": "#000000"
          },
          "showarrow": false,
          "text": "1.0",
          "x": "Safety",
          "xref": "x",
          "y": "Safety",
          "yref": "y"
         },
         {
          "font": {
           "color": "#000000"
          },
          "showarrow": false,
          "text": "0.06",
          "x": "Quality of construction",
          "xref": "x",
          "y": "Safety",
          "yref": "y"
         },
         {
          "font": {
           "color": "#FFFFFF"
          },
          "showarrow": false,
          "text": "-0.05",
          "x": "Noise",
          "xref": "x",
          "y": "Safety",
          "yref": "y"
         },
         {
          "font": {
           "color": "#000000"
          },
          "showarrow": false,
          "text": "0.05",
          "x": "Engine",
          "xref": "x",
          "y": "Safety",
          "yref": "y"
         },
         {
          "font": {
           "color": "#FFFFFF"
          },
          "showarrow": false,
          "text": "-0.05",
          "x": "Overall",
          "xref": "x",
          "y": "Safety",
          "yref": "y"
         },
         {
          "font": {
           "color": "#FFFFFF"
          },
          "showarrow": false,
          "text": "-0.06",
          "x": "Price",
          "xref": "x",
          "y": "Safety",
          "yref": "y"
         },
         {
          "font": {
           "color": "#000000"
          },
          "showarrow": false,
          "text": "0.02",
          "x": "Drive",
          "xref": "x",
          "y": "Quality of construction",
          "yref": "y"
         },
         {
          "font": {
           "color": "#000000"
          },
          "showarrow": false,
          "text": "0.42",
          "x": "Quality of interior",
          "xref": "x",
          "y": "Quality of construction",
          "yref": "y"
         },
         {
          "font": {
           "color": "#000000"
          },
          "showarrow": false,
          "text": "0.07",
          "x": "Infotainment system",
          "xref": "x",
          "y": "Quality of construction",
          "yref": "y"
         },
         {
          "font": {
           "color": "#000000"
          },
          "showarrow": false,
          "text": "0.17",
          "x": "Comfort",
          "xref": "x",
          "y": "Quality of construction",
          "yref": "y"
         },
         {
          "font": {
           "color": "#FFFFFF"
          },
          "showarrow": false,
          "text": "-0.06",
          "x": "Performance",
          "xref": "x",
          "y": "Quality of construction",
          "yref": "y"
         },
         {
          "font": {
           "color": "#000000"
          },
          "showarrow": false,
          "text": "0.05",
          "x": "Handling",
          "xref": "x",
          "y": "Quality of construction",
          "yref": "y"
         },
         {
          "font": {
           "color": "#000000"
          },
          "showarrow": false,
          "text": "0.08",
          "x": "Practicality",
          "xref": "x",
          "y": "Quality of construction",
          "yref": "y"
         },
         {
          "font": {
           "color": "#000000"
          },
          "showarrow": false,
          "text": "0.05",
          "x": "Reliability",
          "xref": "x",
          "y": "Quality of construction",
          "yref": "y"
         },
         {
          "font": {
           "color": "#000000"
          },
          "showarrow": false,
          "text": "0.06",
          "x": "Safety",
          "xref": "x",
          "y": "Quality of construction",
          "yref": "y"
         },
         {
          "font": {
           "color": "#000000"
          },
          "showarrow": false,
          "text": "1.0",
          "x": "Quality of construction",
          "xref": "x",
          "y": "Quality of construction",
          "yref": "y"
         },
         {
          "font": {
           "color": "#FFFFFF"
          },
          "showarrow": false,
          "text": "-0.05",
          "x": "Noise",
          "xref": "x",
          "y": "Quality of construction",
          "yref": "y"
         },
         {
          "font": {
           "color": "#000000"
          },
          "showarrow": false,
          "text": "0.12",
          "x": "Engine",
          "xref": "x",
          "y": "Quality of construction",
          "yref": "y"
         },
         {
          "font": {
           "color": "#000000"
          },
          "showarrow": false,
          "text": "0.13",
          "x": "Overall",
          "xref": "x",
          "y": "Quality of construction",
          "yref": "y"
         },
         {
          "font": {
           "color": "#000000"
          },
          "showarrow": false,
          "text": "0.12",
          "x": "Price",
          "xref": "x",
          "y": "Quality of construction",
          "yref": "y"
         },
         {
          "font": {
           "color": "#000000"
          },
          "showarrow": false,
          "text": "0.11",
          "x": "Drive",
          "xref": "x",
          "y": "Noise",
          "yref": "y"
         },
         {
          "font": {
           "color": "#FFFFFF"
          },
          "showarrow": false,
          "text": "-0.09",
          "x": "Quality of interior",
          "xref": "x",
          "y": "Noise",
          "yref": "y"
         },
         {
          "font": {
           "color": "#000000"
          },
          "showarrow": false,
          "text": "0.12",
          "x": "Infotainment system",
          "xref": "x",
          "y": "Noise",
          "yref": "y"
         },
         {
          "font": {
           "color": "#000000"
          },
          "showarrow": false,
          "text": "0.11",
          "x": "Comfort",
          "xref": "x",
          "y": "Noise",
          "yref": "y"
         },
         {
          "font": {
           "color": "#000000"
          },
          "showarrow": false,
          "text": "0.02",
          "x": "Performance",
          "xref": "x",
          "y": "Noise",
          "yref": "y"
         },
         {
          "font": {
           "color": "#000000"
          },
          "showarrow": false,
          "text": "0.01",
          "x": "Handling",
          "xref": "x",
          "y": "Noise",
          "yref": "y"
         },
         {
          "font": {
           "color": "#000000"
          },
          "showarrow": false,
          "text": "-0.0",
          "x": "Practicality",
          "xref": "x",
          "y": "Noise",
          "yref": "y"
         },
         {
          "font": {
           "color": "#FFFFFF"
          },
          "showarrow": false,
          "text": "-0.12",
          "x": "Reliability",
          "xref": "x",
          "y": "Noise",
          "yref": "y"
         },
         {
          "font": {
           "color": "#FFFFFF"
          },
          "showarrow": false,
          "text": "-0.05",
          "x": "Safety",
          "xref": "x",
          "y": "Noise",
          "yref": "y"
         },
         {
          "font": {
           "color": "#FFFFFF"
          },
          "showarrow": false,
          "text": "-0.05",
          "x": "Quality of construction",
          "xref": "x",
          "y": "Noise",
          "yref": "y"
         },
         {
          "font": {
           "color": "#000000"
          },
          "showarrow": false,
          "text": "1.0",
          "x": "Noise",
          "xref": "x",
          "y": "Noise",
          "yref": "y"
         },
         {
          "font": {
           "color": "#FFFFFF"
          },
          "showarrow": false,
          "text": "-0.02",
          "x": "Engine",
          "xref": "x",
          "y": "Noise",
          "yref": "y"
         },
         {
          "font": {
           "color": "#FFFFFF"
          },
          "showarrow": false,
          "text": "-0.16",
          "x": "Overall",
          "xref": "x",
          "y": "Noise",
          "yref": "y"
         },
         {
          "font": {
           "color": "#FFFFFF"
          },
          "showarrow": false,
          "text": "-0.04",
          "x": "Price",
          "xref": "x",
          "y": "Noise",
          "yref": "y"
         },
         {
          "font": {
           "color": "#000000"
          },
          "showarrow": false,
          "text": "0.27",
          "x": "Drive",
          "xref": "x",
          "y": "Engine",
          "yref": "y"
         },
         {
          "font": {
           "color": "#000000"
          },
          "showarrow": false,
          "text": "0.28",
          "x": "Quality of interior",
          "xref": "x",
          "y": "Engine",
          "yref": "y"
         },
         {
          "font": {
           "color": "#000000"
          },
          "showarrow": false,
          "text": "0.18",
          "x": "Infotainment system",
          "xref": "x",
          "y": "Engine",
          "yref": "y"
         },
         {
          "font": {
           "color": "#000000"
          },
          "showarrow": false,
          "text": "0.05",
          "x": "Comfort",
          "xref": "x",
          "y": "Engine",
          "yref": "y"
         },
         {
          "font": {
           "color": "#000000"
          },
          "showarrow": false,
          "text": "0.54",
          "x": "Performance",
          "xref": "x",
          "y": "Engine",
          "yref": "y"
         },
         {
          "font": {
           "color": "#000000"
          },
          "showarrow": false,
          "text": "0.22",
          "x": "Handling",
          "xref": "x",
          "y": "Engine",
          "yref": "y"
         },
         {
          "font": {
           "color": "#FFFFFF"
          },
          "showarrow": false,
          "text": "-0.09",
          "x": "Practicality",
          "xref": "x",
          "y": "Engine",
          "yref": "y"
         },
         {
          "font": {
           "color": "#000000"
          },
          "showarrow": false,
          "text": "0.07",
          "x": "Reliability",
          "xref": "x",
          "y": "Engine",
          "yref": "y"
         },
         {
          "font": {
           "color": "#000000"
          },
          "showarrow": false,
          "text": "0.05",
          "x": "Safety",
          "xref": "x",
          "y": "Engine",
          "yref": "y"
         },
         {
          "font": {
           "color": "#000000"
          },
          "showarrow": false,
          "text": "0.12",
          "x": "Quality of construction",
          "xref": "x",
          "y": "Engine",
          "yref": "y"
         },
         {
          "font": {
           "color": "#FFFFFF"
          },
          "showarrow": false,
          "text": "-0.02",
          "x": "Noise",
          "xref": "x",
          "y": "Engine",
          "yref": "y"
         },
         {
          "font": {
           "color": "#000000"
          },
          "showarrow": false,
          "text": "1.0",
          "x": "Engine",
          "xref": "x",
          "y": "Engine",
          "yref": "y"
         },
         {
          "font": {
           "color": "#000000"
          },
          "showarrow": false,
          "text": "0.33",
          "x": "Overall",
          "xref": "x",
          "y": "Engine",
          "yref": "y"
         },
         {
          "font": {
           "color": "#000000"
          },
          "showarrow": false,
          "text": "0.26",
          "x": "Price",
          "xref": "x",
          "y": "Engine",
          "yref": "y"
         },
         {
          "font": {
           "color": "#000000"
          },
          "showarrow": false,
          "text": "0.24",
          "x": "Drive",
          "xref": "x",
          "y": "Overall",
          "yref": "y"
         },
         {
          "font": {
           "color": "#000000"
          },
          "showarrow": false,
          "text": "0.37",
          "x": "Quality of interior",
          "xref": "x",
          "y": "Overall",
          "yref": "y"
         },
         {
          "font": {
           "color": "#FFFFFF"
          },
          "showarrow": false,
          "text": "-0.05",
          "x": "Infotainment system",
          "xref": "x",
          "y": "Overall",
          "yref": "y"
         },
         {
          "font": {
           "color": "#000000"
          },
          "showarrow": false,
          "text": "0.12",
          "x": "Comfort",
          "xref": "x",
          "y": "Overall",
          "yref": "y"
         },
         {
          "font": {
           "color": "#000000"
          },
          "showarrow": false,
          "text": "0.28",
          "x": "Performance",
          "xref": "x",
          "y": "Overall",
          "yref": "y"
         },
         {
          "font": {
           "color": "#000000"
          },
          "showarrow": false,
          "text": "0.13",
          "x": "Handling",
          "xref": "x",
          "y": "Overall",
          "yref": "y"
         },
         {
          "font": {
           "color": "#000000"
          },
          "showarrow": false,
          "text": "0.04",
          "x": "Practicality",
          "xref": "x",
          "y": "Overall",
          "yref": "y"
         },
         {
          "font": {
           "color": "#000000"
          },
          "showarrow": false,
          "text": "0.07",
          "x": "Reliability",
          "xref": "x",
          "y": "Overall",
          "yref": "y"
         },
         {
          "font": {
           "color": "#FFFFFF"
          },
          "showarrow": false,
          "text": "-0.05",
          "x": "Safety",
          "xref": "x",
          "y": "Overall",
          "yref": "y"
         },
         {
          "font": {
           "color": "#000000"
          },
          "showarrow": false,
          "text": "0.13",
          "x": "Quality of construction",
          "xref": "x",
          "y": "Overall",
          "yref": "y"
         },
         {
          "font": {
           "color": "#FFFFFF"
          },
          "showarrow": false,
          "text": "-0.16",
          "x": "Noise",
          "xref": "x",
          "y": "Overall",
          "yref": "y"
         },
         {
          "font": {
           "color": "#000000"
          },
          "showarrow": false,
          "text": "0.33",
          "x": "Engine",
          "xref": "x",
          "y": "Overall",
          "yref": "y"
         },
         {
          "font": {
           "color": "#000000"
          },
          "showarrow": false,
          "text": "1.0",
          "x": "Overall",
          "xref": "x",
          "y": "Overall",
          "yref": "y"
         },
         {
          "font": {
           "color": "#000000"
          },
          "showarrow": false,
          "text": "0.35",
          "x": "Price",
          "xref": "x",
          "y": "Overall",
          "yref": "y"
         },
         {
          "font": {
           "color": "#000000"
          },
          "showarrow": false,
          "text": "0.16",
          "x": "Drive",
          "xref": "x",
          "y": "Price",
          "yref": "y"
         },
         {
          "font": {
           "color": "#000000"
          },
          "showarrow": false,
          "text": "0.38",
          "x": "Quality of interior",
          "xref": "x",
          "y": "Price",
          "yref": "y"
         },
         {
          "font": {
           "color": "#000000"
          },
          "showarrow": false,
          "text": "0.06",
          "x": "Infotainment system",
          "xref": "x",
          "y": "Price",
          "yref": "y"
         },
         {
          "font": {
           "color": "#000000"
          },
          "showarrow": false,
          "text": "0.04",
          "x": "Comfort",
          "xref": "x",
          "y": "Price",
          "yref": "y"
         },
         {
          "font": {
           "color": "#000000"
          },
          "showarrow": false,
          "text": "0.38",
          "x": "Performance",
          "xref": "x",
          "y": "Price",
          "yref": "y"
         },
         {
          "font": {
           "color": "#000000"
          },
          "showarrow": false,
          "text": "0.16",
          "x": "Handling",
          "xref": "x",
          "y": "Price",
          "yref": "y"
         },
         {
          "font": {
           "color": "#FFFFFF"
          },
          "showarrow": false,
          "text": "-0.13",
          "x": "Practicality",
          "xref": "x",
          "y": "Price",
          "yref": "y"
         },
         {
          "font": {
           "color": "#FFFFFF"
          },
          "showarrow": false,
          "text": "-0.08",
          "x": "Reliability",
          "xref": "x",
          "y": "Price",
          "yref": "y"
         },
         {
          "font": {
           "color": "#FFFFFF"
          },
          "showarrow": false,
          "text": "-0.06",
          "x": "Safety",
          "xref": "x",
          "y": "Price",
          "yref": "y"
         },
         {
          "font": {
           "color": "#000000"
          },
          "showarrow": false,
          "text": "0.12",
          "x": "Quality of construction",
          "xref": "x",
          "y": "Price",
          "yref": "y"
         },
         {
          "font": {
           "color": "#FFFFFF"
          },
          "showarrow": false,
          "text": "-0.04",
          "x": "Noise",
          "xref": "x",
          "y": "Price",
          "yref": "y"
         },
         {
          "font": {
           "color": "#000000"
          },
          "showarrow": false,
          "text": "0.26",
          "x": "Engine",
          "xref": "x",
          "y": "Price",
          "yref": "y"
         },
         {
          "font": {
           "color": "#000000"
          },
          "showarrow": false,
          "text": "0.35",
          "x": "Overall",
          "xref": "x",
          "y": "Price",
          "yref": "y"
         },
         {
          "font": {
           "color": "#000000"
          },
          "showarrow": false,
          "text": "1.0",
          "x": "Price",
          "xref": "x",
          "y": "Price",
          "yref": "y"
         }
        ],
        "font": {
         "size": 14
        },
        "height": 950,
        "margin": {
         "b": 120,
         "l": 120,
         "r": 40,
         "t": 80
        },
        "template": {
         "data": {
          "bar": [
           {
            "error_x": {
             "color": "#2a3f5f"
            },
            "error_y": {
             "color": "#2a3f5f"
            },
            "marker": {
             "line": {
              "color": "#E5ECF6",
              "width": 0.5
             },
             "pattern": {
              "fillmode": "overlay",
              "size": 10,
              "solidity": 0.2
             }
            },
            "type": "bar"
           }
          ],
          "barpolar": [
           {
            "marker": {
             "line": {
              "color": "#E5ECF6",
              "width": 0.5
             },
             "pattern": {
              "fillmode": "overlay",
              "size": 10,
              "solidity": 0.2
             }
            },
            "type": "barpolar"
           }
          ],
          "carpet": [
           {
            "aaxis": {
             "endlinecolor": "#2a3f5f",
             "gridcolor": "white",
             "linecolor": "white",
             "minorgridcolor": "white",
             "startlinecolor": "#2a3f5f"
            },
            "baxis": {
             "endlinecolor": "#2a3f5f",
             "gridcolor": "white",
             "linecolor": "white",
             "minorgridcolor": "white",
             "startlinecolor": "#2a3f5f"
            },
            "type": "carpet"
           }
          ],
          "choropleth": [
           {
            "colorbar": {
             "outlinewidth": 0,
             "ticks": ""
            },
            "type": "choropleth"
           }
          ],
          "contour": [
           {
            "colorbar": {
             "outlinewidth": 0,
             "ticks": ""
            },
            "colorscale": [
             [
              0,
              "#0d0887"
             ],
             [
              0.1111111111111111,
              "#46039f"
             ],
             [
              0.2222222222222222,
              "#7201a8"
             ],
             [
              0.3333333333333333,
              "#9c179e"
             ],
             [
              0.4444444444444444,
              "#bd3786"
             ],
             [
              0.5555555555555556,
              "#d8576b"
             ],
             [
              0.6666666666666666,
              "#ed7953"
             ],
             [
              0.7777777777777778,
              "#fb9f3a"
             ],
             [
              0.8888888888888888,
              "#fdca26"
             ],
             [
              1,
              "#f0f921"
             ]
            ],
            "type": "contour"
           }
          ],
          "contourcarpet": [
           {
            "colorbar": {
             "outlinewidth": 0,
             "ticks": ""
            },
            "type": "contourcarpet"
           }
          ],
          "heatmap": [
           {
            "colorbar": {
             "outlinewidth": 0,
             "ticks": ""
            },
            "colorscale": [
             [
              0,
              "#0d0887"
             ],
             [
              0.1111111111111111,
              "#46039f"
             ],
             [
              0.2222222222222222,
              "#7201a8"
             ],
             [
              0.3333333333333333,
              "#9c179e"
             ],
             [
              0.4444444444444444,
              "#bd3786"
             ],
             [
              0.5555555555555556,
              "#d8576b"
             ],
             [
              0.6666666666666666,
              "#ed7953"
             ],
             [
              0.7777777777777778,
              "#fb9f3a"
             ],
             [
              0.8888888888888888,
              "#fdca26"
             ],
             [
              1,
              "#f0f921"
             ]
            ],
            "type": "heatmap"
           }
          ],
          "histogram": [
           {
            "marker": {
             "pattern": {
              "fillmode": "overlay",
              "size": 10,
              "solidity": 0.2
             }
            },
            "type": "histogram"
           }
          ],
          "histogram2d": [
           {
            "colorbar": {
             "outlinewidth": 0,
             "ticks": ""
            },
            "colorscale": [
             [
              0,
              "#0d0887"
             ],
             [
              0.1111111111111111,
              "#46039f"
             ],
             [
              0.2222222222222222,
              "#7201a8"
             ],
             [
              0.3333333333333333,
              "#9c179e"
             ],
             [
              0.4444444444444444,
              "#bd3786"
             ],
             [
              0.5555555555555556,
              "#d8576b"
             ],
             [
              0.6666666666666666,
              "#ed7953"
             ],
             [
              0.7777777777777778,
              "#fb9f3a"
             ],
             [
              0.8888888888888888,
              "#fdca26"
             ],
             [
              1,
              "#f0f921"
             ]
            ],
            "type": "histogram2d"
           }
          ],
          "histogram2dcontour": [
           {
            "colorbar": {
             "outlinewidth": 0,
             "ticks": ""
            },
            "colorscale": [
             [
              0,
              "#0d0887"
             ],
             [
              0.1111111111111111,
              "#46039f"
             ],
             [
              0.2222222222222222,
              "#7201a8"
             ],
             [
              0.3333333333333333,
              "#9c179e"
             ],
             [
              0.4444444444444444,
              "#bd3786"
             ],
             [
              0.5555555555555556,
              "#d8576b"
             ],
             [
              0.6666666666666666,
              "#ed7953"
             ],
             [
              0.7777777777777778,
              "#fb9f3a"
             ],
             [
              0.8888888888888888,
              "#fdca26"
             ],
             [
              1,
              "#f0f921"
             ]
            ],
            "type": "histogram2dcontour"
           }
          ],
          "mesh3d": [
           {
            "colorbar": {
             "outlinewidth": 0,
             "ticks": ""
            },
            "type": "mesh3d"
           }
          ],
          "parcoords": [
           {
            "line": {
             "colorbar": {
              "outlinewidth": 0,
              "ticks": ""
             }
            },
            "type": "parcoords"
           }
          ],
          "pie": [
           {
            "automargin": true,
            "type": "pie"
           }
          ],
          "scatter": [
           {
            "fillpattern": {
             "fillmode": "overlay",
             "size": 10,
             "solidity": 0.2
            },
            "type": "scatter"
           }
          ],
          "scatter3d": [
           {
            "line": {
             "colorbar": {
              "outlinewidth": 0,
              "ticks": ""
             }
            },
            "marker": {
             "colorbar": {
              "outlinewidth": 0,
              "ticks": ""
             }
            },
            "type": "scatter3d"
           }
          ],
          "scattercarpet": [
           {
            "marker": {
             "colorbar": {
              "outlinewidth": 0,
              "ticks": ""
             }
            },
            "type": "scattercarpet"
           }
          ],
          "scattergeo": [
           {
            "marker": {
             "colorbar": {
              "outlinewidth": 0,
              "ticks": ""
             }
            },
            "type": "scattergeo"
           }
          ],
          "scattergl": [
           {
            "marker": {
             "colorbar": {
              "outlinewidth": 0,
              "ticks": ""
             }
            },
            "type": "scattergl"
           }
          ],
          "scattermap": [
           {
            "marker": {
             "colorbar": {
              "outlinewidth": 0,
              "ticks": ""
             }
            },
            "type": "scattermap"
           }
          ],
          "scattermapbox": [
           {
            "marker": {
             "colorbar": {
              "outlinewidth": 0,
              "ticks": ""
             }
            },
            "type": "scattermapbox"
           }
          ],
          "scatterpolar": [
           {
            "marker": {
             "colorbar": {
              "outlinewidth": 0,
              "ticks": ""
             }
            },
            "type": "scatterpolar"
           }
          ],
          "scatterpolargl": [
           {
            "marker": {
             "colorbar": {
              "outlinewidth": 0,
              "ticks": ""
             }
            },
            "type": "scatterpolargl"
           }
          ],
          "scatterternary": [
           {
            "marker": {
             "colorbar": {
              "outlinewidth": 0,
              "ticks": ""
             }
            },
            "type": "scatterternary"
           }
          ],
          "surface": [
           {
            "colorbar": {
             "outlinewidth": 0,
             "ticks": ""
            },
            "colorscale": [
             [
              0,
              "#0d0887"
             ],
             [
              0.1111111111111111,
              "#46039f"
             ],
             [
              0.2222222222222222,
              "#7201a8"
             ],
             [
              0.3333333333333333,
              "#9c179e"
             ],
             [
              0.4444444444444444,
              "#bd3786"
             ],
             [
              0.5555555555555556,
              "#d8576b"
             ],
             [
              0.6666666666666666,
              "#ed7953"
             ],
             [
              0.7777777777777778,
              "#fb9f3a"
             ],
             [
              0.8888888888888888,
              "#fdca26"
             ],
             [
              1,
              "#f0f921"
             ]
            ],
            "type": "surface"
           }
          ],
          "table": [
           {
            "cells": {
             "fill": {
              "color": "#EBF0F8"
             },
             "line": {
              "color": "white"
             }
            },
            "header": {
             "fill": {
              "color": "#C8D4E3"
             },
             "line": {
              "color": "white"
             }
            },
            "type": "table"
           }
          ]
         },
         "layout": {
          "annotationdefaults": {
           "arrowcolor": "#2a3f5f",
           "arrowhead": 0,
           "arrowwidth": 1
          },
          "autotypenumbers": "strict",
          "coloraxis": {
           "colorbar": {
            "outlinewidth": 0,
            "ticks": ""
           }
          },
          "colorscale": {
           "diverging": [
            [
             0,
             "#8e0152"
            ],
            [
             0.1,
             "#c51b7d"
            ],
            [
             0.2,
             "#de77ae"
            ],
            [
             0.3,
             "#f1b6da"
            ],
            [
             0.4,
             "#fde0ef"
            ],
            [
             0.5,
             "#f7f7f7"
            ],
            [
             0.6,
             "#e6f5d0"
            ],
            [
             0.7,
             "#b8e186"
            ],
            [
             0.8,
             "#7fbc41"
            ],
            [
             0.9,
             "#4d9221"
            ],
            [
             1,
             "#276419"
            ]
           ],
           "sequential": [
            [
             0,
             "#0d0887"
            ],
            [
             0.1111111111111111,
             "#46039f"
            ],
            [
             0.2222222222222222,
             "#7201a8"
            ],
            [
             0.3333333333333333,
             "#9c179e"
            ],
            [
             0.4444444444444444,
             "#bd3786"
            ],
            [
             0.5555555555555556,
             "#d8576b"
            ],
            [
             0.6666666666666666,
             "#ed7953"
            ],
            [
             0.7777777777777778,
             "#fb9f3a"
            ],
            [
             0.8888888888888888,
             "#fdca26"
            ],
            [
             1,
             "#f0f921"
            ]
           ],
           "sequentialminus": [
            [
             0,
             "#0d0887"
            ],
            [
             0.1111111111111111,
             "#46039f"
            ],
            [
             0.2222222222222222,
             "#7201a8"
            ],
            [
             0.3333333333333333,
             "#9c179e"
            ],
            [
             0.4444444444444444,
             "#bd3786"
            ],
            [
             0.5555555555555556,
             "#d8576b"
            ],
            [
             0.6666666666666666,
             "#ed7953"
            ],
            [
             0.7777777777777778,
             "#fb9f3a"
            ],
            [
             0.8888888888888888,
             "#fdca26"
            ],
            [
             1,
             "#f0f921"
            ]
           ]
          },
          "colorway": [
           "#636efa",
           "#EF553B",
           "#00cc96",
           "#ab63fa",
           "#FFA15A",
           "#19d3f3",
           "#FF6692",
           "#B6E880",
           "#FF97FF",
           "#FECB52"
          ],
          "font": {
           "color": "#2a3f5f"
          },
          "geo": {
           "bgcolor": "white",
           "lakecolor": "white",
           "landcolor": "#E5ECF6",
           "showlakes": true,
           "showland": true,
           "subunitcolor": "white"
          },
          "hoverlabel": {
           "align": "left"
          },
          "hovermode": "closest",
          "mapbox": {
           "style": "light"
          },
          "paper_bgcolor": "white",
          "plot_bgcolor": "#E5ECF6",
          "polar": {
           "angularaxis": {
            "gridcolor": "white",
            "linecolor": "white",
            "ticks": ""
           },
           "bgcolor": "#E5ECF6",
           "radialaxis": {
            "gridcolor": "white",
            "linecolor": "white",
            "ticks": ""
           }
          },
          "scene": {
           "xaxis": {
            "backgroundcolor": "#E5ECF6",
            "gridcolor": "white",
            "gridwidth": 2,
            "linecolor": "white",
            "showbackground": true,
            "ticks": "",
            "zerolinecolor": "white"
           },
           "yaxis": {
            "backgroundcolor": "#E5ECF6",
            "gridcolor": "white",
            "gridwidth": 2,
            "linecolor": "white",
            "showbackground": true,
            "ticks": "",
            "zerolinecolor": "white"
           },
           "zaxis": {
            "backgroundcolor": "#E5ECF6",
            "gridcolor": "white",
            "gridwidth": 2,
            "linecolor": "white",
            "showbackground": true,
            "ticks": "",
            "zerolinecolor": "white"
           }
          },
          "shapedefaults": {
           "line": {
            "color": "#2a3f5f"
           }
          },
          "ternary": {
           "aaxis": {
            "gridcolor": "white",
            "linecolor": "white",
            "ticks": ""
           },
           "baxis": {
            "gridcolor": "white",
            "linecolor": "white",
            "ticks": ""
           },
           "bgcolor": "#E5ECF6",
           "caxis": {
            "gridcolor": "white",
            "linecolor": "white",
            "ticks": ""
           }
          },
          "title": {
           "x": 0.05
          },
          "xaxis": {
           "automargin": true,
           "gridcolor": "white",
           "linecolor": "white",
           "ticks": "",
           "title": {
            "standoff": 15
           },
           "zerolinecolor": "white",
           "zerolinewidth": 2
          },
          "yaxis": {
           "automargin": true,
           "gridcolor": "white",
           "linecolor": "white",
           "ticks": "",
           "title": {
            "standoff": 15
           },
           "zerolinecolor": "white",
           "zerolinewidth": 2
          }
         }
        },
        "title": {
         "text": "Matrice di Correlazione tra Variabili (valori normalizzati)"
        },
        "width": 1100,
        "xaxis": {
         "automargin": true,
         "dtick": 1,
         "gridcolor": "rgb(0, 0, 0)",
         "side": "bottom",
         "tickangle": 45,
         "ticks": ""
        },
        "yaxis": {
         "dtick": 1,
         "ticks": "",
         "ticksuffix": "  "
        }
       }
      }
     },
     "metadata": {},
     "output_type": "display_data"
    }
   ],
   "source": [
    "import plotly.figure_factory as ff\n",
    "\n",
    "# Prima creiamo variabili numeriche per le valutazioni categoriche\n",
    "categorical_cols = ['Drive', 'Quality of interior', 'Infotainment system', 'Comfort', \n",
    "                   'Performance', 'Handling', 'Practicality', 'Reliability', 'Safety',\n",
    "                   'Quality of construction', 'Noise', 'Engine']\n",
    "\n",
    "# Mappatura valori categorici a numerici\n",
    "mapping = {\n",
    "    'Positive': 3,\n",
    "    'Medium': 2, \n",
    "    'Negative': 1,\n",
    "    'Not mentioned': 0,\n",
    "}\n",
    "\n",
    "df_numeric = df.copy()\n",
    "for col in categorical_cols:\n",
    "    df_numeric[col] = df_numeric[col].map(mapping)\n",
    "\n",
    "import plotly.figure_factory as ff\n",
    "\n",
    "# Matrice di correlazione\n",
    "correlation_matrix = df_numeric[categorical_cols + ['Overall', 'Price']].corr().round(2)\n",
    "\n",
    "fig_corr = ff.create_annotated_heatmap(\n",
    "    z=correlation_matrix.values,\n",
    "    x=list(correlation_matrix.columns),\n",
    "    y=list(correlation_matrix.index),\n",
    "    annotation_text=correlation_matrix.values.astype(str),\n",
    "    showscale=True,\n",
    "    reversescale=False,\n",
    "    zmin=-1, zmax=1\n",
    ")\n",
    "fig_corr.update_layout(\n",
    "    title='Matrice di Correlazione tra Variabili (valori normalizzati)',\n",
    "    width=1100,\n",
    "    height=950,\n",
    "    margin=dict(l=120, r=40, t=80, b=120),\n",
    "    font=dict(size=14),\n",
    "    xaxis=dict(tickangle=45, automargin=True),\n",
    ")\n",
    "fig_corr.update_xaxes(side=\"bottom\")\n",
    "fig_corr.show()"
   ]
  },
  {
   "cell_type": "code",
   "execution_count": 20,
   "id": "42e35d87",
   "metadata": {},
   "outputs": [
    {
     "data": {
      "application/vnd.plotly.v1+json": {
       "config": {
        "plotlyServerURL": "https://plot.ly"
       },
       "data": [
        {
         "hole": 0.3,
         "labels": [
          "Media",
          "Premium",
          "Lusso",
          "Economica"
         ],
         "marker": {
          "colors": [
           "lightblue",
           "lightgreen",
           "lightcoral",
           "gold"
          ]
         },
         "type": "pie",
         "values": {
          "bdata": "SzYqHA==",
          "dtype": "i1"
         }
        }
       ],
       "layout": {
        "height": 500,
        "template": {
         "data": {
          "bar": [
           {
            "error_x": {
             "color": "#2a3f5f"
            },
            "error_y": {
             "color": "#2a3f5f"
            },
            "marker": {
             "line": {
              "color": "#E5ECF6",
              "width": 0.5
             },
             "pattern": {
              "fillmode": "overlay",
              "size": 10,
              "solidity": 0.2
             }
            },
            "type": "bar"
           }
          ],
          "barpolar": [
           {
            "marker": {
             "line": {
              "color": "#E5ECF6",
              "width": 0.5
             },
             "pattern": {
              "fillmode": "overlay",
              "size": 10,
              "solidity": 0.2
             }
            },
            "type": "barpolar"
           }
          ],
          "carpet": [
           {
            "aaxis": {
             "endlinecolor": "#2a3f5f",
             "gridcolor": "white",
             "linecolor": "white",
             "minorgridcolor": "white",
             "startlinecolor": "#2a3f5f"
            },
            "baxis": {
             "endlinecolor": "#2a3f5f",
             "gridcolor": "white",
             "linecolor": "white",
             "minorgridcolor": "white",
             "startlinecolor": "#2a3f5f"
            },
            "type": "carpet"
           }
          ],
          "choropleth": [
           {
            "colorbar": {
             "outlinewidth": 0,
             "ticks": ""
            },
            "type": "choropleth"
           }
          ],
          "contour": [
           {
            "colorbar": {
             "outlinewidth": 0,
             "ticks": ""
            },
            "colorscale": [
             [
              0,
              "#0d0887"
             ],
             [
              0.1111111111111111,
              "#46039f"
             ],
             [
              0.2222222222222222,
              "#7201a8"
             ],
             [
              0.3333333333333333,
              "#9c179e"
             ],
             [
              0.4444444444444444,
              "#bd3786"
             ],
             [
              0.5555555555555556,
              "#d8576b"
             ],
             [
              0.6666666666666666,
              "#ed7953"
             ],
             [
              0.7777777777777778,
              "#fb9f3a"
             ],
             [
              0.8888888888888888,
              "#fdca26"
             ],
             [
              1,
              "#f0f921"
             ]
            ],
            "type": "contour"
           }
          ],
          "contourcarpet": [
           {
            "colorbar": {
             "outlinewidth": 0,
             "ticks": ""
            },
            "type": "contourcarpet"
           }
          ],
          "heatmap": [
           {
            "colorbar": {
             "outlinewidth": 0,
             "ticks": ""
            },
            "colorscale": [
             [
              0,
              "#0d0887"
             ],
             [
              0.1111111111111111,
              "#46039f"
             ],
             [
              0.2222222222222222,
              "#7201a8"
             ],
             [
              0.3333333333333333,
              "#9c179e"
             ],
             [
              0.4444444444444444,
              "#bd3786"
             ],
             [
              0.5555555555555556,
              "#d8576b"
             ],
             [
              0.6666666666666666,
              "#ed7953"
             ],
             [
              0.7777777777777778,
              "#fb9f3a"
             ],
             [
              0.8888888888888888,
              "#fdca26"
             ],
             [
              1,
              "#f0f921"
             ]
            ],
            "type": "heatmap"
           }
          ],
          "histogram": [
           {
            "marker": {
             "pattern": {
              "fillmode": "overlay",
              "size": 10,
              "solidity": 0.2
             }
            },
            "type": "histogram"
           }
          ],
          "histogram2d": [
           {
            "colorbar": {
             "outlinewidth": 0,
             "ticks": ""
            },
            "colorscale": [
             [
              0,
              "#0d0887"
             ],
             [
              0.1111111111111111,
              "#46039f"
             ],
             [
              0.2222222222222222,
              "#7201a8"
             ],
             [
              0.3333333333333333,
              "#9c179e"
             ],
             [
              0.4444444444444444,
              "#bd3786"
             ],
             [
              0.5555555555555556,
              "#d8576b"
             ],
             [
              0.6666666666666666,
              "#ed7953"
             ],
             [
              0.7777777777777778,
              "#fb9f3a"
             ],
             [
              0.8888888888888888,
              "#fdca26"
             ],
             [
              1,
              "#f0f921"
             ]
            ],
            "type": "histogram2d"
           }
          ],
          "histogram2dcontour": [
           {
            "colorbar": {
             "outlinewidth": 0,
             "ticks": ""
            },
            "colorscale": [
             [
              0,
              "#0d0887"
             ],
             [
              0.1111111111111111,
              "#46039f"
             ],
             [
              0.2222222222222222,
              "#7201a8"
             ],
             [
              0.3333333333333333,
              "#9c179e"
             ],
             [
              0.4444444444444444,
              "#bd3786"
             ],
             [
              0.5555555555555556,
              "#d8576b"
             ],
             [
              0.6666666666666666,
              "#ed7953"
             ],
             [
              0.7777777777777778,
              "#fb9f3a"
             ],
             [
              0.8888888888888888,
              "#fdca26"
             ],
             [
              1,
              "#f0f921"
             ]
            ],
            "type": "histogram2dcontour"
           }
          ],
          "mesh3d": [
           {
            "colorbar": {
             "outlinewidth": 0,
             "ticks": ""
            },
            "type": "mesh3d"
           }
          ],
          "parcoords": [
           {
            "line": {
             "colorbar": {
              "outlinewidth": 0,
              "ticks": ""
             }
            },
            "type": "parcoords"
           }
          ],
          "pie": [
           {
            "automargin": true,
            "type": "pie"
           }
          ],
          "scatter": [
           {
            "fillpattern": {
             "fillmode": "overlay",
             "size": 10,
             "solidity": 0.2
            },
            "type": "scatter"
           }
          ],
          "scatter3d": [
           {
            "line": {
             "colorbar": {
              "outlinewidth": 0,
              "ticks": ""
             }
            },
            "marker": {
             "colorbar": {
              "outlinewidth": 0,
              "ticks": ""
             }
            },
            "type": "scatter3d"
           }
          ],
          "scattercarpet": [
           {
            "marker": {
             "colorbar": {
              "outlinewidth": 0,
              "ticks": ""
             }
            },
            "type": "scattercarpet"
           }
          ],
          "scattergeo": [
           {
            "marker": {
             "colorbar": {
              "outlinewidth": 0,
              "ticks": ""
             }
            },
            "type": "scattergeo"
           }
          ],
          "scattergl": [
           {
            "marker": {
             "colorbar": {
              "outlinewidth": 0,
              "ticks": ""
             }
            },
            "type": "scattergl"
           }
          ],
          "scattermap": [
           {
            "marker": {
             "colorbar": {
              "outlinewidth": 0,
              "ticks": ""
             }
            },
            "type": "scattermap"
           }
          ],
          "scattermapbox": [
           {
            "marker": {
             "colorbar": {
              "outlinewidth": 0,
              "ticks": ""
             }
            },
            "type": "scattermapbox"
           }
          ],
          "scatterpolar": [
           {
            "marker": {
             "colorbar": {
              "outlinewidth": 0,
              "ticks": ""
             }
            },
            "type": "scatterpolar"
           }
          ],
          "scatterpolargl": [
           {
            "marker": {
             "colorbar": {
              "outlinewidth": 0,
              "ticks": ""
             }
            },
            "type": "scatterpolargl"
           }
          ],
          "scatterternary": [
           {
            "marker": {
             "colorbar": {
              "outlinewidth": 0,
              "ticks": ""
             }
            },
            "type": "scatterternary"
           }
          ],
          "surface": [
           {
            "colorbar": {
             "outlinewidth": 0,
             "ticks": ""
            },
            "colorscale": [
             [
              0,
              "#0d0887"
             ],
             [
              0.1111111111111111,
              "#46039f"
             ],
             [
              0.2222222222222222,
              "#7201a8"
             ],
             [
              0.3333333333333333,
              "#9c179e"
             ],
             [
              0.4444444444444444,
              "#bd3786"
             ],
             [
              0.5555555555555556,
              "#d8576b"
             ],
             [
              0.6666666666666666,
              "#ed7953"
             ],
             [
              0.7777777777777778,
              "#fb9f3a"
             ],
             [
              0.8888888888888888,
              "#fdca26"
             ],
             [
              1,
              "#f0f921"
             ]
            ],
            "type": "surface"
           }
          ],
          "table": [
           {
            "cells": {
             "fill": {
              "color": "#EBF0F8"
             },
             "line": {
              "color": "white"
             }
            },
            "header": {
             "fill": {
              "color": "#C8D4E3"
             },
             "line": {
              "color": "white"
             }
            },
            "type": "table"
           }
          ]
         },
         "layout": {
          "annotationdefaults": {
           "arrowcolor": "#2a3f5f",
           "arrowhead": 0,
           "arrowwidth": 1
          },
          "autotypenumbers": "strict",
          "coloraxis": {
           "colorbar": {
            "outlinewidth": 0,
            "ticks": ""
           }
          },
          "colorscale": {
           "diverging": [
            [
             0,
             "#8e0152"
            ],
            [
             0.1,
             "#c51b7d"
            ],
            [
             0.2,
             "#de77ae"
            ],
            [
             0.3,
             "#f1b6da"
            ],
            [
             0.4,
             "#fde0ef"
            ],
            [
             0.5,
             "#f7f7f7"
            ],
            [
             0.6,
             "#e6f5d0"
            ],
            [
             0.7,
             "#b8e186"
            ],
            [
             0.8,
             "#7fbc41"
            ],
            [
             0.9,
             "#4d9221"
            ],
            [
             1,
             "#276419"
            ]
           ],
           "sequential": [
            [
             0,
             "#0d0887"
            ],
            [
             0.1111111111111111,
             "#46039f"
            ],
            [
             0.2222222222222222,
             "#7201a8"
            ],
            [
             0.3333333333333333,
             "#9c179e"
            ],
            [
             0.4444444444444444,
             "#bd3786"
            ],
            [
             0.5555555555555556,
             "#d8576b"
            ],
            [
             0.6666666666666666,
             "#ed7953"
            ],
            [
             0.7777777777777778,
             "#fb9f3a"
            ],
            [
             0.8888888888888888,
             "#fdca26"
            ],
            [
             1,
             "#f0f921"
            ]
           ],
           "sequentialminus": [
            [
             0,
             "#0d0887"
            ],
            [
             0.1111111111111111,
             "#46039f"
            ],
            [
             0.2222222222222222,
             "#7201a8"
            ],
            [
             0.3333333333333333,
             "#9c179e"
            ],
            [
             0.4444444444444444,
             "#bd3786"
            ],
            [
             0.5555555555555556,
             "#d8576b"
            ],
            [
             0.6666666666666666,
             "#ed7953"
            ],
            [
             0.7777777777777778,
             "#fb9f3a"
            ],
            [
             0.8888888888888888,
             "#fdca26"
            ],
            [
             1,
             "#f0f921"
            ]
           ]
          },
          "colorway": [
           "#636efa",
           "#EF553B",
           "#00cc96",
           "#ab63fa",
           "#FFA15A",
           "#19d3f3",
           "#FF6692",
           "#B6E880",
           "#FF97FF",
           "#FECB52"
          ],
          "font": {
           "color": "#2a3f5f"
          },
          "geo": {
           "bgcolor": "white",
           "lakecolor": "white",
           "landcolor": "#E5ECF6",
           "showlakes": true,
           "showland": true,
           "subunitcolor": "white"
          },
          "hoverlabel": {
           "align": "left"
          },
          "hovermode": "closest",
          "mapbox": {
           "style": "light"
          },
          "paper_bgcolor": "white",
          "plot_bgcolor": "#E5ECF6",
          "polar": {
           "angularaxis": {
            "gridcolor": "white",
            "linecolor": "white",
            "ticks": ""
           },
           "bgcolor": "#E5ECF6",
           "radialaxis": {
            "gridcolor": "white",
            "linecolor": "white",
            "ticks": ""
           }
          },
          "scene": {
           "xaxis": {
            "backgroundcolor": "#E5ECF6",
            "gridcolor": "white",
            "gridwidth": 2,
            "linecolor": "white",
            "showbackground": true,
            "ticks": "",
            "zerolinecolor": "white"
           },
           "yaxis": {
            "backgroundcolor": "#E5ECF6",
            "gridcolor": "white",
            "gridwidth": 2,
            "linecolor": "white",
            "showbackground": true,
            "ticks": "",
            "zerolinecolor": "white"
           },
           "zaxis": {
            "backgroundcolor": "#E5ECF6",
            "gridcolor": "white",
            "gridwidth": 2,
            "linecolor": "white",
            "showbackground": true,
            "ticks": "",
            "zerolinecolor": "white"
           }
          },
          "shapedefaults": {
           "line": {
            "color": "#2a3f5f"
           }
          },
          "ternary": {
           "aaxis": {
            "gridcolor": "white",
            "linecolor": "white",
            "ticks": ""
           },
           "baxis": {
            "gridcolor": "white",
            "linecolor": "white",
            "ticks": ""
           },
           "bgcolor": "#E5ECF6",
           "caxis": {
            "gridcolor": "white",
            "linecolor": "white",
            "ticks": ""
           }
          },
          "title": {
           "x": 0.05
          },
          "xaxis": {
           "automargin": true,
           "gridcolor": "white",
           "linecolor": "white",
           "ticks": "",
           "title": {
            "standoff": 15
           },
           "zerolinecolor": "white",
           "zerolinewidth": 2
          },
          "yaxis": {
           "automargin": true,
           "gridcolor": "white",
           "linecolor": "white",
           "ticks": "",
           "title": {
            "standoff": 15
           },
           "zerolinecolor": "white",
           "zerolinewidth": 2
          }
         }
        },
        "title": {
         "text": "Distribuzione Auto per Fascia di Prezzo"
        },
        "width": 600
       }
      }
     },
     "metadata": {},
     "output_type": "display_data"
    }
   ],
   "source": [
    "import plotly.graph_objs as go\n",
    "\n",
    "# Distribuzione per fascia di prezzo (grafico a torta)\n",
    "fascia_counts = df['Fascia_Prezzo'].value_counts()\n",
    "fig_pie_fascia = go.Figure(\n",
    "    go.Pie(\n",
    "        labels=fascia_counts.index,\n",
    "        values=fascia_counts.values,\n",
    "        marker=dict(colors=['lightblue', 'lightgreen', 'lightcoral', 'gold']),\n",
    "        hole=0.3\n",
    "    )\n",
    ")\n",
    "fig_pie_fascia.update_layout(\n",
    "    title='Distribuzione Auto per Fascia di Prezzo',\n",
    "    height=500, width=600\n",
    ")\n",
    "fig_pie_fascia.show()"
   ]
  },
  {
   "cell_type": "code",
   "execution_count": 21,
   "id": "fb556260",
   "metadata": {},
   "outputs": [
    {
     "name": "stdout",
     "output_type": "stream",
     "text": [
      "=== STATISTICHE DESCRITTIVE ===\n",
      "\n",
      "\n",
      "--- Brand Cinesi ---\n",
      "Prezzo:\n",
      "  Media: €36684.38\n",
      "  Mediana: €35462.70\n",
      "  Min: €18053.10\n",
      "  Max: €64344.15\n",
      "  Deviazione Standard: €11946.31\n",
      "Punteggio Overall:\n",
      "  Media: 6.54\n",
      "  Mediana: 6.50\n",
      "  Min: 4.00\n",
      "  Max: 8.00\n",
      "Numero auto: 24\n",
      "\n",
      "--- Brand Europei ---\n",
      "Prezzo:\n",
      "  Media: €50229.96\n",
      "  Mediana: €40125.15\n",
      "  Min: €5007.60\n",
      "  Max: €178366.50\n",
      "  Deviazione Standard: €36803.08\n",
      "Punteggio Overall:\n",
      "  Media: 7.05\n",
      "  Mediana: 7.00\n",
      "  Min: 4.00\n",
      "  Max: 9.00\n",
      "Numero auto: 175\n"
     ]
    }
   ],
   "source": [
    "CHINESE_BRANDS = [\"MG\", \"OMODA\", \"BYD\", \"GWM\", \"Haval\", \"Jaecoo\", \"Leapmotor\", \"Xpeng\"]\n",
    "EUROPEAN_BRANDS = [b for b in df['Brand'].unique() if b not in CHINESE_BRANDS]\n",
    "\n",
    "def print_stats(sub_df, label):\n",
    "    print(f\"\\n--- {label} ---\")\n",
    "    print(f\"Prezzo:\")\n",
    "    print(f\"  Media: €{sub_df['Price'].mean():.2f}\")\n",
    "    print(f\"  Mediana: €{sub_df['Price'].median():.2f}\")\n",
    "    print(f\"  Min: €{sub_df['Price'].min():.2f}\")\n",
    "    print(f\"  Max: €{sub_df['Price'].max():.2f}\")\n",
    "    print(f\"  Deviazione Standard: €{sub_df['Price'].std():.2f}\")\n",
    "    print(f\"Punteggio Overall:\")\n",
    "    print(f\"  Media: {sub_df['Overall'].mean():.2f}\")\n",
    "    print(f\"  Mediana: {sub_df['Overall'].median():.2f}\")\n",
    "    print(f\"  Min: {sub_df['Overall'].min():.2f}\")\n",
    "    print(f\"  Max: {sub_df['Overall'].max():.2f}\")\n",
    "    print(f\"Numero auto: {len(sub_df)}\")\n",
    "\n",
    "print(\"=== STATISTICHE DESCRITTIVE ===\\n\")\n",
    "\n",
    "print_stats(df[df['Brand'].isin(CHINESE_BRANDS)], \"Brand Cinesi\")\n",
    "print_stats(df[df['Brand'].isin(EUROPEAN_BRANDS)], \"Brand Europei\")\n"
   ]
  },
  {
   "cell_type": "markdown",
   "id": "23c4d02e",
   "metadata": {},
   "source": [
    "## Sintesi delle Azioni di Pulizia e Preparazione\n",
    "\n",
    "In questo notebook sono state eseguite le seguenti operazioni principali sul dataset:\n",
    "\n",
    "1.  **Standardizzazione dei Valori Categorici**:\n",
    "    *   Le colonne relative alle valutazioni qualitative (es. `Drive`, `Quality of interior`, `Performance`, ecc.) sono state uniformate.\n",
    "    *   I valori testuali sono stati mappati a un insieme predefinito: \"Positive\", \"Negative\", \"Medium\", \"Not mentioned\". Questo è stato fatto per garantire coerenza e facilitare analisi successive.\n",
    "\n",
    "2.  **Conversione Valuta Prezzi**:\n",
    "    *   La colonna `Price`, originariamente in Sterline Britanniche (GBP), è stata convertita in Euro (EUR) utilizzando un tasso di cambio fisso (1 GBP ≈ 1.17 EUR). La colonna originale è stata sovrascritta con i valori in Euro.\n",
    "\n",
    "3.  **Gestione dei Duplicati**:\n",
    "    *   Sono state identificate e rimosse le righe duplicate basate sulla colonna `Model`.\n",
    "    *   Per i modelli con più entry, è stata mantenuta solo la riga corrispondente al veicolo con il prezzo più alto, assumendo che rappresenti la versione più completa o recente.\n",
    "\n",
    "4.  **Correzione Valori Anomali di Prezzo**:\n",
    "    *   È stato identificato e rimosso un record con un valore di prezzo palesemente errato (molto basso per il modello 'Qubo').\n",
    "\n",
    "5.  **Creazione Nuove Feature**:\n",
    "    *   È stata creata la colonna `Fascia_Prezzo` categorizzando i veicoli in fasce ('Economica', 'Media', 'Premium', 'Lusso') basate sul loro prezzo in Euro.\n",
    "\n",
    "6.  **Salvataggio su Database**:\n",
    "    *   Il DataFrame pulito e preparato è stato salvato in un database SQLite (`auto_reviews.db`) per persistenza e future interrogazioni. Le colonne sono state rinominate per rimuovere spazi e garantire compatibilità SQL.\n",
    "\n",
    "7.  **Analisi Esplorativa Visiva**:\n",
    "    *   Sono state generate diverse visualizzazioni (istogrammi, boxplot, bar chart, pie chart, heatmap di correlazione) utilizzando Plotly per esplorare le distribuzioni dei prezzi e dei punteggi \"Overall\", le relazioni tra brand e queste metriche, la correlazione tra le diverse features qualitative e quantitative.\n",
    "\n",
    "8.  **Confronto Brand Cinesi vs Europei**:\n",
    "    *   Sono state calcolate e stampate statistiche descrittive (media, mediana, min, max, deviazione standard per il prezzo; media, mediana, min, max per il punteggio \"Overall\"; numero di auto) per i brand cinesi e quelli europei presenti nel dataset."
   ]
  }
 ],
 "metadata": {
  "kernelspec": {
   "display_name": ".venv",
   "language": "python",
   "name": "python3"
  },
  "language_info": {
   "codemirror_mode": {
    "name": "ipython",
    "version": 3
   },
   "file_extension": ".py",
   "mimetype": "text/x-python",
   "name": "python",
   "nbconvert_exporter": "python",
   "pygments_lexer": "ipython3",
   "version": "3.10.12"
  }
 },
 "nbformat": 4,
 "nbformat_minor": 5
}
